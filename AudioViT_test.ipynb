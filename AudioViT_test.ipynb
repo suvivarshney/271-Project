{
 "cells": [
  {
   "cell_type": "code",
   "execution_count": 1,
   "id": "88d67dea",
   "metadata": {},
   "outputs": [],
   "source": [
    "from transformers import ViTFeatureExtractor, ViTForImageClassification\n",
    "import torch\n",
    "from datasets import load_dataset\n",
    "\n",
    "feature_extractor = ViTFeatureExtractor.from_pretrained(\"google/vit-base-patch16-224\")\n"
   ]
  },
  {
   "cell_type": "code",
   "execution_count": 2,
   "id": "cae1cb2c",
   "metadata": {},
   "outputs": [],
   "source": [
    "model = ViTForImageClassification.from_pretrained(\"/home/ubuntu/models/AudioViT\")\n"
   ]
  },
  {
   "cell_type": "code",
   "execution_count": 17,
   "id": "e5d2ca38",
   "metadata": {},
   "outputs": [
    {
     "data": {
      "text/plain": [
       "<Figure size 640x480 with 0 Axes>"
      ]
     },
     "metadata": {},
     "output_type": "display_data"
    }
   ],
   "source": [
    "\n",
    "from PIL import Image\n",
    "import librosa\n",
    "import librosa.display\n",
    "import matplotlib.pyplot as plt\n",
    "import soundfile as sf\n",
    "import numpy as np\n",
    "\n",
    "def convert_to_mel(filepath):\n",
    "    outpath = '/home/ubuntu/second.png'\n",
    "    data, sample_rate = librosa.load(filepath)\n",
    "    \n",
    "    sgram = librosa.stft(data)\n",
    "    sgram_mag, _ = librosa.magphase(sgram)\n",
    "    mel_scale_sgram = librosa.feature.melspectrogram(S=sgram_mag, sr=sample_rate)\n",
    "    mel_sgram = librosa.amplitude_to_db(mel_scale_sgram, ref=np.min)\n",
    "    _ = librosa.display.specshow(mel_sgram, sr=sample_rate)\n",
    "    # print('Able to finish till the sepctogram')\n",
    "    plt.axis('off')\n",
    "    plt.savefig(outpath,bbox_inches='tight',  pad_inches=0)\n",
    "    plt.clf()\n",
    "    \n",
    "\n",
    "audio_file = '/home/ubuntu/audio_transformer/dog_bark-[AudioTrimmer.com].wav'\n",
    "convert_to_mel(audio_file)\n",
    "image = Image.open('/home/ubuntu/second.png')\n",
    "inputs = feature_extractor(image.convert(\"RGB\"), return_tensors=\"pt\")"
   ]
  },
  {
   "cell_type": "code",
   "execution_count": 18,
   "id": "764e9b7b",
   "metadata": {},
   "outputs": [
    {
     "name": "stdout",
     "output_type": "stream",
     "text": [
      "dog_bark\n"
     ]
    }
   ],
   "source": [
    "with torch.no_grad():\n",
    "    logits = model(**inputs).logits\n",
    "\n",
    "# model predicts one of the 1000 ImageNet classes\n",
    "predicted_label = logits.argmax(-1).item()\n",
    "print(model.config.id2label[predicted_label])"
   ]
  },
  {
   "cell_type": "code",
   "execution_count": null,
   "id": "53055407",
   "metadata": {},
   "outputs": [],
   "source": []
  }
 ],
 "metadata": {
  "kernelspec": {
   "display_name": "Python 3 (ipykernel)",
   "language": "python",
   "name": "python3"
  },
  "language_info": {
   "codemirror_mode": {
    "name": "ipython",
    "version": 3
   },
   "file_extension": ".py",
   "mimetype": "text/x-python",
   "name": "python",
   "nbconvert_exporter": "python",
   "pygments_lexer": "ipython3",
   "version": "3.9.9"
  }
 },
 "nbformat": 4,
 "nbformat_minor": 5
}

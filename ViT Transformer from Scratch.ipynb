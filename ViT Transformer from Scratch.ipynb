{
 "cells": [
  {
   "cell_type": "code",
   "execution_count": 1,
   "metadata": {},
   "outputs": [
    {
     "name": "stderr",
     "output_type": "stream",
     "text": [
      "/home/suvivars/.conda/envs/271/lib/python3.7/site-packages/pandas/compat/_optional.py:138: UserWarning: Pandas requires version '2.7.0' or newer of 'numexpr' (version '2.6.9' currently installed).\n",
      "  warnings.warn(msg, UserWarning)\n",
      "/home/suvivars/.conda/envs/271/lib/python3.7/site-packages/requests/__init__.py:91: RequestsDependencyWarning: urllib3 (1.26.13) or chardet (3.0.4) doesn't match a supported version!\n",
      "  RequestsDependencyWarning)\n"
     ]
    }
   ],
   "source": [
    "import numpy as np\n",
    "import pandas as pd\n",
    "import os\n",
    "import PIL\n",
    "from PIL import Image\n",
    "import torch\n",
    "import torch.nn as nn\n",
    "from torch.nn import CrossEntropyLoss\n",
    "from torch.optim import Adam\n",
    "from torch.utils.data import DataLoader\n",
    "import torchvision.transforms as transforms\n",
    "from sklearn import model_selection, metrics\n",
    "from torch.utils.data import random_split\n",
    "\n",
    "import torchvision.datasets as datasets\n",
    "from torchvision.transforms import ToTensor\n",
    "import torch.nn as nn\n",
    "\n",
    "from datasets import load_dataset\n",
    "from torch.utils.data.dataloader import default_collate"
   ]
  },
  {
   "cell_type": "code",
   "execution_count": 2,
   "metadata": {},
   "outputs": [],
   "source": [
    "from torchvision.transforms import (CenterCrop, \n",
    "                                    Compose, \n",
    "                                    Normalize, \n",
    "                                    RandomHorizontalFlip,\n",
    "                                    RandomResizedCrop, \n",
    "                                    Resize, \n",
    "                                    ToTensor)\n",
    "from torch.utils.data import Dataset, TensorDataset\n",
    "import cv2\n",
    "import tqdm\n",
    "import json\n",
    "import matplotlib.pyplot as plt\n",
    "from torchvision.utils import make_grid"
   ]
  },
  {
   "cell_type": "code",
   "execution_count": 3,
   "metadata": {},
   "outputs": [],
   "source": [
    "device = torch.device(\"cuda\" if torch.cuda.is_available() else \"cpu\")"
   ]
  },
  {
   "cell_type": "code",
   "execution_count": 4,
   "metadata": {},
   "outputs": [],
   "source": [
    "device=\"cpu\""
   ]
  },
  {
   "cell_type": "code",
   "execution_count": 5,
   "metadata": {},
   "outputs": [
    {
     "data": {
      "text/plain": [
       "<torch._C.Generator at 0x7efce7e4c550>"
      ]
     },
     "execution_count": 5,
     "metadata": {},
     "output_type": "execute_result"
    }
   ],
   "source": [
    "np.random.seed(0)\n",
    "torch.manual_seed(0)"
   ]
  },
  {
   "cell_type": "code",
   "execution_count": 6,
   "metadata": {},
   "outputs": [],
   "source": [
    "normalize = Normalize(mean=[0.5, 0.5, 0.5], std=[0.5, 0.5, 0.5])"
   ]
  },
  {
   "cell_type": "code",
   "execution_count": 7,
   "metadata": {},
   "outputs": [],
   "source": [
    "_train_transforms = Compose(\n",
    "        [\n",
    "            RandomResizedCrop((224,224)),\n",
    "            RandomHorizontalFlip(),\n",
    "            normalize,\n",
    "        ]\n",
    "    )\n",
    "\n",
    "_val_transforms = Compose(\n",
    "        [\n",
    "            Resize((224,224)),\n",
    "            CenterCrop((224,224)),\n",
    "            ToTensor(),\n",
    "            normalize,\n",
    "        ]\n",
    "    )"
   ]
  },
  {
   "cell_type": "code",
   "execution_count": 8,
   "metadata": {},
   "outputs": [],
   "source": [
    "class CustomTensorDataset(Dataset):\n",
    "    def __init__(self, tensors, transform=None):\n",
    "        assert all(tensors[0].size(0) == tensor.size(0) for tensor in tensors)\n",
    "        self.tensors = tensors\n",
    "        self.transform = transform\n",
    "\n",
    "    def __getitem__(self, index):\n",
    "        x = self.tensors[0][index]\n",
    "\n",
    "        if self.transform:\n",
    "            x = self.transform(x)\n",
    "\n",
    "        y = self.tensors[1][index]\n",
    "\n",
    "        return x, y\n",
    "\n",
    "    def __len__(self):\n",
    "        return self.tensors[0].size(0)\n"
   ]
  },
  {
   "cell_type": "code",
   "execution_count": 11,
   "metadata": {},
   "outputs": [
    {
     "name": "stderr",
     "output_type": "stream",
     "text": [
      "100%|█████████████████████████████████████████████████████████████████████████████████████████████████████████| 12/12 [00:32<00:00,  2.71s/it]\n"
     ]
    }
   ],
   "source": [
    "X=[]\n",
    "files=[]\n",
    "for folder in tqdm.tqdm(os.listdir('UrbanSound8k/audio_mel/')):\n",
    "    if '.' not in folder:\n",
    "        for file in os.listdir('UrbanSound8k/audio_mel/'+folder):\n",
    "            X.append(cv2.imread('UrbanSound8k/audio_mel/'+folder+'/'+file))\n",
    "            files.append(file)\n",
    "X=np.array(X).astype('float32')\n",
    "X=np.array(X).reshape(-1,3,217,334)\n",
    "X=torch.tensor(X)"
   ]
  },
  {
   "cell_type": "code",
   "execution_count": 12,
   "metadata": {},
   "outputs": [
    {
     "data": {
      "text/plain": [
       "8732"
      ]
     },
     "execution_count": 12,
     "metadata": {},
     "output_type": "execute_result"
    }
   ],
   "source": [
    "len(files)"
   ]
  },
  {
   "cell_type": "code",
   "execution_count": 13,
   "metadata": {},
   "outputs": [
    {
     "data": {
      "text/plain": [
       "torch.Size([8732, 3, 217, 334])"
      ]
     },
     "execution_count": 13,
     "metadata": {},
     "output_type": "execute_result"
    }
   ],
   "source": [
    "X.shape"
   ]
  },
  {
   "cell_type": "code",
   "execution_count": 14,
   "metadata": {},
   "outputs": [],
   "source": [
    "with open('UrbanSound8k/metadata/metadata.jsonl', \"r\") as f:\n",
    "    content = f.read()\n",
    "label={}\n",
    "decoder = json.JSONDecoder()"
   ]
  },
  {
   "cell_type": "code",
   "execution_count": 15,
   "metadata": {},
   "outputs": [],
   "source": [
    "while content:\n",
    "    value, new_start = decoder.raw_decode(content)\n",
    "    content = content[new_start:].strip()\n",
    "    label[value['file_name']]=value['classID']"
   ]
  },
  {
   "cell_type": "code",
   "execution_count": 16,
   "metadata": {},
   "outputs": [
    {
     "data": {
      "text/plain": [
       "8732"
      ]
     },
     "execution_count": 16,
     "metadata": {},
     "output_type": "execute_result"
    }
   ],
   "source": [
    "len(label)"
   ]
  },
  {
   "cell_type": "code",
   "execution_count": 17,
   "metadata": {},
   "outputs": [],
   "source": [
    "Y = [label[i] for i in files]\n",
    "Y = torch.tensor(Y)"
   ]
  },
  {
   "cell_type": "code",
   "execution_count": 18,
   "metadata": {},
   "outputs": [
    {
     "data": {
      "text/plain": [
       "torch.Size([8732])"
      ]
     },
     "execution_count": 18,
     "metadata": {},
     "output_type": "execute_result"
    }
   ],
   "source": [
    "Y.shape"
   ]
  },
  {
   "cell_type": "code",
   "execution_count": 19,
   "metadata": {},
   "outputs": [],
   "source": [
    "full_set = CustomTensorDataset(tensors=(X, Y), transform=_train_transforms)"
   ]
  },
  {
   "cell_type": "code",
   "execution_count": 20,
   "metadata": {},
   "outputs": [],
   "source": [
    "train_size = int(0.7 * len(full_set))\n",
    "val_size = len(full_set) - train_size\n",
    "train_set, validation_set = torch.utils.data.random_split(full_set, [train_size, val_size])"
   ]
  },
  {
   "cell_type": "code",
   "execution_count": 21,
   "metadata": {},
   "outputs": [
    {
     "name": "stdout",
     "output_type": "stream",
     "text": [
      "6112\n",
      "2620\n"
     ]
    }
   ],
   "source": [
    "print(len(train_set))\n",
    "print(len(validation_set))"
   ]
  },
  {
   "cell_type": "code",
   "execution_count": 22,
   "metadata": {},
   "outputs": [],
   "source": [
    "train_loader = torch.utils.data.DataLoader(train_set, batch_size=8, collate_fn=lambda x: [y.to(device) for y in default_collate(x)] )\n",
    "validation_loader = torch.utils.data.DataLoader(validation_set, batch_size=8, collate_fn=lambda x: [y.to(device) for y in default_collate(x)] )\n"
   ]
  },
  {
   "cell_type": "code",
   "execution_count": null,
   "metadata": {},
   "outputs": [],
   "source": []
  },
  {
   "cell_type": "code",
   "execution_count": 23,
   "metadata": {},
   "outputs": [],
   "source": [
    "class ViT(nn.Module):\n",
    "    def __init__(self, input_shape, n_patches=4, hidden=8, num_heads=2, n_classes=10):\n",
    "        # Super constructor\n",
    "        super(ViT, self).__init__()\n",
    "\n",
    "        # Input and patches sizes\n",
    "        self.input_shape = input_shape\n",
    "        self.n_patches = n_patches\n",
    "        self.num_heads = num_heads\n",
    "        assert input_shape[1] % n_patches == 0, \"Input shape not entirely divisible by number of patches\"\n",
    "        assert input_shape[2] % n_patches == 0, \"Input shape not entirely divisible by number of patches\"\n",
    "        self.patch_size = (input_shape[1] / n_patches, input_shape[2] / n_patches)\n",
    "        self.hidden = hidden\n",
    "\n",
    "        # 1) Linear mapper\n",
    "        self.input = int(input_shape[0] * self.patch_size[0] * self.patch_size[1])\n",
    "        self.linear_mapper = nn.Linear(self.input, self.hidden)\n",
    "\n",
    "        # 2) Classification token\n",
    "        self.class_token = nn.Parameter(torch.rand(1, self.hidden))\n",
    "\n",
    "        # 3) Positional embeddingin Forward function\n",
    "\n",
    "        # 4a) Layer normalization 1\n",
    "        self.ln1 = nn.LayerNorm((self.n_patches ** 2 + 1, self.hidden))\n",
    "\n",
    "        # 4b) Multi-head Self Attention (MSA) and classification token\n",
    "        self.attn = Attention(self.hidden, num_heads)\n",
    "\n",
    "        # 5a) Layer normalization 2\n",
    "        self.ln2 = nn.LayerNorm((self.n_patches ** 2 + 1, self.hidden))\n",
    "\n",
    "        # 5b) Encoder MLP\n",
    "        self.mlpenc = nn.Sequential(\n",
    "            nn.Linear(self.hidden, self.hidden),\n",
    "            nn.ReLU())\n",
    "\n",
    "        # 6) Classification MLP\n",
    "        self.mlp = nn.Sequential(\n",
    "            nn.Linear(self.hidden, n_classes),\n",
    "            nn.Softmax(dim=-1))\n",
    "\n",
    "    def forward(self, images):\n",
    "        # Dividing images into patches\n",
    "        n, c, w, h = images.shape\n",
    "        patches = images.reshape(n, self.n_patches ** 2, self.input)\n",
    "        tokens = self.linear_mapper(patches)\n",
    "        tokens = torch.stack([torch.vstack((self.class_token, tokens[i])) for i in range(len(tokens))])\n",
    "        # Adding positional embedding\n",
    "        tokens += get_positional_embeddings(self.n_patches ** 2 + 1, self.hidden).repeat(n, 1, 1)\n",
    "        #tokens.to(device)\n",
    "        # TRANSFORMER ENCODER\n",
    "        output = tokens + self.attn(self.ln1(tokens))\n",
    "        # Running Layer Normalization, MLP and residual connection\n",
    "        output = output + self.mlpenc(self.ln2(output))\n",
    "        # Getting the classification token\n",
    "        output = output[:, 0]\n",
    "        return self.mlp(output)"
   ]
  },
  {
   "cell_type": "code",
   "execution_count": 24,
   "metadata": {},
   "outputs": [],
   "source": [
    "class Attention(nn.Module):\n",
    "    def __init__(self, d, num_heads=2):\n",
    "        super(Attention, self).__init__()\n",
    "        self.d = d\n",
    "        self.num_heads = num_heads\n",
    "        d_head = int(d / num_heads)\n",
    "        self.q_mappings = [nn.Linear(d_head, d_head).to(device) for _ in range(self.num_heads)]\n",
    "        self.k_mappings = [nn.Linear(d_head, d_head).to(device) for _ in range(self.num_heads)]\n",
    "        self.v_mappings = [nn.Linear(d_head, d_head).to(device) for _ in range(self.num_heads)]\n",
    "        self.d_head = d_head\n",
    "        self.softmax = nn.Softmax(dim=-1)\n",
    "\n",
    "    def forward(self, sequences):\n",
    "        result = []\n",
    "        for sequence in sequences:\n",
    "            seq_result = []\n",
    "            for head in range(self.num_heads):\n",
    "                q_mapping = self.q_mappings[head]\n",
    "                k_mapping = self.k_mappings[head]\n",
    "                v_mapping = self.v_mappings[head]\n",
    "\n",
    "                seq = sequence[:, head * self.d_head: (head + 1) * self.d_head]\n",
    "                q, k, v = q_mapping(seq), k_mapping(seq), v_mapping(seq)\n",
    "\n",
    "                attention = self.softmax(q @ k.T / (self.d_head ** 0.5))\n",
    "                seq_result.append(attention @ v)\n",
    "            result.append(torch.hstack(seq_result))\n",
    "        return torch.cat([torch.unsqueeze(r, dim=0) for r in result])"
   ]
  },
  {
   "cell_type": "code",
   "execution_count": 25,
   "metadata": {},
   "outputs": [],
   "source": [
    "def get_positional_embeddings(sequence_length, d):\n",
    "    result = torch.ones(sequence_length, d).to(device)\n",
    "    for i in range(sequence_length):\n",
    "        for j in range(d):\n",
    "            result[i][j] = np.sin(i / (10000 ** (j / d))) if j % 2 == 0 else np.cos(i / (10000 ** ((j - 1) / d)))\n",
    "    return result"
   ]
  },
  {
   "cell_type": "code",
   "execution_count": 26,
   "metadata": {},
   "outputs": [],
   "source": [
    "model = ViT((3, 224, 224), n_patches=4, hidden=20, num_heads=2, n_classes=10)\n",
    "model.to(device)\n",
    "N_EPOCHS = 71\n",
    "LR = 0.005"
   ]
  },
  {
   "cell_type": "code",
   "execution_count": 27,
   "metadata": {},
   "outputs": [
    {
     "data": {
      "text/plain": [
       "ViT(\n",
       "  (linear_mapper): Linear(in_features=9408, out_features=20, bias=True)\n",
       "  (ln1): LayerNorm((17, 20), eps=1e-05, elementwise_affine=True)\n",
       "  (attn): Attention(\n",
       "    (softmax): Softmax(dim=-1)\n",
       "  )\n",
       "  (ln2): LayerNorm((17, 20), eps=1e-05, elementwise_affine=True)\n",
       "  (mlpenc): Sequential(\n",
       "    (0): Linear(in_features=20, out_features=20, bias=True)\n",
       "    (1): ReLU()\n",
       "  )\n",
       "  (mlp): Sequential(\n",
       "    (0): Linear(in_features=20, out_features=10, bias=True)\n",
       "    (1): Softmax(dim=-1)\n",
       "  )\n",
       ")"
      ]
     },
     "execution_count": 27,
     "metadata": {},
     "output_type": "execute_result"
    }
   ],
   "source": [
    "model"
   ]
  },
  {
   "cell_type": "code",
   "execution_count": 28,
   "metadata": {
    "scrolled": true
   },
   "outputs": [
    {
     "name": "stdout",
     "output_type": "stream",
     "text": [
      "Epoch 1/71 loss: 180.51\n",
      "Test loss: 63.55\n",
      "Test accuracy: 28.44%\n",
      "Epoch 2/71 loss: 176.76\n",
      "Test loss: 63.00\n",
      "Test accuracy: 31.12%\n",
      "Epoch 3/71 loss: 175.39\n",
      "Test loss: 62.99\n",
      "Test accuracy: 31.33%\n",
      "Epoch 4/71 loss: 174.06\n",
      "Test loss: 62.09\n",
      "Test accuracy: 37.00%\n",
      "Epoch 5/71 loss: 172.92\n",
      "Test loss: 61.70\n",
      "Test accuracy: 39.78%\n",
      "Epoch 6/71 loss: 172.42\n",
      "Test loss: 61.30\n",
      "Test accuracy: 41.43%\n",
      "Epoch 7/71 loss: 171.68\n",
      "Test loss: 61.54\n",
      "Test accuracy: 40.55%\n",
      "Epoch 8/71 loss: 171.55\n",
      "Test loss: 61.30\n",
      "Test accuracy: 41.69%\n",
      "Epoch 9/71 loss: 171.28\n",
      "Test loss: 61.58\n",
      "Test accuracy: 39.21%\n",
      "Epoch 10/71 loss: 170.75\n",
      "Test loss: 60.86\n",
      "Test accuracy: 43.85%\n",
      "Epoch 11/71 loss: 169.35\n",
      "Test loss: 60.35\n",
      "Test accuracy: 46.01%\n",
      "Epoch 12/71 loss: 168.35\n",
      "Test loss: 60.80\n",
      "Test accuracy: 42.87%\n",
      "Epoch 13/71 loss: 168.10\n",
      "Test loss: 60.31\n",
      "Test accuracy: 46.58%\n",
      "Epoch 14/71 loss: 167.66\n",
      "Test loss: 60.21\n",
      "Test accuracy: 47.15%\n",
      "Epoch 15/71 loss: 167.38\n",
      "Test loss: 60.48\n",
      "Test accuracy: 45.34%\n",
      "Epoch 16/71 loss: 167.92\n",
      "Test loss: 60.24\n",
      "Test accuracy: 46.79%\n",
      "Epoch 17/71 loss: 167.37\n",
      "Test loss: 59.92\n",
      "Test accuracy: 48.18%\n",
      "Epoch 18/71 loss: 167.36\n",
      "Test loss: 60.43\n",
      "Test accuracy: 45.29%\n",
      "Epoch 19/71 loss: 167.41\n",
      "Test loss: 60.09\n",
      "Test accuracy: 47.71%\n",
      "Epoch 20/71 loss: 166.68\n",
      "Test loss: 59.90\n",
      "Test accuracy: 48.69%\n",
      "Epoch 21/71 loss: 166.45\n",
      "Test loss: 60.32\n",
      "Test accuracy: 46.58%\n",
      "Epoch 22/71 loss: 167.27\n",
      "Test loss: 59.97\n",
      "Test accuracy: 48.28%\n",
      "Epoch 23/71 loss: 166.14\n",
      "Test loss: 59.68\n",
      "Test accuracy: 48.80%\n",
      "Epoch 24/71 loss: 165.49\n",
      "Test loss: 59.71\n",
      "Test accuracy: 49.10%\n",
      "Epoch 25/71 loss: 165.96\n",
      "Test loss: 59.21\n",
      "Test accuracy: 52.51%\n",
      "Epoch 26/71 loss: 165.16\n",
      "Test loss: 59.43\n",
      "Test accuracy: 51.48%\n",
      "Epoch 27/71 loss: 165.47\n",
      "Test loss: 59.32\n",
      "Test accuracy: 51.32%\n",
      "Epoch 28/71 loss: 165.38\n",
      "Test loss: 59.43\n",
      "Test accuracy: 50.29%\n",
      "Epoch 29/71 loss: 164.65\n",
      "Test loss: 58.95\n",
      "Test accuracy: 53.23%\n",
      "Epoch 30/71 loss: 165.08\n",
      "Test loss: 59.48\n",
      "Test accuracy: 51.32%\n",
      "Epoch 31/71 loss: 164.48\n",
      "Test loss: 59.20\n",
      "Test accuracy: 52.66%\n",
      "Epoch 32/71 loss: 165.35\n",
      "Test loss: 59.07\n",
      "Test accuracy: 52.04%\n",
      "Epoch 33/71 loss: 164.72\n",
      "Test loss: 59.14\n",
      "Test accuracy: 52.25%\n",
      "Epoch 34/71 loss: 164.55\n",
      "Test loss: 59.42\n",
      "Test accuracy: 50.60%\n",
      "Epoch 35/71 loss: 164.60\n",
      "Test loss: 59.02\n",
      "Test accuracy: 53.12%\n",
      "Epoch 36/71 loss: 165.04\n",
      "Test loss: 58.81\n",
      "Test accuracy: 53.90%\n",
      "Epoch 37/71 loss: 164.21\n",
      "Test loss: 59.25\n",
      "Test accuracy: 51.58%\n",
      "Epoch 38/71 loss: 164.71\n",
      "Test loss: 58.94\n",
      "Test accuracy: 52.56%\n",
      "Epoch 39/71 loss: 164.39\n",
      "Test loss: 59.00\n",
      "Test accuracy: 52.71%\n",
      "Epoch 40/71 loss: 164.17\n",
      "Test loss: 59.00\n",
      "Test accuracy: 53.12%\n",
      "Epoch 41/71 loss: 163.83\n",
      "Test loss: 59.25\n",
      "Test accuracy: 51.48%\n",
      "Epoch 42/71 loss: 164.60\n",
      "Test loss: 59.29\n",
      "Test accuracy: 51.37%\n",
      "Epoch 43/71 loss: 164.41\n",
      "Test loss: 59.21\n",
      "Test accuracy: 52.20%\n",
      "Epoch 44/71 loss: 164.09\n",
      "Test loss: 59.35\n",
      "Test accuracy: 51.27%\n",
      "Epoch 45/71 loss: 163.63\n",
      "Test loss: 59.20\n",
      "Test accuracy: 52.09%\n",
      "Epoch 46/71 loss: 164.07\n",
      "Test loss: 59.10\n",
      "Test accuracy: 53.12%\n",
      "Epoch 47/71 loss: 163.86\n",
      "Test loss: 59.05\n",
      "Test accuracy: 52.61%\n",
      "Epoch 48/71 loss: 164.22\n",
      "Test loss: 59.31\n",
      "Test accuracy: 50.65%\n",
      "Epoch 49/71 loss: 164.18\n",
      "Test loss: 58.99\n",
      "Test accuracy: 53.33%\n",
      "Epoch 50/71 loss: 163.91\n",
      "Test loss: 59.32\n",
      "Test accuracy: 51.58%\n",
      "Epoch 51/71 loss: 164.23\n",
      "Test loss: 58.95\n",
      "Test accuracy: 53.38%\n",
      "Epoch 52/71 loss: 163.60\n",
      "Test loss: 58.60\n",
      "Test accuracy: 54.93%\n",
      "Epoch 53/71 loss: 164.10\n",
      "Test loss: 59.29\n",
      "Test accuracy: 51.68%\n",
      "Epoch 54/71 loss: 163.81\n",
      "Test loss: 58.94\n",
      "Test accuracy: 53.02%\n",
      "Epoch 55/71 loss: 163.95\n",
      "Test loss: 58.88\n",
      "Test accuracy: 52.97%\n",
      "Epoch 56/71 loss: 164.02\n",
      "Test loss: 59.51\n",
      "Test accuracy: 49.62%\n",
      "Epoch 57/71 loss: 163.20\n",
      "Test loss: 58.63\n",
      "Test accuracy: 54.57%\n",
      "Epoch 58/71 loss: 163.92\n",
      "Test loss: 58.66\n",
      "Test accuracy: 54.52%\n",
      "Epoch 59/71 loss: 163.16\n",
      "Test loss: 58.67\n",
      "Test accuracy: 54.67%\n",
      "Epoch 60/71 loss: 163.42\n",
      "Test loss: 58.91\n",
      "Test accuracy: 53.12%\n",
      "Epoch 61/71 loss: 163.44\n",
      "Test loss: 58.71\n",
      "Test accuracy: 54.62%\n",
      "Epoch 62/71 loss: 163.59\n",
      "Test loss: 58.79\n",
      "Test accuracy: 53.07%\n",
      "Epoch 63/71 loss: 163.48\n",
      "Test loss: 58.85\n",
      "Test accuracy: 53.23%\n",
      "Epoch 64/71 loss: 163.60\n",
      "Test loss: 58.84\n",
      "Test accuracy: 53.18%\n",
      "Epoch 65/71 loss: 163.63\n",
      "Test loss: 58.69\n",
      "Test accuracy: 54.57%\n",
      "Epoch 66/71 loss: 162.82\n",
      "Test loss: 58.92\n",
      "Test accuracy: 53.64%\n",
      "Epoch 67/71 loss: 163.36\n",
      "Test loss: 58.94\n",
      "Test accuracy: 53.02%\n",
      "Epoch 68/71 loss: 163.01\n",
      "Test loss: 58.47\n",
      "Test accuracy: 54.62%\n",
      "Epoch 69/71 loss: 163.44\n",
      "Test loss: 58.75\n",
      "Test accuracy: 54.00%\n",
      "Epoch 70/71 loss: 163.31\n",
      "Test loss: 59.25\n",
      "Test accuracy: 50.50%\n",
      "Epoch 71/71 loss: 163.59\n",
      "Test loss: 58.80\n",
      "Test accuracy: 53.54%\n"
     ]
    }
   ],
   "source": [
    "training_loss=[]\n",
    "testing_loss=[]\n",
    "testing_acc=[]\n",
    "optimizer = Adam(model.parameters(), lr=LR)\n",
    "criterion = CrossEntropyLoss()\n",
    "for epoch in range(N_EPOCHS):\n",
    "    train_loss = 0.0\n",
    "    for batch in train_loader:\n",
    "        x, y = batch\n",
    "        #x, y = x.to(device), y.to(device)\n",
    "        y_hat = model(x)\n",
    "        loss = criterion(y_hat, y) / len(x)\n",
    "\n",
    "        train_loss += loss.item()\n",
    "\n",
    "        optimizer.zero_grad()\n",
    "        loss.backward()\n",
    "        optimizer.step()\n",
    "    training_loss.append(train_loss)\n",
    "    print(f\"Epoch {epoch + 1}/{N_EPOCHS} loss: {train_loss:.2f}\")\n",
    "    \n",
    "    # Test loop\n",
    "    correct, total = 0, 0\n",
    "    test_loss = 0.0\n",
    "    for batch in validation_loader:\n",
    "        x, y = batch\n",
    "        #x, y = x.to(device), y.to(device)\n",
    "        y_hat = model(x)\n",
    "        loss = criterion(y_hat, y) / len(x)\n",
    "        test_loss += loss\n",
    "\n",
    "        correct += torch.sum(torch.argmax(y_hat, dim=1) == y).item()\n",
    "        total += len(x)\n",
    "    testing_loss.append(test_loss)\n",
    "    testing_acc.append((correct / total) *100)\n",
    "    print(f\"Test loss: {test_loss/:.2f}\")\n",
    "    print(f\"Test accuracy: {correct / total *100:.2f}%\")"
   ]
  },
  {
   "cell_type": "code",
   "execution_count": 49,
   "metadata": {},
   "outputs": [
    {
     "data": {
      "image/png": "[encoded data removed]",
      "text/plain": [
       "<Figure size 432x288 with 1 Axes>"
      ]
     },
     "metadata": {
      "needs_background": "light"
     },
     "output_type": "display_data"
    },
    {
     "data": {
      "image/png": "[encoded data removed]",
      "text/plain": [
       "<Figure size 432x288 with 1 Axes>"
      ]
     },
     "metadata": {
      "needs_background": "light"
     },
     "output_type": "display_data"
    }
   ],
   "source": [
    "fig = plt.figure()\n",
    "for tl in range(len(testing_loss)):\n",
    "    testing_loss[tl] = float(testing_loss[tl])\n",
    "plt.plot(training_loss,color = 'b')\n",
    "plt.title(\"Testing Loss\")\n",
    "plt.show()\n",
    "fig = plt.figure()\n",
    "plt.title(\"Training Loss\")\n",
    "plt.plot(testing_loss,color='orange')\n",
    "plt.show()"
   ]
  },
  {
   "cell_type": "code",
   "execution_count": 51,
   "metadata": {},
   "outputs": [
    {
     "data": {
      "image/png": "[encoded data removed]",
      "text/plain": [
       "<Figure size 432x288 with 1 Axes>"
      ]
     },
     "metadata": {
      "needs_background": "light"
     },
     "output_type": "display_data"
    }
   ],
   "source": [
    "f = plt.figure()\n",
    "plt.title(\"Testing Accuracy\")\n",
    "plt.plot(testing_acc)\n",
    "plt.show()"
   ]
  },
  {
   "cell_type": "code",
   "execution_count": null,
   "metadata": {},
   "outputs": [],
   "source": []
  }
 ],
 "metadata": {
  "kernelspec": {
   "display_name": "Python 3",
   "language": "python",
   "name": "python3"
  },
  "language_info": {
   "codemirror_mode": {
    "name": "ipython",
    "version": 3
   },
   "file_extension": ".py",
   "mimetype": "text/x-python",
   "name": "python",
   "nbconvert_exporter": "python",
   "pygments_lexer": "ipython3",
   "version": "3.7.3"
  }
 },
 "nbformat": 4,
 "nbformat_minor": 2
}

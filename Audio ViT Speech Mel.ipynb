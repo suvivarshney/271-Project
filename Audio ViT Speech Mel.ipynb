{
 "cells": [
  {
   "cell_type": "code",
   "execution_count": 1,
   "metadata": {
    "scrolled": true
   },
   "outputs": [],
   "source": [
    "#!pip install datasets\n",
    "#!pip install transformers\n",
    "#!pip install --upgrade torchvision\n",
    "#!pip install tensorboard"
   ]
  },
  {
   "cell_type": "code",
   "execution_count": 1,
   "metadata": {},
   "outputs": [
    {
     "name": "stderr",
     "output_type": "stream",
     "text": [
      "/usr/lib/python3/dist-packages/requests/__init__.py:89: RequestsDependencyWarning: urllib3 (1.26.13) or chardet (3.0.4) doesn't match a supported version!\n",
      "  warnings.warn(\"urllib3 ({}) or chardet ({}) doesn't match a supported \"\n"
     ]
    }
   ],
   "source": [
    "import numpy as np\n",
    "from datasets import load_dataset\n",
    "import json\n",
    "from transformers import ViTFeatureExtractor\n",
    "from torchvision.transforms import (CenterCrop, \n",
    "                                    Compose, \n",
    "                                    Normalize, \n",
    "                                    RandomHorizontalFlip,\n",
    "                                    RandomResizedCrop, \n",
    "                                    Resize, \n",
    "                                    ToTensor)\n",
    "from torch.utils.data import DataLoader\n",
    "import torch\n",
    "from transformers import ViTForImageClassification\n",
    "from transformers import file_utils\n",
    "from transformers import TrainingArguments, Trainer\n",
    "from datasets import load_metric\n",
    "import time\n",
    "from transformers import EarlyStoppingCallback, IntervalStrategy"
   ]
  },
  {
   "cell_type": "code",
   "execution_count": 2,
   "metadata": {
    "scrolled": true
   },
   "outputs": [
    {
     "data": {
      "application/vnd.jupyter.widget-view+json": {
       "model_id": "0dcd0f5d684b40f7aedde0d7309e36f0",
       "version_major": 2,
       "version_minor": 0
      },
      "text/plain": [
       "Resolving data files:   0%|          | 0/115847 [00:00<?, ?it/s]"
      ]
     },
     "metadata": {},
     "output_type": "display_data"
    },
    {
     "name": "stderr",
     "output_type": "stream",
     "text": [
      "Using custom data configuration default-10eb2470892965f6\n"
     ]
    },
    {
     "name": "stdout",
     "output_type": "stream",
     "text": [
      "Downloading and preparing dataset imagefolder/default to /global/homes/k/ktub1999/.cache/huggingface/datasets/imagefolder/default-10eb2470892965f6/0.0.0/37fbb85cc714a338bea574ac6c7d0b5be5aff46c1862c1989b20e0771199e93f...\n",
      "  "
     ]
    },
    {
     "data": {
      "application/vnd.jupyter.widget-view+json": {
       "model_id": "688d8b053ee7427ca22aeff9de039b1a",
       "version_major": 2,
       "version_minor": 0
      },
      "text/plain": [
       "Downloading data files #0:   0%|          | 0/7241 [00:00<?, ?obj/s]"
      ]
     },
     "metadata": {},
     "output_type": "display_data"
    },
    {
     "data": {
      "application/vnd.jupyter.widget-view+json": {
       "model_id": "3341eb952b9b4935b821a59d9327be19",
       "version_major": 2,
       "version_minor": 0
      },
      "text/plain": [
       "Downloading data files #1:   0%|          | 0/7241 [00:00<?, ?obj/s]"
      ]
     },
     "metadata": {},
     "output_type": "display_data"
    },
    {
     "name": "stdout",
     "output_type": "stream",
     "text": [
      "    "
     ]
    },
    {
     "data": {
      "application/vnd.jupyter.widget-view+json": {
       "model_id": "3194fc6add504602b5269907cdaee055",
       "version_major": 2,
       "version_minor": 0
      },
      "text/plain": [
       "Downloading data files #4:   0%|          | 0/7240 [00:00<?, ?obj/s]"
      ]
     },
     "metadata": {},
     "output_type": "display_data"
    },
    {
     "name": "stdout",
     "output_type": "stream",
     "text": [
      " "
     ]
    },
    {
     "data": {
      "application/vnd.jupyter.widget-view+json": {
       "model_id": "edd9e438b5794d1c862972d335cefad3",
       "version_major": 2,
       "version_minor": 0
      },
      "text/plain": [
       "Downloading data files #2:   0%|          | 0/7240 [00:00<?, ?obj/s]"
      ]
     },
     "metadata": {},
     "output_type": "display_data"
    },
    {
     "data": {
      "application/vnd.jupyter.widget-view+json": {
       "model_id": "ada3d13de08c41fbb95eaeff64183726",
       "version_major": 2,
       "version_minor": 0
      },
      "text/plain": [
       "Downloading data files #3:   0%|          | 0/7240 [00:00<?, ?obj/s]"
      ]
     },
     "metadata": {},
     "output_type": "display_data"
    },
    {
     "name": "stdout",
     "output_type": "stream",
     "text": [
      " "
     ]
    },
    {
     "data": {
      "application/vnd.jupyter.widget-view+json": {
       "model_id": "b3cb18f5ede94dabbe478aea67dd7c79",
       "version_major": 2,
       "version_minor": 0
      },
      "text/plain": [
       "Downloading data files #5:   0%|          | 0/7240 [00:00<?, ?obj/s]"
      ]
     },
     "metadata": {},
     "output_type": "display_data"
    },
    {
     "data": {
      "application/vnd.jupyter.widget-view+json": {
       "model_id": "4537ff3b6299458fa6057b740cbe84d7",
       "version_major": 2,
       "version_minor": 0
      },
      "text/plain": [
       "Downloading data files #6:   0%|          | 0/7240 [00:00<?, ?obj/s]"
      ]
     },
     "metadata": {},
     "output_type": "display_data"
    },
    {
     "name": "stdout",
     "output_type": "stream",
     "text": [
      " "
     ]
    },
    {
     "data": {
      "application/vnd.jupyter.widget-view+json": {
       "model_id": "f899dec2f2a1435ea09e074b23c4a1c4",
       "version_major": 2,
       "version_minor": 0
      },
      "text/plain": [
       "Downloading data files #8:   0%|          | 0/7240 [00:00<?, ?obj/s]"
      ]
     },
     "metadata": {},
     "output_type": "display_data"
    },
    {
     "name": "stdout",
     "output_type": "stream",
     "text": [
      "  "
     ]
    },
    {
     "data": {
      "application/vnd.jupyter.widget-view+json": {
       "model_id": "7bc8c499da1f43218bb025825d786571",
       "version_major": 2,
       "version_minor": 0
      },
      "text/plain": [
       "Downloading data files #7:   0%|          | 0/7240 [00:00<?, ?obj/s]"
      ]
     },
     "metadata": {},
     "output_type": "display_data"
    },
    {
     "name": "stdout",
     "output_type": "stream",
     "text": [
      "   "
     ]
    },
    {
     "data": {
      "application/vnd.jupyter.widget-view+json": {
       "model_id": "eea16c8672494e06a2bde279b0a11ee0",
       "version_major": 2,
       "version_minor": 0
      },
      "text/plain": [
       "Downloading data files #9:   0%|          | 0/7240 [00:00<?, ?obj/s]"
      ]
     },
     "metadata": {},
     "output_type": "display_data"
    },
    {
     "data": {
      "application/vnd.jupyter.widget-view+json": {
       "model_id": "15affc84e630410c841fd8e8c6cf1f80",
       "version_major": 2,
       "version_minor": 0
      },
      "text/plain": [
       "Downloading data files #11:   0%|          | 0/7240 [00:00<?, ?obj/s]"
      ]
     },
     "metadata": {},
     "output_type": "display_data"
    },
    {
     "data": {
      "application/vnd.jupyter.widget-view+json": {
       "model_id": "968373ff10b848b9a55b8a4abad91747",
       "version_major": 2,
       "version_minor": 0
      },
      "text/plain": [
       "Downloading data files #10:   0%|          | 0/7240 [00:00<?, ?obj/s]"
      ]
     },
     "metadata": {},
     "output_type": "display_data"
    },
    {
     "data": {
      "application/vnd.jupyter.widget-view+json": {
       "model_id": "3a794dfa9c2b4e48bdb77f5481e88985",
       "version_major": 2,
       "version_minor": 0
      },
      "text/plain": [
       "Downloading data files #12:   0%|          | 0/7240 [00:00<?, ?obj/s]"
      ]
     },
     "metadata": {},
     "output_type": "display_data"
    },
    {
     "name": "stdout",
     "output_type": "stream",
     "text": [
      " "
     ]
    },
    {
     "data": {
      "application/vnd.jupyter.widget-view+json": {
       "model_id": "3ec9fbce55584ef3ba712e90aad84201",
       "version_major": 2,
       "version_minor": 0
      },
      "text/plain": [
       "Downloading data files #13:   0%|          | 0/7240 [00:00<?, ?obj/s]"
      ]
     },
     "metadata": {},
     "output_type": "display_data"
    },
    {
     "name": "stdout",
     "output_type": "stream",
     "text": [
      " "
     ]
    },
    {
     "data": {
      "application/vnd.jupyter.widget-view+json": {
       "model_id": "353ca38495074db2af46d2af631deb8a",
       "version_major": 2,
       "version_minor": 0
      },
      "text/plain": [
       "Downloading data files #14:   0%|          | 0/7240 [00:00<?, ?obj/s]"
      ]
     },
     "metadata": {},
     "output_type": "display_data"
    },
    {
     "data": {
      "application/vnd.jupyter.widget-view+json": {
       "model_id": "6bb29a0727044b17b662fc958f26d605",
       "version_major": 2,
       "version_minor": 0
      },
      "text/plain": [
       "Downloading data files #15:   0%|          | 0/7240 [00:00<?, ?obj/s]"
      ]
     },
     "metadata": {},
     "output_type": "display_data"
    },
    {
     "data": {
      "application/vnd.jupyter.widget-view+json": {
       "model_id": "1edcc79e22944f01a29abd09ded3854d",
       "version_major": 2,
       "version_minor": 0
      },
      "text/plain": [
       "Downloading data files:   0%|          | 0/5 [00:00<?, ?it/s]"
      ]
     },
     "metadata": {},
     "output_type": "display_data"
    },
    {
     "name": "stdout",
     "output_type": "stream",
     "text": [
      "     "
     ]
    },
    {
     "data": {
      "application/vnd.jupyter.widget-view+json": {
       "model_id": "5ed57b85fb364f1aa2df5e1a1a6c11a2",
       "version_major": 2,
       "version_minor": 0
      },
      "text/plain": [
       "Extracting data files #1:   0%|          | 0/1 [00:00<?, ?obj/s]"
      ]
     },
     "metadata": {},
     "output_type": "display_data"
    },
    {
     "data": {
      "application/vnd.jupyter.widget-view+json": {
       "model_id": "c046561f1873497d8634244f40d7aca6",
       "version_major": 2,
       "version_minor": 0
      },
      "text/plain": [
       "Extracting data files #4:   0%|          | 0/1 [00:00<?, ?obj/s]"
      ]
     },
     "metadata": {},
     "output_type": "display_data"
    },
    {
     "data": {
      "application/vnd.jupyter.widget-view+json": {
       "model_id": "68c6295d2bba433db2111b3eb53fbf81",
       "version_major": 2,
       "version_minor": 0
      },
      "text/plain": [
       "Extracting data files #0:   0%|          | 0/1 [00:00<?, ?obj/s]"
      ]
     },
     "metadata": {},
     "output_type": "display_data"
    },
    {
     "data": {
      "application/vnd.jupyter.widget-view+json": {
       "model_id": "f185dd813f2844bdb75d6d8a16181417",
       "version_major": 2,
       "version_minor": 0
      },
      "text/plain": [
       "Extracting data files #3:   0%|          | 0/1 [00:00<?, ?obj/s]"
      ]
     },
     "metadata": {},
     "output_type": "display_data"
    },
    {
     "data": {
      "application/vnd.jupyter.widget-view+json": {
       "model_id": "080b4005b5ef48178b31e60615484059",
       "version_major": 2,
       "version_minor": 0
      },
      "text/plain": [
       "Extracting data files #2:   0%|          | 0/1 [00:00<?, ?obj/s]"
      ]
     },
     "metadata": {},
     "output_type": "display_data"
    },
    {
     "data": {
      "application/vnd.jupyter.widget-view+json": {
       "model_id": "ca93933f76e44616b513e83d26bf704d",
       "version_major": 2,
       "version_minor": 0
      },
      "text/plain": [
       "Generating train split: 0 examples [00:00, ? examples/s]"
      ]
     },
     "metadata": {},
     "output_type": "display_data"
    },
    {
     "name": "stdout",
     "output_type": "stream",
     "text": [
      "Dataset imagefolder downloaded and prepared to /global/homes/k/ktub1999/.cache/huggingface/datasets/imagefolder/default-10eb2470892965f6/0.0.0/37fbb85cc714a338bea574ac6c7d0b5be5aff46c1862c1989b20e0771199e93f. Subsequent calls will reuse this data.\n"
     ]
    }
   ],
   "source": [
    "train_ds = load_dataset(\"imagefolder\", data_dir=\"./Mel\", split=\"train\")"
   ]
  },
  {
   "cell_type": "code",
   "execution_count": 14,
   "metadata": {},
   "outputs": [],
   "source": [
    "# split up training into training + validation\n",
    "splits = train_ds.train_test_split(test_size=0.3)\n",
    "train_val_ds = splits['train']\n",
    "test_ds = splits['test']\n",
    "\n",
    "splits = train_val_ds.train_test_split(test_size=0.1)\n",
    "train_ds = splits['train']\n",
    "val_ds = splits['test']\n"
   ]
  },
  {
   "cell_type": "code",
   "execution_count": 15,
   "metadata": {},
   "outputs": [
    {
     "name": "stdout",
     "output_type": "stream",
     "text": [
      "72972 34749 8109\n"
     ]
    }
   ],
   "source": [
    "print(len(train_ds),len(test_ds),len(val_ds))"
   ]
  },
  {
   "cell_type": "code",
   "execution_count": 19,
   "metadata": {},
   "outputs": [],
   "source": [
    "import os\n",
    "cl=os.listdir('./SpeechCommand/SpeechCommands/speech_commands_v0.02/')\n",
    "Class={}\n",
    "cnt=0\n",
    "for c in cl:\n",
    "    Class[c]=cnt\n",
    "    cnt+=1\n",
    "Class\n",
    "\n",
    "label2id=Class\n",
    "id2label = {v: k for k, v in Class.items()}\n",
    "\n",
    "\n",
    "with open(\"./Mel/\"+'id2label.json', 'w') as outfile:\n",
    "    json.dump(id2label,outfile)\n",
    "with open(\"./Mel/\"+'label2id.json', 'w') as outfile:\n",
    "    json.dump(label2id,outfile)"
   ]
  },
  {
   "cell_type": "code",
   "execution_count": 16,
   "metadata": {},
   "outputs": [
    {
     "data": {
      "text/plain": [
       "Dataset({\n",
       "    features: ['image', 'classID', 'class'],\n",
       "    num_rows: 72972\n",
       "})"
      ]
     },
     "execution_count": 16,
     "metadata": {},
     "output_type": "execute_result"
    }
   ],
   "source": [
    "train_ds"
   ]
  },
  {
   "cell_type": "code",
   "execution_count": 20,
   "metadata": {},
   "outputs": [
    {
     "data": {
      "text/plain": [
       "{0: 'sheila',\n",
       " 1: 'house',\n",
       " 2: 'dog',\n",
       " 3: 'README.md',\n",
       " 4: 'validation_list.txt',\n",
       " 5: '.DS_Store',\n",
       " 6: 'go',\n",
       " 7: 'right',\n",
       " 8: 'bed',\n",
       " 9: 'visual',\n",
       " 10: 'LICENSE',\n",
       " 11: 'stop',\n",
       " 12: 'marvin',\n",
       " 13: 'two',\n",
       " 14: 'yes',\n",
       " 15: 'seven',\n",
       " 16: 'five',\n",
       " 17: 'one',\n",
       " 18: 'cat',\n",
       " 19: 'follow',\n",
       " 20: '_background_noise_',\n",
       " 21: 'off',\n",
       " 22: 'wow',\n",
       " 23: 'tree',\n",
       " 24: 'six',\n",
       " 25: 'three',\n",
       " 26: 'forward',\n",
       " 27: 'up',\n",
       " 28: 'on',\n",
       " 29: 'happy',\n",
       " 30: 'no',\n",
       " 31: 'zero',\n",
       " 32: 'learn',\n",
       " 33: 'backward',\n",
       " 34: 'down',\n",
       " 35: 'testing_list.txt',\n",
       " 36: 'eight',\n",
       " 37: 'bird',\n",
       " 38: 'nine',\n",
       " 39: 'left',\n",
       " 40: 'four'}"
      ]
     },
     "execution_count": 20,
     "metadata": {},
     "output_type": "execute_result"
    }
   ],
   "source": [
    "with open('./Mel/label2id.json') as f:\n",
    "    label2id = json.load(f)\n",
    "\n",
    "with open('./Mel/id2label.json') as f:\n",
    "    id2label = json.load(f)\n",
    "\n",
    "id2label = {int(key):value for key,value in id2label.items()}\n",
    "id2label"
   ]
  },
  {
   "cell_type": "code",
   "execution_count": 21,
   "metadata": {},
   "outputs": [],
   "source": [
    "feature_extractor = ViTFeatureExtractor.from_pretrained(\"google/vit-base-patch16-224-in21k\")"
   ]
  },
  {
   "cell_type": "code",
   "execution_count": 22,
   "metadata": {
    "scrolled": true
   },
   "outputs": [],
   "source": [
    "normalize = Normalize(mean=feature_extractor.image_mean, std=feature_extractor.image_std)"
   ]
  },
  {
   "cell_type": "code",
   "execution_count": 23,
   "metadata": {},
   "outputs": [],
   "source": [
    "_train_transforms = Compose(\n",
    "        [\n",
    "            RandomResizedCrop(tuple(feature_extractor.size.values())),\n",
    "            RandomHorizontalFlip(),\n",
    "            ToTensor(),\n",
    "            normalize,\n",
    "        ]\n",
    "    )\n",
    "\n",
    "_val_transforms = Compose(\n",
    "        [\n",
    "            Resize(tuple(feature_extractor.size.values())),\n",
    "            CenterCrop(tuple(feature_extractor.size.values())),\n",
    "            ToTensor(),\n",
    "            normalize,\n",
    "        ]\n",
    "    )"
   ]
  },
  {
   "cell_type": "code",
   "execution_count": 24,
   "metadata": {},
   "outputs": [],
   "source": [
    "def train_transforms(examples):\n",
    "    examples['pixel_values'] = [_train_transforms(image.convert(\"RGB\")) for image in examples['image']]\n",
    "    return examples\n",
    "\n",
    "def val_transforms(examples):\n",
    "    examples['pixel_values'] = [_val_transforms(image.convert(\"RGB\")) for image in examples['image']]\n",
    "    return examples"
   ]
  },
  {
   "cell_type": "code",
   "execution_count": 25,
   "metadata": {},
   "outputs": [],
   "source": [
    "# Set the transforms\n",
    "train_ds.set_transform(train_transforms)\n",
    "val_ds.set_transform(val_transforms)\n",
    "test_ds.set_transform(val_transforms)"
   ]
  },
  {
   "cell_type": "code",
   "execution_count": 26,
   "metadata": {
    "scrolled": true
   },
   "outputs": [
    {
     "data": {
      "text/plain": [
       "{'image': [<PIL.PngImagePlugin.PngImageFile image mode=RGBA size=81x128 at 0x7FB961F5D1C0>,\n",
       "  <PIL.PngImagePlugin.PngImageFile image mode=RGBA size=72x128 at 0x7FB961F5D3D0>],\n",
       " 'classID': [15, 36],\n",
       " 'class': ['seven', 'eight'],\n",
       " 'pixel_values': [tensor([[[-0.4667, -0.4667, -0.4667,  ..., -0.4588, -0.4588, -0.4588],\n",
       "           [-0.4667, -0.4667, -0.4667,  ..., -0.4588, -0.4588, -0.4588],\n",
       "           [-0.4667, -0.4667, -0.4667,  ..., -0.4510, -0.4510, -0.4510],\n",
       "           ...,\n",
       "           [-0.4667, -0.4667, -0.4667,  ..., -0.4667, -0.4667, -0.4667],\n",
       "           [-0.4667, -0.4667, -0.4667,  ..., -0.4667, -0.4667, -0.4667],\n",
       "           [-0.4667, -0.4667, -0.4667,  ..., -0.4667, -0.4667, -0.4667]],\n",
       "  \n",
       "          [[-0.9922, -0.9922, -0.9922,  ..., -0.9608, -0.9608, -0.9608],\n",
       "           [-0.9922, -0.9922, -0.9922,  ..., -0.9608, -0.9608, -0.9608],\n",
       "           [-0.9922, -0.9922, -0.9922,  ..., -0.9294, -0.9294, -0.9294],\n",
       "           ...,\n",
       "           [-0.9922, -0.9922, -0.9922,  ..., -0.9922, -0.9922, -0.9922],\n",
       "           [-0.9922, -0.9922, -0.9922,  ..., -0.9922, -0.9922, -0.9922],\n",
       "           [-0.9922, -0.9922, -0.9922,  ..., -0.9922, -0.9922, -0.9922]],\n",
       "  \n",
       "          [[-0.3412, -0.3412, -0.3412,  ..., -0.3098, -0.3098, -0.3098],\n",
       "           [-0.3412, -0.3412, -0.3412,  ..., -0.3098, -0.3098, -0.3098],\n",
       "           [-0.3412, -0.3412, -0.3412,  ..., -0.2784, -0.2784, -0.2784],\n",
       "           ...,\n",
       "           [-0.3412, -0.3412, -0.3412,  ..., -0.3412, -0.3412, -0.3412],\n",
       "           [-0.3412, -0.3412, -0.3412,  ..., -0.3412, -0.3412, -0.3412],\n",
       "           [-0.3412, -0.3412, -0.3412,  ..., -0.3412, -0.3412, -0.3412]]]),\n",
       "  tensor([[[-0.4667, -0.4667, -0.4667,  ..., -0.4588, -0.4588, -0.4588],\n",
       "           [-0.4667, -0.4667, -0.4667,  ..., -0.4588, -0.4588, -0.4588],\n",
       "           [-0.4667, -0.4667, -0.4667,  ..., -0.4588, -0.4588, -0.4588],\n",
       "           ...,\n",
       "           [-0.4667, -0.4667, -0.4667,  ..., -0.4667, -0.4667, -0.4667],\n",
       "           [-0.4667, -0.4667, -0.4667,  ..., -0.4667, -0.4667, -0.4667],\n",
       "           [-0.4667, -0.4667, -0.4667,  ..., -0.4667, -0.4667, -0.4667]],\n",
       "  \n",
       "          [[-0.9922, -0.9922, -0.9922,  ..., -0.9529, -0.9529, -0.9529],\n",
       "           [-0.9922, -0.9922, -0.9922,  ..., -0.9529, -0.9529, -0.9529],\n",
       "           [-0.9922, -0.9922, -0.9922,  ..., -0.9608, -0.9608, -0.9608],\n",
       "           ...,\n",
       "           [-0.9922, -0.9922, -0.9922,  ..., -0.9922, -0.9922, -0.9922],\n",
       "           [-0.9922, -0.9922, -0.9922,  ..., -0.9922, -0.9922, -0.9922],\n",
       "           [-0.9922, -0.9922, -0.9922,  ..., -0.9922, -0.9922, -0.9922]],\n",
       "  \n",
       "          [[-0.3412, -0.3412, -0.3412,  ..., -0.2941, -0.2941, -0.2941],\n",
       "           [-0.3412, -0.3412, -0.3412,  ..., -0.2941, -0.2941, -0.2941],\n",
       "           [-0.3412, -0.3412, -0.3412,  ..., -0.3020, -0.3020, -0.3020],\n",
       "           ...,\n",
       "           [-0.3412, -0.3412, -0.3412,  ..., -0.3412, -0.3412, -0.3412],\n",
       "           [-0.3412, -0.3412, -0.3412,  ..., -0.3412, -0.3412, -0.3412],\n",
       "           [-0.3412, -0.3412, -0.3412,  ..., -0.3412, -0.3412, -0.3412]]])]}"
      ]
     },
     "execution_count": 26,
     "metadata": {},
     "output_type": "execute_result"
    }
   ],
   "source": [
    "train_ds[:2]"
   ]
  },
  {
   "cell_type": "code",
   "execution_count": 27,
   "metadata": {},
   "outputs": [],
   "source": [
    "def collate_fn(examples):\n",
    "    pixel_values = torch.stack([example[\"pixel_values\"] for example in examples])\n",
    "    labels = torch.tensor([example[\"classID\"] for example in examples])\n",
    "    return {\"pixel_values\": pixel_values, \"labels\": labels}\n",
    "\n",
    "train_dataloader = DataLoader(train_ds, collate_fn=collate_fn, batch_size=4)\n"
   ]
  },
  {
   "cell_type": "code",
   "execution_count": 28,
   "metadata": {},
   "outputs": [
    {
     "name": "stdout",
     "output_type": "stream",
     "text": [
      "pixel_values torch.Size([4, 3, 224, 224])\n",
      "labels torch.Size([4])\n"
     ]
    }
   ],
   "source": [
    "batch = next(iter(train_dataloader))\n",
    "for k,v in batch.items():\n",
    "    if isinstance(v, torch.Tensor):\n",
    "        print(k, v.shape)"
   ]
  },
  {
   "cell_type": "code",
   "execution_count": 32,
   "metadata": {},
   "outputs": [
    {
     "data": {
      "application/vnd.jupyter.widget-view+json": {
       "model_id": "28144df79dc5435496a5024f950771f8",
       "version_major": 2,
       "version_minor": 0
      },
      "text/plain": [
       "Downloading:   0%|          | 0.00/346M [00:00<?, ?B/s]"
      ]
     },
     "metadata": {},
     "output_type": "display_data"
    },
    {
     "name": "stderr",
     "output_type": "stream",
     "text": [
      "Some weights of the model checkpoint at google/vit-base-patch16-224-in21k were not used when initializing ViTForImageClassification: ['pooler.dense.weight', 'pooler.dense.bias']\n",
      "- This IS expected if you are initializing ViTForImageClassification from the checkpoint of a model trained on another task or with another architecture (e.g. initializing a BertForSequenceClassification model from a BertForPreTraining model).\n",
      "- This IS NOT expected if you are initializing ViTForImageClassification from the checkpoint of a model that you expect to be exactly identical (initializing a BertForSequenceClassification model from a BertForSequenceClassification model).\n",
      "Some weights of ViTForImageClassification were not initialized from the model checkpoint at google/vit-base-patch16-224-in21k and are newly initialized: ['classifier.bias', 'classifier.weight']\n",
      "You should probably TRAIN this model on a down-stream task to be able to use it for predictions and inference.\n"
     ]
    }
   ],
   "source": [
    "model = ViTForImageClassification.from_pretrained('google/vit-base-patch16-224-in21k',\n",
    "                                                  num_labels=41,\n",
    "                                                  id2label=id2label,\n",
    "                                                  label2id=label2id)"
   ]
  },
  {
   "cell_type": "code",
   "execution_count": 33,
   "metadata": {},
   "outputs": [],
   "source": [
    "metric_name = \"accuracy\"\n",
    "\n",
    "args = TrainingArguments(\n",
    "    f\"train-UrbanSounds8k\",\n",
    "    save_strategy=\"epoch\",\n",
    "    evaluation_strategy=\"epoch\",\n",
    "    learning_rate=2e-3,\n",
    "    per_device_train_batch_size=10,\n",
    "    per_device_eval_batch_size=4,\n",
    "    num_train_epochs=50,\n",
    "    weight_decay=0.01,\n",
    "    load_best_model_at_end=True,\n",
    "    metric_for_best_model=metric_name,\n",
    "    logging_dir='logs',\n",
    "    remove_unused_columns=False,\n",
    ")\n",
    "\n"
   ]
  },
  {
   "cell_type": "code",
   "execution_count": 34,
   "metadata": {},
   "outputs": [
    {
     "name": "stderr",
     "output_type": "stream",
     "text": [
      "/tmp/ipykernel_168462/371032755.py:1: FutureWarning: load_metric is deprecated and will be removed in the next major version of datasets. Use 'evaluate.load' instead, from the new library 🤗 Evaluate: https://huggingface.co/docs/evaluate\n",
      "  metric = load_metric(\"accuracy\")\n"
     ]
    }
   ],
   "source": [
    "metric = load_metric(\"accuracy\")\n",
    "\n",
    "def compute_metrics(eval_pred):\n",
    "    predictions, labels = eval_pred\n",
    "    predictions = np.argmax(predictions, axis=1)\n",
    "    return metric.compute(predictions=predictions, references=labels)"
   ]
  },
  {
   "cell_type": "code",
   "execution_count": 35,
   "metadata": {},
   "outputs": [],
   "source": [
    "trainer = Trainer(\n",
    "    model,\n",
    "    args,\n",
    "    train_dataset=train_ds,\n",
    "    eval_dataset=val_ds,\n",
    "    data_collator=collate_fn,\n",
    "    compute_metrics=compute_metrics,\n",
    "    tokenizer=feature_extractor,\n",
    "    callbacks = [EarlyStoppingCallback(early_stopping_patience=5)]\n",
    ")\n"
   ]
  },
  {
   "cell_type": "code",
   "execution_count": 36,
   "metadata": {
    "scrolled": false
   },
   "outputs": [
    {
     "name": "stderr",
     "output_type": "stream",
     "text": [
      "/global/homes/k/ktub1999/.local/lib/python3.8/site-packages/transformers/optimization.py:306: FutureWarning: This implementation of AdamW is deprecated and will be removed in a future version. Use the PyTorch implementation torch.optim.AdamW instead, or set `no_deprecation_warning=True` to disable this warning\n",
      "  warnings.warn(\n",
      "***** Running training *****\n",
      "  Num examples = 72972\n",
      "  Num Epochs = 50\n",
      "  Instantaneous batch size per device = 10\n",
      "  Total train batch size (w. parallel, distributed & accumulation) = 10\n",
      "  Gradient Accumulation steps = 1\n",
      "  Total optimization steps = 364900\n",
      "  Number of trainable parameters = 85830185\n"
     ]
    },
    {
     "data": {
      "text/html": [
       "\n",
       "    <div>\n",
       "      \n",
       "      <progress value='291920' max='364900' style='width:300px; height:20px; vertical-align: middle;'></progress>\n",
       "      [291920/364900 13:54:55 < 3:28:43, 5.83 it/s, Epoch 40/50]\n",
       "    </div>\n",
       "    <table border=\"1\" class=\"dataframe\">\n",
       "  <thead>\n",
       " <tr style=\"text-align: left;\">\n",
       "      <th>Epoch</th>\n",
       "      <th>Training Loss</th>\n",
       "      <th>Validation Loss</th>\n",
       "      <th>Accuracy</th>\n",
       "    </tr>\n",
       "  </thead>\n",
       "  <tbody>\n",
       "    <tr>\n",
       "      <td>1</td>\n",
       "      <td>2.257000</td>\n",
       "      <td>1.505887</td>\n",
       "      <td>0.619559</td>\n",
       "    </tr>\n",
       "    <tr>\n",
       "      <td>2</td>\n",
       "      <td>1.836000</td>\n",
       "      <td>1.081267</td>\n",
       "      <td>0.691577</td>\n",
       "    </tr>\n",
       "    <tr>\n",
       "      <td>3</td>\n",
       "      <td>1.708100</td>\n",
       "      <td>0.831147</td>\n",
       "      <td>0.757183</td>\n",
       "    </tr>\n",
       "    <tr>\n",
       "      <td>4</td>\n",
       "      <td>1.596700</td>\n",
       "      <td>0.725670</td>\n",
       "      <td>0.791096</td>\n",
       "    </tr>\n",
       "    <tr>\n",
       "      <td>5</td>\n",
       "      <td>1.568900</td>\n",
       "      <td>0.679184</td>\n",
       "      <td>0.800469</td>\n",
       "    </tr>\n",
       "    <tr>\n",
       "      <td>6</td>\n",
       "      <td>1.508200</td>\n",
       "      <td>0.648395</td>\n",
       "      <td>0.811567</td>\n",
       "    </tr>\n",
       "    <tr>\n",
       "      <td>7</td>\n",
       "      <td>1.482300</td>\n",
       "      <td>0.626160</td>\n",
       "      <td>0.815884</td>\n",
       "    </tr>\n",
       "    <tr>\n",
       "      <td>8</td>\n",
       "      <td>1.444100</td>\n",
       "      <td>0.547194</td>\n",
       "      <td>0.841657</td>\n",
       "    </tr>\n",
       "    <tr>\n",
       "      <td>9</td>\n",
       "      <td>1.441300</td>\n",
       "      <td>0.553454</td>\n",
       "      <td>0.838451</td>\n",
       "    </tr>\n",
       "    <tr>\n",
       "      <td>10</td>\n",
       "      <td>1.349100</td>\n",
       "      <td>0.565108</td>\n",
       "      <td>0.831915</td>\n",
       "    </tr>\n",
       "    <tr>\n",
       "      <td>11</td>\n",
       "      <td>1.424400</td>\n",
       "      <td>0.516531</td>\n",
       "      <td>0.844000</td>\n",
       "    </tr>\n",
       "    <tr>\n",
       "      <td>12</td>\n",
       "      <td>1.393900</td>\n",
       "      <td>0.576684</td>\n",
       "      <td>0.831669</td>\n",
       "    </tr>\n",
       "    <tr>\n",
       "      <td>13</td>\n",
       "      <td>1.373800</td>\n",
       "      <td>0.514692</td>\n",
       "      <td>0.849180</td>\n",
       "    </tr>\n",
       "    <tr>\n",
       "      <td>14</td>\n",
       "      <td>1.342700</td>\n",
       "      <td>0.501238</td>\n",
       "      <td>0.854483</td>\n",
       "    </tr>\n",
       "    <tr>\n",
       "      <td>15</td>\n",
       "      <td>1.308500</td>\n",
       "      <td>0.503586</td>\n",
       "      <td>0.853619</td>\n",
       "    </tr>\n",
       "    <tr>\n",
       "      <td>16</td>\n",
       "      <td>1.316100</td>\n",
       "      <td>0.499418</td>\n",
       "      <td>0.857566</td>\n",
       "    </tr>\n",
       "    <tr>\n",
       "      <td>17</td>\n",
       "      <td>1.263800</td>\n",
       "      <td>0.464894</td>\n",
       "      <td>0.867185</td>\n",
       "    </tr>\n",
       "    <tr>\n",
       "      <td>18</td>\n",
       "      <td>1.285100</td>\n",
       "      <td>0.453908</td>\n",
       "      <td>0.868788</td>\n",
       "    </tr>\n",
       "    <tr>\n",
       "      <td>19</td>\n",
       "      <td>1.224200</td>\n",
       "      <td>0.449621</td>\n",
       "      <td>0.869034</td>\n",
       "    </tr>\n",
       "    <tr>\n",
       "      <td>20</td>\n",
       "      <td>1.256300</td>\n",
       "      <td>0.466118</td>\n",
       "      <td>0.867555</td>\n",
       "    </tr>\n",
       "    <tr>\n",
       "      <td>21</td>\n",
       "      <td>1.175700</td>\n",
       "      <td>0.474408</td>\n",
       "      <td>0.868788</td>\n",
       "    </tr>\n",
       "    <tr>\n",
       "      <td>22</td>\n",
       "      <td>1.182300</td>\n",
       "      <td>0.462940</td>\n",
       "      <td>0.865951</td>\n",
       "    </tr>\n",
       "    <tr>\n",
       "      <td>23</td>\n",
       "      <td>1.154000</td>\n",
       "      <td>0.427665</td>\n",
       "      <td>0.879640</td>\n",
       "    </tr>\n",
       "    <tr>\n",
       "      <td>24</td>\n",
       "      <td>1.165700</td>\n",
       "      <td>0.405367</td>\n",
       "      <td>0.882106</td>\n",
       "    </tr>\n",
       "    <tr>\n",
       "      <td>25</td>\n",
       "      <td>1.176400</td>\n",
       "      <td>0.410547</td>\n",
       "      <td>0.883586</td>\n",
       "    </tr>\n",
       "    <tr>\n",
       "      <td>26</td>\n",
       "      <td>1.195300</td>\n",
       "      <td>0.414284</td>\n",
       "      <td>0.884696</td>\n",
       "    </tr>\n",
       "    <tr>\n",
       "      <td>27</td>\n",
       "      <td>1.150300</td>\n",
       "      <td>0.439980</td>\n",
       "      <td>0.882476</td>\n",
       "    </tr>\n",
       "    <tr>\n",
       "      <td>28</td>\n",
       "      <td>1.148900</td>\n",
       "      <td>0.405723</td>\n",
       "      <td>0.888026</td>\n",
       "    </tr>\n",
       "    <tr>\n",
       "      <td>29</td>\n",
       "      <td>1.170100</td>\n",
       "      <td>0.398395</td>\n",
       "      <td>0.889505</td>\n",
       "    </tr>\n",
       "    <tr>\n",
       "      <td>30</td>\n",
       "      <td>1.132200</td>\n",
       "      <td>0.406765</td>\n",
       "      <td>0.887039</td>\n",
       "    </tr>\n",
       "    <tr>\n",
       "      <td>31</td>\n",
       "      <td>1.129600</td>\n",
       "      <td>0.440819</td>\n",
       "      <td>0.878283</td>\n",
       "    </tr>\n",
       "    <tr>\n",
       "      <td>32</td>\n",
       "      <td>1.130700</td>\n",
       "      <td>0.397539</td>\n",
       "      <td>0.888766</td>\n",
       "    </tr>\n",
       "    <tr>\n",
       "      <td>33</td>\n",
       "      <td>1.108500</td>\n",
       "      <td>0.408274</td>\n",
       "      <td>0.888026</td>\n",
       "    </tr>\n",
       "    <tr>\n",
       "      <td>34</td>\n",
       "      <td>1.126500</td>\n",
       "      <td>0.405291</td>\n",
       "      <td>0.890985</td>\n",
       "    </tr>\n",
       "    <tr>\n",
       "      <td>35</td>\n",
       "      <td>1.092800</td>\n",
       "      <td>0.405508</td>\n",
       "      <td>0.892712</td>\n",
       "    </tr>\n",
       "    <tr>\n",
       "      <td>36</td>\n",
       "      <td>1.092600</td>\n",
       "      <td>0.410613</td>\n",
       "      <td>0.887779</td>\n",
       "    </tr>\n",
       "    <tr>\n",
       "      <td>37</td>\n",
       "      <td>1.109000</td>\n",
       "      <td>0.413630</td>\n",
       "      <td>0.888026</td>\n",
       "    </tr>\n",
       "    <tr>\n",
       "      <td>38</td>\n",
       "      <td>1.045200</td>\n",
       "      <td>0.428050</td>\n",
       "      <td>0.886299</td>\n",
       "    </tr>\n",
       "    <tr>\n",
       "      <td>39</td>\n",
       "      <td>1.084000</td>\n",
       "      <td>0.406850</td>\n",
       "      <td>0.889875</td>\n",
       "    </tr>\n",
       "    <tr>\n",
       "      <td>40</td>\n",
       "      <td>1.099000</td>\n",
       "      <td>0.403210</td>\n",
       "      <td>0.892219</td>\n",
       "    </tr>\n",
       "  </tbody>\n",
       "</table><p>"
      ],
      "text/plain": [
       "<IPython.core.display.HTML object>"
      ]
     },
     "metadata": {},
     "output_type": "display_data"
    },
    {
     "name": "stderr",
     "output_type": "stream",
     "text": [
      "***** Running Evaluation *****\n",
      "  Num examples = 8109\n",
      "  Batch size = 4\n",
      "Saving model checkpoint to train-UrbanSounds8k/checkpoint-7298\n",
      "Configuration saved in train-UrbanSounds8k/checkpoint-7298/config.json\n",
      "Model weights saved in train-UrbanSounds8k/checkpoint-7298/pytorch_model.bin\n",
      "Image processor saved in train-UrbanSounds8k/checkpoint-7298/preprocessor_config.json\n",
      "***** Running Evaluation *****\n",
      "  Num examples = 8109\n",
      "  Batch size = 4\n",
      "Saving model checkpoint to train-UrbanSounds8k/checkpoint-14596\n",
      "Configuration saved in train-UrbanSounds8k/checkpoint-14596/config.json\n",
      "Model weights saved in train-UrbanSounds8k/checkpoint-14596/pytorch_model.bin\n",
      "Image processor saved in train-UrbanSounds8k/checkpoint-14596/preprocessor_config.json\n",
      "***** Running Evaluation *****\n",
      "  Num examples = 8109\n",
      "  Batch size = 4\n",
      "Saving model checkpoint to train-UrbanSounds8k/checkpoint-21894\n",
      "Configuration saved in train-UrbanSounds8k/checkpoint-21894/config.json\n",
      "Model weights saved in train-UrbanSounds8k/checkpoint-21894/pytorch_model.bin\n",
      "Image processor saved in train-UrbanSounds8k/checkpoint-21894/preprocessor_config.json\n",
      "***** Running Evaluation *****\n",
      "  Num examples = 8109\n",
      "  Batch size = 4\n",
      "Saving model checkpoint to train-UrbanSounds8k/checkpoint-29192\n",
      "Configuration saved in train-UrbanSounds8k/checkpoint-29192/config.json\n",
      "Model weights saved in train-UrbanSounds8k/checkpoint-29192/pytorch_model.bin\n",
      "Image processor saved in train-UrbanSounds8k/checkpoint-29192/preprocessor_config.json\n",
      "***** Running Evaluation *****\n",
      "  Num examples = 8109\n",
      "  Batch size = 4\n",
      "Saving model checkpoint to train-UrbanSounds8k/checkpoint-36490\n",
      "Configuration saved in train-UrbanSounds8k/checkpoint-36490/config.json\n",
      "Model weights saved in train-UrbanSounds8k/checkpoint-36490/pytorch_model.bin\n",
      "Image processor saved in train-UrbanSounds8k/checkpoint-36490/preprocessor_config.json\n",
      "***** Running Evaluation *****\n",
      "  Num examples = 8109\n",
      "  Batch size = 4\n",
      "Saving model checkpoint to train-UrbanSounds8k/checkpoint-43788\n",
      "Configuration saved in train-UrbanSounds8k/checkpoint-43788/config.json\n",
      "Model weights saved in train-UrbanSounds8k/checkpoint-43788/pytorch_model.bin\n",
      "Image processor saved in train-UrbanSounds8k/checkpoint-43788/preprocessor_config.json\n",
      "***** Running Evaluation *****\n",
      "  Num examples = 8109\n",
      "  Batch size = 4\n",
      "Saving model checkpoint to train-UrbanSounds8k/checkpoint-51086\n",
      "Configuration saved in train-UrbanSounds8k/checkpoint-51086/config.json\n",
      "Model weights saved in train-UrbanSounds8k/checkpoint-51086/pytorch_model.bin\n",
      "Image processor saved in train-UrbanSounds8k/checkpoint-51086/preprocessor_config.json\n",
      "***** Running Evaluation *****\n",
      "  Num examples = 8109\n",
      "  Batch size = 4\n",
      "Saving model checkpoint to train-UrbanSounds8k/checkpoint-58384\n",
      "Configuration saved in train-UrbanSounds8k/checkpoint-58384/config.json\n",
      "Model weights saved in train-UrbanSounds8k/checkpoint-58384/pytorch_model.bin\n",
      "Image processor saved in train-UrbanSounds8k/checkpoint-58384/preprocessor_config.json\n",
      "***** Running Evaluation *****\n",
      "  Num examples = 8109\n",
      "  Batch size = 4\n",
      "Saving model checkpoint to train-UrbanSounds8k/checkpoint-65682\n",
      "Configuration saved in train-UrbanSounds8k/checkpoint-65682/config.json\n",
      "Model weights saved in train-UrbanSounds8k/checkpoint-65682/pytorch_model.bin\n",
      "Image processor saved in train-UrbanSounds8k/checkpoint-65682/preprocessor_config.json\n",
      "***** Running Evaluation *****\n",
      "  Num examples = 8109\n",
      "  Batch size = 4\n",
      "Saving model checkpoint to train-UrbanSounds8k/checkpoint-72980\n",
      "Configuration saved in train-UrbanSounds8k/checkpoint-72980/config.json\n",
      "Model weights saved in train-UrbanSounds8k/checkpoint-72980/pytorch_model.bin\n",
      "Image processor saved in train-UrbanSounds8k/checkpoint-72980/preprocessor_config.json\n",
      "***** Running Evaluation *****\n",
      "  Num examples = 8109\n",
      "  Batch size = 4\n",
      "Saving model checkpoint to train-UrbanSounds8k/checkpoint-80278\n",
      "Configuration saved in train-UrbanSounds8k/checkpoint-80278/config.json\n",
      "Model weights saved in train-UrbanSounds8k/checkpoint-80278/pytorch_model.bin\n",
      "Image processor saved in train-UrbanSounds8k/checkpoint-80278/preprocessor_config.json\n",
      "***** Running Evaluation *****\n",
      "  Num examples = 8109\n",
      "  Batch size = 4\n",
      "Saving model checkpoint to train-UrbanSounds8k/checkpoint-87576\n",
      "Configuration saved in train-UrbanSounds8k/checkpoint-87576/config.json\n",
      "Model weights saved in train-UrbanSounds8k/checkpoint-87576/pytorch_model.bin\n",
      "Image processor saved in train-UrbanSounds8k/checkpoint-87576/preprocessor_config.json\n",
      "***** Running Evaluation *****\n",
      "  Num examples = 8109\n",
      "  Batch size = 4\n",
      "Saving model checkpoint to train-UrbanSounds8k/checkpoint-94874\n",
      "Configuration saved in train-UrbanSounds8k/checkpoint-94874/config.json\n",
      "Model weights saved in train-UrbanSounds8k/checkpoint-94874/pytorch_model.bin\n",
      "Image processor saved in train-UrbanSounds8k/checkpoint-94874/preprocessor_config.json\n",
      "***** Running Evaluation *****\n",
      "  Num examples = 8109\n",
      "  Batch size = 4\n",
      "Saving model checkpoint to train-UrbanSounds8k/checkpoint-102172\n",
      "Configuration saved in train-UrbanSounds8k/checkpoint-102172/config.json\n",
      "Model weights saved in train-UrbanSounds8k/checkpoint-102172/pytorch_model.bin\n",
      "Image processor saved in train-UrbanSounds8k/checkpoint-102172/preprocessor_config.json\n",
      "***** Running Evaluation *****\n",
      "  Num examples = 8109\n",
      "  Batch size = 4\n",
      "Saving model checkpoint to train-UrbanSounds8k/checkpoint-109470\n",
      "Configuration saved in train-UrbanSounds8k/checkpoint-109470/config.json\n",
      "Model weights saved in train-UrbanSounds8k/checkpoint-109470/pytorch_model.bin\n",
      "Image processor saved in train-UrbanSounds8k/checkpoint-109470/preprocessor_config.json\n",
      "***** Running Evaluation *****\n",
      "  Num examples = 8109\n",
      "  Batch size = 4\n",
      "Saving model checkpoint to train-UrbanSounds8k/checkpoint-116768\n",
      "Configuration saved in train-UrbanSounds8k/checkpoint-116768/config.json\n",
      "Model weights saved in train-UrbanSounds8k/checkpoint-116768/pytorch_model.bin\n",
      "Image processor saved in train-UrbanSounds8k/checkpoint-116768/preprocessor_config.json\n",
      "***** Running Evaluation *****\n",
      "  Num examples = 8109\n",
      "  Batch size = 4\n",
      "Saving model checkpoint to train-UrbanSounds8k/checkpoint-124066\n",
      "Configuration saved in train-UrbanSounds8k/checkpoint-124066/config.json\n",
      "Model weights saved in train-UrbanSounds8k/checkpoint-124066/pytorch_model.bin\n",
      "Image processor saved in train-UrbanSounds8k/checkpoint-124066/preprocessor_config.json\n",
      "***** Running Evaluation *****\n",
      "  Num examples = 8109\n",
      "  Batch size = 4\n",
      "Saving model checkpoint to train-UrbanSounds8k/checkpoint-131364\n",
      "Configuration saved in train-UrbanSounds8k/checkpoint-131364/config.json\n",
      "Model weights saved in train-UrbanSounds8k/checkpoint-131364/pytorch_model.bin\n",
      "Image processor saved in train-UrbanSounds8k/checkpoint-131364/preprocessor_config.json\n",
      "***** Running Evaluation *****\n",
      "  Num examples = 8109\n",
      "  Batch size = 4\n",
      "Saving model checkpoint to train-UrbanSounds8k/checkpoint-138662\n",
      "Configuration saved in train-UrbanSounds8k/checkpoint-138662/config.json\n",
      "Model weights saved in train-UrbanSounds8k/checkpoint-138662/pytorch_model.bin\n",
      "Image processor saved in train-UrbanSounds8k/checkpoint-138662/preprocessor_config.json\n",
      "***** Running Evaluation *****\n",
      "  Num examples = 8109\n",
      "  Batch size = 4\n",
      "Saving model checkpoint to train-UrbanSounds8k/checkpoint-145960\n",
      "Configuration saved in train-UrbanSounds8k/checkpoint-145960/config.json\n",
      "Model weights saved in train-UrbanSounds8k/checkpoint-145960/pytorch_model.bin\n",
      "Image processor saved in train-UrbanSounds8k/checkpoint-145960/preprocessor_config.json\n",
      "***** Running Evaluation *****\n",
      "  Num examples = 8109\n",
      "  Batch size = 4\n",
      "Saving model checkpoint to train-UrbanSounds8k/checkpoint-153258\n",
      "Configuration saved in train-UrbanSounds8k/checkpoint-153258/config.json\n",
      "Model weights saved in train-UrbanSounds8k/checkpoint-153258/pytorch_model.bin\n",
      "Image processor saved in train-UrbanSounds8k/checkpoint-153258/preprocessor_config.json\n",
      "***** Running Evaluation *****\n",
      "  Num examples = 8109\n",
      "  Batch size = 4\n",
      "Saving model checkpoint to train-UrbanSounds8k/checkpoint-160556\n",
      "Configuration saved in train-UrbanSounds8k/checkpoint-160556/config.json\n",
      "Model weights saved in train-UrbanSounds8k/checkpoint-160556/pytorch_model.bin\n",
      "Image processor saved in train-UrbanSounds8k/checkpoint-160556/preprocessor_config.json\n"
     ]
    },
    {
     "name": "stderr",
     "output_type": "stream",
     "text": [
      "***** Running Evaluation *****\n",
      "  Num examples = 8109\n",
      "  Batch size = 4\n",
      "Saving model checkpoint to train-UrbanSounds8k/checkpoint-167854\n",
      "Configuration saved in train-UrbanSounds8k/checkpoint-167854/config.json\n",
      "Model weights saved in train-UrbanSounds8k/checkpoint-167854/pytorch_model.bin\n",
      "Image processor saved in train-UrbanSounds8k/checkpoint-167854/preprocessor_config.json\n",
      "***** Running Evaluation *****\n",
      "  Num examples = 8109\n",
      "  Batch size = 4\n",
      "Saving model checkpoint to train-UrbanSounds8k/checkpoint-175152\n",
      "Configuration saved in train-UrbanSounds8k/checkpoint-175152/config.json\n",
      "Model weights saved in train-UrbanSounds8k/checkpoint-175152/pytorch_model.bin\n",
      "Image processor saved in train-UrbanSounds8k/checkpoint-175152/preprocessor_config.json\n",
      "***** Running Evaluation *****\n",
      "  Num examples = 8109\n",
      "  Batch size = 4\n",
      "Saving model checkpoint to train-UrbanSounds8k/checkpoint-182450\n",
      "Configuration saved in train-UrbanSounds8k/checkpoint-182450/config.json\n",
      "Model weights saved in train-UrbanSounds8k/checkpoint-182450/pytorch_model.bin\n",
      "Image processor saved in train-UrbanSounds8k/checkpoint-182450/preprocessor_config.json\n",
      "***** Running Evaluation *****\n",
      "  Num examples = 8109\n",
      "  Batch size = 4\n",
      "Saving model checkpoint to train-UrbanSounds8k/checkpoint-189748\n",
      "Configuration saved in train-UrbanSounds8k/checkpoint-189748/config.json\n",
      "Model weights saved in train-UrbanSounds8k/checkpoint-189748/pytorch_model.bin\n",
      "Image processor saved in train-UrbanSounds8k/checkpoint-189748/preprocessor_config.json\n",
      "***** Running Evaluation *****\n",
      "  Num examples = 8109\n",
      "  Batch size = 4\n",
      "Saving model checkpoint to train-UrbanSounds8k/checkpoint-197046\n",
      "Configuration saved in train-UrbanSounds8k/checkpoint-197046/config.json\n",
      "Model weights saved in train-UrbanSounds8k/checkpoint-197046/pytorch_model.bin\n",
      "Image processor saved in train-UrbanSounds8k/checkpoint-197046/preprocessor_config.json\n",
      "***** Running Evaluation *****\n",
      "  Num examples = 8109\n",
      "  Batch size = 4\n",
      "Saving model checkpoint to train-UrbanSounds8k/checkpoint-204344\n",
      "Configuration saved in train-UrbanSounds8k/checkpoint-204344/config.json\n",
      "Model weights saved in train-UrbanSounds8k/checkpoint-204344/pytorch_model.bin\n",
      "Image processor saved in train-UrbanSounds8k/checkpoint-204344/preprocessor_config.json\n",
      "***** Running Evaluation *****\n",
      "  Num examples = 8109\n",
      "  Batch size = 4\n",
      "Saving model checkpoint to train-UrbanSounds8k/checkpoint-211642\n",
      "Configuration saved in train-UrbanSounds8k/checkpoint-211642/config.json\n",
      "Model weights saved in train-UrbanSounds8k/checkpoint-211642/pytorch_model.bin\n",
      "Image processor saved in train-UrbanSounds8k/checkpoint-211642/preprocessor_config.json\n",
      "***** Running Evaluation *****\n",
      "  Num examples = 8109\n",
      "  Batch size = 4\n",
      "Saving model checkpoint to train-UrbanSounds8k/checkpoint-218940\n",
      "Configuration saved in train-UrbanSounds8k/checkpoint-218940/config.json\n",
      "Model weights saved in train-UrbanSounds8k/checkpoint-218940/pytorch_model.bin\n",
      "Image processor saved in train-UrbanSounds8k/checkpoint-218940/preprocessor_config.json\n",
      "***** Running Evaluation *****\n",
      "  Num examples = 8109\n",
      "  Batch size = 4\n",
      "Saving model checkpoint to train-UrbanSounds8k/checkpoint-226238\n",
      "Configuration saved in train-UrbanSounds8k/checkpoint-226238/config.json\n",
      "Model weights saved in train-UrbanSounds8k/checkpoint-226238/pytorch_model.bin\n",
      "Image processor saved in train-UrbanSounds8k/checkpoint-226238/preprocessor_config.json\n",
      "***** Running Evaluation *****\n",
      "  Num examples = 8109\n",
      "  Batch size = 4\n",
      "Saving model checkpoint to train-UrbanSounds8k/checkpoint-233536\n",
      "Configuration saved in train-UrbanSounds8k/checkpoint-233536/config.json\n",
      "Model weights saved in train-UrbanSounds8k/checkpoint-233536/pytorch_model.bin\n",
      "Image processor saved in train-UrbanSounds8k/checkpoint-233536/preprocessor_config.json\n",
      "***** Running Evaluation *****\n",
      "  Num examples = 8109\n",
      "  Batch size = 4\n",
      "Saving model checkpoint to train-UrbanSounds8k/checkpoint-240834\n",
      "Configuration saved in train-UrbanSounds8k/checkpoint-240834/config.json\n",
      "Model weights saved in train-UrbanSounds8k/checkpoint-240834/pytorch_model.bin\n",
      "Image processor saved in train-UrbanSounds8k/checkpoint-240834/preprocessor_config.json\n",
      "***** Running Evaluation *****\n",
      "  Num examples = 8109\n",
      "  Batch size = 4\n",
      "Saving model checkpoint to train-UrbanSounds8k/checkpoint-248132\n",
      "Configuration saved in train-UrbanSounds8k/checkpoint-248132/config.json\n",
      "Model weights saved in train-UrbanSounds8k/checkpoint-248132/pytorch_model.bin\n",
      "Image processor saved in train-UrbanSounds8k/checkpoint-248132/preprocessor_config.json\n",
      "***** Running Evaluation *****\n",
      "  Num examples = 8109\n",
      "  Batch size = 4\n",
      "Saving model checkpoint to train-UrbanSounds8k/checkpoint-255430\n",
      "Configuration saved in train-UrbanSounds8k/checkpoint-255430/config.json\n",
      "Model weights saved in train-UrbanSounds8k/checkpoint-255430/pytorch_model.bin\n",
      "Image processor saved in train-UrbanSounds8k/checkpoint-255430/preprocessor_config.json\n",
      "***** Running Evaluation *****\n",
      "  Num examples = 8109\n",
      "  Batch size = 4\n",
      "Saving model checkpoint to train-UrbanSounds8k/checkpoint-262728\n",
      "Configuration saved in train-UrbanSounds8k/checkpoint-262728/config.json\n",
      "Model weights saved in train-UrbanSounds8k/checkpoint-262728/pytorch_model.bin\n",
      "Image processor saved in train-UrbanSounds8k/checkpoint-262728/preprocessor_config.json\n",
      "***** Running Evaluation *****\n",
      "  Num examples = 8109\n",
      "  Batch size = 4\n",
      "Saving model checkpoint to train-UrbanSounds8k/checkpoint-270026\n",
      "Configuration saved in train-UrbanSounds8k/checkpoint-270026/config.json\n",
      "Model weights saved in train-UrbanSounds8k/checkpoint-270026/pytorch_model.bin\n",
      "Image processor saved in train-UrbanSounds8k/checkpoint-270026/preprocessor_config.json\n",
      "***** Running Evaluation *****\n",
      "  Num examples = 8109\n",
      "  Batch size = 4\n",
      "Saving model checkpoint to train-UrbanSounds8k/checkpoint-277324\n",
      "Configuration saved in train-UrbanSounds8k/checkpoint-277324/config.json\n",
      "Model weights saved in train-UrbanSounds8k/checkpoint-277324/pytorch_model.bin\n",
      "Image processor saved in train-UrbanSounds8k/checkpoint-277324/preprocessor_config.json\n",
      "***** Running Evaluation *****\n",
      "  Num examples = 8109\n",
      "  Batch size = 4\n",
      "Saving model checkpoint to train-UrbanSounds8k/checkpoint-284622\n",
      "Configuration saved in train-UrbanSounds8k/checkpoint-284622/config.json\n",
      "Model weights saved in train-UrbanSounds8k/checkpoint-284622/pytorch_model.bin\n",
      "Image processor saved in train-UrbanSounds8k/checkpoint-284622/preprocessor_config.json\n",
      "***** Running Evaluation *****\n",
      "  Num examples = 8109\n",
      "  Batch size = 4\n",
      "Saving model checkpoint to train-UrbanSounds8k/checkpoint-291920\n",
      "Configuration saved in train-UrbanSounds8k/checkpoint-291920/config.json\n",
      "Model weights saved in train-UrbanSounds8k/checkpoint-291920/pytorch_model.bin\n",
      "Image processor saved in train-UrbanSounds8k/checkpoint-291920/preprocessor_config.json\n",
      "\n",
      "\n",
      "Training completed. Do not forget to share your model on huggingface.co/models =)\n",
      "\n",
      "\n",
      "Loading best model from train-UrbanSounds8k/checkpoint-255430 (score: 0.8927118017018127).\n"
     ]
    },
    {
     "name": "stdout",
     "output_type": "stream",
     "text": [
      "Total Time Taken (in sec): 50100.489869356155\n"
     ]
    }
   ],
   "source": [
    "#Using GPU\n",
    "start_time = time.time()\n",
    "trainer.train()\n",
    "print('Total Time Taken (in sec):',time.time()-start_time)"
   ]
  },
  {
   "cell_type": "code",
   "execution_count": 37,
   "metadata": {},
   "outputs": [
    {
     "name": "stderr",
     "output_type": "stream",
     "text": [
      "***** Running Prediction *****\n",
      "  Num examples = 34749\n",
      "  Batch size = 4\n"
     ]
    },
    {
     "data": {
      "text/html": [],
      "text/plain": [
       "<IPython.core.display.HTML object>"
      ]
     },
     "metadata": {},
     "output_type": "display_data"
    }
   ],
   "source": [
    "outputs = trainer.predict(test_ds)"
   ]
  },
  {
   "cell_type": "code",
   "execution_count": 38,
   "metadata": {},
   "outputs": [
    {
     "name": "stdout",
     "output_type": "stream",
     "text": [
      "{'test_loss': 0.40672314167022705, 'test_accuracy': 0.891651558318225, 'test_runtime': 276.3391, 'test_samples_per_second': 125.748, 'test_steps_per_second': 31.44}\n"
     ]
    }
   ],
   "source": [
    "print(outputs.metrics)"
   ]
  },
  {
   "cell_type": "code",
   "execution_count": 40,
   "metadata": {},
   "outputs": [
    {
     "ename": "ValueError",
     "evalue": "The number of FixedLocator locations (35), usually from a call to set_ticks, does not match the number of ticklabels (41).",
     "output_type": "error",
     "traceback": [
      "\u001b[0;31m---------------------------------------------------------------------------\u001b[0m",
      "\u001b[0;31mValueError\u001b[0m                                Traceback (most recent call last)",
      "Input \u001b[0;32mIn [40]\u001b[0m, in \u001b[0;36m<module>\u001b[0;34m\u001b[0m\n\u001b[1;32m      7\u001b[0m cm \u001b[38;5;241m=\u001b[39m confusion_matrix(y_true, y_pred)\n\u001b[1;32m      8\u001b[0m disp \u001b[38;5;241m=\u001b[39m ConfusionMatrixDisplay(confusion_matrix\u001b[38;5;241m=\u001b[39mcm, display_labels\u001b[38;5;241m=\u001b[39mlabels)\n\u001b[0;32m----> 9\u001b[0m \u001b[43mdisp\u001b[49m\u001b[38;5;241;43m.\u001b[39;49m\u001b[43mplot\u001b[49m\u001b[43m(\u001b[49m\u001b[43mxticks_rotation\u001b[49m\u001b[38;5;241;43m=\u001b[39;49m\u001b[38;5;241;43m90\u001b[39;49m\u001b[43m)\u001b[49m\n",
      "File \u001b[0;32m~/.local/lib/python3.8/site-packages/sklearn/metrics/_plot/confusion_matrix.py:172\u001b[0m, in \u001b[0;36mConfusionMatrixDisplay.plot\u001b[0;34m(self, include_values, cmap, xticks_rotation, values_format, ax, colorbar, im_kw)\u001b[0m\n\u001b[1;32m    170\u001b[0m \u001b[38;5;28;01mif\u001b[39;00m colorbar:\n\u001b[1;32m    171\u001b[0m     fig\u001b[38;5;241m.\u001b[39mcolorbar(\u001b[38;5;28mself\u001b[39m\u001b[38;5;241m.\u001b[39mim_, ax\u001b[38;5;241m=\u001b[39max)\n\u001b[0;32m--> 172\u001b[0m \u001b[43max\u001b[49m\u001b[38;5;241;43m.\u001b[39;49m\u001b[43mset\u001b[49m\u001b[43m(\u001b[49m\n\u001b[1;32m    173\u001b[0m \u001b[43m    \u001b[49m\u001b[43mxticks\u001b[49m\u001b[38;5;241;43m=\u001b[39;49m\u001b[43mnp\u001b[49m\u001b[38;5;241;43m.\u001b[39;49m\u001b[43marange\u001b[49m\u001b[43m(\u001b[49m\u001b[43mn_classes\u001b[49m\u001b[43m)\u001b[49m\u001b[43m,\u001b[49m\n\u001b[1;32m    174\u001b[0m \u001b[43m    \u001b[49m\u001b[43myticks\u001b[49m\u001b[38;5;241;43m=\u001b[39;49m\u001b[43mnp\u001b[49m\u001b[38;5;241;43m.\u001b[39;49m\u001b[43marange\u001b[49m\u001b[43m(\u001b[49m\u001b[43mn_classes\u001b[49m\u001b[43m)\u001b[49m\u001b[43m,\u001b[49m\n\u001b[1;32m    175\u001b[0m \u001b[43m    \u001b[49m\u001b[43mxticklabels\u001b[49m\u001b[38;5;241;43m=\u001b[39;49m\u001b[43mdisplay_labels\u001b[49m\u001b[43m,\u001b[49m\n\u001b[1;32m    176\u001b[0m \u001b[43m    \u001b[49m\u001b[43myticklabels\u001b[49m\u001b[38;5;241;43m=\u001b[39;49m\u001b[43mdisplay_labels\u001b[49m\u001b[43m,\u001b[49m\n\u001b[1;32m    177\u001b[0m \u001b[43m    \u001b[49m\u001b[43mylabel\u001b[49m\u001b[38;5;241;43m=\u001b[39;49m\u001b[38;5;124;43m\"\u001b[39;49m\u001b[38;5;124;43mTrue label\u001b[39;49m\u001b[38;5;124;43m\"\u001b[39;49m\u001b[43m,\u001b[49m\n\u001b[1;32m    178\u001b[0m \u001b[43m    \u001b[49m\u001b[43mxlabel\u001b[49m\u001b[38;5;241;43m=\u001b[39;49m\u001b[38;5;124;43m\"\u001b[39;49m\u001b[38;5;124;43mPredicted label\u001b[39;49m\u001b[38;5;124;43m\"\u001b[39;49m\u001b[43m,\u001b[49m\n\u001b[1;32m    179\u001b[0m \u001b[43m\u001b[49m\u001b[43m)\u001b[49m\n\u001b[1;32m    181\u001b[0m ax\u001b[38;5;241m.\u001b[39mset_ylim((n_classes \u001b[38;5;241m-\u001b[39m \u001b[38;5;241m0.5\u001b[39m, \u001b[38;5;241m-\u001b[39m\u001b[38;5;241m0.5\u001b[39m))\n\u001b[1;32m    182\u001b[0m plt\u001b[38;5;241m.\u001b[39msetp(ax\u001b[38;5;241m.\u001b[39mget_xticklabels(), rotation\u001b[38;5;241m=\u001b[39mxticks_rotation)\n",
      "File \u001b[0;32m/usr/local/lib/python3.8/dist-packages/matplotlib/artist.py:116\u001b[0m, in \u001b[0;36mArtist.__init_subclass__.<locals>.<lambda>\u001b[0;34m(self, **kwargs)\u001b[0m\n\u001b[1;32m    108\u001b[0m \u001b[38;5;28;01mif\u001b[39;00m \u001b[38;5;129;01mnot\u001b[39;00m \u001b[38;5;28mhasattr\u001b[39m(\u001b[38;5;28mcls\u001b[39m\u001b[38;5;241m.\u001b[39mset, \u001b[38;5;124m'\u001b[39m\u001b[38;5;124m_autogenerated_signature\u001b[39m\u001b[38;5;124m'\u001b[39m):\n\u001b[1;32m    109\u001b[0m     \u001b[38;5;66;03m# Don't overwrite cls.set if the subclass or one of its parents\u001b[39;00m\n\u001b[1;32m    110\u001b[0m     \u001b[38;5;66;03m# has defined a set method set itself.\u001b[39;00m\n\u001b[1;32m    111\u001b[0m     \u001b[38;5;66;03m# If there was no explicit definition, cls.set is inherited from\u001b[39;00m\n\u001b[1;32m    112\u001b[0m     \u001b[38;5;66;03m# the hierarchy of auto-generated set methods, which hold the\u001b[39;00m\n\u001b[1;32m    113\u001b[0m     \u001b[38;5;66;03m# flag _autogenerated_signature.\u001b[39;00m\n\u001b[1;32m    114\u001b[0m     \u001b[38;5;28;01mreturn\u001b[39;00m\n\u001b[0;32m--> 116\u001b[0m \u001b[38;5;28mcls\u001b[39m\u001b[38;5;241m.\u001b[39mset \u001b[38;5;241m=\u001b[39m \u001b[38;5;28;01mlambda\u001b[39;00m \u001b[38;5;28mself\u001b[39m, \u001b[38;5;241m*\u001b[39m\u001b[38;5;241m*\u001b[39mkwargs: \u001b[43mArtist\u001b[49m\u001b[38;5;241;43m.\u001b[39;49m\u001b[43mset\u001b[49m\u001b[43m(\u001b[49m\u001b[38;5;28;43mself\u001b[39;49m\u001b[43m,\u001b[49m\u001b[43m \u001b[49m\u001b[38;5;241;43m*\u001b[39;49m\u001b[38;5;241;43m*\u001b[39;49m\u001b[43mkwargs\u001b[49m\u001b[43m)\u001b[49m\n\u001b[1;32m    117\u001b[0m \u001b[38;5;28mcls\u001b[39m\u001b[38;5;241m.\u001b[39mset\u001b[38;5;241m.\u001b[39m\u001b[38;5;18m__name__\u001b[39m \u001b[38;5;241m=\u001b[39m \u001b[38;5;124m\"\u001b[39m\u001b[38;5;124mset\u001b[39m\u001b[38;5;124m\"\u001b[39m\n\u001b[1;32m    118\u001b[0m \u001b[38;5;28mcls\u001b[39m\u001b[38;5;241m.\u001b[39mset\u001b[38;5;241m.\u001b[39m\u001b[38;5;18m__qualname__\u001b[39m \u001b[38;5;241m=\u001b[39m \u001b[38;5;124mf\u001b[39m\u001b[38;5;124m\"\u001b[39m\u001b[38;5;132;01m{\u001b[39;00m\u001b[38;5;28mcls\u001b[39m\u001b[38;5;241m.\u001b[39m\u001b[38;5;18m__qualname__\u001b[39m\u001b[38;5;132;01m}\u001b[39;00m\u001b[38;5;124m.set\u001b[39m\u001b[38;5;124m\"\u001b[39m\n",
      "File \u001b[0;32m/usr/local/lib/python3.8/dist-packages/matplotlib/artist.py:1164\u001b[0m, in \u001b[0;36mArtist.set\u001b[0;34m(self, **kwargs)\u001b[0m\n\u001b[1;32m   1159\u001b[0m \u001b[38;5;28;01mdef\u001b[39;00m \u001b[38;5;21mset\u001b[39m(\u001b[38;5;28mself\u001b[39m, \u001b[38;5;241m*\u001b[39m\u001b[38;5;241m*\u001b[39mkwargs):\n\u001b[1;32m   1160\u001b[0m     \u001b[38;5;66;03m# docstring and signature are auto-generated via\u001b[39;00m\n\u001b[1;32m   1161\u001b[0m     \u001b[38;5;66;03m# Artist._update_set_signature_and_docstring() at the end of the\u001b[39;00m\n\u001b[1;32m   1162\u001b[0m     \u001b[38;5;66;03m# module.\u001b[39;00m\n\u001b[1;32m   1163\u001b[0m     kwargs \u001b[38;5;241m=\u001b[39m cbook\u001b[38;5;241m.\u001b[39mnormalize_kwargs(kwargs, \u001b[38;5;28mself\u001b[39m)\n\u001b[0;32m-> 1164\u001b[0m     \u001b[38;5;28;01mreturn\u001b[39;00m \u001b[38;5;28;43mself\u001b[39;49m\u001b[38;5;241;43m.\u001b[39;49m\u001b[43mupdate\u001b[49m\u001b[43m(\u001b[49m\u001b[43mkwargs\u001b[49m\u001b[43m)\u001b[49m\n",
      "File \u001b[0;32m/usr/local/lib/python3.8/dist-packages/matplotlib/artist.py:1066\u001b[0m, in \u001b[0;36mArtist.update\u001b[0;34m(self, props)\u001b[0m\n\u001b[1;32m   1063\u001b[0m             \u001b[38;5;28;01mif\u001b[39;00m \u001b[38;5;129;01mnot\u001b[39;00m callable(func):\n\u001b[1;32m   1064\u001b[0m                 \u001b[38;5;28;01mraise\u001b[39;00m \u001b[38;5;167;01mAttributeError\u001b[39;00m(\u001b[38;5;124mf\u001b[39m\u001b[38;5;124m\"\u001b[39m\u001b[38;5;132;01m{\u001b[39;00m\u001b[38;5;28mtype\u001b[39m(\u001b[38;5;28mself\u001b[39m)\u001b[38;5;241m.\u001b[39m\u001b[38;5;18m__name__\u001b[39m\u001b[38;5;132;01m!r}\u001b[39;00m\u001b[38;5;124m object \u001b[39m\u001b[38;5;124m\"\u001b[39m\n\u001b[1;32m   1065\u001b[0m                                      \u001b[38;5;124mf\u001b[39m\u001b[38;5;124m\"\u001b[39m\u001b[38;5;124mhas no property \u001b[39m\u001b[38;5;132;01m{\u001b[39;00mk\u001b[38;5;132;01m!r}\u001b[39;00m\u001b[38;5;124m\"\u001b[39m)\n\u001b[0;32m-> 1066\u001b[0m             ret\u001b[38;5;241m.\u001b[39mappend(\u001b[43mfunc\u001b[49m\u001b[43m(\u001b[49m\u001b[43mv\u001b[49m\u001b[43m)\u001b[49m)\n\u001b[1;32m   1067\u001b[0m \u001b[38;5;28;01mif\u001b[39;00m ret:\n\u001b[1;32m   1068\u001b[0m     \u001b[38;5;28mself\u001b[39m\u001b[38;5;241m.\u001b[39mpchanged()\n",
      "File \u001b[0;32m/usr/local/lib/python3.8/dist-packages/matplotlib/axes/_base.py:75\u001b[0m, in \u001b[0;36m_axis_method_wrapper.__set_name__.<locals>.wrapper\u001b[0;34m(self, *args, **kwargs)\u001b[0m\n\u001b[1;32m     74\u001b[0m \u001b[38;5;28;01mdef\u001b[39;00m \u001b[38;5;21mwrapper\u001b[39m(\u001b[38;5;28mself\u001b[39m, \u001b[38;5;241m*\u001b[39margs, \u001b[38;5;241m*\u001b[39m\u001b[38;5;241m*\u001b[39mkwargs):\n\u001b[0;32m---> 75\u001b[0m     \u001b[38;5;28;01mreturn\u001b[39;00m \u001b[43mget_method\u001b[49m\u001b[43m(\u001b[49m\u001b[38;5;28;43mself\u001b[39;49m\u001b[43m)\u001b[49m\u001b[43m(\u001b[49m\u001b[38;5;241;43m*\u001b[39;49m\u001b[43margs\u001b[49m\u001b[43m,\u001b[49m\u001b[43m \u001b[49m\u001b[38;5;241;43m*\u001b[39;49m\u001b[38;5;241;43m*\u001b[39;49m\u001b[43mkwargs\u001b[49m\u001b[43m)\u001b[49m\n",
      "File \u001b[0;32m/usr/local/lib/python3.8/dist-packages/matplotlib/axis.py:1798\u001b[0m, in \u001b[0;36mAxis._set_ticklabels\u001b[0;34m(self, labels, fontdict, minor, **kwargs)\u001b[0m\n\u001b[1;32m   1796\u001b[0m \u001b[38;5;28;01mif\u001b[39;00m fontdict \u001b[38;5;129;01mis\u001b[39;00m \u001b[38;5;129;01mnot\u001b[39;00m \u001b[38;5;28;01mNone\u001b[39;00m:\n\u001b[1;32m   1797\u001b[0m     kwargs\u001b[38;5;241m.\u001b[39mupdate(fontdict)\n\u001b[0;32m-> 1798\u001b[0m \u001b[38;5;28;01mreturn\u001b[39;00m \u001b[38;5;28;43mself\u001b[39;49m\u001b[38;5;241;43m.\u001b[39;49m\u001b[43mset_ticklabels\u001b[49m\u001b[43m(\u001b[49m\u001b[43mlabels\u001b[49m\u001b[43m,\u001b[49m\u001b[43m \u001b[49m\u001b[43mminor\u001b[49m\u001b[38;5;241;43m=\u001b[39;49m\u001b[43mminor\u001b[49m\u001b[43m,\u001b[49m\u001b[43m \u001b[49m\u001b[38;5;241;43m*\u001b[39;49m\u001b[38;5;241;43m*\u001b[39;49m\u001b[43mkwargs\u001b[49m\u001b[43m)\u001b[49m\n",
      "File \u001b[0;32m/usr/local/lib/python3.8/dist-packages/matplotlib/axis.py:1720\u001b[0m, in \u001b[0;36mAxis.set_ticklabels\u001b[0;34m(self, ticklabels, minor, **kwargs)\u001b[0m\n\u001b[1;32m   1716\u001b[0m \u001b[38;5;28;01mif\u001b[39;00m \u001b[38;5;28misinstance\u001b[39m(locator, mticker\u001b[38;5;241m.\u001b[39mFixedLocator):\n\u001b[1;32m   1717\u001b[0m     \u001b[38;5;66;03m# Passing [] as a list of ticklabels is often used as a way to\u001b[39;00m\n\u001b[1;32m   1718\u001b[0m     \u001b[38;5;66;03m# remove all tick labels, so only error for > 0 ticklabels\u001b[39;00m\n\u001b[1;32m   1719\u001b[0m     \u001b[38;5;28;01mif\u001b[39;00m \u001b[38;5;28mlen\u001b[39m(locator\u001b[38;5;241m.\u001b[39mlocs) \u001b[38;5;241m!=\u001b[39m \u001b[38;5;28mlen\u001b[39m(ticklabels) \u001b[38;5;129;01mand\u001b[39;00m \u001b[38;5;28mlen\u001b[39m(ticklabels) \u001b[38;5;241m!=\u001b[39m \u001b[38;5;241m0\u001b[39m:\n\u001b[0;32m-> 1720\u001b[0m         \u001b[38;5;28;01mraise\u001b[39;00m \u001b[38;5;167;01mValueError\u001b[39;00m(\n\u001b[1;32m   1721\u001b[0m             \u001b[38;5;124m\"\u001b[39m\u001b[38;5;124mThe number of FixedLocator locations\u001b[39m\u001b[38;5;124m\"\u001b[39m\n\u001b[1;32m   1722\u001b[0m             \u001b[38;5;124mf\u001b[39m\u001b[38;5;124m\"\u001b[39m\u001b[38;5;124m (\u001b[39m\u001b[38;5;132;01m{\u001b[39;00m\u001b[38;5;28mlen\u001b[39m(locator\u001b[38;5;241m.\u001b[39mlocs)\u001b[38;5;132;01m}\u001b[39;00m\u001b[38;5;124m), usually from a call to\u001b[39m\u001b[38;5;124m\"\u001b[39m\n\u001b[1;32m   1723\u001b[0m             \u001b[38;5;124m\"\u001b[39m\u001b[38;5;124m set_ticks, does not match\u001b[39m\u001b[38;5;124m\"\u001b[39m\n\u001b[1;32m   1724\u001b[0m             \u001b[38;5;124mf\u001b[39m\u001b[38;5;124m\"\u001b[39m\u001b[38;5;124m the number of ticklabels (\u001b[39m\u001b[38;5;132;01m{\u001b[39;00m\u001b[38;5;28mlen\u001b[39m(ticklabels)\u001b[38;5;132;01m}\u001b[39;00m\u001b[38;5;124m).\u001b[39m\u001b[38;5;124m\"\u001b[39m)\n\u001b[1;32m   1725\u001b[0m     tickd \u001b[38;5;241m=\u001b[39m {loc: lab \u001b[38;5;28;01mfor\u001b[39;00m loc, lab \u001b[38;5;129;01min\u001b[39;00m \u001b[38;5;28mzip\u001b[39m(locator\u001b[38;5;241m.\u001b[39mlocs, ticklabels)}\n\u001b[1;32m   1726\u001b[0m     func \u001b[38;5;241m=\u001b[39m functools\u001b[38;5;241m.\u001b[39mpartial(\u001b[38;5;28mself\u001b[39m\u001b[38;5;241m.\u001b[39m_format_with_dict, tickd)\n",
      "\u001b[0;31mValueError\u001b[0m: The number of FixedLocator locations (35), usually from a call to set_ticks, does not match the number of ticklabels (41)."
     ]
    },
    {
     "data": {
      "image/png": "[encoded data removed]",
      "text/plain": [
       "<Figure size 432x288 with 2 Axes>"
      ]
     },
     "metadata": {
      "needs_background": "light"
     },
     "output_type": "display_data"
    }
   ],
   "source": [
    "from sklearn.metrics import confusion_matrix, ConfusionMatrixDisplay\n",
    "\n",
    "y_true = outputs.label_ids\n",
    "y_pred = outputs.predictions.argmax(1)\n",
    "\n",
    "labels = id2label.values()\n",
    "cm = confusion_matrix(y_true, y_pred)\n",
    "disp = ConfusionMatrixDisplay(confusion_matrix=cm, display_labels=labels)\n",
    "disp.plot(xticks_rotation=90)\n"
   ]
  },
  {
   "cell_type": "code",
   "execution_count": 39,
   "metadata": {},
   "outputs": [
    {
     "name": "stderr",
     "output_type": "stream",
     "text": [
      "Configuration saved in ./models/MelSpeachCommands/config.json\n",
      "Model weights saved in ./models/MelSpeachCommands/pytorch_model.bin\n"
     ]
    }
   ],
   "source": [
    "model.save_pretrained(\"./models/MelSpeachCommands\")"
   ]
  },
  {
   "cell_type": "code",
   "execution_count": 7,
   "metadata": {},
   "outputs": [],
   "source": [
    "import pandas as pd\n",
    "\n",
    "AccDF= pd.read_csv(\"Acc.csv\")\n",
    "TrainLoss = AccDF['TrainLoss']\n",
    "ValidationLoss = AccDF['ValidationLoss']\n",
    "Accuracy = AccDF['Accuracy']\n",
    "\n"
   ]
  },
  {
   "cell_type": "code",
   "execution_count": 8,
   "metadata": {},
   "outputs": [
    {
     "data": {
      "text/plain": [
       "[]"
      ]
     },
     "execution_count": 8,
     "metadata": {},
     "output_type": "execute_result"
    },
    {
     "data": {
      "image/png": "[encoded data removed]",
      "text/plain": [
       "<Figure size 432x288 with 1 Axes>"
      ]
     },
     "metadata": {
      "needs_background": "light"
     },
     "output_type": "display_data"
    }
   ],
   "source": [
    "import matplotlib.pyplot as plt\n",
    "f=plt.figure()\n",
    "plt.title(\"Loss\")\n",
    "plt.plot(TrainLoss)\n",
    "plt.plot(ValidationLoss)\n",
    "plt.legend([\"Train Loss\",\"Validation Loss\"])\n",
    "plt.plot()"
   ]
  },
  {
   "cell_type": "code",
   "execution_count": 10,
   "metadata": {},
   "outputs": [
    {
     "data": {
      "text/plain": [
       "[]"
      ]
     },
     "execution_count": 10,
     "metadata": {},
     "output_type": "execute_result"
    },
    {
     "data": {
      "image/png": "[encoded data removed]",
      "text/plain": [
       "<Figure size 432x288 with 1 Axes>"
      ]
     },
     "metadata": {
      "needs_background": "light"
     },
     "output_type": "display_data"
    }
   ],
   "source": [
    "f = plt.figure()\n",
    "plt.title(\"Validation Accuracy\")\n",
    "plt.plot(Accuracy)\n",
    "plt.plot()\n",
    "\n"
   ]
  },
  {
   "cell_type": "code",
   "execution_count": null,
   "metadata": {},
   "outputs": [],
   "source": []
  }
 ],
 "metadata": {
  "kernelspec": {
   "display_name": "Python 3 (ipykernel)",
   "language": "python",
   "name": "python3"
  },
  "language_info": {
   "codemirror_mode": {
    "name": "ipython",
    "version": 3
   },
   "file_extension": ".py",
   "mimetype": "text/x-python",
   "name": "python",
   "nbconvert_exporter": "python",
   "pygments_lexer": "ipython3",
   "version": "3.8.10"
  }
 },
 "nbformat": 4,
 "nbformat_minor": 2
}

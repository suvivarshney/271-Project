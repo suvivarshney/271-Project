{
 "cells": [
  {
   "cell_type": "code",
   "execution_count": 1,
   "id": "657a4f94",
   "metadata": {},
   "outputs": [
    {
     "data": {
      "application/vnd.jupyter.widget-view+json": {
       "model_id": "87e42a9a6d434ce49f9cd1b59205341b",
       "version_major": 2,
       "version_minor": 0
      },
      "text/plain": [
       "Resolving data files:   0%|          | 0/8733 [00:00<?, ?it/s]"
      ]
     },
     "metadata": {},
     "output_type": "display_data"
    },
    {
     "name": "stderr",
     "output_type": "stream",
     "text": [
      "Using custom data configuration default-dc4b097253cef5b2\n",
      "Found cached dataset imagefolder (/home/ubuntu/.cache/huggingface/datasets/imagefolder/default-dc4b097253cef5b2/0.0.0/37fbb85cc714a338bea574ac6c7d0b5be5aff46c1862c1989b20e0771199e93f)\n"
     ]
    },
    {
     "name": "stdout",
     "output_type": "stream",
     "text": [
      "5500 2620 612\n"
     ]
    }
   ],
   "source": [
    "from datasets import load_dataset\n",
    "from transformers import EarlyStoppingCallback, IntervalStrategy\n",
    "\n",
    "train_ds = load_dataset(\"imagefolder\", data_dir=\"data/original/urbansound8k\", split=\"train\")\n",
    "\n",
    "\n",
    "# split up training into training + validation\n",
    "splits = train_ds.train_test_split(test_size=0.3)\n",
    "train_val_ds = splits['train']\n",
    "test_ds = splits['test']\n",
    "\n",
    "splits = train_val_ds.train_test_split(test_size=0.1)\n",
    "train_ds = splits['train']\n",
    "val_ds = splits['test']\n",
    "\n",
    "\n",
    "print(len(train_ds),len(test_ds),len(val_ds))"
   ]
  },
  {
   "cell_type": "code",
   "execution_count": 2,
   "id": "75a95cb8",
   "metadata": {},
   "outputs": [],
   "source": [
    "# !pip install datasets\n",
    "# !pip install Pillow\n",
    "# !pip install transformers\n",
    "# !pip install torch torchvision torchaudio\n",
    "# !pip install -U scikit-learn\n",
    "# !pip install tensorboard"
   ]
  },
  {
   "cell_type": "code",
   "execution_count": 3,
   "id": "889dd259",
   "metadata": {},
   "outputs": [
    {
     "data": {
      "text/plain": [
       "Dataset({\n",
       "    features: ['image', 'classID', 'class'],\n",
       "    num_rows: 5500\n",
       "})"
      ]
     },
     "execution_count": 3,
     "metadata": {},
     "output_type": "execute_result"
    }
   ],
   "source": [
    "train_ds"
   ]
  },
  {
   "cell_type": "code",
   "execution_count": 4,
   "id": "87ac926c",
   "metadata": {},
   "outputs": [
    {
     "data": {
      "text/plain": [
       "{0: 'air_conditioner',\n",
       " 1: 'car_horn',\n",
       " 2: 'children_playing',\n",
       " 3: 'dog_bark',\n",
       " 4: 'drilling',\n",
       " 5: 'engine_idling',\n",
       " 6: 'gun_shot',\n",
       " 7: 'jackhammer',\n",
       " 8: 'siren',\n",
       " 9: 'street_music'}"
      ]
     },
     "execution_count": 4,
     "metadata": {},
     "output_type": "execute_result"
    }
   ],
   "source": [
    "import json\n",
    "\n",
    "with open('data/label2id.json') as f:\n",
    "    label2id = json.load(f)\n",
    "\n",
    "with open('data/id2label.json') as f:\n",
    "    id2label = json.load(f)\n",
    "\n",
    "id2label = {int(key):value for key,value in id2label.items()}\n",
    "id2label"
   ]
  },
  {
   "cell_type": "code",
   "execution_count": 5,
   "id": "8e0b8dae",
   "metadata": {},
   "outputs": [],
   "source": [
    "\n",
    "from transformers import ViTFeatureExtractor\n",
    "\n",
    "feature_extractor = ViTFeatureExtractor.from_pretrained(\"google/vit-base-patch16-224-in21k\")\n"
   ]
  },
  {
   "cell_type": "code",
   "execution_count": 6,
   "id": "0140520f",
   "metadata": {},
   "outputs": [
    {
     "data": {
      "text/plain": [
       "{'height': 224, 'width': 224}"
      ]
     },
     "execution_count": 6,
     "metadata": {},
     "output_type": "execute_result"
    }
   ],
   "source": [
    "feature_extractor.size"
   ]
  },
  {
   "cell_type": "code",
   "execution_count": 7,
   "id": "a864abad",
   "metadata": {},
   "outputs": [],
   "source": [
    "from torchvision.transforms import (CenterCrop, \n",
    "                                    Compose, \n",
    "                                    Normalize, \n",
    "                                    RandomHorizontalFlip,\n",
    "                                    RandomResizedCrop, \n",
    "                                    Resize, \n",
    "                                    ToTensor)\n",
    "\n",
    "normalize = Normalize(mean=feature_extractor.image_mean, std=feature_extractor.image_std)\n",
    "_train_transforms = Compose(\n",
    "        [\n",
    "            RandomResizedCrop(224),\n",
    "            RandomHorizontalFlip(),\n",
    "            ToTensor(),\n",
    "            normalize,\n",
    "        ]\n",
    "    )\n",
    "\n",
    "_val_transforms = Compose(\n",
    "        [\n",
    "            Resize(224),\n",
    "            CenterCrop(224),\n",
    "            ToTensor(),\n",
    "            normalize,\n",
    "        ]\n",
    "    )\n",
    "\n",
    "def train_transforms(examples):\n",
    "    examples['pixel_values'] = [_train_transforms(image.convert(\"RGB\")) for image in examples['image']]\n",
    "    return examples\n",
    "\n",
    "def val_transforms(examples):\n",
    "    examples['pixel_values'] = [_val_transforms(image.convert(\"RGB\")) for image in examples['image']]\n",
    "    return examples"
   ]
  },
  {
   "cell_type": "code",
   "execution_count": null,
   "id": "7010d93c",
   "metadata": {},
   "outputs": [],
   "source": [
    "\n"
   ]
  },
  {
   "cell_type": "code",
   "execution_count": 8,
   "id": "9cbed1e9",
   "metadata": {},
   "outputs": [],
   "source": [
    "# Set the transforms\n",
    "train_ds.set_transform(train_transforms)\n",
    "val_ds.set_transform(val_transforms)\n",
    "test_ds.set_transform(val_transforms)"
   ]
  },
  {
   "cell_type": "code",
   "execution_count": 9,
   "id": "272c2932",
   "metadata": {},
   "outputs": [
    {
     "data": {
      "text/plain": [
       "{'image': [<PIL.PngImagePlugin.PngImageFile image mode=RGBA size=496x369>,\n",
       "  <PIL.PngImagePlugin.PngImageFile image mode=RGBA size=496x369>],\n",
       " 'classID': [5, 9],\n",
       " 'class': ['engine_idling', 'street_music'],\n",
       " 'pixel_values': [tensor([[[-0.9216, -0.9137, -0.9137,  ..., -0.5529, -0.6000, -0.7255],\n",
       "           [-0.8039, -0.7882, -0.7804,  ..., -0.4353, -0.4824, -0.6078],\n",
       "           [-0.3882, -0.3412, -0.3020,  ...,  0.0039, -0.0431, -0.1608],\n",
       "           ...,\n",
       "           [ 0.9922,  0.9922,  0.9922,  ...,  0.9922,  0.9922,  0.9922],\n",
       "           [ 0.9922,  0.9922,  0.9922,  ...,  0.9843,  0.9843,  0.9843],\n",
       "           [ 0.9765,  0.9765,  0.9765,  ...,  0.9686,  0.9686,  0.9686]],\n",
       "  \n",
       "          [[-0.9373, -0.9294, -0.9294,  ..., -0.8745, -0.8745, -0.8667],\n",
       "           [-0.9216, -0.9137, -0.9059,  ..., -0.8431, -0.8431, -0.8431],\n",
       "           [-0.8588, -0.8431, -0.8275,  ..., -0.7098, -0.7255, -0.7725],\n",
       "           ...,\n",
       "           [ 0.4902,  0.4588,  0.4118,  ...,  0.4588,  0.4667,  0.4902],\n",
       "           [ 0.3647,  0.3333,  0.3020,  ...,  0.3255,  0.3333,  0.3490],\n",
       "           [ 0.0824,  0.0902,  0.0980,  ...,  0.0510,  0.0431,  0.0431]],\n",
       "  \n",
       "          [[-0.7412, -0.7255, -0.7176,  ..., -0.1451, -0.1922, -0.3725],\n",
       "           [-0.5922, -0.5765, -0.5686,  ..., -0.1137, -0.1451, -0.2941],\n",
       "           [-0.0431, -0.0275, -0.0196,  ...,  0.0196,  0.0196,  0.0039],\n",
       "           ...,\n",
       "           [ 0.0353,  0.0039, -0.0196,  ...,  0.0039,  0.0196,  0.0275],\n",
       "           [-0.0588, -0.0824, -0.1059,  ..., -0.0824, -0.0824, -0.0667],\n",
       "           [-0.2314, -0.2235, -0.2235,  ..., -0.2471, -0.2471, -0.2471]]]),\n",
       "  tensor([[[-0.7961, -0.5529, -0.3647,  ..., -1.0000, -1.0000, -1.0000],\n",
       "           [-0.6863, -0.4510, -0.2627,  ..., -1.0000, -1.0000, -1.0000],\n",
       "           [-0.2784, -0.0667,  0.0902,  ..., -0.9843, -0.9843, -0.9843],\n",
       "           ...,\n",
       "           [ 0.9686,  0.9451,  0.9294,  ...,  0.2706,  0.2549,  0.2392],\n",
       "           [ 0.9608,  0.9451,  0.9294,  ...,  0.1529,  0.1216,  0.1137],\n",
       "           [ 0.9294,  0.9294,  0.9373,  ..., -0.2471, -0.2941, -0.1608]],\n",
       "  \n",
       "          [[-0.8745, -0.8667, -0.8588,  ..., -1.0000, -1.0000, -1.0000],\n",
       "           [-0.8667, -0.8431, -0.8196,  ..., -1.0000, -1.0000, -1.0000],\n",
       "           [-0.8196, -0.7412, -0.6784,  ..., -0.9843, -0.9843, -0.9922],\n",
       "           ...,\n",
       "           [ 0.0510, -0.0667, -0.1529,  ..., -0.6235, -0.6314, -0.6314],\n",
       "           [ 0.0118, -0.0824, -0.1451,  ..., -0.6706, -0.6784, -0.6784],\n",
       "           [-0.1294, -0.1373, -0.1216,  ..., -0.8118, -0.8275, -0.7804]],\n",
       "  \n",
       "          [[-0.4902, -0.2314, -0.0275,  ..., -0.9686, -0.9686, -0.9686],\n",
       "           [-0.3882, -0.1843, -0.0196,  ..., -0.9529, -0.9529, -0.9608],\n",
       "           [-0.0118,  0.0039,  0.0118,  ..., -0.8902, -0.9059, -0.9294],\n",
       "           ...,\n",
       "           [-0.2392, -0.2627, -0.2784,  ..., -0.0118, -0.0039, -0.0118],\n",
       "           [-0.2471, -0.2627, -0.2784,  ..., -0.0118, -0.0039,  0.0039],\n",
       "           [-0.2784, -0.2784, -0.2784,  ..., -0.0039, -0.0118,  0.0118]]])]}"
      ]
     },
     "execution_count": 9,
     "metadata": {},
     "output_type": "execute_result"
    }
   ],
   "source": [
    "val_ds[:2]"
   ]
  },
  {
   "cell_type": "code",
   "execution_count": 10,
   "id": "3b067175",
   "metadata": {},
   "outputs": [],
   "source": [
    "\n",
    "from torch.utils.data import DataLoader\n",
    "import torch\n",
    "\n",
    "def collate_fn(examples):\n",
    "    pixel_values = torch.stack([example[\"pixel_values\"] for example in examples])\n",
    "    labels = torch.tensor([example[\"classID\"] for example in examples])\n",
    "    return {\"pixel_values\": pixel_values, \"labels\": labels}\n",
    "\n",
    "train_dataloader = DataLoader(train_ds, collate_fn=collate_fn, batch_size=4)"
   ]
  },
  {
   "cell_type": "code",
   "execution_count": 11,
   "id": "295fef17",
   "metadata": {},
   "outputs": [
    {
     "name": "stdout",
     "output_type": "stream",
     "text": [
      "pixel_values torch.Size([4, 3, 224, 224])\n",
      "labels torch.Size([4])\n"
     ]
    }
   ],
   "source": [
    "\n",
    "batch = next(iter(train_dataloader))\n",
    "for k,v in batch.items():\n",
    "  if isinstance(v, torch.Tensor):\n",
    "    print(k, v.shape)"
   ]
  },
  {
   "cell_type": "code",
   "execution_count": 24,
   "id": "27437aea",
   "metadata": {},
   "outputs": [
    {
     "name": "stderr",
     "output_type": "stream",
     "text": [
      "loading configuration file config.json from cache at /home/ubuntu/.cache/huggingface/hub/models--google--vit-base-patch16-224-in21k/snapshots/1ba429d32753f33a0660b80ac6f43a3c80c18938/config.json\n",
      "Model config ViTConfig {\n",
      "  \"_name_or_path\": \"google/vit-base-patch16-224-in21k\",\n",
      "  \"architectures\": [\n",
      "    \"ViTModel\"\n",
      "  ],\n",
      "  \"attention_probs_dropout_prob\": 0.0,\n",
      "  \"encoder_stride\": 16,\n",
      "  \"hidden_act\": \"gelu\",\n",
      "  \"hidden_dropout_prob\": 0.0,\n",
      "  \"hidden_size\": 768,\n",
      "  \"id2label\": {\n",
      "    \"0\": \"air_conditioner\",\n",
      "    \"1\": \"car_horn\",\n",
      "    \"2\": \"children_playing\",\n",
      "    \"3\": \"dog_bark\",\n",
      "    \"4\": \"drilling\",\n",
      "    \"5\": \"engine_idling\",\n",
      "    \"6\": \"gun_shot\",\n",
      "    \"7\": \"jackhammer\",\n",
      "    \"8\": \"siren\",\n",
      "    \"9\": \"street_music\"\n",
      "  },\n",
      "  \"image_size\": 224,\n",
      "  \"initializer_range\": 0.02,\n",
      "  \"intermediate_size\": 3072,\n",
      "  \"label2id\": {\n",
      "    \"air_conditioner\": 0,\n",
      "    \"car_horn\": 1,\n",
      "    \"children_playing\": 2,\n",
      "    \"dog_bark\": 3,\n",
      "    \"drilling\": 4,\n",
      "    \"engine_idling\": 5,\n",
      "    \"gun_shot\": 6,\n",
      "    \"jackhammer\": 7,\n",
      "    \"siren\": 8,\n",
      "    \"street_music\": 9\n",
      "  },\n",
      "  \"layer_norm_eps\": 1e-12,\n",
      "  \"model_type\": \"vit\",\n",
      "  \"num_attention_heads\": 12,\n",
      "  \"num_channels\": 3,\n",
      "  \"num_hidden_layers\": 12,\n",
      "  \"patch_size\": 16,\n",
      "  \"qkv_bias\": true,\n",
      "  \"transformers_version\": \"4.25.1\"\n",
      "}\n",
      "\n",
      "loading weights file pytorch_model.bin from cache at /home/ubuntu/.cache/huggingface/hub/models--google--vit-base-patch16-224-in21k/snapshots/1ba429d32753f33a0660b80ac6f43a3c80c18938/pytorch_model.bin\n",
      "Some weights of the model checkpoint at google/vit-base-patch16-224-in21k were not used when initializing ViTForImageClassification: ['pooler.dense.weight', 'pooler.dense.bias']\n",
      "- This IS expected if you are initializing ViTForImageClassification from the checkpoint of a model trained on another task or with another architecture (e.g. initializing a BertForSequenceClassification model from a BertForPreTraining model).\n",
      "- This IS NOT expected if you are initializing ViTForImageClassification from the checkpoint of a model that you expect to be exactly identical (initializing a BertForSequenceClassification model from a BertForSequenceClassification model).\n",
      "Some weights of ViTForImageClassification were not initialized from the model checkpoint at google/vit-base-patch16-224-in21k and are newly initialized: ['classifier.bias', 'classifier.weight']\n",
      "You should probably TRAIN this model on a down-stream task to be able to use it for predictions and inference.\n"
     ]
    }
   ],
   "source": [
    "from transformers import ViTForImageClassification\n",
    "\n",
    "model = ViTForImageClassification.from_pretrained('google/vit-base-patch16-224-in21k',\n",
    "                                                  num_labels=10,\n",
    "                                                  id2label=id2label,\n",
    "                                                  label2id=label2id)"
   ]
  },
  {
   "cell_type": "code",
   "execution_count": 26,
   "id": "dee87963",
   "metadata": {},
   "outputs": [],
   "source": [
    "# Changing the number of attention heads from 12 -> 10 -- Dropping 2 heads\n",
    "model.config.patch_size = 32"
   ]
  },
  {
   "cell_type": "code",
   "execution_count": 27,
   "id": "65c05d0c",
   "metadata": {},
   "outputs": [
    {
     "data": {
      "text/plain": [
       "ViTConfig {\n",
       "  \"_name_or_path\": \"google/vit-base-patch16-224-in21k\",\n",
       "  \"architectures\": [\n",
       "    \"ViTModel\"\n",
       "  ],\n",
       "  \"attention_probs_dropout_prob\": 0.0,\n",
       "  \"encoder_stride\": 16,\n",
       "  \"hidden_act\": \"gelu\",\n",
       "  \"hidden_dropout_prob\": 0.0,\n",
       "  \"hidden_size\": 768,\n",
       "  \"id2label\": {\n",
       "    \"0\": \"air_conditioner\",\n",
       "    \"1\": \"car_horn\",\n",
       "    \"2\": \"children_playing\",\n",
       "    \"3\": \"dog_bark\",\n",
       "    \"4\": \"drilling\",\n",
       "    \"5\": \"engine_idling\",\n",
       "    \"6\": \"gun_shot\",\n",
       "    \"7\": \"jackhammer\",\n",
       "    \"8\": \"siren\",\n",
       "    \"9\": \"street_music\"\n",
       "  },\n",
       "  \"image_size\": 224,\n",
       "  \"initializer_range\": 0.02,\n",
       "  \"intermediate_size\": 3072,\n",
       "  \"label2id\": {\n",
       "    \"air_conditioner\": 0,\n",
       "    \"car_horn\": 1,\n",
       "    \"children_playing\": 2,\n",
       "    \"dog_bark\": 3,\n",
       "    \"drilling\": 4,\n",
       "    \"engine_idling\": 5,\n",
       "    \"gun_shot\": 6,\n",
       "    \"jackhammer\": 7,\n",
       "    \"siren\": 8,\n",
       "    \"street_music\": 9\n",
       "  },\n",
       "  \"layer_norm_eps\": 1e-12,\n",
       "  \"model_type\": \"vit\",\n",
       "  \"num_attention_heads\": 12,\n",
       "  \"num_channels\": 3,\n",
       "  \"num_hidden_layers\": 12,\n",
       "  \"patch_size\": 32,\n",
       "  \"qkv_bias\": true,\n",
       "  \"transformers_version\": \"4.25.1\"\n",
       "}"
      ]
     },
     "execution_count": 27,
     "metadata": {},
     "output_type": "execute_result"
    }
   ],
   "source": [
    "model.config"
   ]
  },
  {
   "cell_type": "code",
   "execution_count": 28,
   "id": "c0a4cc2f",
   "metadata": {},
   "outputs": [
    {
     "name": "stdout",
     "output_type": "stream",
     "text": [
      "/home/ubuntu/.cache/huggingface/hub\n"
     ]
    }
   ],
   "source": [
    "from transformers import file_utils\n",
    "print(file_utils.default_cache_path)"
   ]
  },
  {
   "cell_type": "code",
   "execution_count": 29,
   "id": "f4ccc130",
   "metadata": {},
   "outputs": [
    {
     "name": "stderr",
     "output_type": "stream",
     "text": [
      "PyTorch: setting up devices\n",
      "The default value for the training argument `--report_to` will change in v5 (from all installed integrations to none). In v5, you will need to use `--report_to all` to get the same behavior as now. You should start updating your code and make this info disappear :-).\n"
     ]
    }
   ],
   "source": [
    "from transformers import TrainingArguments, Trainer\n",
    "\n",
    "metric_name = \"accuracy\"\n",
    "\n",
    "args = TrainingArguments(\n",
    "    f\"test-urbansound8k-10\",\n",
    "    save_strategy=\"epoch\",\n",
    "    evaluation_strategy=\"epoch\",\n",
    "    learning_rate=2e-5,\n",
    "    per_device_train_batch_size=10,\n",
    "    per_device_eval_batch_size=4,\n",
    "    num_train_epochs=50,\n",
    "    weight_decay=0.01,\n",
    "    load_best_model_at_end=True,\n",
    "    metric_for_best_model=metric_name,\n",
    "    logging_dir='logs',\n",
    "    remove_unused_columns=False,\n",
    ")"
   ]
  },
  {
   "cell_type": "code",
   "execution_count": 30,
   "id": "77c92e80",
   "metadata": {},
   "outputs": [],
   "source": [
    "from datasets import load_metric\n",
    "import numpy as np\n",
    "\n",
    "metric = load_metric(\"accuracy\")\n",
    "\n",
    "def compute_metrics(eval_pred):\n",
    "    predictions, labels = eval_pred\n",
    "    predictions = np.argmax(predictions, axis=1)\n",
    "    return metric.compute(predictions=predictions, references=labels)"
   ]
  },
  {
   "cell_type": "code",
   "execution_count": 31,
   "id": "f8159dbe",
   "metadata": {},
   "outputs": [],
   "source": [
    "import torch\n",
    "\n",
    "trainer = Trainer(\n",
    "    model,\n",
    "    args,\n",
    "    train_dataset=train_ds,\n",
    "    eval_dataset=val_ds,\n",
    "    data_collator=collate_fn,\n",
    "    compute_metrics=compute_metrics,\n",
    "    tokenizer=feature_extractor,\n",
    "    callbacks = [EarlyStoppingCallback(early_stopping_patience=3)]\n",
    ")"
   ]
  },
  {
   "cell_type": "code",
   "execution_count": null,
   "id": "8102aed0",
   "metadata": {},
   "outputs": [],
   "source": []
  },
  {
   "cell_type": "code",
   "execution_count": 32,
   "id": "4cf38a2e",
   "metadata": {},
   "outputs": [
    {
     "data": {
      "text/plain": [
       "Dataset({\n",
       "    features: ['image', 'classID', 'class'],\n",
       "    num_rows: 5500\n",
       "})"
      ]
     },
     "execution_count": 32,
     "metadata": {},
     "output_type": "execute_result"
    }
   ],
   "source": [
    "train_ds"
   ]
  },
  {
   "cell_type": "code",
   "execution_count": 33,
   "id": "b4ee5adf",
   "metadata": {},
   "outputs": [
    {
     "name": "stdout",
     "output_type": "stream",
     "text": [
      "The tensorboard extension is already loaded. To reload it, use:\n",
      "  %reload_ext tensorboard\n"
     ]
    },
    {
     "data": {
      "text/plain": [
       "Reusing TensorBoard on port 6006 (pid 2196), started 0:04:18 ago. (Use '!kill 2196' to kill it.)"
      ]
     },
     "metadata": {},
     "output_type": "display_data"
    },
    {
     "data": {
      "text/html": [
       "\n",
       "      <iframe id=\"tensorboard-frame-1c80317fa3b1799d\" width=\"100%\" height=\"800\" frameborder=\"0\">\n",
       "      </iframe>\n",
       "      <script>\n",
       "        (function() {\n",
       "          const frame = document.getElementById(\"tensorboard-frame-1c80317fa3b1799d\");\n",
       "          const url = new URL(\"/\", window.location);\n",
       "          const port = 6006;\n",
       "          if (port) {\n",
       "            url.port = port;\n",
       "          }\n",
       "          frame.src = url;\n",
       "        })();\n",
       "      </script>\n",
       "    "
      ],
      "text/plain": [
       "<IPython.core.display.HTML object>"
      ]
     },
     "metadata": {},
     "output_type": "display_data"
    }
   ],
   "source": [
    "\n",
    "# Start tensorboard.\n",
    "%load_ext tensorboard\n",
    "%tensorboard --logdir logs/"
   ]
  },
  {
   "cell_type": "code",
   "execution_count": null,
   "id": "52c30e30",
   "metadata": {},
   "outputs": [],
   "source": []
  },
  {
   "cell_type": "code",
   "execution_count": 34,
   "id": "69961efd",
   "metadata": {},
   "outputs": [
    {
     "name": "stderr",
     "output_type": "stream",
     "text": [
      "/home/ubuntu/mlenv/lib/python3.8/site-packages/transformers/optimization.py:306: FutureWarning: This implementation of AdamW is deprecated and will be removed in a future version. Use the PyTorch implementation torch.optim.AdamW instead, or set `no_deprecation_warning=True` to disable this warning\n",
      "  warnings.warn(\n",
      "***** Running training *****\n",
      "  Num examples = 5500\n",
      "  Num Epochs = 50\n",
      "  Instantaneous batch size per device = 10\n",
      "  Total train batch size (w. parallel, distributed & accumulation) = 10\n",
      "  Gradient Accumulation steps = 1\n",
      "  Total optimization steps = 27500\n",
      "  Number of trainable parameters = 85806346\n"
     ]
    },
    {
     "data": {
      "text/html": [
       "\n",
       "    <div>\n",
       "      \n",
       "      <progress value='6600' max='27500' style='width:300px; height:20px; vertical-align: middle;'></progress>\n",
       "      [ 6600/27500 45:38 < 2:24:35, 2.41 it/s, Epoch 12/50]\n",
       "    </div>\n",
       "    <table border=\"1\" class=\"dataframe\">\n",
       "  <thead>\n",
       " <tr style=\"text-align: left;\">\n",
       "      <th>Epoch</th>\n",
       "      <th>Training Loss</th>\n",
       "      <th>Validation Loss</th>\n",
       "      <th>Accuracy</th>\n",
       "    </tr>\n",
       "  </thead>\n",
       "  <tbody>\n",
       "    <tr>\n",
       "      <td>1</td>\n",
       "      <td>1.457900</td>\n",
       "      <td>0.892811</td>\n",
       "      <td>0.800654</td>\n",
       "    </tr>\n",
       "    <tr>\n",
       "      <td>2</td>\n",
       "      <td>0.879400</td>\n",
       "      <td>0.587645</td>\n",
       "      <td>0.862745</td>\n",
       "    </tr>\n",
       "    <tr>\n",
       "      <td>3</td>\n",
       "      <td>0.670500</td>\n",
       "      <td>0.503247</td>\n",
       "      <td>0.861111</td>\n",
       "    </tr>\n",
       "    <tr>\n",
       "      <td>4</td>\n",
       "      <td>0.578800</td>\n",
       "      <td>0.412820</td>\n",
       "      <td>0.885621</td>\n",
       "    </tr>\n",
       "    <tr>\n",
       "      <td>5</td>\n",
       "      <td>0.502900</td>\n",
       "      <td>0.406577</td>\n",
       "      <td>0.874183</td>\n",
       "    </tr>\n",
       "    <tr>\n",
       "      <td>6</td>\n",
       "      <td>0.441200</td>\n",
       "      <td>0.339699</td>\n",
       "      <td>0.905229</td>\n",
       "    </tr>\n",
       "    <tr>\n",
       "      <td>7</td>\n",
       "      <td>0.411900</td>\n",
       "      <td>0.305576</td>\n",
       "      <td>0.911765</td>\n",
       "    </tr>\n",
       "    <tr>\n",
       "      <td>8</td>\n",
       "      <td>0.379400</td>\n",
       "      <td>0.343415</td>\n",
       "      <td>0.905229</td>\n",
       "    </tr>\n",
       "    <tr>\n",
       "      <td>9</td>\n",
       "      <td>0.366000</td>\n",
       "      <td>0.270495</td>\n",
       "      <td>0.924837</td>\n",
       "    </tr>\n",
       "    <tr>\n",
       "      <td>10</td>\n",
       "      <td>0.306900</td>\n",
       "      <td>0.324961</td>\n",
       "      <td>0.916667</td>\n",
       "    </tr>\n",
       "    <tr>\n",
       "      <td>11</td>\n",
       "      <td>0.291800</td>\n",
       "      <td>0.316199</td>\n",
       "      <td>0.916667</td>\n",
       "    </tr>\n",
       "    <tr>\n",
       "      <td>12</td>\n",
       "      <td>0.289700</td>\n",
       "      <td>0.284605</td>\n",
       "      <td>0.919935</td>\n",
       "    </tr>\n",
       "  </tbody>\n",
       "</table><p>"
      ],
      "text/plain": [
       "<IPython.core.display.HTML object>"
      ]
     },
     "metadata": {},
     "output_type": "display_data"
    },
    {
     "name": "stderr",
     "output_type": "stream",
     "text": [
      "***** Running Evaluation *****\n",
      "  Num examples = 612\n",
      "  Batch size = 4\n",
      "Saving model checkpoint to test-urbansound8k-10/checkpoint-550\n",
      "Configuration saved in test-urbansound8k-10/checkpoint-550/config.json\n",
      "Model weights saved in test-urbansound8k-10/checkpoint-550/pytorch_model.bin\n",
      "Image processor saved in test-urbansound8k-10/checkpoint-550/preprocessor_config.json\n",
      "***** Running Evaluation *****\n",
      "  Num examples = 612\n",
      "  Batch size = 4\n",
      "Saving model checkpoint to test-urbansound8k-10/checkpoint-1100\n",
      "Configuration saved in test-urbansound8k-10/checkpoint-1100/config.json\n",
      "Model weights saved in test-urbansound8k-10/checkpoint-1100/pytorch_model.bin\n",
      "Image processor saved in test-urbansound8k-10/checkpoint-1100/preprocessor_config.json\n",
      "***** Running Evaluation *****\n",
      "  Num examples = 612\n",
      "  Batch size = 4\n",
      "Saving model checkpoint to test-urbansound8k-10/checkpoint-1650\n",
      "Configuration saved in test-urbansound8k-10/checkpoint-1650/config.json\n",
      "Model weights saved in test-urbansound8k-10/checkpoint-1650/pytorch_model.bin\n",
      "Image processor saved in test-urbansound8k-10/checkpoint-1650/preprocessor_config.json\n",
      "***** Running Evaluation *****\n",
      "  Num examples = 612\n",
      "  Batch size = 4\n",
      "Saving model checkpoint to test-urbansound8k-10/checkpoint-2200\n",
      "Configuration saved in test-urbansound8k-10/checkpoint-2200/config.json\n",
      "Model weights saved in test-urbansound8k-10/checkpoint-2200/pytorch_model.bin\n",
      "Image processor saved in test-urbansound8k-10/checkpoint-2200/preprocessor_config.json\n",
      "***** Running Evaluation *****\n",
      "  Num examples = 612\n",
      "  Batch size = 4\n",
      "Saving model checkpoint to test-urbansound8k-10/checkpoint-2750\n",
      "Configuration saved in test-urbansound8k-10/checkpoint-2750/config.json\n",
      "Model weights saved in test-urbansound8k-10/checkpoint-2750/pytorch_model.bin\n",
      "Image processor saved in test-urbansound8k-10/checkpoint-2750/preprocessor_config.json\n",
      "***** Running Evaluation *****\n",
      "  Num examples = 612\n",
      "  Batch size = 4\n",
      "Saving model checkpoint to test-urbansound8k-10/checkpoint-3300\n",
      "Configuration saved in test-urbansound8k-10/checkpoint-3300/config.json\n",
      "Model weights saved in test-urbansound8k-10/checkpoint-3300/pytorch_model.bin\n",
      "Image processor saved in test-urbansound8k-10/checkpoint-3300/preprocessor_config.json\n",
      "***** Running Evaluation *****\n",
      "  Num examples = 612\n",
      "  Batch size = 4\n",
      "Saving model checkpoint to test-urbansound8k-10/checkpoint-3850\n",
      "Configuration saved in test-urbansound8k-10/checkpoint-3850/config.json\n",
      "Model weights saved in test-urbansound8k-10/checkpoint-3850/pytorch_model.bin\n",
      "Image processor saved in test-urbansound8k-10/checkpoint-3850/preprocessor_config.json\n",
      "***** Running Evaluation *****\n",
      "  Num examples = 612\n",
      "  Batch size = 4\n",
      "Saving model checkpoint to test-urbansound8k-10/checkpoint-4400\n",
      "Configuration saved in test-urbansound8k-10/checkpoint-4400/config.json\n",
      "Model weights saved in test-urbansound8k-10/checkpoint-4400/pytorch_model.bin\n",
      "Image processor saved in test-urbansound8k-10/checkpoint-4400/preprocessor_config.json\n",
      "***** Running Evaluation *****\n",
      "  Num examples = 612\n",
      "  Batch size = 4\n",
      "Saving model checkpoint to test-urbansound8k-10/checkpoint-4950\n",
      "Configuration saved in test-urbansound8k-10/checkpoint-4950/config.json\n",
      "Model weights saved in test-urbansound8k-10/checkpoint-4950/pytorch_model.bin\n",
      "Image processor saved in test-urbansound8k-10/checkpoint-4950/preprocessor_config.json\n",
      "***** Running Evaluation *****\n",
      "  Num examples = 612\n",
      "  Batch size = 4\n",
      "Saving model checkpoint to test-urbansound8k-10/checkpoint-5500\n",
      "Configuration saved in test-urbansound8k-10/checkpoint-5500/config.json\n",
      "Model weights saved in test-urbansound8k-10/checkpoint-5500/pytorch_model.bin\n",
      "Image processor saved in test-urbansound8k-10/checkpoint-5500/preprocessor_config.json\n",
      "***** Running Evaluation *****\n",
      "  Num examples = 612\n",
      "  Batch size = 4\n",
      "Saving model checkpoint to test-urbansound8k-10/checkpoint-6050\n",
      "Configuration saved in test-urbansound8k-10/checkpoint-6050/config.json\n",
      "Model weights saved in test-urbansound8k-10/checkpoint-6050/pytorch_model.bin\n",
      "Image processor saved in test-urbansound8k-10/checkpoint-6050/preprocessor_config.json\n",
      "***** Running Evaluation *****\n",
      "  Num examples = 612\n",
      "  Batch size = 4\n",
      "Saving model checkpoint to test-urbansound8k-10/checkpoint-6600\n",
      "Configuration saved in test-urbansound8k-10/checkpoint-6600/config.json\n",
      "Model weights saved in test-urbansound8k-10/checkpoint-6600/pytorch_model.bin\n",
      "Image processor saved in test-urbansound8k-10/checkpoint-6600/preprocessor_config.json\n",
      "\n",
      "\n",
      "Training completed. Do not forget to share your model on huggingface.co/models =)\n",
      "\n",
      "\n",
      "Loading best model from test-urbansound8k-10/checkpoint-4950 (score: 0.9248366013071896).\n"
     ]
    },
    {
     "data": {
      "text/plain": [
       "TrainOutput(global_step=6600, training_loss=0.5272911008199056, metrics={'train_runtime': 2739.901, 'train_samples_per_second': 100.369, 'train_steps_per_second': 10.037, 'total_flos': 5.114838029672448e+18, 'train_loss': 0.5272911008199056, 'epoch': 12.0})"
      ]
     },
     "execution_count": 34,
     "metadata": {},
     "output_type": "execute_result"
    }
   ],
   "source": [
    "trainer.train()"
   ]
  },
  {
   "cell_type": "code",
   "execution_count": 35,
   "id": "749ab243",
   "metadata": {},
   "outputs": [
    {
     "name": "stderr",
     "output_type": "stream",
     "text": [
      "***** Running Prediction *****\n",
      "  Num examples = 2620\n",
      "  Batch size = 4\n"
     ]
    },
    {
     "data": {
      "text/html": [],
      "text/plain": [
       "<IPython.core.display.HTML object>"
      ]
     },
     "metadata": {},
     "output_type": "display_data"
    }
   ],
   "source": [
    "outputs = trainer.predict(test_ds)"
   ]
  },
  {
   "cell_type": "code",
   "execution_count": 36,
   "id": "a9e3f79b",
   "metadata": {},
   "outputs": [
    {
     "name": "stdout",
     "output_type": "stream",
     "text": [
      "{'test_loss': 0.239968940615654, 'test_accuracy': 0.9324427480916031, 'test_runtime': 43.3331, 'test_samples_per_second': 60.462, 'test_steps_per_second': 15.115}\n"
     ]
    }
   ],
   "source": [
    "print(outputs.metrics)"
   ]
  },
  {
   "cell_type": "code",
   "execution_count": 37,
   "id": "b16f1c39",
   "metadata": {},
   "outputs": [
    {
     "data": {
      "text/plain": [
       "<sklearn.metrics._plot.confusion_matrix.ConfusionMatrixDisplay at 0x7f16042556a0>"
      ]
     },
     "execution_count": 37,
     "metadata": {},
     "output_type": "execute_result"
    },
    {
     "data": {
      "image/png": "[encoded data removed]",
      "text/plain": [
       "<Figure size 640x480 with 2 Axes>"
      ]
     },
     "metadata": {},
     "output_type": "display_data"
    }
   ],
   "source": [
    "from sklearn.metrics import confusion_matrix, ConfusionMatrixDisplay\n",
    "\n",
    "y_true = outputs.label_ids\n",
    "y_pred = outputs.predictions.argmax(1)\n",
    "\n",
    "labels = id2label.values()\n",
    "cm = confusion_matrix(y_true, y_pred)\n",
    "disp = ConfusionMatrixDisplay(confusion_matrix=cm, display_labels=labels)\n",
    "disp.plot(xticks_rotation=45)"
   ]
  },
  {
   "cell_type": "code",
   "execution_count": null,
   "id": "7cdb4cd5",
   "metadata": {},
   "outputs": [],
   "source": []
  },
  {
   "cell_type": "code",
   "execution_count": 39,
   "id": "d8154a1b",
   "metadata": {},
   "outputs": [
    {
     "name": "stderr",
     "output_type": "stream",
     "text": [
      "Configuration saved in /home/ubuntu/models/AudioViT_Ablation_PatchSize_32/config.json\n",
      "Model weights saved in /home/ubuntu/models/AudioViT_Ablation_PatchSize_32/pytorch_model.bin\n"
     ]
    }
   ],
   "source": [
    "model.save_pretrained(\"/home/ubuntu/models/AudioViT_Ablation_PatchSize_32\")"
   ]
  },
  {
   "cell_type": "code",
   "execution_count": null,
   "id": "3c1ae1de",
   "metadata": {},
   "outputs": [],
   "source": []
  }
 ],
 "metadata": {
  "kernelspec": {
   "display_name": "Python 3 (ipykernel)",
   "language": "python",
   "name": "python3"
  },
  "language_info": {
   "codemirror_mode": {
    "name": "ipython",
    "version": 3
   },
   "file_extension": ".py",
   "mimetype": "text/x-python",
   "name": "python",
   "nbconvert_exporter": "python",
   "pygments_lexer": "ipython3",
   "version": "3.9.9"
  }
 },
 "nbformat": 4,
 "nbformat_minor": 5
}

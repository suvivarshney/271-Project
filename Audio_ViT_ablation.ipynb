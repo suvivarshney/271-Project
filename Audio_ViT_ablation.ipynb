{
 "cells": [
  {
   "cell_type": "code",
   "execution_count": 1,
   "id": "657a4f94",
   "metadata": {},
   "outputs": [
    {
     "data": {
      "application/vnd.jupyter.widget-view+json": {
       "model_id": "3ae3da7a251a491e8af42cc06bedc68a",
       "version_major": 2,
       "version_minor": 0
      },
      "text/plain": [
       "Resolving data files:   0%|          | 0/8733 [00:00<?, ?it/s]"
      ]
     },
     "metadata": {},
     "output_type": "display_data"
    },
    {
     "name": "stderr",
     "output_type": "stream",
     "text": [
      "Using custom data configuration default-dc4b097253cef5b2\n",
      "Found cached dataset imagefolder (/home/ubuntu/.cache/huggingface/datasets/imagefolder/default-dc4b097253cef5b2/0.0.0/37fbb85cc714a338bea574ac6c7d0b5be5aff46c1862c1989b20e0771199e93f)\n"
     ]
    },
    {
     "name": "stdout",
     "output_type": "stream",
     "text": [
      "5500 2620 612\n"
     ]
    }
   ],
   "source": [
    "from datasets import load_dataset\n",
    "from transformers import EarlyStoppingCallback, IntervalStrategy\n",
    "\n",
    "train_ds = load_dataset(\"imagefolder\", data_dir=\"data/original/urbansound8k\", split=\"train\")\n",
    "\n",
    "\n",
    "# split up training into training + validation\n",
    "splits = train_ds.train_test_split(test_size=0.3)\n",
    "train_val_ds = splits['train']\n",
    "test_ds = splits['test']\n",
    "\n",
    "splits = train_val_ds.train_test_split(test_size=0.1)\n",
    "train_ds = splits['train']\n",
    "val_ds = splits['test']\n",
    "\n",
    "\n",
    "print(len(train_ds),len(test_ds),len(val_ds))"
   ]
  },
  {
   "cell_type": "code",
   "execution_count": 27,
   "id": "931fe773",
   "metadata": {},
   "outputs": [
    {
     "name": "stdout",
     "output_type": "stream",
     "text": [
      "Collecting matplotlib\n",
      "  Downloading matplotlib-3.6.2-cp38-cp38-manylinux_2_12_x86_64.manylinux2010_x86_64.whl (9.4 MB)\n",
      "\u001b[K     |████████████████████████████████| 9.4 MB 24.3 MB/s eta 0:00:01\n",
      "\u001b[?25hRequirement already satisfied: pillow>=6.2.0 in /home/ubuntu/mlenv/lib/python3.8/site-packages (from matplotlib) (9.3.0)\n",
      "Collecting kiwisolver>=1.0.1\n",
      "  Downloading kiwisolver-1.4.4-cp38-cp38-manylinux_2_5_x86_64.manylinux1_x86_64.whl (1.2 MB)\n",
      "\u001b[K     |████████████████████████████████| 1.2 MB 77.5 MB/s eta 0:00:01\n",
      "\u001b[?25hRequirement already satisfied: python-dateutil>=2.7 in /home/ubuntu/mlenv/lib/python3.8/site-packages (from matplotlib) (2.8.2)\n",
      "Collecting cycler>=0.10\n",
      "  Downloading cycler-0.11.0-py3-none-any.whl (6.4 kB)\n",
      "Collecting fonttools>=4.22.0\n",
      "  Downloading fonttools-4.38.0-py3-none-any.whl (965 kB)\n",
      "\u001b[K     |████████████████████████████████| 965 kB 92.4 MB/s eta 0:00:01\n",
      "\u001b[?25hRequirement already satisfied: numpy>=1.19 in /home/ubuntu/mlenv/lib/python3.8/site-packages (from matplotlib) (1.23.5)\n",
      "Requirement already satisfied: packaging>=20.0 in /home/ubuntu/mlenv/lib/python3.8/site-packages (from matplotlib) (21.3)\n",
      "Requirement already satisfied: pyparsing>=2.2.1 in /home/ubuntu/mlenv/lib/python3.8/site-packages (from matplotlib) (3.0.9)\n",
      "Collecting contourpy>=1.0.1\n",
      "  Downloading contourpy-1.0.6-cp38-cp38-manylinux_2_17_x86_64.manylinux2014_x86_64.whl (295 kB)\n",
      "\u001b[K     |████████████████████████████████| 295 kB 95.0 MB/s eta 0:00:01\n",
      "\u001b[?25hRequirement already satisfied: six>=1.5 in /home/ubuntu/mlenv/lib/python3.8/site-packages (from python-dateutil>=2.7->matplotlib) (1.16.0)\n",
      "Installing collected packages: kiwisolver, cycler, fonttools, contourpy, matplotlib\n",
      "Successfully installed contourpy-1.0.6 cycler-0.11.0 fonttools-4.38.0 kiwisolver-1.4.4 matplotlib-3.6.2\n"
     ]
    }
   ],
   "source": [
    "# !pip install datasets\n",
    "# !pip install Pillow\n",
    "# !pip install transformers\n",
    "# !pip install torch torchvision torchaudio\n",
    "# !pip install -U scikit-learn\n",
    "# !pip install tensorboard\n",
    "# !pip install matplotlib"
   ]
  },
  {
   "cell_type": "code",
   "execution_count": 3,
   "id": "889dd259",
   "metadata": {},
   "outputs": [
    {
     "data": {
      "text/plain": [
       "Dataset({\n",
       "    features: ['image', 'classID', 'class'],\n",
       "    num_rows: 5500\n",
       "})"
      ]
     },
     "execution_count": 3,
     "metadata": {},
     "output_type": "execute_result"
    }
   ],
   "source": [
    "train_ds"
   ]
  },
  {
   "cell_type": "code",
   "execution_count": 4,
   "id": "87ac926c",
   "metadata": {},
   "outputs": [
    {
     "data": {
      "text/plain": [
       "{0: 'air_conditioner',\n",
       " 1: 'car_horn',\n",
       " 2: 'children_playing',\n",
       " 3: 'dog_bark',\n",
       " 4: 'drilling',\n",
       " 5: 'engine_idling',\n",
       " 6: 'gun_shot',\n",
       " 7: 'jackhammer',\n",
       " 8: 'siren',\n",
       " 9: 'street_music'}"
      ]
     },
     "execution_count": 4,
     "metadata": {},
     "output_type": "execute_result"
    }
   ],
   "source": [
    "import json\n",
    "\n",
    "with open('data/label2id.json') as f:\n",
    "    label2id = json.load(f)\n",
    "\n",
    "with open('data/id2label.json') as f:\n",
    "    id2label = json.load(f)\n",
    "\n",
    "id2label = {int(key):value for key,value in id2label.items()}\n",
    "id2label"
   ]
  },
  {
   "cell_type": "code",
   "execution_count": 5,
   "id": "8e0b8dae",
   "metadata": {},
   "outputs": [],
   "source": [
    "\n",
    "from transformers import ViTFeatureExtractor\n",
    "\n",
    "feature_extractor = ViTFeatureExtractor.from_pretrained(\"google/vit-base-patch16-224-in21k\")\n"
   ]
  },
  {
   "cell_type": "code",
   "execution_count": 6,
   "id": "b283b528",
   "metadata": {},
   "outputs": [
    {
     "data": {
      "text/plain": [
       "{'height': 224, 'width': 224}"
      ]
     },
     "execution_count": 6,
     "metadata": {},
     "output_type": "execute_result"
    }
   ],
   "source": [
    "feature_extractor.size"
   ]
  },
  {
   "cell_type": "code",
   "execution_count": 7,
   "id": "a864abad",
   "metadata": {},
   "outputs": [],
   "source": [
    "from torchvision.transforms import (CenterCrop, \n",
    "                                    Compose, \n",
    "                                    Normalize, \n",
    "                                    RandomHorizontalFlip,\n",
    "                                    RandomResizedCrop, \n",
    "                                    Resize, \n",
    "                                    ToTensor)\n",
    "\n",
    "normalize = Normalize(mean=feature_extractor.image_mean, std=feature_extractor.image_std)\n",
    "_train_transforms = Compose(\n",
    "        [\n",
    "            RandomResizedCrop(224),\n",
    "            RandomHorizontalFlip(),\n",
    "            ToTensor(),\n",
    "            normalize,\n",
    "        ]\n",
    "    )\n",
    "\n",
    "_val_transforms = Compose(\n",
    "        [\n",
    "            Resize(224),\n",
    "            CenterCrop(224),\n",
    "            ToTensor(),\n",
    "            normalize,\n",
    "        ]\n",
    "    )\n",
    "\n",
    "def train_transforms(examples):\n",
    "    examples['pixel_values'] = [_train_transforms(image.convert(\"RGB\")) for image in examples['image']]\n",
    "    return examples\n",
    "\n",
    "def val_transforms(examples):\n",
    "    examples['pixel_values'] = [_val_transforms(image.convert(\"RGB\")) for image in examples['image']]\n",
    "    return examples"
   ]
  },
  {
   "cell_type": "code",
   "execution_count": null,
   "id": "9c5548a6",
   "metadata": {},
   "outputs": [],
   "source": [
    "\n"
   ]
  },
  {
   "cell_type": "code",
   "execution_count": 8,
   "id": "9cbed1e9",
   "metadata": {},
   "outputs": [],
   "source": [
    "# Set the transforms\n",
    "train_ds.set_transform(train_transforms)\n",
    "val_ds.set_transform(val_transforms)\n",
    "test_ds.set_transform(val_transforms)"
   ]
  },
  {
   "cell_type": "code",
   "execution_count": 9,
   "id": "272c2932",
   "metadata": {},
   "outputs": [
    {
     "data": {
      "text/plain": [
       "{'image': [<PIL.PngImagePlugin.PngImageFile image mode=RGBA size=496x369>,\n",
       "  <PIL.PngImagePlugin.PngImageFile image mode=RGBA size=496x369>],\n",
       " 'classID': [7, 3],\n",
       " 'class': ['jackhammer', 'dog_bark'],\n",
       " 'pixel_values': [tensor([[[-0.9843, -0.9765, -0.9765,  ..., -0.9686, -0.9686, -0.9765],\n",
       "           [-0.8902, -0.8667, -0.8588,  ..., -0.8667, -0.8588, -0.8510],\n",
       "           [-0.5608, -0.4745, -0.4275,  ..., -0.5059, -0.4745, -0.3961],\n",
       "           ...,\n",
       "           [ 0.9608,  0.9529,  0.9451,  ...,  0.9451,  0.9529,  0.9529],\n",
       "           [ 0.9529,  0.9373,  0.9294,  ...,  0.8902,  0.8980,  0.9294],\n",
       "           [ 0.9373,  0.9137,  0.8902,  ...,  0.7333,  0.7490,  0.8902]],\n",
       "  \n",
       "          [[-0.9843, -0.9843, -0.9765,  ..., -0.9686, -0.9686, -0.9765],\n",
       "           [-0.9608, -0.9608, -0.9529,  ..., -0.9529, -0.9529, -0.9529],\n",
       "           [-0.8824, -0.8745, -0.8745,  ..., -0.8824, -0.8824, -0.8588],\n",
       "           ...,\n",
       "           [ 0.0431,  0.0039, -0.0353,  ..., -0.0431, -0.0275, -0.0275],\n",
       "           [-0.0431, -0.0980, -0.1373,  ..., -0.1843, -0.1608, -0.1216],\n",
       "           [-0.1294, -0.1922, -0.2471,  ..., -0.4275, -0.4039, -0.2314]],\n",
       "  \n",
       "          [[-0.9059, -0.9059, -0.8824,  ..., -0.8431, -0.8431, -0.8588],\n",
       "           [-0.7412, -0.7333, -0.7098,  ..., -0.6863, -0.6784, -0.6863],\n",
       "           [-0.1451, -0.0902, -0.0588,  ..., -0.1059, -0.0824, -0.0510],\n",
       "           ...,\n",
       "           [-0.2235, -0.2314, -0.2392,  ..., -0.2471, -0.2471, -0.2392],\n",
       "           [-0.2627, -0.2706, -0.2784,  ..., -0.2549, -0.2549, -0.2784],\n",
       "           [-0.2784, -0.2706, -0.2706,  ..., -0.1765, -0.1843, -0.2706]]]),\n",
       "  tensor([[[-1.0000, -1.0000, -1.0000,  ..., -0.9843, -1.0000, -1.0000],\n",
       "           [-1.0000, -1.0000, -1.0000,  ..., -0.9765, -1.0000, -1.0000],\n",
       "           [-1.0000, -1.0000, -1.0000,  ..., -0.9529, -1.0000, -1.0000],\n",
       "           ...,\n",
       "           [ 0.9608,  0.9529,  0.9451,  ...,  0.7569,  0.7725,  0.8353],\n",
       "           [ 0.9765,  0.9608,  0.9529,  ...,  0.7725,  0.7961,  0.8353],\n",
       "           [ 0.9922,  0.9608,  0.9373,  ...,  0.8588,  0.8745,  0.8510]],\n",
       "  \n",
       "          [[-1.0000, -1.0000, -1.0000,  ..., -0.9843, -1.0000, -1.0000],\n",
       "           [-1.0000, -1.0000, -1.0000,  ..., -0.9843, -1.0000, -1.0000],\n",
       "           [-1.0000, -1.0000, -1.0000,  ..., -0.9765, -1.0000, -1.0000],\n",
       "           ...,\n",
       "           [ 0.0510, -0.0196, -0.0745,  ..., -0.4039, -0.3882, -0.3255],\n",
       "           [ 0.1216,  0.0196, -0.0667,  ..., -0.3804, -0.3647, -0.3255],\n",
       "           [ 0.2078,  0.0431, -0.1059,  ..., -0.2863, -0.2784, -0.3098]],\n",
       "  \n",
       "          [[-0.9686, -0.9686, -0.9686,  ..., -0.9137, -0.9686, -0.9686],\n",
       "           [-0.9686, -0.9686, -0.9686,  ..., -0.9059, -0.9686, -0.9686],\n",
       "           [-0.9686, -0.9686, -0.9686,  ..., -0.8667, -0.9686, -0.9686],\n",
       "           ...,\n",
       "           [-0.2235, -0.2471, -0.2706,  ..., -0.1922, -0.2000, -0.2392],\n",
       "           [-0.2078, -0.2392, -0.2706,  ..., -0.2000, -0.2157, -0.2392],\n",
       "           [-0.1608, -0.2235, -0.2784,  ..., -0.2549, -0.2627, -0.2471]]])]}"
      ]
     },
     "execution_count": 9,
     "metadata": {},
     "output_type": "execute_result"
    }
   ],
   "source": [
    "val_ds[:2]"
   ]
  },
  {
   "cell_type": "code",
   "execution_count": 10,
   "id": "3b067175",
   "metadata": {},
   "outputs": [],
   "source": [
    "\n",
    "from torch.utils.data import DataLoader\n",
    "import torch\n",
    "\n",
    "def collate_fn(examples):\n",
    "    pixel_values = torch.stack([example[\"pixel_values\"] for example in examples])\n",
    "    labels = torch.tensor([example[\"classID\"] for example in examples])\n",
    "    return {\"pixel_values\": pixel_values, \"labels\": labels}\n",
    "\n",
    "train_dataloader = DataLoader(train_ds, collate_fn=collate_fn, batch_size=4)"
   ]
  },
  {
   "cell_type": "code",
   "execution_count": 11,
   "id": "295fef17",
   "metadata": {},
   "outputs": [
    {
     "name": "stdout",
     "output_type": "stream",
     "text": [
      "pixel_values torch.Size([4, 3, 224, 224])\n",
      "labels torch.Size([4])\n"
     ]
    }
   ],
   "source": [
    "\n",
    "batch = next(iter(train_dataloader))\n",
    "for k,v in batch.items():\n",
    "  if isinstance(v, torch.Tensor):\n",
    "    print(k, v.shape)"
   ]
  },
  {
   "cell_type": "code",
   "execution_count": 12,
   "id": "27437aea",
   "metadata": {},
   "outputs": [
    {
     "name": "stderr",
     "output_type": "stream",
     "text": [
      "Some weights of the model checkpoint at google/vit-base-patch16-224-in21k were not used when initializing ViTForImageClassification: ['pooler.dense.bias', 'pooler.dense.weight']\n",
      "- This IS expected if you are initializing ViTForImageClassification from the checkpoint of a model trained on another task or with another architecture (e.g. initializing a BertForSequenceClassification model from a BertForPreTraining model).\n",
      "- This IS NOT expected if you are initializing ViTForImageClassification from the checkpoint of a model that you expect to be exactly identical (initializing a BertForSequenceClassification model from a BertForSequenceClassification model).\n",
      "Some weights of ViTForImageClassification were not initialized from the model checkpoint at google/vit-base-patch16-224-in21k and are newly initialized: ['classifier.bias', 'classifier.weight']\n",
      "You should probably TRAIN this model on a down-stream task to be able to use it for predictions and inference.\n"
     ]
    }
   ],
   "source": [
    "from transformers import ViTForImageClassification\n",
    "\n",
    "model = ViTForImageClassification.from_pretrained('google/vit-base-patch16-224-in21k',\n",
    "                                                  num_labels=10,\n",
    "                                                  id2label=id2label,\n",
    "                                                  label2id=label2id)"
   ]
  },
  {
   "cell_type": "code",
   "execution_count": 2,
   "id": "57d44c6d",
   "metadata": {},
   "outputs": [
    {
     "ename": "NameError",
     "evalue": "name 'model' is not defined",
     "output_type": "error",
     "traceback": [
      "\u001b[0;31m---------------------------------------------------------------------------\u001b[0m",
      "\u001b[0;31mNameError\u001b[0m                                 Traceback (most recent call last)",
      "Cell \u001b[0;32mIn[2], line 2\u001b[0m\n\u001b[1;32m      1\u001b[0m \u001b[38;5;66;03m# Changing the number of attention heads from 12 -> 6 -- Dropping 2 heads\u001b[39;00m\n\u001b[0;32m----> 2\u001b[0m \u001b[43mmodel\u001b[49m\u001b[38;5;241m.\u001b[39mconfig\u001b[38;5;241m.\u001b[39mnum_attention_heads \u001b[38;5;241m=\u001b[39m \u001b[38;5;241m6\u001b[39m\n",
      "\u001b[0;31mNameError\u001b[0m: name 'model' is not defined"
     ]
    }
   ],
   "source": [
    "# Changing the number of attention heads from 12 -> 10 -- Dropping 2 heads\n",
    "model.config.num_attention_heads = 10"
   ]
  },
  {
   "cell_type": "code",
   "execution_count": 3,
   "id": "ee63e38c",
   "metadata": {},
   "outputs": [
    {
     "ename": "NameError",
     "evalue": "name 'model' is not defined",
     "output_type": "error",
     "traceback": [
      "\u001b[0;31m---------------------------------------------------------------------------\u001b[0m",
      "\u001b[0;31mNameError\u001b[0m                                 Traceback (most recent call last)",
      "Cell \u001b[0;32mIn[3], line 1\u001b[0m\n\u001b[0;32m----> 1\u001b[0m \u001b[43mmodel\u001b[49m\u001b[38;5;241m.\u001b[39mconfig\n",
      "\u001b[0;31mNameError\u001b[0m: name 'model' is not defined"
     ]
    }
   ],
   "source": [
    "model.config"
   ]
  },
  {
   "cell_type": "code",
   "execution_count": 15,
   "id": "c0a4cc2f",
   "metadata": {},
   "outputs": [
    {
     "name": "stdout",
     "output_type": "stream",
     "text": [
      "/home/ubuntu/.cache/huggingface/hub\n"
     ]
    }
   ],
   "source": [
    "from transformers import file_utils\n",
    "print(file_utils.default_cache_path)"
   ]
  },
  {
   "cell_type": "code",
   "execution_count": 16,
   "id": "f4ccc130",
   "metadata": {},
   "outputs": [],
   "source": [
    "from transformers import TrainingArguments, Trainer\n",
    "\n",
    "metric_name = \"accuracy\"\n",
    "\n",
    "args = TrainingArguments(\n",
    "    f\"test-urbansound8k-10\",\n",
    "    save_strategy=\"epoch\",\n",
    "    evaluation_strategy=\"epoch\",\n",
    "    learning_rate=2e-5,\n",
    "    per_device_train_batch_size=10,\n",
    "    per_device_eval_batch_size=4,\n",
    "    num_train_epochs=13,\n",
    "    weight_decay=0.01,\n",
    "    load_best_model_at_end=True,\n",
    "    metric_for_best_model=metric_name,\n",
    "    logging_dir='logs',\n",
    "    remove_unused_columns=False,\n",
    ")"
   ]
  },
  {
   "cell_type": "code",
   "execution_count": 17,
   "id": "77c92e80",
   "metadata": {},
   "outputs": [
    {
     "name": "stderr",
     "output_type": "stream",
     "text": [
      "/tmp/ipykernel_10311/1052707893.py:4: FutureWarning: load_metric is deprecated and will be removed in the next major version of datasets. Use 'evaluate.load' instead, from the new library 🤗 Evaluate: https://huggingface.co/docs/evaluate\n",
      "  metric = load_metric(\"accuracy\")\n"
     ]
    }
   ],
   "source": [
    "from datasets import load_metric\n",
    "import numpy as np\n",
    "\n",
    "metric = load_metric(\"accuracy\")\n",
    "\n",
    "def compute_metrics(eval_pred):\n",
    "    predictions, labels = eval_pred\n",
    "    predictions = np.argmax(predictions, axis=1)\n",
    "    return metric.compute(predictions=predictions, references=labels)"
   ]
  },
  {
   "cell_type": "code",
   "execution_count": 18,
   "id": "f8159dbe",
   "metadata": {},
   "outputs": [],
   "source": [
    "import torch\n",
    "\n",
    "trainer = Trainer(\n",
    "    model,\n",
    "    args,\n",
    "    train_dataset=train_ds,\n",
    "    eval_dataset=val_ds,\n",
    "    data_collator=collate_fn,\n",
    "    compute_metrics=compute_metrics,\n",
    "    tokenizer=feature_extractor,\n",
    "    callbacks = [EarlyStoppingCallback(early_stopping_patience=5)]\n",
    ")"
   ]
  },
  {
   "cell_type": "code",
   "execution_count": null,
   "id": "0aad2558",
   "metadata": {},
   "outputs": [],
   "source": []
  },
  {
   "cell_type": "code",
   "execution_count": 19,
   "id": "ba8a6938",
   "metadata": {},
   "outputs": [
    {
     "data": {
      "text/plain": [
       "Dataset({\n",
       "    features: ['image', 'classID', 'class'],\n",
       "    num_rows: 5500\n",
       "})"
      ]
     },
     "execution_count": 19,
     "metadata": {},
     "output_type": "execute_result"
    }
   ],
   "source": [
    "train_ds"
   ]
  },
  {
   "cell_type": "code",
   "execution_count": 20,
   "id": "b4ee5adf",
   "metadata": {},
   "outputs": [
    {
     "data": {
      "text/html": [
       "\n",
       "      <iframe id=\"tensorboard-frame-1c80317fa3b1799d\" width=\"100%\" height=\"800\" frameborder=\"0\">\n",
       "      </iframe>\n",
       "      <script>\n",
       "        (function() {\n",
       "          const frame = document.getElementById(\"tensorboard-frame-1c80317fa3b1799d\");\n",
       "          const url = new URL(\"/\", window.location);\n",
       "          const port = 6006;\n",
       "          if (port) {\n",
       "            url.port = port;\n",
       "          }\n",
       "          frame.src = url;\n",
       "        })();\n",
       "      </script>\n",
       "    "
      ],
      "text/plain": [
       "<IPython.core.display.HTML object>"
      ]
     },
     "metadata": {},
     "output_type": "display_data"
    }
   ],
   "source": [
    "\n",
    "# Start tensorboard.\n",
    "%load_ext tensorboard\n",
    "%tensorboard --logdir logs/"
   ]
  },
  {
   "cell_type": "code",
   "execution_count": null,
   "id": "80857146",
   "metadata": {},
   "outputs": [],
   "source": []
  },
  {
   "cell_type": "code",
   "execution_count": 22,
   "id": "69961efd",
   "metadata": {},
   "outputs": [
    {
     "name": "stderr",
     "output_type": "stream",
     "text": [
      "***** Running training *****\n",
      "  Num examples = 5500\n",
      "  Num Epochs = 50\n",
      "  Instantaneous batch size per device = 10\n",
      "  Total train batch size (w. parallel, distributed & accumulation) = 10\n",
      "  Gradient Accumulation steps = 1\n",
      "  Total optimization steps = 27500\n",
      "  Number of trainable parameters = 85806346\n"
     ]
    },
    {
     "data": {
      "text/html": [
       "\n",
       "    <div>\n",
       "      \n",
       "      <progress value='7248' max='27500' style='width:300px; height:20px; vertical-align: middle;'></progress>\n",
       "      [ 7248/27500 54:07 < 2:31:16, 2.23 it/s, Epoch 13.18/50]\n",
       "    </div>\n",
       "    <table border=\"1\" class=\"dataframe\">\n",
       "  <thead>\n",
       " <tr style=\"text-align: left;\">\n",
       "      <th>Epoch</th>\n",
       "      <th>Training Loss</th>\n",
       "      <th>Validation Loss</th>\n",
       "      <th>Accuracy</th>\n",
       "    </tr>\n",
       "  </thead>\n",
       "  <tbody>\n",
       "    <tr>\n",
       "      <td>1</td>\n",
       "      <td>0.923400</td>\n",
       "      <td>0.654688</td>\n",
       "      <td>0.861111</td>\n",
       "    </tr>\n",
       "    <tr>\n",
       "      <td>2</td>\n",
       "      <td>0.706500</td>\n",
       "      <td>0.543355</td>\n",
       "      <td>0.857843</td>\n",
       "    </tr>\n",
       "    <tr>\n",
       "      <td>3</td>\n",
       "      <td>0.586700</td>\n",
       "      <td>0.460020</td>\n",
       "      <td>0.887255</td>\n",
       "    </tr>\n",
       "    <tr>\n",
       "      <td>4</td>\n",
       "      <td>0.511300</td>\n",
       "      <td>0.345101</td>\n",
       "      <td>0.911765</td>\n",
       "    </tr>\n",
       "    <tr>\n",
       "      <td>5</td>\n",
       "      <td>0.467300</td>\n",
       "      <td>0.327583</td>\n",
       "      <td>0.911765</td>\n",
       "    </tr>\n",
       "    <tr>\n",
       "      <td>6</td>\n",
       "      <td>0.436300</td>\n",
       "      <td>0.332422</td>\n",
       "      <td>0.906863</td>\n",
       "    </tr>\n",
       "    <tr>\n",
       "      <td>7</td>\n",
       "      <td>0.386500</td>\n",
       "      <td>0.319718</td>\n",
       "      <td>0.919935</td>\n",
       "    </tr>\n",
       "    <tr>\n",
       "      <td>8</td>\n",
       "      <td>0.388900</td>\n",
       "      <td>0.247142</td>\n",
       "      <td>0.936275</td>\n",
       "    </tr>\n",
       "    <tr>\n",
       "      <td>9</td>\n",
       "      <td>0.337800</td>\n",
       "      <td>0.265344</td>\n",
       "      <td>0.931373</td>\n",
       "    </tr>\n",
       "    <tr>\n",
       "      <td>10</td>\n",
       "      <td>0.311900</td>\n",
       "      <td>0.221502</td>\n",
       "      <td>0.946078</td>\n",
       "    </tr>\n",
       "    <tr>\n",
       "      <td>11</td>\n",
       "      <td>0.295500</td>\n",
       "      <td>0.219185</td>\n",
       "      <td>0.942810</td>\n",
       "    </tr>\n",
       "    <tr>\n",
       "      <td>12</td>\n",
       "      <td>0.265500</td>\n",
       "      <td>0.212169</td>\n",
       "      <td>0.941176</td>\n",
       "    </tr>\n",
       "    <tr>\n",
       "      <td>13</td>\n",
       "      <td>0.261400</td>\n",
       "      <td>0.228671</td>\n",
       "      <td>0.937908</td>\n",
       "    </tr>\n",
       "  </tbody>\n",
       "</table><p>\n",
       "    <div>\n",
       "      \n",
       "      <progress value='655' max='655' style='width:300px; height:20px; vertical-align: middle;'></progress>\n",
       "      [655/655 00:43]\n",
       "    </div>\n",
       "    "
      ],
      "text/plain": [
       "<IPython.core.display.HTML object>"
      ]
     },
     "metadata": {},
     "output_type": "display_data"
    },
    {
     "name": "stderr",
     "output_type": "stream",
     "text": [
      "***** Running Evaluation *****\n",
      "  Num examples = 612\n",
      "  Batch size = 4\n",
      "Saving model checkpoint to test-cifar-10/checkpoint-550\n",
      "Configuration saved in test-cifar-10/checkpoint-550/config.json\n",
      "Model weights saved in test-cifar-10/checkpoint-550/pytorch_model.bin\n",
      "Image processor saved in test-cifar-10/checkpoint-550/preprocessor_config.json\n",
      "***** Running Evaluation *****\n",
      "  Num examples = 612\n",
      "  Batch size = 4\n",
      "Saving model checkpoint to test-cifar-10/checkpoint-1100\n",
      "Configuration saved in test-cifar-10/checkpoint-1100/config.json\n",
      "Model weights saved in test-cifar-10/checkpoint-1100/pytorch_model.bin\n",
      "Image processor saved in test-cifar-10/checkpoint-1100/preprocessor_config.json\n",
      "***** Running Evaluation *****\n",
      "  Num examples = 612\n",
      "  Batch size = 4\n",
      "Saving model checkpoint to test-cifar-10/checkpoint-1650\n",
      "Configuration saved in test-cifar-10/checkpoint-1650/config.json\n",
      "Model weights saved in test-cifar-10/checkpoint-1650/pytorch_model.bin\n",
      "Image processor saved in test-cifar-10/checkpoint-1650/preprocessor_config.json\n",
      "***** Running Evaluation *****\n",
      "  Num examples = 612\n",
      "  Batch size = 4\n",
      "Saving model checkpoint to test-cifar-10/checkpoint-2200\n",
      "Configuration saved in test-cifar-10/checkpoint-2200/config.json\n",
      "Model weights saved in test-cifar-10/checkpoint-2200/pytorch_model.bin\n",
      "Image processor saved in test-cifar-10/checkpoint-2200/preprocessor_config.json\n",
      "***** Running Evaluation *****\n",
      "  Num examples = 612\n",
      "  Batch size = 4\n",
      "Saving model checkpoint to test-cifar-10/checkpoint-2750\n",
      "Configuration saved in test-cifar-10/checkpoint-2750/config.json\n",
      "Model weights saved in test-cifar-10/checkpoint-2750/pytorch_model.bin\n",
      "Image processor saved in test-cifar-10/checkpoint-2750/preprocessor_config.json\n",
      "***** Running Evaluation *****\n",
      "  Num examples = 612\n",
      "  Batch size = 4\n",
      "Saving model checkpoint to test-cifar-10/checkpoint-3300\n",
      "Configuration saved in test-cifar-10/checkpoint-3300/config.json\n",
      "Model weights saved in test-cifar-10/checkpoint-3300/pytorch_model.bin\n",
      "Image processor saved in test-cifar-10/checkpoint-3300/preprocessor_config.json\n",
      "***** Running Evaluation *****\n",
      "  Num examples = 612\n",
      "  Batch size = 4\n",
      "Saving model checkpoint to test-cifar-10/checkpoint-3850\n",
      "Configuration saved in test-cifar-10/checkpoint-3850/config.json\n",
      "Model weights saved in test-cifar-10/checkpoint-3850/pytorch_model.bin\n",
      "Image processor saved in test-cifar-10/checkpoint-3850/preprocessor_config.json\n",
      "***** Running Evaluation *****\n",
      "  Num examples = 612\n",
      "  Batch size = 4\n",
      "Saving model checkpoint to test-cifar-10/checkpoint-4400\n",
      "Configuration saved in test-cifar-10/checkpoint-4400/config.json\n",
      "Model weights saved in test-cifar-10/checkpoint-4400/pytorch_model.bin\n",
      "Image processor saved in test-cifar-10/checkpoint-4400/preprocessor_config.json\n",
      "***** Running Evaluation *****\n",
      "  Num examples = 612\n",
      "  Batch size = 4\n",
      "Saving model checkpoint to test-cifar-10/checkpoint-4950\n",
      "Configuration saved in test-cifar-10/checkpoint-4950/config.json\n",
      "Model weights saved in test-cifar-10/checkpoint-4950/pytorch_model.bin\n",
      "Image processor saved in test-cifar-10/checkpoint-4950/preprocessor_config.json\n",
      "***** Running Evaluation *****\n",
      "  Num examples = 612\n",
      "  Batch size = 4\n",
      "Saving model checkpoint to test-cifar-10/checkpoint-5500\n",
      "Configuration saved in test-cifar-10/checkpoint-5500/config.json\n",
      "Model weights saved in test-cifar-10/checkpoint-5500/pytorch_model.bin\n",
      "Image processor saved in test-cifar-10/checkpoint-5500/preprocessor_config.json\n",
      "***** Running Evaluation *****\n",
      "  Num examples = 612\n",
      "  Batch size = 4\n",
      "Saving model checkpoint to test-cifar-10/checkpoint-6050\n",
      "Configuration saved in test-cifar-10/checkpoint-6050/config.json\n",
      "Model weights saved in test-cifar-10/checkpoint-6050/pytorch_model.bin\n",
      "Image processor saved in test-cifar-10/checkpoint-6050/preprocessor_config.json\n",
      "***** Running Evaluation *****\n",
      "  Num examples = 612\n",
      "  Batch size = 4\n",
      "Saving model checkpoint to test-cifar-10/checkpoint-6600\n",
      "Configuration saved in test-cifar-10/checkpoint-6600/config.json\n",
      "Model weights saved in test-cifar-10/checkpoint-6600/pytorch_model.bin\n",
      "Image processor saved in test-cifar-10/checkpoint-6600/preprocessor_config.json\n",
      "***** Running Evaluation *****\n",
      "  Num examples = 612\n",
      "  Batch size = 4\n",
      "Saving model checkpoint to test-cifar-10/checkpoint-7150\n",
      "Configuration saved in test-cifar-10/checkpoint-7150/config.json\n",
      "Model weights saved in test-cifar-10/checkpoint-7150/pytorch_model.bin\n",
      "Image processor saved in test-cifar-10/checkpoint-7150/preprocessor_config.json\n"
     ]
    },
    {
     "ename": "KeyboardInterrupt",
     "evalue": "",
     "output_type": "error",
     "traceback": [
      "\u001b[0;31m---------------------------------------------------------------------------\u001b[0m",
      "\u001b[0;31mKeyboardInterrupt\u001b[0m                         Traceback (most recent call last)",
      "Cell \u001b[0;32mIn[22], line 1\u001b[0m\n\u001b[0;32m----> 1\u001b[0m \u001b[43mtrainer\u001b[49m\u001b[38;5;241;43m.\u001b[39;49m\u001b[43mtrain\u001b[49m\u001b[43m(\u001b[49m\u001b[43m)\u001b[49m\n",
      "File \u001b[0;32m~/mlenv/lib/python3.8/site-packages/transformers/trainer.py:1527\u001b[0m, in \u001b[0;36mTrainer.train\u001b[0;34m(self, resume_from_checkpoint, trial, ignore_keys_for_eval, **kwargs)\u001b[0m\n\u001b[1;32m   1522\u001b[0m     \u001b[38;5;28mself\u001b[39m\u001b[38;5;241m.\u001b[39mmodel_wrapped \u001b[38;5;241m=\u001b[39m \u001b[38;5;28mself\u001b[39m\u001b[38;5;241m.\u001b[39mmodel\n\u001b[1;32m   1524\u001b[0m inner_training_loop \u001b[38;5;241m=\u001b[39m find_executable_batch_size(\n\u001b[1;32m   1525\u001b[0m     \u001b[38;5;28mself\u001b[39m\u001b[38;5;241m.\u001b[39m_inner_training_loop, \u001b[38;5;28mself\u001b[39m\u001b[38;5;241m.\u001b[39m_train_batch_size, args\u001b[38;5;241m.\u001b[39mauto_find_batch_size\n\u001b[1;32m   1526\u001b[0m )\n\u001b[0;32m-> 1527\u001b[0m \u001b[38;5;28;01mreturn\u001b[39;00m \u001b[43minner_training_loop\u001b[49m\u001b[43m(\u001b[49m\n\u001b[1;32m   1528\u001b[0m \u001b[43m    \u001b[49m\u001b[43margs\u001b[49m\u001b[38;5;241;43m=\u001b[39;49m\u001b[43margs\u001b[49m\u001b[43m,\u001b[49m\n\u001b[1;32m   1529\u001b[0m \u001b[43m    \u001b[49m\u001b[43mresume_from_checkpoint\u001b[49m\u001b[38;5;241;43m=\u001b[39;49m\u001b[43mresume_from_checkpoint\u001b[49m\u001b[43m,\u001b[49m\n\u001b[1;32m   1530\u001b[0m \u001b[43m    \u001b[49m\u001b[43mtrial\u001b[49m\u001b[38;5;241;43m=\u001b[39;49m\u001b[43mtrial\u001b[49m\u001b[43m,\u001b[49m\n\u001b[1;32m   1531\u001b[0m \u001b[43m    \u001b[49m\u001b[43mignore_keys_for_eval\u001b[49m\u001b[38;5;241;43m=\u001b[39;49m\u001b[43mignore_keys_for_eval\u001b[49m\u001b[43m,\u001b[49m\n\u001b[1;32m   1532\u001b[0m \u001b[43m\u001b[49m\u001b[43m)\u001b[49m\n",
      "File \u001b[0;32m~/mlenv/lib/python3.8/site-packages/transformers/trainer.py:1777\u001b[0m, in \u001b[0;36mTrainer._inner_training_loop\u001b[0;34m(self, batch_size, args, resume_from_checkpoint, trial, ignore_keys_for_eval)\u001b[0m\n\u001b[1;32m   1774\u001b[0m \u001b[38;5;28;01melse\u001b[39;00m:\n\u001b[1;32m   1775\u001b[0m     tr_loss_step \u001b[38;5;241m=\u001b[39m \u001b[38;5;28mself\u001b[39m\u001b[38;5;241m.\u001b[39mtraining_step(model, inputs)\n\u001b[0;32m-> 1777\u001b[0m \u001b[38;5;28;01mif\u001b[39;00m (\n\u001b[1;32m   1778\u001b[0m     args\u001b[38;5;241m.\u001b[39mlogging_nan_inf_filter\n\u001b[1;32m   1779\u001b[0m     \u001b[38;5;129;01mand\u001b[39;00m \u001b[38;5;129;01mnot\u001b[39;00m is_torch_tpu_available()\n\u001b[1;32m   1780\u001b[0m     \u001b[38;5;129;01mand\u001b[39;00m (torch\u001b[38;5;241m.\u001b[39misnan(tr_loss_step) \u001b[38;5;129;01mor\u001b[39;00m torch\u001b[38;5;241m.\u001b[39misinf(tr_loss_step))\n\u001b[1;32m   1781\u001b[0m ):\n\u001b[1;32m   1782\u001b[0m     \u001b[38;5;66;03m# if loss is nan or inf simply add the average of previous logged losses\u001b[39;00m\n\u001b[1;32m   1783\u001b[0m     tr_loss \u001b[38;5;241m+\u001b[39m\u001b[38;5;241m=\u001b[39m tr_loss \u001b[38;5;241m/\u001b[39m (\u001b[38;5;241m1\u001b[39m \u001b[38;5;241m+\u001b[39m \u001b[38;5;28mself\u001b[39m\u001b[38;5;241m.\u001b[39mstate\u001b[38;5;241m.\u001b[39mglobal_step \u001b[38;5;241m-\u001b[39m \u001b[38;5;28mself\u001b[39m\u001b[38;5;241m.\u001b[39m_globalstep_last_logged)\n\u001b[1;32m   1784\u001b[0m \u001b[38;5;28;01melse\u001b[39;00m:\n",
      "\u001b[0;31mKeyboardInterrupt\u001b[0m: "
     ]
    }
   ],
   "source": [
    "trainer.train()"
   ]
  },
  {
   "cell_type": "code",
   "execution_count": 23,
   "id": "749ab243",
   "metadata": {},
   "outputs": [
    {
     "name": "stderr",
     "output_type": "stream",
     "text": [
      "***** Running Prediction *****\n",
      "  Num examples = 2620\n",
      "  Batch size = 4\n"
     ]
    }
   ],
   "source": [
    "outputs = trainer.predict(test_ds)"
   ]
  },
  {
   "cell_type": "code",
   "execution_count": 25,
   "id": "a9e3f79b",
   "metadata": {},
   "outputs": [
    {
     "name": "stdout",
     "output_type": "stream",
     "text": [
      "{'test_loss': 0.1933828741312027, 'test_accuracy': 0.9484732824427481, 'test_runtime': 44.2499, 'test_samples_per_second': 59.209, 'test_steps_per_second': 14.802}\n"
     ]
    }
   ],
   "source": [
    "print(outputs.metrics)"
   ]
  },
  {
   "cell_type": "code",
   "execution_count": 28,
   "id": "b16f1c39",
   "metadata": {},
   "outputs": [
    {
     "data": {
      "text/plain": [
       "<sklearn.metrics._plot.confusion_matrix.ConfusionMatrixDisplay at 0x7f7ab86dcbe0>"
      ]
     },
     "execution_count": 28,
     "metadata": {},
     "output_type": "execute_result"
    },
    {
     "data": {
      "image/png": "[encoded data removed]",
      "text/plain": [
       "<Figure size 640x480 with 2 Axes>"
      ]
     },
     "metadata": {},
     "output_type": "display_data"
    }
   ],
   "source": [
    "from sklearn.metrics import confusion_matrix, ConfusionMatrixDisplay\n",
    "\n",
    "y_true = outputs.label_ids\n",
    "y_pred = outputs.predictions.argmax(1)\n",
    "\n",
    "labels = id2label.values()\n",
    "cm = confusion_matrix(y_true, y_pred)\n",
    "disp = ConfusionMatrixDisplay(confusion_matrix=cm, display_labels=labels)\n",
    "disp.plot(xticks_rotation=45)"
   ]
  },
  {
   "cell_type": "code",
   "execution_count": null,
   "id": "7cdb4cd5",
   "metadata": {},
   "outputs": [],
   "source": []
  },
  {
   "cell_type": "code",
   "execution_count": 31,
   "id": "d8154a1b",
   "metadata": {},
   "outputs": [
    {
     "name": "stderr",
     "output_type": "stream",
     "text": [
      "Configuration saved in /home/ubuntu/models/AudioViT_Ablated_Multi_Head_Attention_Nodes_10/config.json\n",
      "Model weights saved in /home/ubuntu/models/AudioViT_Ablated_Multi_Head_Attention_Nodes_10/pytorch_model.bin\n"
     ]
    }
   ],
   "source": [
    "model.save_pretrained(\"/home/ubuntu/models/AudioViT_Ablated_Multi_Head_Attention_Nodes_10\")"
   ]
  },
  {
   "cell_type": "code",
   "execution_count": null,
   "id": "3c1ae1de",
   "metadata": {},
   "outputs": [],
   "source": []
  }
 ],
 "metadata": {
  "kernelspec": {
   "display_name": "Python 3 (ipykernel)",
   "language": "python",
   "name": "python3"
  },
  "language_info": {
   "codemirror_mode": {
    "name": "ipython",
    "version": 3
   },
   "file_extension": ".py",
   "mimetype": "text/x-python",
   "name": "python",
   "nbconvert_exporter": "python",
   "pygments_lexer": "ipython3",
   "version": "3.9.9"
  }
 },
 "nbformat": 4,
 "nbformat_minor": 5
}

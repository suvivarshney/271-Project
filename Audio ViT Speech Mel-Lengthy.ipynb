{
 "cells": [
  {
   "cell_type": "code",
   "execution_count": 2,
   "metadata": {
    "scrolled": true
   },
   "outputs": [],
   "source": [
    "#!pip install datasets\n",
    "#!pip install transformers\n",
    "#!pip install --upgrade torchvision\n",
    "#!pip install tensorboard"
   ]
  },
  {
   "cell_type": "code",
   "execution_count": 3,
   "metadata": {},
   "outputs": [
    {
     "name": "stderr",
     "output_type": "stream",
     "text": [
      "/usr/lib/python3/dist-packages/requests/__init__.py:89: RequestsDependencyWarning: urllib3 (1.26.13) or chardet (3.0.4) doesn't match a supported version!\n",
      "  warnings.warn(\"urllib3 ({}) or chardet ({}) doesn't match a supported \"\n"
     ]
    }
   ],
   "source": [
    "import numpy as np\n",
    "from datasets import load_dataset\n",
    "import json\n",
    "from transformers import ViTFeatureExtractor\n",
    "from torchvision.transforms import (CenterCrop, \n",
    "                                    Compose, \n",
    "                                    Normalize, \n",
    "                                    RandomHorizontalFlip,\n",
    "                                    RandomResizedCrop, \n",
    "                                    Resize, \n",
    "                                    ToTensor)\n",
    "from torch.utils.data import DataLoader\n",
    "import torch\n",
    "from transformers import ViTForImageClassification\n",
    "from transformers import file_utils\n",
    "from transformers import TrainingArguments, Trainer\n",
    "from datasets import load_metric\n",
    "import time\n",
    "from transformers import EarlyStoppingCallback, IntervalStrategy"
   ]
  },
  {
   "cell_type": "code",
   "execution_count": 4,
   "metadata": {
    "scrolled": true
   },
   "outputs": [
    {
     "data": {
      "application/vnd.jupyter.widget-view+json": {
       "model_id": "2b143a49aad249dd8554302156b05c22",
       "version_major": 2,
       "version_minor": 0
      },
      "text/plain": [
       "Resolving data files:   0%|          | 0/105843 [00:00<?, ?it/s]"
      ]
     },
     "metadata": {},
     "output_type": "display_data"
    },
    {
     "name": "stderr",
     "output_type": "stream",
     "text": [
      "Using custom data configuration default-a48d82573c99cd0c\n"
     ]
    },
    {
     "name": "stdout",
     "output_type": "stream",
     "text": [
      "Downloading and preparing dataset imagefolder/default to /global/homes/k/ktub1999/.cache/huggingface/datasets/imagefolder/default-a48d82573c99cd0c/0.0.0/37fbb85cc714a338bea574ac6c7d0b5be5aff46c1862c1989b20e0771199e93f...\n",
      "    "
     ]
    },
    {
     "data": {
      "application/vnd.jupyter.widget-view+json": {
       "model_id": "a23846b4c4254c57a4b939bafb982b63",
       "version_major": 2,
       "version_minor": 0
      },
      "text/plain": [
       "Downloading data files #0:   0%|          | 0/6616 [00:00<?, ?obj/s]"
      ]
     },
     "metadata": {},
     "output_type": "display_data"
    },
    {
     "name": "stdout",
     "output_type": "stream",
     "text": [
      " "
     ]
    },
    {
     "data": {
      "application/vnd.jupyter.widget-view+json": {
       "model_id": "d419dfb42ac44d8199125a5d4bec7ad1",
       "version_major": 2,
       "version_minor": 0
      },
      "text/plain": [
       "Downloading data files #1:   0%|          | 0/6615 [00:00<?, ?obj/s]"
      ]
     },
     "metadata": {},
     "output_type": "display_data"
    },
    {
     "name": "stdout",
     "output_type": "stream",
     "text": [
      " "
     ]
    },
    {
     "data": {
      "application/vnd.jupyter.widget-view+json": {
       "model_id": "f5b6c392d8004d858c3c051cdaa1f757",
       "version_major": 2,
       "version_minor": 0
      },
      "text/plain": [
       "Downloading data files #2:   0%|          | 0/6615 [00:00<?, ?obj/s]"
      ]
     },
     "metadata": {},
     "output_type": "display_data"
    },
    {
     "data": {
      "application/vnd.jupyter.widget-view+json": {
       "model_id": "24c58e29d1b246e0b86a5e12b1e5ce93",
       "version_major": 2,
       "version_minor": 0
      },
      "text/plain": [
       "Downloading data files #3:   0%|          | 0/6615 [00:00<?, ?obj/s]"
      ]
     },
     "metadata": {},
     "output_type": "display_data"
    },
    {
     "name": "stdout",
     "output_type": "stream",
     "text": [
      "  "
     ]
    },
    {
     "data": {
      "application/vnd.jupyter.widget-view+json": {
       "model_id": "b4500b0ae14a4766b7a2020fd5c25e54",
       "version_major": 2,
       "version_minor": 0
      },
      "text/plain": [
       "Downloading data files #4:   0%|          | 0/6615 [00:00<?, ?obj/s]"
      ]
     },
     "metadata": {},
     "output_type": "display_data"
    },
    {
     "data": {
      "application/vnd.jupyter.widget-view+json": {
       "model_id": "36bcf1f9b8864dc0961360ef2b3011b4",
       "version_major": 2,
       "version_minor": 0
      },
      "text/plain": [
       "Downloading data files #5:   0%|          | 0/6615 [00:00<?, ?obj/s]"
      ]
     },
     "metadata": {},
     "output_type": "display_data"
    },
    {
     "name": "stdout",
     "output_type": "stream",
     "text": [
      " "
     ]
    },
    {
     "data": {
      "application/vnd.jupyter.widget-view+json": {
       "model_id": "0e684410d5814494bb6dba7889d89c7d",
       "version_major": 2,
       "version_minor": 0
      },
      "text/plain": [
       "Downloading data files #7:   0%|          | 0/6615 [00:00<?, ?obj/s]"
      ]
     },
     "metadata": {},
     "output_type": "display_data"
    },
    {
     "data": {
      "application/vnd.jupyter.widget-view+json": {
       "model_id": "bad6670c6b574d1b8658bc4a036d2bde",
       "version_major": 2,
       "version_minor": 0
      },
      "text/plain": [
       "Downloading data files #6:   0%|          | 0/6615 [00:00<?, ?obj/s]"
      ]
     },
     "metadata": {},
     "output_type": "display_data"
    },
    {
     "name": "stdout",
     "output_type": "stream",
     "text": [
      "  "
     ]
    },
    {
     "data": {
      "application/vnd.jupyter.widget-view+json": {
       "model_id": "ca57188a5ef04c41a321d85fa2f4c8c3",
       "version_major": 2,
       "version_minor": 0
      },
      "text/plain": [
       "Downloading data files #9:   0%|          | 0/6615 [00:00<?, ?obj/s]"
      ]
     },
     "metadata": {},
     "output_type": "display_data"
    },
    {
     "name": "stdout",
     "output_type": "stream",
     "text": [
      "   "
     ]
    },
    {
     "data": {
      "application/vnd.jupyter.widget-view+json": {
       "model_id": "09c59d98b43f46328b3fff3327671c67",
       "version_major": 2,
       "version_minor": 0
      },
      "text/plain": [
       "Downloading data files #12:   0%|          | 0/6615 [00:00<?, ?obj/s]"
      ]
     },
     "metadata": {},
     "output_type": "display_data"
    },
    {
     "name": "stdout",
     "output_type": "stream",
     "text": [
      " "
     ]
    },
    {
     "data": {
      "application/vnd.jupyter.widget-view+json": {
       "model_id": "902e9922c2f1435a8ce95d5d4d192f33",
       "version_major": 2,
       "version_minor": 0
      },
      "text/plain": [
       "Downloading data files #8:   0%|          | 0/6615 [00:00<?, ?obj/s]"
      ]
     },
     "metadata": {},
     "output_type": "display_data"
    },
    {
     "name": "stdout",
     "output_type": "stream",
     "text": [
      " "
     ]
    },
    {
     "data": {
      "application/vnd.jupyter.widget-view+json": {
       "model_id": "18ae9bca676f4356af6a9d064049db65",
       "version_major": 2,
       "version_minor": 0
      },
      "text/plain": [
       "Downloading data files #11:   0%|          | 0/6615 [00:00<?, ?obj/s]"
      ]
     },
     "metadata": {},
     "output_type": "display_data"
    },
    {
     "data": {
      "application/vnd.jupyter.widget-view+json": {
       "model_id": "5767c7dd938c41edbc911610ff5d4328",
       "version_major": 2,
       "version_minor": 0
      },
      "text/plain": [
       "Downloading data files #13:   0%|          | 0/6615 [00:00<?, ?obj/s]"
      ]
     },
     "metadata": {},
     "output_type": "display_data"
    },
    {
     "data": {
      "application/vnd.jupyter.widget-view+json": {
       "model_id": "cd72290de91f4a85a74af7ad6662e026",
       "version_major": 2,
       "version_minor": 0
      },
      "text/plain": [
       "Downloading data files #10:   0%|          | 0/6615 [00:00<?, ?obj/s]"
      ]
     },
     "metadata": {},
     "output_type": "display_data"
    },
    {
     "data": {
      "application/vnd.jupyter.widget-view+json": {
       "model_id": "53d7f5dcd75441788aecb8826118dd1f",
       "version_major": 2,
       "version_minor": 0
      },
      "text/plain": [
       "Downloading data files #14:   0%|          | 0/6615 [00:00<?, ?obj/s]"
      ]
     },
     "metadata": {},
     "output_type": "display_data"
    },
    {
     "data": {
      "application/vnd.jupyter.widget-view+json": {
       "model_id": "99a4a43696914f99aafda0845de821a7",
       "version_major": 2,
       "version_minor": 0
      },
      "text/plain": [
       "Downloading data files #15:   0%|          | 0/6615 [00:00<?, ?obj/s]"
      ]
     },
     "metadata": {},
     "output_type": "display_data"
    },
    {
     "data": {
      "application/vnd.jupyter.widget-view+json": {
       "model_id": "29d0e1ae71bb48dc81a1499029f0c82e",
       "version_major": 2,
       "version_minor": 0
      },
      "text/plain": [
       "Downloading data files:   0%|          | 0/2 [00:00<?, ?it/s]"
      ]
     },
     "metadata": {},
     "output_type": "display_data"
    },
    {
     "name": "stdout",
     "output_type": "stream",
     "text": [
      "  "
     ]
    },
    {
     "data": {
      "application/vnd.jupyter.widget-view+json": {
       "model_id": "f64ace98484f465f86b4140ebe54c276",
       "version_major": 2,
       "version_minor": 0
      },
      "text/plain": [
       "Extracting data files #0:   0%|          | 0/1 [00:00<?, ?obj/s]"
      ]
     },
     "metadata": {},
     "output_type": "display_data"
    },
    {
     "data": {
      "application/vnd.jupyter.widget-view+json": {
       "model_id": "8cb236b9ede34f3e8347d3bbb718f888",
       "version_major": 2,
       "version_minor": 0
      },
      "text/plain": [
       "Extracting data files #1:   0%|          | 0/1 [00:00<?, ?obj/s]"
      ]
     },
     "metadata": {},
     "output_type": "display_data"
    },
    {
     "data": {
      "application/vnd.jupyter.widget-view+json": {
       "model_id": "",
       "version_major": 2,
       "version_minor": 0
      },
      "text/plain": [
       "Generating train split: 0 examples [00:00, ? examples/s]"
      ]
     },
     "metadata": {},
     "output_type": "display_data"
    },
    {
     "name": "stdout",
     "output_type": "stream",
     "text": [
      "Dataset imagefolder downloaded and prepared to /global/homes/k/ktub1999/.cache/huggingface/datasets/imagefolder/default-a48d82573c99cd0c/0.0.0/37fbb85cc714a338bea574ac6c7d0b5be5aff46c1862c1989b20e0771199e93f. Subsequent calls will reuse this data.\n"
     ]
    }
   ],
   "source": [
    "train_ds = load_dataset(\"imagefolder\", data_dir=\"./MelLong\", split=\"train\")"
   ]
  },
  {
   "cell_type": "code",
   "execution_count": 5,
   "metadata": {},
   "outputs": [],
   "source": [
    "# split up training into training + validation\n",
    "splits = train_ds.train_test_split(test_size=0.3)\n",
    "train_val_ds = splits['train']\n",
    "test_ds = splits['test']\n",
    "\n",
    "splits = train_val_ds.train_test_split(test_size=0.1)\n",
    "train_ds = splits['train']\n",
    "val_ds = splits['test']\n"
   ]
  },
  {
   "cell_type": "code",
   "execution_count": 6,
   "metadata": {},
   "outputs": [
    {
     "name": "stdout",
     "output_type": "stream",
     "text": [
      "66672 31749 7408\n"
     ]
    }
   ],
   "source": [
    "print(len(train_ds),len(test_ds),len(val_ds))"
   ]
  },
  {
   "cell_type": "code",
   "execution_count": 7,
   "metadata": {},
   "outputs": [],
   "source": [
    "import os\n",
    "cl=os.listdir('./SpeechCommand/SpeechCommands/speech_commands_v0.02/')\n",
    "Class={}\n",
    "cnt=0\n",
    "for c in cl:\n",
    "    Class[c]=cnt\n",
    "    cnt+=1\n",
    "Class\n",
    "\n",
    "label2id=Class\n",
    "id2label = {v: k for k, v in Class.items()}\n",
    "\n",
    "\n",
    "with open(\"./MelLong/\"+'id2label.json', 'w') as outfile:\n",
    "    json.dump(id2label,outfile)\n",
    "with open(\"./MelLong/\"+'label2id.json', 'w') as outfile:\n",
    "    json.dump(label2id,outfile)"
   ]
  },
  {
   "cell_type": "code",
   "execution_count": 8,
   "metadata": {},
   "outputs": [
    {
     "data": {
      "text/plain": [
       "Dataset({\n",
       "    features: ['image', 'classID', 'class'],\n",
       "    num_rows: 66672\n",
       "})"
      ]
     },
     "execution_count": 8,
     "metadata": {},
     "output_type": "execute_result"
    }
   ],
   "source": [
    "train_ds"
   ]
  },
  {
   "cell_type": "code",
   "execution_count": 9,
   "metadata": {},
   "outputs": [
    {
     "data": {
      "text/plain": [
       "{0: 'sheila',\n",
       " 1: 'house',\n",
       " 2: 'dog',\n",
       " 3: 'README.md',\n",
       " 4: 'validation_list.txt',\n",
       " 5: '.DS_Store',\n",
       " 6: 'go',\n",
       " 7: 'right',\n",
       " 8: 'bed',\n",
       " 9: 'visual',\n",
       " 10: 'LICENSE',\n",
       " 11: 'stop',\n",
       " 12: 'marvin',\n",
       " 13: 'two',\n",
       " 14: 'yes',\n",
       " 15: 'seven',\n",
       " 16: 'five',\n",
       " 17: 'one',\n",
       " 18: 'cat',\n",
       " 19: 'follow',\n",
       " 20: '_background_noise_',\n",
       " 21: 'off',\n",
       " 22: 'wow',\n",
       " 23: 'tree',\n",
       " 24: 'six',\n",
       " 25: 'three',\n",
       " 26: 'forward',\n",
       " 27: 'up',\n",
       " 28: 'on',\n",
       " 29: 'happy',\n",
       " 30: 'no',\n",
       " 31: 'zero',\n",
       " 32: 'learn',\n",
       " 33: 'backward',\n",
       " 34: 'down',\n",
       " 35: 'testing_list.txt',\n",
       " 36: 'eight',\n",
       " 37: 'bird',\n",
       " 38: 'nine',\n",
       " 39: 'left',\n",
       " 40: 'four'}"
      ]
     },
     "execution_count": 9,
     "metadata": {},
     "output_type": "execute_result"
    }
   ],
   "source": [
    "with open('./MelLong/label2id.json') as f:\n",
    "    label2id = json.load(f)\n",
    "\n",
    "with open('./MelLong/id2label.json') as f:\n",
    "    id2label = json.load(f)\n",
    "\n",
    "id2label = {int(key):value for key,value in id2label.items()}\n",
    "id2label"
   ]
  },
  {
   "cell_type": "code",
   "execution_count": 10,
   "metadata": {},
   "outputs": [],
   "source": [
    "feature_extractor = ViTFeatureExtractor.from_pretrained(\"google/vit-base-patch16-224-in21k\")"
   ]
  },
  {
   "cell_type": "code",
   "execution_count": 11,
   "metadata": {
    "scrolled": true
   },
   "outputs": [],
   "source": [
    "normalize = Normalize(mean=feature_extractor.image_mean, std=feature_extractor.image_std)"
   ]
  },
  {
   "cell_type": "code",
   "execution_count": 12,
   "metadata": {},
   "outputs": [],
   "source": [
    "_train_transforms = Compose(\n",
    "        [\n",
    "            RandomResizedCrop(tuple(feature_extractor.size.values())),\n",
    "            RandomHorizontalFlip(),\n",
    "            ToTensor(),\n",
    "            normalize,\n",
    "        ]\n",
    "    )\n",
    "\n",
    "_val_transforms = Compose(\n",
    "        [\n",
    "            Resize(tuple(feature_extractor.size.values())),\n",
    "            CenterCrop(tuple(feature_extractor.size.values())),\n",
    "            ToTensor(),\n",
    "            normalize,\n",
    "        ]\n",
    "    )"
   ]
  },
  {
   "cell_type": "code",
   "execution_count": 13,
   "metadata": {},
   "outputs": [],
   "source": [
    "def train_transforms(examples):\n",
    "    examples['pixel_values'] = [_train_transforms(image.convert(\"RGB\")) for image in examples['image']]\n",
    "    return examples\n",
    "\n",
    "def val_transforms(examples):\n",
    "    examples['pixel_values'] = [_val_transforms(image.convert(\"RGB\")) for image in examples['image']]\n",
    "    return examples"
   ]
  },
  {
   "cell_type": "code",
   "execution_count": 14,
   "metadata": {},
   "outputs": [],
   "source": [
    "# Set the transforms\n",
    "train_ds.set_transform(train_transforms)\n",
    "val_ds.set_transform(val_transforms)\n",
    "test_ds.set_transform(val_transforms)"
   ]
  },
  {
   "cell_type": "code",
   "execution_count": 15,
   "metadata": {
    "scrolled": true
   },
   "outputs": [
    {
     "data": {
      "text/plain": [
       "{'image': [<PIL.PngImagePlugin.PngImageFile image mode=RGBA size=201x128 at 0x7F4D627E7220>,\n",
       "  <PIL.PngImagePlugin.PngImageFile image mode=RGBA size=192x128 at 0x7F4D627E72B0>],\n",
       " 'classID': [26, 37],\n",
       " 'class': ['forward', 'bird'],\n",
       " 'pixel_values': [tensor([[[-0.4667, -0.4667, -0.4667,  ..., -0.4667, -0.4667, -0.4667],\n",
       "           [-0.4667, -0.4667, -0.4667,  ..., -0.4667, -0.4667, -0.4667],\n",
       "           [-0.4667, -0.4667, -0.4667,  ..., -0.4667, -0.4667, -0.4667],\n",
       "           ...,\n",
       "           [-0.4667, -0.4667, -0.4667,  ..., -0.4667, -0.4667, -0.4667],\n",
       "           [-0.4667, -0.4667, -0.4667,  ..., -0.4667, -0.4667, -0.4667],\n",
       "           [-0.4667, -0.4667, -0.4667,  ..., -0.4667, -0.4667, -0.4667]],\n",
       "  \n",
       "          [[-0.9922, -0.9922, -0.9922,  ..., -0.9922, -0.9922, -0.9922],\n",
       "           [-0.9922, -0.9922, -0.9922,  ..., -0.9922, -0.9922, -0.9922],\n",
       "           [-0.9922, -0.9922, -0.9843,  ..., -0.9922, -0.9922, -0.9922],\n",
       "           ...,\n",
       "           [-0.9922, -0.9922, -0.9922,  ..., -0.9922, -0.9922, -0.9922],\n",
       "           [-0.9922, -0.9922, -0.9922,  ..., -0.9922, -0.9922, -0.9922],\n",
       "           [-0.9922, -0.9922, -0.9922,  ..., -0.9922, -0.9922, -0.9922]],\n",
       "  \n",
       "          [[-0.3412, -0.3412, -0.3412,  ..., -0.3412, -0.3412, -0.3412],\n",
       "           [-0.3412, -0.3412, -0.3412,  ..., -0.3412, -0.3412, -0.3412],\n",
       "           [-0.3412, -0.3412, -0.3333,  ..., -0.3412, -0.3412, -0.3412],\n",
       "           ...,\n",
       "           [-0.3412, -0.3412, -0.3412,  ..., -0.3412, -0.3412, -0.3412],\n",
       "           [-0.3412, -0.3412, -0.3412,  ..., -0.3412, -0.3412, -0.3412],\n",
       "           [-0.3412, -0.3412, -0.3412,  ..., -0.3412, -0.3412, -0.3412]]]),\n",
       "  tensor([[[-0.4667, -0.4667, -0.4667,  ..., -0.4667, -0.4667, -0.4667],\n",
       "           [-0.4667, -0.4667, -0.4667,  ..., -0.4667, -0.4667, -0.4667],\n",
       "           [-0.4667, -0.4667, -0.4667,  ..., -0.4667, -0.4667, -0.4667],\n",
       "           ...,\n",
       "           [-0.4667, -0.4667, -0.4667,  ..., -0.4667, -0.4667, -0.4667],\n",
       "           [-0.4667, -0.4667, -0.4667,  ..., -0.4667, -0.4667, -0.4667],\n",
       "           [-0.4667, -0.4667, -0.4667,  ..., -0.4667, -0.4667, -0.4667]],\n",
       "  \n",
       "          [[-0.9922, -0.9922, -0.9922,  ..., -0.9922, -0.9922, -0.9922],\n",
       "           [-0.9922, -0.9922, -0.9922,  ..., -0.9922, -0.9922, -0.9922],\n",
       "           [-0.9922, -0.9922, -0.9922,  ..., -0.9922, -0.9922, -0.9922],\n",
       "           ...,\n",
       "           [-0.9922, -0.9922, -0.9922,  ..., -0.9922, -0.9922, -0.9922],\n",
       "           [-0.9922, -0.9922, -0.9922,  ..., -0.9922, -0.9922, -0.9922],\n",
       "           [-0.9922, -0.9922, -0.9922,  ..., -0.9922, -0.9922, -0.9922]],\n",
       "  \n",
       "          [[-0.3412, -0.3412, -0.3412,  ..., -0.3412, -0.3412, -0.3412],\n",
       "           [-0.3412, -0.3412, -0.3412,  ..., -0.3412, -0.3412, -0.3412],\n",
       "           [-0.3412, -0.3412, -0.3412,  ..., -0.3412, -0.3412, -0.3412],\n",
       "           ...,\n",
       "           [-0.3412, -0.3412, -0.3412,  ..., -0.3412, -0.3412, -0.3412],\n",
       "           [-0.3412, -0.3412, -0.3412,  ..., -0.3412, -0.3412, -0.3412],\n",
       "           [-0.3412, -0.3412, -0.3412,  ..., -0.3412, -0.3412, -0.3412]]])]}"
      ]
     },
     "execution_count": 15,
     "metadata": {},
     "output_type": "execute_result"
    }
   ],
   "source": [
    "train_ds[:2]"
   ]
  },
  {
   "cell_type": "code",
   "execution_count": 16,
   "metadata": {},
   "outputs": [],
   "source": [
    "def collate_fn(examples):\n",
    "    pixel_values = torch.stack([example[\"pixel_values\"] for example in examples])\n",
    "    labels = torch.tensor([example[\"classID\"] for example in examples])\n",
    "    return {\"pixel_values\": pixel_values, \"labels\": labels}\n",
    "\n",
    "train_dataloader = DataLoader(train_ds, collate_fn=collate_fn, batch_size=4)\n"
   ]
  },
  {
   "cell_type": "code",
   "execution_count": 17,
   "metadata": {},
   "outputs": [
    {
     "name": "stdout",
     "output_type": "stream",
     "text": [
      "pixel_values torch.Size([4, 3, 224, 224])\n",
      "labels torch.Size([4])\n"
     ]
    }
   ],
   "source": [
    "batch = next(iter(train_dataloader))\n",
    "for k,v in batch.items():\n",
    "    if isinstance(v, torch.Tensor):\n",
    "        print(k, v.shape)"
   ]
  },
  {
   "cell_type": "code",
   "execution_count": 18,
   "metadata": {},
   "outputs": [
    {
     "name": "stderr",
     "output_type": "stream",
     "text": [
      "Some weights of the model checkpoint at google/vit-base-patch16-224-in21k were not used when initializing ViTForImageClassification: ['pooler.dense.bias', 'pooler.dense.weight']\n",
      "- This IS expected if you are initializing ViTForImageClassification from the checkpoint of a model trained on another task or with another architecture (e.g. initializing a BertForSequenceClassification model from a BertForPreTraining model).\n",
      "- This IS NOT expected if you are initializing ViTForImageClassification from the checkpoint of a model that you expect to be exactly identical (initializing a BertForSequenceClassification model from a BertForSequenceClassification model).\n",
      "Some weights of ViTForImageClassification were not initialized from the model checkpoint at google/vit-base-patch16-224-in21k and are newly initialized: ['classifier.weight', 'classifier.bias']\n",
      "You should probably TRAIN this model on a down-stream task to be able to use it for predictions and inference.\n"
     ]
    }
   ],
   "source": [
    "model = ViTForImageClassification.from_pretrained('google/vit-base-patch16-224-in21k',\n",
    "                                                  num_labels=41,\n",
    "                                                  id2label=id2label,\n",
    "                                                  label2id=label2id)"
   ]
  },
  {
   "cell_type": "code",
   "execution_count": 19,
   "metadata": {},
   "outputs": [],
   "source": [
    "metric_name = \"accuracy\"\n",
    "\n",
    "args = TrainingArguments(\n",
    "    f\"train-UrbanSounds8k\",\n",
    "    save_strategy=\"epoch\",\n",
    "    evaluation_strategy=\"epoch\",\n",
    "    learning_rate=2e-5,\n",
    "    per_device_train_batch_size=10,\n",
    "    per_device_eval_batch_size=4,\n",
    "    num_train_epochs=50,\n",
    "    weight_decay=0.01,\n",
    "    load_best_model_at_end=True,\n",
    "    metric_for_best_model=metric_name,\n",
    "    logging_dir='logs',\n",
    "    remove_unused_columns=False,\n",
    ")\n",
    "\n"
   ]
  },
  {
   "cell_type": "code",
   "execution_count": 20,
   "metadata": {},
   "outputs": [
    {
     "name": "stderr",
     "output_type": "stream",
     "text": [
      "/tmp/ipykernel_190992/371032755.py:1: FutureWarning: load_metric is deprecated and will be removed in the next major version of datasets. Use 'evaluate.load' instead, from the new library 🤗 Evaluate: https://huggingface.co/docs/evaluate\n",
      "  metric = load_metric(\"accuracy\")\n"
     ]
    }
   ],
   "source": [
    "metric = load_metric(\"accuracy\")\n",
    "\n",
    "def compute_metrics(eval_pred):\n",
    "    predictions, labels = eval_pred\n",
    "    predictions = np.argmax(predictions, axis=1)\n",
    "    return metric.compute(predictions=predictions, references=labels)"
   ]
  },
  {
   "cell_type": "code",
   "execution_count": 21,
   "metadata": {},
   "outputs": [],
   "source": [
    "trainer = Trainer(\n",
    "    model,\n",
    "    args,\n",
    "    train_dataset=train_ds,\n",
    "    eval_dataset=val_ds,\n",
    "    data_collator=collate_fn,\n",
    "    compute_metrics=compute_metrics,\n",
    "    tokenizer=feature_extractor,\n",
    "    callbacks = [EarlyStoppingCallback(early_stopping_patience=5)]\n",
    ")\n"
   ]
  },
  {
   "cell_type": "code",
   "execution_count": 22,
   "metadata": {
    "scrolled": false
   },
   "outputs": [
    {
     "name": "stderr",
     "output_type": "stream",
     "text": [
      "/global/homes/k/ktub1999/.local/lib/python3.8/site-packages/transformers/optimization.py:306: FutureWarning: This implementation of AdamW is deprecated and will be removed in a future version. Use the PyTorch implementation torch.optim.AdamW instead, or set `no_deprecation_warning=True` to disable this warning\n",
      "  warnings.warn(\n",
      "***** Running training *****\n",
      "  Num examples = 66672\n",
      "  Num Epochs = 50\n",
      "  Instantaneous batch size per device = 10\n",
      "  Total train batch size (w. parallel, distributed & accumulation) = 10\n",
      "  Gradient Accumulation steps = 1\n",
      "  Total optimization steps = 333400\n",
      "  Number of trainable parameters = 85830185\n"
     ]
    },
    {
     "data": {
      "text/html": [
       "\n",
       "    <div>\n",
       "      \n",
       "      <progress value='333400' max='333400' style='width:300px; height:20px; vertical-align: middle;'></progress>\n",
       "      [333400/333400 12:46:36, Epoch 50/50]\n",
       "    </div>\n",
       "    <table border=\"1\" class=\"dataframe\">\n",
       "  <thead>\n",
       " <tr style=\"text-align: left;\">\n",
       "      <th>Epoch</th>\n",
       "      <th>Training Loss</th>\n",
       "      <th>Validation Loss</th>\n",
       "      <th>Accuracy</th>\n",
       "    </tr>\n",
       "  </thead>\n",
       "  <tbody>\n",
       "    <tr>\n",
       "      <td>1</td>\n",
       "      <td>2.042500</td>\n",
       "      <td>1.603503</td>\n",
       "      <td>0.570059</td>\n",
       "    </tr>\n",
       "    <tr>\n",
       "      <td>2</td>\n",
       "      <td>1.619200</td>\n",
       "      <td>1.300986</td>\n",
       "      <td>0.622435</td>\n",
       "    </tr>\n",
       "    <tr>\n",
       "      <td>3</td>\n",
       "      <td>1.590100</td>\n",
       "      <td>0.987023</td>\n",
       "      <td>0.714093</td>\n",
       "    </tr>\n",
       "    <tr>\n",
       "      <td>4</td>\n",
       "      <td>1.428600</td>\n",
       "      <td>0.958647</td>\n",
       "      <td>0.719492</td>\n",
       "    </tr>\n",
       "    <tr>\n",
       "      <td>5</td>\n",
       "      <td>1.431600</td>\n",
       "      <td>0.832968</td>\n",
       "      <td>0.759719</td>\n",
       "    </tr>\n",
       "    <tr>\n",
       "      <td>6</td>\n",
       "      <td>1.324500</td>\n",
       "      <td>0.856786</td>\n",
       "      <td>0.751485</td>\n",
       "    </tr>\n",
       "    <tr>\n",
       "      <td>7</td>\n",
       "      <td>1.316000</td>\n",
       "      <td>0.734837</td>\n",
       "      <td>0.785367</td>\n",
       "    </tr>\n",
       "    <tr>\n",
       "      <td>8</td>\n",
       "      <td>1.253000</td>\n",
       "      <td>0.757638</td>\n",
       "      <td>0.782667</td>\n",
       "    </tr>\n",
       "    <tr>\n",
       "      <td>9</td>\n",
       "      <td>1.204400</td>\n",
       "      <td>0.700737</td>\n",
       "      <td>0.799406</td>\n",
       "    </tr>\n",
       "    <tr>\n",
       "      <td>10</td>\n",
       "      <td>1.187400</td>\n",
       "      <td>0.729173</td>\n",
       "      <td>0.795356</td>\n",
       "    </tr>\n",
       "    <tr>\n",
       "      <td>11</td>\n",
       "      <td>1.193000</td>\n",
       "      <td>0.638911</td>\n",
       "      <td>0.816415</td>\n",
       "    </tr>\n",
       "    <tr>\n",
       "      <td>12</td>\n",
       "      <td>1.156400</td>\n",
       "      <td>0.712688</td>\n",
       "      <td>0.799271</td>\n",
       "    </tr>\n",
       "    <tr>\n",
       "      <td>13</td>\n",
       "      <td>1.140300</td>\n",
       "      <td>0.670152</td>\n",
       "      <td>0.812770</td>\n",
       "    </tr>\n",
       "    <tr>\n",
       "      <td>14</td>\n",
       "      <td>1.112300</td>\n",
       "      <td>0.637908</td>\n",
       "      <td>0.816415</td>\n",
       "    </tr>\n",
       "    <tr>\n",
       "      <td>15</td>\n",
       "      <td>1.139600</td>\n",
       "      <td>0.606954</td>\n",
       "      <td>0.827079</td>\n",
       "    </tr>\n",
       "    <tr>\n",
       "      <td>16</td>\n",
       "      <td>1.110000</td>\n",
       "      <td>0.660814</td>\n",
       "      <td>0.814525</td>\n",
       "    </tr>\n",
       "    <tr>\n",
       "      <td>17</td>\n",
       "      <td>1.079600</td>\n",
       "      <td>0.626958</td>\n",
       "      <td>0.825999</td>\n",
       "    </tr>\n",
       "    <tr>\n",
       "      <td>18</td>\n",
       "      <td>1.034100</td>\n",
       "      <td>0.592016</td>\n",
       "      <td>0.835448</td>\n",
       "    </tr>\n",
       "    <tr>\n",
       "      <td>19</td>\n",
       "      <td>1.009600</td>\n",
       "      <td>0.640792</td>\n",
       "      <td>0.823434</td>\n",
       "    </tr>\n",
       "    <tr>\n",
       "      <td>20</td>\n",
       "      <td>1.038100</td>\n",
       "      <td>0.635414</td>\n",
       "      <td>0.824109</td>\n",
       "    </tr>\n",
       "    <tr>\n",
       "      <td>21</td>\n",
       "      <td>1.003800</td>\n",
       "      <td>0.602267</td>\n",
       "      <td>0.836123</td>\n",
       "    </tr>\n",
       "    <tr>\n",
       "      <td>22</td>\n",
       "      <td>1.020100</td>\n",
       "      <td>0.621154</td>\n",
       "      <td>0.832748</td>\n",
       "    </tr>\n",
       "    <tr>\n",
       "      <td>23</td>\n",
       "      <td>0.992100</td>\n",
       "      <td>0.595967</td>\n",
       "      <td>0.833423</td>\n",
       "    </tr>\n",
       "    <tr>\n",
       "      <td>24</td>\n",
       "      <td>0.996000</td>\n",
       "      <td>0.573133</td>\n",
       "      <td>0.843683</td>\n",
       "    </tr>\n",
       "    <tr>\n",
       "      <td>25</td>\n",
       "      <td>0.960400</td>\n",
       "      <td>0.624068</td>\n",
       "      <td>0.835043</td>\n",
       "    </tr>\n",
       "    <tr>\n",
       "      <td>26</td>\n",
       "      <td>0.980200</td>\n",
       "      <td>0.605497</td>\n",
       "      <td>0.842333</td>\n",
       "    </tr>\n",
       "    <tr>\n",
       "      <td>27</td>\n",
       "      <td>0.991700</td>\n",
       "      <td>0.628536</td>\n",
       "      <td>0.840173</td>\n",
       "    </tr>\n",
       "    <tr>\n",
       "      <td>28</td>\n",
       "      <td>0.969300</td>\n",
       "      <td>0.615147</td>\n",
       "      <td>0.845707</td>\n",
       "    </tr>\n",
       "    <tr>\n",
       "      <td>29</td>\n",
       "      <td>0.920300</td>\n",
       "      <td>0.597172</td>\n",
       "      <td>0.847867</td>\n",
       "    </tr>\n",
       "    <tr>\n",
       "      <td>30</td>\n",
       "      <td>0.922400</td>\n",
       "      <td>0.599242</td>\n",
       "      <td>0.850567</td>\n",
       "    </tr>\n",
       "    <tr>\n",
       "      <td>31</td>\n",
       "      <td>0.914400</td>\n",
       "      <td>0.613704</td>\n",
       "      <td>0.847327</td>\n",
       "    </tr>\n",
       "    <tr>\n",
       "      <td>32</td>\n",
       "      <td>0.899700</td>\n",
       "      <td>0.613145</td>\n",
       "      <td>0.847057</td>\n",
       "    </tr>\n",
       "    <tr>\n",
       "      <td>33</td>\n",
       "      <td>0.877000</td>\n",
       "      <td>0.606260</td>\n",
       "      <td>0.845977</td>\n",
       "    </tr>\n",
       "    <tr>\n",
       "      <td>34</td>\n",
       "      <td>0.873600</td>\n",
       "      <td>0.589715</td>\n",
       "      <td>0.853807</td>\n",
       "    </tr>\n",
       "    <tr>\n",
       "      <td>35</td>\n",
       "      <td>0.890800</td>\n",
       "      <td>0.604430</td>\n",
       "      <td>0.852322</td>\n",
       "    </tr>\n",
       "    <tr>\n",
       "      <td>36</td>\n",
       "      <td>0.867100</td>\n",
       "      <td>0.601285</td>\n",
       "      <td>0.855967</td>\n",
       "    </tr>\n",
       "    <tr>\n",
       "      <td>37</td>\n",
       "      <td>0.902000</td>\n",
       "      <td>0.602374</td>\n",
       "      <td>0.851917</td>\n",
       "    </tr>\n",
       "    <tr>\n",
       "      <td>38</td>\n",
       "      <td>0.863000</td>\n",
       "      <td>0.616840</td>\n",
       "      <td>0.854617</td>\n",
       "    </tr>\n",
       "    <tr>\n",
       "      <td>39</td>\n",
       "      <td>0.875500</td>\n",
       "      <td>0.609227</td>\n",
       "      <td>0.856911</td>\n",
       "    </tr>\n",
       "    <tr>\n",
       "      <td>40</td>\n",
       "      <td>0.852800</td>\n",
       "      <td>0.604537</td>\n",
       "      <td>0.855832</td>\n",
       "    </tr>\n",
       "    <tr>\n",
       "      <td>41</td>\n",
       "      <td>0.856500</td>\n",
       "      <td>0.618713</td>\n",
       "      <td>0.855562</td>\n",
       "    </tr>\n",
       "    <tr>\n",
       "      <td>42</td>\n",
       "      <td>0.860200</td>\n",
       "      <td>0.603260</td>\n",
       "      <td>0.862041</td>\n",
       "    </tr>\n",
       "    <tr>\n",
       "      <td>43</td>\n",
       "      <td>0.837700</td>\n",
       "      <td>0.590837</td>\n",
       "      <td>0.862446</td>\n",
       "    </tr>\n",
       "    <tr>\n",
       "      <td>44</td>\n",
       "      <td>0.849200</td>\n",
       "      <td>0.583300</td>\n",
       "      <td>0.863796</td>\n",
       "    </tr>\n",
       "    <tr>\n",
       "      <td>45</td>\n",
       "      <td>0.864200</td>\n",
       "      <td>0.585937</td>\n",
       "      <td>0.867306</td>\n",
       "    </tr>\n",
       "    <tr>\n",
       "      <td>46</td>\n",
       "      <td>0.797200</td>\n",
       "      <td>0.575727</td>\n",
       "      <td>0.867441</td>\n",
       "    </tr>\n",
       "    <tr>\n",
       "      <td>47</td>\n",
       "      <td>0.811300</td>\n",
       "      <td>0.568569</td>\n",
       "      <td>0.869735</td>\n",
       "    </tr>\n",
       "    <tr>\n",
       "      <td>48</td>\n",
       "      <td>0.852100</td>\n",
       "      <td>0.577860</td>\n",
       "      <td>0.870140</td>\n",
       "    </tr>\n",
       "    <tr>\n",
       "      <td>49</td>\n",
       "      <td>0.795400</td>\n",
       "      <td>0.572829</td>\n",
       "      <td>0.870680</td>\n",
       "    </tr>\n",
       "    <tr>\n",
       "      <td>50</td>\n",
       "      <td>0.805400</td>\n",
       "      <td>0.568558</td>\n",
       "      <td>0.872165</td>\n",
       "    </tr>\n",
       "  </tbody>\n",
       "</table><p>"
      ],
      "text/plain": [
       "<IPython.core.display.HTML object>"
      ]
     },
     "metadata": {},
     "output_type": "display_data"
    },
    {
     "name": "stderr",
     "output_type": "stream",
     "text": [
      "***** Running Evaluation *****\n",
      "  Num examples = 7408\n",
      "  Batch size = 4\n",
      "Saving model checkpoint to train-UrbanSounds8k/checkpoint-6668\n",
      "Configuration saved in train-UrbanSounds8k/checkpoint-6668/config.json\n",
      "Model weights saved in train-UrbanSounds8k/checkpoint-6668/pytorch_model.bin\n",
      "Image processor saved in train-UrbanSounds8k/checkpoint-6668/preprocessor_config.json\n",
      "***** Running Evaluation *****\n",
      "  Num examples = 7408\n",
      "  Batch size = 4\n",
      "Saving model checkpoint to train-UrbanSounds8k/checkpoint-13336\n",
      "Configuration saved in train-UrbanSounds8k/checkpoint-13336/config.json\n",
      "Model weights saved in train-UrbanSounds8k/checkpoint-13336/pytorch_model.bin\n",
      "Image processor saved in train-UrbanSounds8k/checkpoint-13336/preprocessor_config.json\n",
      "***** Running Evaluation *****\n",
      "  Num examples = 7408\n",
      "  Batch size = 4\n",
      "Saving model checkpoint to train-UrbanSounds8k/checkpoint-20004\n",
      "Configuration saved in train-UrbanSounds8k/checkpoint-20004/config.json\n",
      "Model weights saved in train-UrbanSounds8k/checkpoint-20004/pytorch_model.bin\n",
      "Image processor saved in train-UrbanSounds8k/checkpoint-20004/preprocessor_config.json\n",
      "***** Running Evaluation *****\n",
      "  Num examples = 7408\n",
      "  Batch size = 4\n",
      "Saving model checkpoint to train-UrbanSounds8k/checkpoint-26672\n",
      "Configuration saved in train-UrbanSounds8k/checkpoint-26672/config.json\n",
      "Model weights saved in train-UrbanSounds8k/checkpoint-26672/pytorch_model.bin\n",
      "Image processor saved in train-UrbanSounds8k/checkpoint-26672/preprocessor_config.json\n",
      "***** Running Evaluation *****\n",
      "  Num examples = 7408\n",
      "  Batch size = 4\n",
      "Saving model checkpoint to train-UrbanSounds8k/checkpoint-33340\n",
      "Configuration saved in train-UrbanSounds8k/checkpoint-33340/config.json\n",
      "Model weights saved in train-UrbanSounds8k/checkpoint-33340/pytorch_model.bin\n",
      "Image processor saved in train-UrbanSounds8k/checkpoint-33340/preprocessor_config.json\n",
      "***** Running Evaluation *****\n",
      "  Num examples = 7408\n",
      "  Batch size = 4\n",
      "Saving model checkpoint to train-UrbanSounds8k/checkpoint-40008\n",
      "Configuration saved in train-UrbanSounds8k/checkpoint-40008/config.json\n",
      "Model weights saved in train-UrbanSounds8k/checkpoint-40008/pytorch_model.bin\n",
      "Image processor saved in train-UrbanSounds8k/checkpoint-40008/preprocessor_config.json\n",
      "***** Running Evaluation *****\n",
      "  Num examples = 7408\n",
      "  Batch size = 4\n",
      "Saving model checkpoint to train-UrbanSounds8k/checkpoint-46676\n",
      "Configuration saved in train-UrbanSounds8k/checkpoint-46676/config.json\n",
      "Model weights saved in train-UrbanSounds8k/checkpoint-46676/pytorch_model.bin\n",
      "Image processor saved in train-UrbanSounds8k/checkpoint-46676/preprocessor_config.json\n",
      "***** Running Evaluation *****\n",
      "  Num examples = 7408\n",
      "  Batch size = 4\n",
      "Saving model checkpoint to train-UrbanSounds8k/checkpoint-53344\n",
      "Configuration saved in train-UrbanSounds8k/checkpoint-53344/config.json\n",
      "Model weights saved in train-UrbanSounds8k/checkpoint-53344/pytorch_model.bin\n",
      "Image processor saved in train-UrbanSounds8k/checkpoint-53344/preprocessor_config.json\n",
      "***** Running Evaluation *****\n",
      "  Num examples = 7408\n",
      "  Batch size = 4\n",
      "Saving model checkpoint to train-UrbanSounds8k/checkpoint-60012\n",
      "Configuration saved in train-UrbanSounds8k/checkpoint-60012/config.json\n",
      "Model weights saved in train-UrbanSounds8k/checkpoint-60012/pytorch_model.bin\n",
      "Image processor saved in train-UrbanSounds8k/checkpoint-60012/preprocessor_config.json\n",
      "***** Running Evaluation *****\n",
      "  Num examples = 7408\n",
      "  Batch size = 4\n",
      "Saving model checkpoint to train-UrbanSounds8k/checkpoint-66680\n",
      "Configuration saved in train-UrbanSounds8k/checkpoint-66680/config.json\n",
      "Model weights saved in train-UrbanSounds8k/checkpoint-66680/pytorch_model.bin\n",
      "Image processor saved in train-UrbanSounds8k/checkpoint-66680/preprocessor_config.json\n",
      "***** Running Evaluation *****\n",
      "  Num examples = 7408\n",
      "  Batch size = 4\n",
      "Saving model checkpoint to train-UrbanSounds8k/checkpoint-73348\n",
      "Configuration saved in train-UrbanSounds8k/checkpoint-73348/config.json\n",
      "Model weights saved in train-UrbanSounds8k/checkpoint-73348/pytorch_model.bin\n",
      "Image processor saved in train-UrbanSounds8k/checkpoint-73348/preprocessor_config.json\n",
      "***** Running Evaluation *****\n",
      "  Num examples = 7408\n",
      "  Batch size = 4\n",
      "Saving model checkpoint to train-UrbanSounds8k/checkpoint-80016\n",
      "Configuration saved in train-UrbanSounds8k/checkpoint-80016/config.json\n",
      "Model weights saved in train-UrbanSounds8k/checkpoint-80016/pytorch_model.bin\n",
      "Image processor saved in train-UrbanSounds8k/checkpoint-80016/preprocessor_config.json\n",
      "***** Running Evaluation *****\n",
      "  Num examples = 7408\n",
      "  Batch size = 4\n",
      "Saving model checkpoint to train-UrbanSounds8k/checkpoint-86684\n",
      "Configuration saved in train-UrbanSounds8k/checkpoint-86684/config.json\n",
      "Model weights saved in train-UrbanSounds8k/checkpoint-86684/pytorch_model.bin\n",
      "Image processor saved in train-UrbanSounds8k/checkpoint-86684/preprocessor_config.json\n",
      "***** Running Evaluation *****\n",
      "  Num examples = 7408\n",
      "  Batch size = 4\n",
      "Saving model checkpoint to train-UrbanSounds8k/checkpoint-93352\n",
      "Configuration saved in train-UrbanSounds8k/checkpoint-93352/config.json\n",
      "Model weights saved in train-UrbanSounds8k/checkpoint-93352/pytorch_model.bin\n",
      "Image processor saved in train-UrbanSounds8k/checkpoint-93352/preprocessor_config.json\n",
      "***** Running Evaluation *****\n",
      "  Num examples = 7408\n",
      "  Batch size = 4\n",
      "Saving model checkpoint to train-UrbanSounds8k/checkpoint-100020\n",
      "Configuration saved in train-UrbanSounds8k/checkpoint-100020/config.json\n",
      "Model weights saved in train-UrbanSounds8k/checkpoint-100020/pytorch_model.bin\n",
      "Image processor saved in train-UrbanSounds8k/checkpoint-100020/preprocessor_config.json\n",
      "***** Running Evaluation *****\n",
      "  Num examples = 7408\n",
      "  Batch size = 4\n",
      "Saving model checkpoint to train-UrbanSounds8k/checkpoint-106688\n",
      "Configuration saved in train-UrbanSounds8k/checkpoint-106688/config.json\n",
      "Model weights saved in train-UrbanSounds8k/checkpoint-106688/pytorch_model.bin\n",
      "Image processor saved in train-UrbanSounds8k/checkpoint-106688/preprocessor_config.json\n",
      "***** Running Evaluation *****\n",
      "  Num examples = 7408\n",
      "  Batch size = 4\n",
      "Saving model checkpoint to train-UrbanSounds8k/checkpoint-113356\n",
      "Configuration saved in train-UrbanSounds8k/checkpoint-113356/config.json\n",
      "Model weights saved in train-UrbanSounds8k/checkpoint-113356/pytorch_model.bin\n",
      "Image processor saved in train-UrbanSounds8k/checkpoint-113356/preprocessor_config.json\n",
      "***** Running Evaluation *****\n",
      "  Num examples = 7408\n",
      "  Batch size = 4\n",
      "Saving model checkpoint to train-UrbanSounds8k/checkpoint-120024\n",
      "Configuration saved in train-UrbanSounds8k/checkpoint-120024/config.json\n",
      "Model weights saved in train-UrbanSounds8k/checkpoint-120024/pytorch_model.bin\n",
      "Image processor saved in train-UrbanSounds8k/checkpoint-120024/preprocessor_config.json\n",
      "***** Running Evaluation *****\n",
      "  Num examples = 7408\n",
      "  Batch size = 4\n",
      "Saving model checkpoint to train-UrbanSounds8k/checkpoint-126692\n",
      "Configuration saved in train-UrbanSounds8k/checkpoint-126692/config.json\n",
      "Model weights saved in train-UrbanSounds8k/checkpoint-126692/pytorch_model.bin\n",
      "Image processor saved in train-UrbanSounds8k/checkpoint-126692/preprocessor_config.json\n",
      "***** Running Evaluation *****\n",
      "  Num examples = 7408\n",
      "  Batch size = 4\n",
      "Saving model checkpoint to train-UrbanSounds8k/checkpoint-133360\n",
      "Configuration saved in train-UrbanSounds8k/checkpoint-133360/config.json\n",
      "Model weights saved in train-UrbanSounds8k/checkpoint-133360/pytorch_model.bin\n",
      "Image processor saved in train-UrbanSounds8k/checkpoint-133360/preprocessor_config.json\n",
      "***** Running Evaluation *****\n",
      "  Num examples = 7408\n",
      "  Batch size = 4\n",
      "Saving model checkpoint to train-UrbanSounds8k/checkpoint-140028\n",
      "Configuration saved in train-UrbanSounds8k/checkpoint-140028/config.json\n",
      "Model weights saved in train-UrbanSounds8k/checkpoint-140028/pytorch_model.bin\n",
      "Image processor saved in train-UrbanSounds8k/checkpoint-140028/preprocessor_config.json\n",
      "***** Running Evaluation *****\n",
      "  Num examples = 7408\n",
      "  Batch size = 4\n",
      "Saving model checkpoint to train-UrbanSounds8k/checkpoint-146696\n",
      "Configuration saved in train-UrbanSounds8k/checkpoint-146696/config.json\n",
      "Model weights saved in train-UrbanSounds8k/checkpoint-146696/pytorch_model.bin\n",
      "Image processor saved in train-UrbanSounds8k/checkpoint-146696/preprocessor_config.json\n",
      "***** Running Evaluation *****\n"
     ]
    },
    {
     "name": "stderr",
     "output_type": "stream",
     "text": [
      "  Num examples = 7408\n",
      "  Batch size = 4\n",
      "Saving model checkpoint to train-UrbanSounds8k/checkpoint-153364\n",
      "Configuration saved in train-UrbanSounds8k/checkpoint-153364/config.json\n",
      "Model weights saved in train-UrbanSounds8k/checkpoint-153364/pytorch_model.bin\n",
      "Image processor saved in train-UrbanSounds8k/checkpoint-153364/preprocessor_config.json\n",
      "***** Running Evaluation *****\n",
      "  Num examples = 7408\n",
      "  Batch size = 4\n",
      "Saving model checkpoint to train-UrbanSounds8k/checkpoint-160032\n",
      "Configuration saved in train-UrbanSounds8k/checkpoint-160032/config.json\n",
      "Model weights saved in train-UrbanSounds8k/checkpoint-160032/pytorch_model.bin\n",
      "Image processor saved in train-UrbanSounds8k/checkpoint-160032/preprocessor_config.json\n",
      "***** Running Evaluation *****\n",
      "  Num examples = 7408\n",
      "  Batch size = 4\n",
      "Saving model checkpoint to train-UrbanSounds8k/checkpoint-166700\n",
      "Configuration saved in train-UrbanSounds8k/checkpoint-166700/config.json\n",
      "Model weights saved in train-UrbanSounds8k/checkpoint-166700/pytorch_model.bin\n",
      "Image processor saved in train-UrbanSounds8k/checkpoint-166700/preprocessor_config.json\n",
      "***** Running Evaluation *****\n",
      "  Num examples = 7408\n",
      "  Batch size = 4\n",
      "Saving model checkpoint to train-UrbanSounds8k/checkpoint-173368\n",
      "Configuration saved in train-UrbanSounds8k/checkpoint-173368/config.json\n",
      "Model weights saved in train-UrbanSounds8k/checkpoint-173368/pytorch_model.bin\n",
      "Image processor saved in train-UrbanSounds8k/checkpoint-173368/preprocessor_config.json\n",
      "***** Running Evaluation *****\n",
      "  Num examples = 7408\n",
      "  Batch size = 4\n",
      "Saving model checkpoint to train-UrbanSounds8k/checkpoint-180036\n",
      "Configuration saved in train-UrbanSounds8k/checkpoint-180036/config.json\n",
      "Model weights saved in train-UrbanSounds8k/checkpoint-180036/pytorch_model.bin\n",
      "Image processor saved in train-UrbanSounds8k/checkpoint-180036/preprocessor_config.json\n",
      "***** Running Evaluation *****\n",
      "  Num examples = 7408\n",
      "  Batch size = 4\n",
      "Saving model checkpoint to train-UrbanSounds8k/checkpoint-186704\n",
      "Configuration saved in train-UrbanSounds8k/checkpoint-186704/config.json\n",
      "Model weights saved in train-UrbanSounds8k/checkpoint-186704/pytorch_model.bin\n",
      "Image processor saved in train-UrbanSounds8k/checkpoint-186704/preprocessor_config.json\n",
      "***** Running Evaluation *****\n",
      "  Num examples = 7408\n",
      "  Batch size = 4\n",
      "Saving model checkpoint to train-UrbanSounds8k/checkpoint-193372\n",
      "Configuration saved in train-UrbanSounds8k/checkpoint-193372/config.json\n",
      "Model weights saved in train-UrbanSounds8k/checkpoint-193372/pytorch_model.bin\n",
      "Image processor saved in train-UrbanSounds8k/checkpoint-193372/preprocessor_config.json\n",
      "***** Running Evaluation *****\n",
      "  Num examples = 7408\n",
      "  Batch size = 4\n",
      "Saving model checkpoint to train-UrbanSounds8k/checkpoint-200040\n",
      "Configuration saved in train-UrbanSounds8k/checkpoint-200040/config.json\n",
      "Model weights saved in train-UrbanSounds8k/checkpoint-200040/pytorch_model.bin\n",
      "Image processor saved in train-UrbanSounds8k/checkpoint-200040/preprocessor_config.json\n",
      "***** Running Evaluation *****\n",
      "  Num examples = 7408\n",
      "  Batch size = 4\n",
      "Saving model checkpoint to train-UrbanSounds8k/checkpoint-206708\n",
      "Configuration saved in train-UrbanSounds8k/checkpoint-206708/config.json\n",
      "Model weights saved in train-UrbanSounds8k/checkpoint-206708/pytorch_model.bin\n",
      "Image processor saved in train-UrbanSounds8k/checkpoint-206708/preprocessor_config.json\n",
      "***** Running Evaluation *****\n",
      "  Num examples = 7408\n",
      "  Batch size = 4\n",
      "Saving model checkpoint to train-UrbanSounds8k/checkpoint-213376\n",
      "Configuration saved in train-UrbanSounds8k/checkpoint-213376/config.json\n",
      "Model weights saved in train-UrbanSounds8k/checkpoint-213376/pytorch_model.bin\n",
      "Image processor saved in train-UrbanSounds8k/checkpoint-213376/preprocessor_config.json\n",
      "***** Running Evaluation *****\n",
      "  Num examples = 7408\n",
      "  Batch size = 4\n",
      "Saving model checkpoint to train-UrbanSounds8k/checkpoint-220044\n",
      "Configuration saved in train-UrbanSounds8k/checkpoint-220044/config.json\n",
      "Model weights saved in train-UrbanSounds8k/checkpoint-220044/pytorch_model.bin\n",
      "Image processor saved in train-UrbanSounds8k/checkpoint-220044/preprocessor_config.json\n",
      "***** Running Evaluation *****\n",
      "  Num examples = 7408\n",
      "  Batch size = 4\n",
      "Saving model checkpoint to train-UrbanSounds8k/checkpoint-226712\n",
      "Configuration saved in train-UrbanSounds8k/checkpoint-226712/config.json\n",
      "Model weights saved in train-UrbanSounds8k/checkpoint-226712/pytorch_model.bin\n",
      "Image processor saved in train-UrbanSounds8k/checkpoint-226712/preprocessor_config.json\n",
      "***** Running Evaluation *****\n",
      "  Num examples = 7408\n",
      "  Batch size = 4\n",
      "Saving model checkpoint to train-UrbanSounds8k/checkpoint-233380\n",
      "Configuration saved in train-UrbanSounds8k/checkpoint-233380/config.json\n",
      "Model weights saved in train-UrbanSounds8k/checkpoint-233380/pytorch_model.bin\n",
      "Image processor saved in train-UrbanSounds8k/checkpoint-233380/preprocessor_config.json\n",
      "***** Running Evaluation *****\n",
      "  Num examples = 7408\n",
      "  Batch size = 4\n",
      "Saving model checkpoint to train-UrbanSounds8k/checkpoint-240048\n",
      "Configuration saved in train-UrbanSounds8k/checkpoint-240048/config.json\n",
      "Model weights saved in train-UrbanSounds8k/checkpoint-240048/pytorch_model.bin\n",
      "Image processor saved in train-UrbanSounds8k/checkpoint-240048/preprocessor_config.json\n",
      "***** Running Evaluation *****\n",
      "  Num examples = 7408\n",
      "  Batch size = 4\n",
      "Saving model checkpoint to train-UrbanSounds8k/checkpoint-246716\n",
      "Configuration saved in train-UrbanSounds8k/checkpoint-246716/config.json\n",
      "Model weights saved in train-UrbanSounds8k/checkpoint-246716/pytorch_model.bin\n",
      "Image processor saved in train-UrbanSounds8k/checkpoint-246716/preprocessor_config.json\n",
      "***** Running Evaluation *****\n",
      "  Num examples = 7408\n",
      "  Batch size = 4\n",
      "Saving model checkpoint to train-UrbanSounds8k/checkpoint-253384\n",
      "Configuration saved in train-UrbanSounds8k/checkpoint-253384/config.json\n",
      "Model weights saved in train-UrbanSounds8k/checkpoint-253384/pytorch_model.bin\n",
      "Image processor saved in train-UrbanSounds8k/checkpoint-253384/preprocessor_config.json\n",
      "***** Running Evaluation *****\n",
      "  Num examples = 7408\n",
      "  Batch size = 4\n",
      "Saving model checkpoint to train-UrbanSounds8k/checkpoint-260052\n",
      "Configuration saved in train-UrbanSounds8k/checkpoint-260052/config.json\n",
      "Model weights saved in train-UrbanSounds8k/checkpoint-260052/pytorch_model.bin\n",
      "Image processor saved in train-UrbanSounds8k/checkpoint-260052/preprocessor_config.json\n",
      "***** Running Evaluation *****\n",
      "  Num examples = 7408\n",
      "  Batch size = 4\n",
      "Saving model checkpoint to train-UrbanSounds8k/checkpoint-266720\n",
      "Configuration saved in train-UrbanSounds8k/checkpoint-266720/config.json\n",
      "Model weights saved in train-UrbanSounds8k/checkpoint-266720/pytorch_model.bin\n",
      "Image processor saved in train-UrbanSounds8k/checkpoint-266720/preprocessor_config.json\n",
      "***** Running Evaluation *****\n",
      "  Num examples = 7408\n",
      "  Batch size = 4\n",
      "Saving model checkpoint to train-UrbanSounds8k/checkpoint-273388\n",
      "Configuration saved in train-UrbanSounds8k/checkpoint-273388/config.json\n",
      "Model weights saved in train-UrbanSounds8k/checkpoint-273388/pytorch_model.bin\n",
      "Image processor saved in train-UrbanSounds8k/checkpoint-273388/preprocessor_config.json\n",
      "***** Running Evaluation *****\n",
      "  Num examples = 7408\n",
      "  Batch size = 4\n",
      "Saving model checkpoint to train-UrbanSounds8k/checkpoint-280056\n",
      "Configuration saved in train-UrbanSounds8k/checkpoint-280056/config.json\n",
      "Model weights saved in train-UrbanSounds8k/checkpoint-280056/pytorch_model.bin\n",
      "Image processor saved in train-UrbanSounds8k/checkpoint-280056/preprocessor_config.json\n",
      "***** Running Evaluation *****\n",
      "  Num examples = 7408\n",
      "  Batch size = 4\n",
      "Saving model checkpoint to train-UrbanSounds8k/checkpoint-286724\n",
      "Configuration saved in train-UrbanSounds8k/checkpoint-286724/config.json\n",
      "Model weights saved in train-UrbanSounds8k/checkpoint-286724/pytorch_model.bin\n",
      "Image processor saved in train-UrbanSounds8k/checkpoint-286724/preprocessor_config.json\n",
      "***** Running Evaluation *****\n",
      "  Num examples = 7408\n",
      "  Batch size = 4\n",
      "Saving model checkpoint to train-UrbanSounds8k/checkpoint-293392\n",
      "Configuration saved in train-UrbanSounds8k/checkpoint-293392/config.json\n",
      "Model weights saved in train-UrbanSounds8k/checkpoint-293392/pytorch_model.bin\n",
      "Image processor saved in train-UrbanSounds8k/checkpoint-293392/preprocessor_config.json\n"
     ]
    },
    {
     "name": "stderr",
     "output_type": "stream",
     "text": [
      "***** Running Evaluation *****\n",
      "  Num examples = 7408\n",
      "  Batch size = 4\n",
      "Saving model checkpoint to train-UrbanSounds8k/checkpoint-300060\n",
      "Configuration saved in train-UrbanSounds8k/checkpoint-300060/config.json\n",
      "Model weights saved in train-UrbanSounds8k/checkpoint-300060/pytorch_model.bin\n",
      "Image processor saved in train-UrbanSounds8k/checkpoint-300060/preprocessor_config.json\n",
      "***** Running Evaluation *****\n",
      "  Num examples = 7408\n",
      "  Batch size = 4\n",
      "Saving model checkpoint to train-UrbanSounds8k/checkpoint-306728\n",
      "Configuration saved in train-UrbanSounds8k/checkpoint-306728/config.json\n",
      "Model weights saved in train-UrbanSounds8k/checkpoint-306728/pytorch_model.bin\n",
      "Image processor saved in train-UrbanSounds8k/checkpoint-306728/preprocessor_config.json\n",
      "***** Running Evaluation *****\n",
      "  Num examples = 7408\n",
      "  Batch size = 4\n",
      "Saving model checkpoint to train-UrbanSounds8k/checkpoint-313396\n",
      "Configuration saved in train-UrbanSounds8k/checkpoint-313396/config.json\n",
      "Model weights saved in train-UrbanSounds8k/checkpoint-313396/pytorch_model.bin\n",
      "Image processor saved in train-UrbanSounds8k/checkpoint-313396/preprocessor_config.json\n",
      "***** Running Evaluation *****\n",
      "  Num examples = 7408\n",
      "  Batch size = 4\n",
      "Saving model checkpoint to train-UrbanSounds8k/checkpoint-320064\n",
      "Configuration saved in train-UrbanSounds8k/checkpoint-320064/config.json\n",
      "Model weights saved in train-UrbanSounds8k/checkpoint-320064/pytorch_model.bin\n",
      "Image processor saved in train-UrbanSounds8k/checkpoint-320064/preprocessor_config.json\n",
      "***** Running Evaluation *****\n",
      "  Num examples = 7408\n",
      "  Batch size = 4\n",
      "Saving model checkpoint to train-UrbanSounds8k/checkpoint-326732\n",
      "Configuration saved in train-UrbanSounds8k/checkpoint-326732/config.json\n",
      "Model weights saved in train-UrbanSounds8k/checkpoint-326732/pytorch_model.bin\n",
      "Image processor saved in train-UrbanSounds8k/checkpoint-326732/preprocessor_config.json\n",
      "***** Running Evaluation *****\n",
      "  Num examples = 7408\n",
      "  Batch size = 4\n",
      "Saving model checkpoint to train-UrbanSounds8k/checkpoint-333400\n",
      "Configuration saved in train-UrbanSounds8k/checkpoint-333400/config.json\n",
      "Model weights saved in train-UrbanSounds8k/checkpoint-333400/pytorch_model.bin\n",
      "Image processor saved in train-UrbanSounds8k/checkpoint-333400/preprocessor_config.json\n",
      "\n",
      "\n",
      "Training completed. Do not forget to share your model on huggingface.co/models =)\n",
      "\n",
      "\n",
      "Loading best model from train-UrbanSounds8k/checkpoint-333400 (score: 0.8721652267818575).\n"
     ]
    },
    {
     "name": "stdout",
     "output_type": "stream",
     "text": [
      "Total Time Taken (in sec): 45997.82528042793\n"
     ]
    }
   ],
   "source": [
    "#Using GPU\n",
    "start_time = time.time()\n",
    "trainer.train()\n",
    "print('Total Time Taken (in sec):',time.time()-start_time)"
   ]
  },
  {
   "cell_type": "code",
   "execution_count": 23,
   "metadata": {},
   "outputs": [
    {
     "name": "stderr",
     "output_type": "stream",
     "text": [
      "***** Running Prediction *****\n",
      "  Num examples = 31749\n",
      "  Batch size = 4\n"
     ]
    },
    {
     "data": {
      "text/html": [],
      "text/plain": [
       "<IPython.core.display.HTML object>"
      ]
     },
     "metadata": {},
     "output_type": "display_data"
    }
   ],
   "source": [
    "outputs = trainer.predict(test_ds)"
   ]
  },
  {
   "cell_type": "code",
   "execution_count": 24,
   "metadata": {},
   "outputs": [
    {
     "name": "stdout",
     "output_type": "stream",
     "text": [
      "{'test_loss': 0.5537750124931335, 'test_accuracy': 0.868468298214117, 'test_runtime': 267.4921, 'test_samples_per_second': 118.691, 'test_steps_per_second': 29.676}\n"
     ]
    }
   ],
   "source": [
    "print(outputs.metrics)"
   ]
  },
  {
   "cell_type": "code",
   "execution_count": 37,
   "metadata": {},
   "outputs": [
    {
     "data": {
      "text/plain": [
       "<sklearn.metrics._plot.confusion_matrix.ConfusionMatrixDisplay at 0x7f4db80f8670>"
      ]
     },
     "execution_count": 37,
     "metadata": {},
     "output_type": "execute_result"
    },
    {
     "data": {
      "image/png": "[encoded data removed]",
      "text/plain": [
       "<Figure size 432x288 with 2 Axes>"
      ]
     },
     "metadata": {
      "needs_background": "light"
     },
     "output_type": "display_data"
    }
   ],
   "source": [
    "from sklearn.metrics import confusion_matrix, ConfusionMatrixDisplay\n",
    "\n",
    "y_true = outputs.label_ids\n",
    "y_pred = outputs.predictions.argmax(1)\n",
    "\n",
    "labels=[]\n",
    "for i in range(11):\n",
    "    labels.append(id2label[i])\n",
    "# labels = id2label.values()\n",
    "\n",
    "cm = confusion_matrix(y_true[:10], y_pred[:10])\n",
    "disp = ConfusionMatrixDisplay(confusion_matrix=cm, display_labels=labels)\n",
    "disp.plot(xticks_rotation=90)\n"
   ]
  },
  {
   "cell_type": "code",
   "execution_count": 25,
   "metadata": {},
   "outputs": [
    {
     "name": "stderr",
     "output_type": "stream",
     "text": [
      "Configuration saved in ./models/MelSpeachLongCommands/config.json\n",
      "Model weights saved in ./models/MelSpeachLongCommands/pytorch_model.bin\n"
     ]
    }
   ],
   "source": [
    "model.save_pretrained(\"./models/MelSpeachLongCommands\")"
   ]
  },
  {
   "cell_type": "code",
   "execution_count": 39,
   "metadata": {},
   "outputs": [],
   "source": [
    "import pandas as pd\n",
    "\n",
    "AccDF= pd.read_csv(\"AccLengthy.csv\")\n",
    "TrainLoss = AccDF['TrainLoss']\n",
    "ValidationLoss = AccDF['ValidationLoss']\n",
    "Accuracy = AccDF['Accuracy']\n",
    "\n"
   ]
  },
  {
   "cell_type": "code",
   "execution_count": 40,
   "metadata": {},
   "outputs": [
    {
     "data": {
      "text/plain": [
       "[]"
      ]
     },
     "execution_count": 40,
     "metadata": {},
     "output_type": "execute_result"
    },
    {
     "data": {
      "image/png": "[encoded data removed]",
      "text/plain": [
       "<Figure size 432x288 with 1 Axes>"
      ]
     },
     "metadata": {
      "needs_background": "light"
     },
     "output_type": "display_data"
    }
   ],
   "source": [
    "import matplotlib.pyplot as plt\n",
    "f=plt.figure()\n",
    "plt.title(\"Loss\")\n",
    "plt.plot(TrainLoss)\n",
    "plt.plot(ValidationLoss)\n",
    "plt.legend([\"Train Loss\",\"Validation Loss\"])\n",
    "plt.plot()"
   ]
  },
  {
   "cell_type": "code",
   "execution_count": 41,
   "metadata": {},
   "outputs": [
    {
     "data": {
      "text/plain": [
       "[]"
      ]
     },
     "execution_count": 41,
     "metadata": {},
     "output_type": "execute_result"
    },
    {
     "data": {
      "image/png": "[encoded data removed]",
      "text/plain": [
       "<Figure size 432x288 with 1 Axes>"
      ]
     },
     "metadata": {
      "needs_background": "light"
     },
     "output_type": "display_data"
    }
   ],
   "source": [
    "f = plt.figure()\n",
    "plt.title(\"Validation Accuracy\")\n",
    "plt.plot(Accuracy)\n",
    "plt.plot()\n",
    "\n"
   ]
  },
  {
   "cell_type": "code",
   "execution_count": null,
   "metadata": {},
   "outputs": [],
   "source": []
  }
 ],
 "metadata": {
  "kernelspec": {
   "display_name": "Python 3 (ipykernel)",
   "language": "python",
   "name": "python3"
  },
  "language_info": {
   "codemirror_mode": {
    "name": "ipython",
    "version": 3
   },
   "file_extension": ".py",
   "mimetype": "text/x-python",
   "name": "python",
   "nbconvert_exporter": "python",
   "pygments_lexer": "ipython3",
   "version": "3.8.10"
  }
 },
 "nbformat": 4,
 "nbformat_minor": 2
}

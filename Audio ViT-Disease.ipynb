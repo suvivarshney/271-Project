{
 "cells": [
  {
   "cell_type": "code",
   "execution_count": 1,
   "metadata": {
    "scrolled": true
   },
   "outputs": [],
   "source": [
    "#!pip install datasets\n",
    "#!pip install transformers\n",
    "#!pip install --upgrade torchvision\n",
    "#!pip install tensorboard"
   ]
  },
  {
   "cell_type": "code",
   "execution_count": 2,
   "metadata": {},
   "outputs": [
    {
     "name": "stderr",
     "output_type": "stream",
     "text": [
      "/home/suvivars/.conda/envs/271/lib/python3.7/site-packages/pandas/compat/_optional.py:138: UserWarning: Pandas requires version '2.7.0' or newer of 'numexpr' (version '2.6.9' currently installed).\n",
      "  warnings.warn(msg, UserWarning)\n"
     ]
    }
   ],
   "source": [
    "import numpy as np\n",
    "from datasets import load_dataset\n",
    "import json\n",
    "import matplotlib.pyplot as plt\n",
    "from transformers import ViTFeatureExtractor\n",
    "from torchvision.transforms import (CenterCrop, \n",
    "                                    Compose, \n",
    "                                    Normalize, \n",
    "                                    RandomHorizontalFlip,\n",
    "                                    RandomResizedCrop, \n",
    "                                    Resize, \n",
    "                                    ToTensor)\n",
    "from torch.utils.data import DataLoader\n",
    "import torch\n",
    "from transformers import ViTForImageClassification\n",
    "from transformers import file_utils\n",
    "from transformers import TrainingArguments, Trainer\n",
    "from datasets import load_metric\n",
    "import time\n",
    "from transformers import EarlyStoppingCallback, IntervalStrategy"
   ]
  },
  {
   "cell_type": "code",
   "execution_count": 3,
   "metadata": {
    "scrolled": true
   },
   "outputs": [
    {
     "data": {
      "application/vnd.jupyter.widget-view+json": {
       "model_id": "d3ad9b9b5cf340e48ed6613ef1ca2df5",
       "version_major": 2,
       "version_minor": 0
      },
      "text/plain": [
       "Resolving data files:   0%|          | 0/4010 [00:00<?, ?it/s]"
      ]
     },
     "metadata": {},
     "output_type": "display_data"
    },
    {
     "name": "stderr",
     "output_type": "stream",
     "text": [
      "Using custom data configuration default-a4e24a3ed84835a9\n"
     ]
    },
    {
     "name": "stdout",
     "output_type": "stream",
     "text": [
      "Downloading and preparing dataset imagefolder/default to /home/suvivars/.cache/huggingface/datasets/imagefolder/default-a4e24a3ed84835a9/0.0.0/37fbb85cc714a338bea574ac6c7d0b5be5aff46c1862c1989b20e0771199e93f...\n",
      "               "
     ]
    },
    {
     "data": {
      "application/vnd.jupyter.widget-view+json": {
       "model_id": "55ec08d934fa4746ad7a6a2525af3a93",
       "version_major": 2,
       "version_minor": 0
      },
      "text/plain": [
       "Downloading data files #1:   0%|          | 0/251 [00:00<?, ?obj/s]"
      ]
     },
     "metadata": {},
     "output_type": "display_data"
    },
    {
     "data": {
      "application/vnd.jupyter.widget-view+json": {
       "model_id": "ba60747509da47c6a5cb07266a712f37",
       "version_major": 2,
       "version_minor": 0
      },
      "text/plain": [
       "Downloading data files #4:   0%|          | 0/251 [00:00<?, ?obj/s]"
      ]
     },
     "metadata": {},
     "output_type": "display_data"
    },
    {
     "data": {
      "application/vnd.jupyter.widget-view+json": {
       "model_id": "97e89b64cec54629a87ae6c7432f3ab7",
       "version_major": 2,
       "version_minor": 0
      },
      "text/plain": [
       "Downloading data files #3:   0%|          | 0/251 [00:00<?, ?obj/s]"
      ]
     },
     "metadata": {},
     "output_type": "display_data"
    },
    {
     "name": "stdout",
     "output_type": "stream",
     "text": [
      " "
     ]
    },
    {
     "data": {
      "application/vnd.jupyter.widget-view+json": {
       "model_id": "7f1d398e28314023ae40e58fe9adcdb9",
       "version_major": 2,
       "version_minor": 0
      },
      "text/plain": [
       "Downloading data files #2:   0%|          | 0/251 [00:00<?, ?obj/s]"
      ]
     },
     "metadata": {},
     "output_type": "display_data"
    },
    {
     "data": {
      "application/vnd.jupyter.widget-view+json": {
       "model_id": "629c1c9ec909448a9e31f456dd9411de",
       "version_major": 2,
       "version_minor": 0
      },
      "text/plain": [
       "Downloading data files #7:   0%|          | 0/251 [00:00<?, ?obj/s]"
      ]
     },
     "metadata": {},
     "output_type": "display_data"
    },
    {
     "data": {
      "application/vnd.jupyter.widget-view+json": {
       "model_id": "a4b118c4a3b24daa922bbe01e36fb83d",
       "version_major": 2,
       "version_minor": 0
      },
      "text/plain": [
       "Downloading data files #6:   0%|          | 0/251 [00:00<?, ?obj/s]"
      ]
     },
     "metadata": {},
     "output_type": "display_data"
    },
    {
     "data": {
      "application/vnd.jupyter.widget-view+json": {
       "model_id": "046559ae68db43908043dddf525cbe35",
       "version_major": 2,
       "version_minor": 0
      },
      "text/plain": [
       "Downloading data files #5:   0%|          | 0/251 [00:00<?, ?obj/s]"
      ]
     },
     "metadata": {},
     "output_type": "display_data"
    },
    {
     "data": {
      "application/vnd.jupyter.widget-view+json": {
       "model_id": "8018cc47c46444638d3b5e5be0b5be96",
       "version_major": 2,
       "version_minor": 0
      },
      "text/plain": [
       "Downloading data files #15:   0%|          | 0/250 [00:00<?, ?obj/s]"
      ]
     },
     "metadata": {},
     "output_type": "display_data"
    },
    {
     "data": {
      "application/vnd.jupyter.widget-view+json": {
       "model_id": "b36e14779b574d1d8b5f91afa1517f9d",
       "version_major": 2,
       "version_minor": 0
      },
      "text/plain": [
       "Downloading data files #13:   0%|          | 0/250 [00:00<?, ?obj/s]"
      ]
     },
     "metadata": {},
     "output_type": "display_data"
    },
    {
     "data": {
      "application/vnd.jupyter.widget-view+json": {
       "model_id": "d167b87df5314e41a243441e007c0681",
       "version_major": 2,
       "version_minor": 0
      },
      "text/plain": [
       "Downloading data files #12:   0%|          | 0/250 [00:00<?, ?obj/s]"
      ]
     },
     "metadata": {},
     "output_type": "display_data"
    },
    {
     "data": {
      "application/vnd.jupyter.widget-view+json": {
       "model_id": "33283473b6e642cf83f2529704208f49",
       "version_major": 2,
       "version_minor": 0
      },
      "text/plain": [
       "Downloading data files #0:   0%|          | 0/251 [00:00<?, ?obj/s]"
      ]
     },
     "metadata": {},
     "output_type": "display_data"
    },
    {
     "data": {
      "application/vnd.jupyter.widget-view+json": {
       "model_id": "9be171a4cf95413bb5599dad896ba736",
       "version_major": 2,
       "version_minor": 0
      },
      "text/plain": [
       "Downloading data files #14:   0%|          | 0/250 [00:00<?, ?obj/s]"
      ]
     },
     "metadata": {},
     "output_type": "display_data"
    },
    {
     "data": {
      "application/vnd.jupyter.widget-view+json": {
       "model_id": "6916b1d0b4be49b68686484ffe8582a1",
       "version_major": 2,
       "version_minor": 0
      },
      "text/plain": [
       "Downloading data files #11:   0%|          | 0/250 [00:00<?, ?obj/s]"
      ]
     },
     "metadata": {},
     "output_type": "display_data"
    },
    {
     "data": {
      "application/vnd.jupyter.widget-view+json": {
       "model_id": "6d60307d2aa74a6eb24f37026a138ae6",
       "version_major": 2,
       "version_minor": 0
      },
      "text/plain": [
       "Downloading data files #8:   0%|          | 0/250 [00:00<?, ?obj/s]"
      ]
     },
     "metadata": {},
     "output_type": "display_data"
    },
    {
     "data": {
      "application/vnd.jupyter.widget-view+json": {
       "model_id": "2be387bc9efd4dd7a229807b4ea5e40e",
       "version_major": 2,
       "version_minor": 0
      },
      "text/plain": [
       "Downloading data files #10:   0%|          | 0/250 [00:00<?, ?obj/s]"
      ]
     },
     "metadata": {},
     "output_type": "display_data"
    },
    {
     "data": {
      "application/vnd.jupyter.widget-view+json": {
       "model_id": "fb5ea834b00a415dbc4174cf08dd8497",
       "version_major": 2,
       "version_minor": 0
      },
      "text/plain": [
       "Downloading data files #9:   0%|          | 0/250 [00:00<?, ?obj/s]"
      ]
     },
     "metadata": {},
     "output_type": "display_data"
    },
    {
     "data": {
      "application/vnd.jupyter.widget-view+json": {
       "model_id": "ec72f21ea8564786a8747490baad98f8",
       "version_major": 2,
       "version_minor": 0
      },
      "text/plain": [
       "Downloading data files:   0%|          | 0/2 [00:00<?, ?it/s]"
      ]
     },
     "metadata": {},
     "output_type": "display_data"
    },
    {
     "name": "stdout",
     "output_type": "stream",
     "text": [
      "  "
     ]
    },
    {
     "data": {
      "application/vnd.jupyter.widget-view+json": {
       "model_id": "9d6c537dbe4a46c99e64a17aa63ec8cf",
       "version_major": 2,
       "version_minor": 0
      },
      "text/plain": [
       "Extracting data files #0:   0%|          | 0/1 [00:00<?, ?obj/s]"
      ]
     },
     "metadata": {},
     "output_type": "display_data"
    },
    {
     "data": {
      "application/vnd.jupyter.widget-view+json": {
       "model_id": "06814cb3dcc34947a4f0aa567b50346a",
       "version_major": 2,
       "version_minor": 0
      },
      "text/plain": [
       "Extracting data files #1:   0%|          | 0/1 [00:00<?, ?obj/s]"
      ]
     },
     "metadata": {},
     "output_type": "display_data"
    },
    {
     "data": {
      "application/vnd.jupyter.widget-view+json": {
       "model_id": "",
       "version_major": 2,
       "version_minor": 0
      },
      "text/plain": [
       "Generating train split: 0 examples [00:00, ? examples/s]"
      ]
     },
     "metadata": {},
     "output_type": "display_data"
    },
    {
     "name": "stdout",
     "output_type": "stream",
     "text": [
      "Dataset imagefolder downloaded and prepared to /home/suvivars/.cache/huggingface/datasets/imagefolder/default-a4e24a3ed84835a9/0.0.0/37fbb85cc714a338bea574ac6c7d0b5be5aff46c1862c1989b20e0771199e93f. Subsequent calls will reuse this data.\n"
     ]
    }
   ],
   "source": [
    "train_ds = load_dataset(\"imagefolder\", data_dir=\"Disease/data\", split=\"train\")"
   ]
  },
  {
   "cell_type": "code",
   "execution_count": 4,
   "metadata": {},
   "outputs": [],
   "source": [
    "# split up training into training + validation\n",
    "splits = train_ds.train_test_split(test_size=0.3)\n",
    "train_val_ds = splits['train']\n",
    "test_ds = splits['test']\n",
    "\n",
    "splits = train_val_ds.train_test_split(test_size=0.1)\n",
    "train_ds = splits['train']\n",
    "val_ds = splits['test']\n"
   ]
  },
  {
   "cell_type": "code",
   "execution_count": 5,
   "metadata": {},
   "outputs": [
    {
     "name": "stdout",
     "output_type": "stream",
     "text": [
      "2523 1203 281\n"
     ]
    }
   ],
   "source": [
    "print(len(train_ds),len(test_ds),len(val_ds))"
   ]
  },
  {
   "cell_type": "code",
   "execution_count": 6,
   "metadata": {},
   "outputs": [
    {
     "data": {
      "text/plain": [
       "Dataset({\n",
       "    features: ['image', 'classID', 'class'],\n",
       "    num_rows: 2523\n",
       "})"
      ]
     },
     "execution_count": 6,
     "metadata": {},
     "output_type": "execute_result"
    }
   ],
   "source": [
    "train_ds"
   ]
  },
  {
   "cell_type": "code",
   "execution_count": 8,
   "metadata": {},
   "outputs": [
    {
     "data": {
      "text/plain": [
       "{0: 'Normal', 1: 'Disease'}"
      ]
     },
     "execution_count": 8,
     "metadata": {},
     "output_type": "execute_result"
    }
   ],
   "source": [
    "with open('Disease/data/label2id.json') as f:\n",
    "    label2id = json.load(f)\n",
    "\n",
    "with open('Disease/data/id2label.json') as f:\n",
    "    id2label = json.load(f)\n",
    "\n",
    "id2label = {int(key):value for key,value in id2label.items()}\n",
    "id2label"
   ]
  },
  {
   "cell_type": "code",
   "execution_count": 9,
   "metadata": {},
   "outputs": [],
   "source": [
    "feature_extractor = ViTFeatureExtractor.from_pretrained(\"google/vit-base-patch16-224-in21k\")"
   ]
  },
  {
   "cell_type": "code",
   "execution_count": 10,
   "metadata": {
    "scrolled": true
   },
   "outputs": [],
   "source": [
    "normalize = Normalize(mean=feature_extractor.image_mean, std=feature_extractor.image_std)"
   ]
  },
  {
   "cell_type": "code",
   "execution_count": 11,
   "metadata": {},
   "outputs": [],
   "source": [
    "_train_transforms = Compose(\n",
    "        [\n",
    "            RandomResizedCrop(tuple(feature_extractor.size.values())),\n",
    "            RandomHorizontalFlip(),\n",
    "            ToTensor(),\n",
    "            normalize,\n",
    "        ]\n",
    "    )\n",
    "\n",
    "_val_transforms = Compose(\n",
    "        [\n",
    "            Resize(tuple(feature_extractor.size.values())),\n",
    "            CenterCrop(tuple(feature_extractor.size.values())),\n",
    "            ToTensor(),\n",
    "            normalize,\n",
    "        ]\n",
    "    )"
   ]
  },
  {
   "cell_type": "code",
   "execution_count": 12,
   "metadata": {},
   "outputs": [],
   "source": [
    "def train_transforms(examples):\n",
    "    examples['pixel_values'] = [_train_transforms(image.convert(\"RGB\")) for image in examples['image']]\n",
    "    return examples\n",
    "\n",
    "def val_transforms(examples):\n",
    "    examples['pixel_values'] = [_val_transforms(image.convert(\"RGB\")) for image in examples['image']]\n",
    "    return examples"
   ]
  },
  {
   "cell_type": "code",
   "execution_count": 13,
   "metadata": {},
   "outputs": [],
   "source": [
    "# Set the transforms\n",
    "train_ds.set_transform(train_transforms)\n",
    "val_ds.set_transform(val_transforms)\n",
    "test_ds.set_transform(val_transforms)"
   ]
  },
  {
   "cell_type": "code",
   "execution_count": 14,
   "metadata": {
    "scrolled": true
   },
   "outputs": [
    {
     "data": {
      "text/plain": [
       "{'image': [<PIL.PngImagePlugin.PngImageFile image mode=RGBA size=334x217 at 0x7F98D0382390>,\n",
       "  <PIL.PngImagePlugin.PngImageFile image mode=RGBA size=334x217 at 0x7F98D0382940>],\n",
       " 'classID': [0, 1],\n",
       " 'class': ['Normal', 'Disease'],\n",
       " 'pixel_values': [tensor([[[-1.0000, -1.0000, -1.0000,  ..., -1.0000, -1.0000, -1.0000],\n",
       "           [-1.0000, -1.0000, -1.0000,  ..., -1.0000, -1.0000, -1.0000],\n",
       "           [-1.0000, -1.0000, -1.0000,  ..., -1.0000, -1.0000, -1.0000],\n",
       "           ...,\n",
       "           [ 0.6157,  0.6157,  0.6157,  ...,  0.5294,  0.5216,  0.4824],\n",
       "           [ 0.6157,  0.6157,  0.6157,  ...,  0.4588,  0.4510,  0.3098],\n",
       "           [ 0.6706,  0.6706,  0.6706,  ...,  0.3569,  0.3255, -0.0275]],\n",
       "  \n",
       "          [[-1.0000, -1.0000, -1.0000,  ..., -1.0000, -1.0000, -1.0000],\n",
       "           [-1.0000, -1.0000, -1.0000,  ..., -1.0000, -1.0000, -1.0000],\n",
       "           [-1.0000, -1.0000, -1.0000,  ..., -1.0000, -1.0000, -1.0000],\n",
       "           ...,\n",
       "           [-0.4980, -0.4980, -0.4980,  ..., -0.5373, -0.5373, -0.5529],\n",
       "           [-0.4902, -0.4902, -0.4902,  ..., -0.5608, -0.5608, -0.6078],\n",
       "           [-0.4667, -0.4667, -0.4667,  ..., -0.5922, -0.6000, -0.7255]],\n",
       "  \n",
       "          [[-0.9686, -0.9686, -0.9686,  ..., -0.9686, -0.9686, -0.9686],\n",
       "           [-0.9686, -0.9686, -0.9686,  ..., -0.9686, -0.9686, -0.9686],\n",
       "           [-0.9686, -0.9686, -0.9686,  ..., -0.9686, -0.9686, -0.9686],\n",
       "           ...,\n",
       "           [-0.1216, -0.1216, -0.1216,  ..., -0.0824, -0.0824, -0.0667],\n",
       "           [-0.1216, -0.1216, -0.1216,  ..., -0.0588, -0.0588, -0.0275],\n",
       "           [-0.1451, -0.1451, -0.1451,  ..., -0.0275, -0.0275,  0.0196]]]),\n",
       "  tensor([[[-0.9137, -0.9529, -0.9294,  ..., -0.8196, -0.9216, -0.9373],\n",
       "           [-0.9216, -0.9294, -0.8824,  ..., -0.8196, -0.9137, -0.9137],\n",
       "           [-0.9216, -0.9137, -0.8431,  ..., -0.8196, -0.9059, -0.8902],\n",
       "           ...,\n",
       "           [-0.7255, -0.6863, -0.5294,  ..., -0.7647, -0.7490, -0.8431],\n",
       "           [-0.7490, -0.7647, -0.4588,  ..., -0.7490, -0.7333, -0.7804],\n",
       "           [-0.6706, -0.7725, -0.4275,  ..., -0.6941, -0.7098, -0.7647]],\n",
       "  \n",
       "          [[-0.9294, -0.9608, -0.9451,  ..., -0.8902, -0.9294, -0.9451],\n",
       "           [-0.9373, -0.9451, -0.9216,  ..., -0.8902, -0.9294, -0.9294],\n",
       "           [-0.9373, -0.9294, -0.8980,  ..., -0.8902, -0.9294, -0.9137],\n",
       "           ...,\n",
       "           [-0.8745, -0.8745, -0.8588,  ..., -0.8667, -0.8745, -0.8980],\n",
       "           [-0.8745, -0.8667, -0.8510,  ..., -0.8667, -0.8667, -0.8745],\n",
       "           [-0.8667, -0.8745, -0.8353,  ..., -0.8588, -0.8588, -0.8667]],\n",
       "  \n",
       "          [[-0.7176, -0.8039, -0.7569,  ..., -0.5373, -0.7255, -0.7647],\n",
       "           [-0.7255, -0.7569, -0.6549,  ..., -0.5373, -0.7176, -0.7020],\n",
       "           [-0.7333, -0.7176, -0.5843,  ..., -0.5373, -0.7098, -0.6627],\n",
       "           ...,\n",
       "           [-0.3961, -0.3255, -0.1843,  ..., -0.4275, -0.4118, -0.5686],\n",
       "           [-0.4118, -0.4275, -0.1529,  ..., -0.4039, -0.3882, -0.4588],\n",
       "           [-0.2784, -0.4431, -0.1608,  ..., -0.3098, -0.3333, -0.4275]]])]}"
      ]
     },
     "execution_count": 14,
     "metadata": {},
     "output_type": "execute_result"
    }
   ],
   "source": [
    "train_ds[:2]"
   ]
  },
  {
   "cell_type": "code",
   "execution_count": 15,
   "metadata": {},
   "outputs": [],
   "source": [
    "def collate_fn(examples):\n",
    "    pixel_values = torch.stack([example[\"pixel_values\"] for example in examples])\n",
    "    labels = torch.tensor([example[\"classID\"] for example in examples])\n",
    "    return {\"pixel_values\": pixel_values, \"labels\": labels}\n",
    "\n",
    "train_dataloader = DataLoader(train_ds, collate_fn=collate_fn, batch_size=4)\n"
   ]
  },
  {
   "cell_type": "code",
   "execution_count": 16,
   "metadata": {},
   "outputs": [
    {
     "name": "stdout",
     "output_type": "stream",
     "text": [
      "pixel_values torch.Size([4, 3, 224, 224])\n",
      "labels torch.Size([4])\n"
     ]
    }
   ],
   "source": [
    "batch = next(iter(train_dataloader))\n",
    "for k,v in batch.items():\n",
    "    if isinstance(v, torch.Tensor):\n",
    "        print(k, v.shape)"
   ]
  },
  {
   "cell_type": "code",
   "execution_count": 18,
   "metadata": {},
   "outputs": [
    {
     "name": "stderr",
     "output_type": "stream",
     "text": [
      "Some weights of the model checkpoint at google/vit-base-patch16-224-in21k were not used when initializing ViTForImageClassification: ['pooler.dense.weight', 'pooler.dense.bias']\n",
      "- This IS expected if you are initializing ViTForImageClassification from the checkpoint of a model trained on another task or with another architecture (e.g. initializing a BertForSequenceClassification model from a BertForPreTraining model).\n",
      "- This IS NOT expected if you are initializing ViTForImageClassification from the checkpoint of a model that you expect to be exactly identical (initializing a BertForSequenceClassification model from a BertForSequenceClassification model).\n",
      "Some weights of ViTForImageClassification were not initialized from the model checkpoint at google/vit-base-patch16-224-in21k and are newly initialized: ['classifier.weight', 'classifier.bias']\n",
      "You should probably TRAIN this model on a down-stream task to be able to use it for predictions and inference.\n"
     ]
    }
   ],
   "source": [
    "model = ViTForImageClassification.from_pretrained('google/vit-base-patch16-224-in21k',\n",
    "                                                  num_labels=2,\n",
    "                                                  id2label=id2label,\n",
    "                                                  label2id=label2id)"
   ]
  },
  {
   "cell_type": "code",
   "execution_count": 23,
   "metadata": {},
   "outputs": [],
   "source": [
    "metric_name = \"accuracy\"\n",
    "\n",
    "args = TrainingArguments(\n",
    "    f\"train-Disease\",\n",
    "    save_strategy=\"epoch\",\n",
    "    evaluation_strategy=\"epoch\",\n",
    "    learning_rate=2e-5,\n",
    "    per_device_train_batch_size=10,\n",
    "    per_device_eval_batch_size=4,\n",
    "    num_train_epochs=50,\n",
    "    weight_decay=0.01,\n",
    "    load_best_model_at_end=True,\n",
    "    metric_for_best_model=metric_name,\n",
    "    logging_dir='Disease_logs',\n",
    "    remove_unused_columns=False,\n",
    ")\n",
    "\n"
   ]
  },
  {
   "cell_type": "code",
   "execution_count": 24,
   "metadata": {},
   "outputs": [],
   "source": [
    "metric = load_metric(\"accuracy\")\n",
    "\n",
    "def compute_metrics(eval_pred):\n",
    "    predictions, labels = eval_pred\n",
    "    predictions = np.argmax(predictions, axis=1)\n",
    "    return metric.compute(predictions=predictions, references=labels)"
   ]
  },
  {
   "cell_type": "code",
   "execution_count": 25,
   "metadata": {},
   "outputs": [],
   "source": [
    "trainer = Trainer(\n",
    "    model,\n",
    "    args,\n",
    "    train_dataset=train_ds,\n",
    "    eval_dataset=val_ds,\n",
    "    data_collator=collate_fn,\n",
    "    compute_metrics=compute_metrics,\n",
    "    tokenizer=feature_extractor,\n",
    "    callbacks = [EarlyStoppingCallback(early_stopping_patience=5)]\n",
    ")\n"
   ]
  },
  {
   "cell_type": "code",
   "execution_count": 26,
   "metadata": {
    "scrolled": false
   },
   "outputs": [
    {
     "name": "stderr",
     "output_type": "stream",
     "text": [
      "/home/suvivars/.conda/envs/271/lib/python3.7/site-packages/transformers/optimization.py:310: FutureWarning: This implementation of AdamW is deprecated and will be removed in a future version. Use the PyTorch implementation torch.optim.AdamW instead, or set `no_deprecation_warning=True` to disable this warning\n",
      "  FutureWarning,\n",
      "***** Running training *****\n",
      "  Num examples = 2523\n",
      "  Num Epochs = 50\n",
      "  Instantaneous batch size per device = 10\n",
      "  Total train batch size (w. parallel, distributed & accumulation) = 10\n",
      "  Gradient Accumulation steps = 1\n",
      "  Total optimization steps = 12650\n",
      "  Number of trainable parameters = 85800194\n"
     ]
    },
    {
     "data": {
      "text/html": [
       "\n",
       "    <div>\n",
       "      \n",
       "      <progress value='5566' max='12650' style='width:300px; height:20px; vertical-align: middle;'></progress>\n",
       "      [ 5566/12650 40:21 < 51:23, 2.30 it/s, Epoch 22/50]\n",
       "    </div>\n",
       "    <table border=\"1\" class=\"dataframe\">\n",
       "  <thead>\n",
       " <tr style=\"text-align: left;\">\n",
       "      <th>Epoch</th>\n",
       "      <th>Training Loss</th>\n",
       "      <th>Validation Loss</th>\n",
       "      <th>Accuracy</th>\n",
       "    </tr>\n",
       "  </thead>\n",
       "  <tbody>\n",
       "    <tr>\n",
       "      <td>1</td>\n",
       "      <td>No log</td>\n",
       "      <td>0.280530</td>\n",
       "      <td>0.907473</td>\n",
       "    </tr>\n",
       "    <tr>\n",
       "      <td>2</td>\n",
       "      <td>0.384900</td>\n",
       "      <td>0.276215</td>\n",
       "      <td>0.911032</td>\n",
       "    </tr>\n",
       "    <tr>\n",
       "      <td>3</td>\n",
       "      <td>0.384900</td>\n",
       "      <td>0.169597</td>\n",
       "      <td>0.939502</td>\n",
       "    </tr>\n",
       "    <tr>\n",
       "      <td>4</td>\n",
       "      <td>0.262900</td>\n",
       "      <td>0.275630</td>\n",
       "      <td>0.907473</td>\n",
       "    </tr>\n",
       "    <tr>\n",
       "      <td>5</td>\n",
       "      <td>0.262900</td>\n",
       "      <td>0.141861</td>\n",
       "      <td>0.943060</td>\n",
       "    </tr>\n",
       "    <tr>\n",
       "      <td>6</td>\n",
       "      <td>0.208500</td>\n",
       "      <td>0.097185</td>\n",
       "      <td>0.964413</td>\n",
       "    </tr>\n",
       "    <tr>\n",
       "      <td>7</td>\n",
       "      <td>0.208500</td>\n",
       "      <td>0.473552</td>\n",
       "      <td>0.836299</td>\n",
       "    </tr>\n",
       "    <tr>\n",
       "      <td>8</td>\n",
       "      <td>0.180700</td>\n",
       "      <td>0.205669</td>\n",
       "      <td>0.928826</td>\n",
       "    </tr>\n",
       "    <tr>\n",
       "      <td>9</td>\n",
       "      <td>0.180700</td>\n",
       "      <td>0.061299</td>\n",
       "      <td>0.978648</td>\n",
       "    </tr>\n",
       "    <tr>\n",
       "      <td>10</td>\n",
       "      <td>0.155900</td>\n",
       "      <td>0.075841</td>\n",
       "      <td>0.971530</td>\n",
       "    </tr>\n",
       "    <tr>\n",
       "      <td>11</td>\n",
       "      <td>0.155900</td>\n",
       "      <td>0.059389</td>\n",
       "      <td>0.978648</td>\n",
       "    </tr>\n",
       "    <tr>\n",
       "      <td>12</td>\n",
       "      <td>0.151400</td>\n",
       "      <td>0.123153</td>\n",
       "      <td>0.960854</td>\n",
       "    </tr>\n",
       "    <tr>\n",
       "      <td>13</td>\n",
       "      <td>0.151400</td>\n",
       "      <td>0.024416</td>\n",
       "      <td>0.992883</td>\n",
       "    </tr>\n",
       "    <tr>\n",
       "      <td>14</td>\n",
       "      <td>0.132000</td>\n",
       "      <td>0.043961</td>\n",
       "      <td>0.989324</td>\n",
       "    </tr>\n",
       "    <tr>\n",
       "      <td>15</td>\n",
       "      <td>0.132000</td>\n",
       "      <td>0.027203</td>\n",
       "      <td>0.992883</td>\n",
       "    </tr>\n",
       "    <tr>\n",
       "      <td>16</td>\n",
       "      <td>0.126200</td>\n",
       "      <td>0.035473</td>\n",
       "      <td>0.989324</td>\n",
       "    </tr>\n",
       "    <tr>\n",
       "      <td>17</td>\n",
       "      <td>0.126200</td>\n",
       "      <td>0.021070</td>\n",
       "      <td>0.996441</td>\n",
       "    </tr>\n",
       "    <tr>\n",
       "      <td>18</td>\n",
       "      <td>0.114300</td>\n",
       "      <td>0.053977</td>\n",
       "      <td>0.982206</td>\n",
       "    </tr>\n",
       "    <tr>\n",
       "      <td>19</td>\n",
       "      <td>0.114300</td>\n",
       "      <td>0.051479</td>\n",
       "      <td>0.989324</td>\n",
       "    </tr>\n",
       "    <tr>\n",
       "      <td>20</td>\n",
       "      <td>0.113800</td>\n",
       "      <td>0.023441</td>\n",
       "      <td>0.985765</td>\n",
       "    </tr>\n",
       "    <tr>\n",
       "      <td>21</td>\n",
       "      <td>0.113800</td>\n",
       "      <td>0.042848</td>\n",
       "      <td>0.989324</td>\n",
       "    </tr>\n",
       "    <tr>\n",
       "      <td>22</td>\n",
       "      <td>0.097400</td>\n",
       "      <td>0.029972</td>\n",
       "      <td>0.989324</td>\n",
       "    </tr>\n",
       "  </tbody>\n",
       "</table><p>"
      ],
      "text/plain": [
       "<IPython.core.display.HTML object>"
      ]
     },
     "metadata": {},
     "output_type": "display_data"
    },
    {
     "name": "stderr",
     "output_type": "stream",
     "text": [
      "***** Running Evaluation *****\n",
      "  Num examples = 281\n",
      "  Batch size = 4\n",
      "Saving model checkpoint to train-Disease/checkpoint-253\n",
      "Configuration saved in train-Disease/checkpoint-253/config.json\n",
      "Model weights saved in train-Disease/checkpoint-253/pytorch_model.bin\n",
      "Image processor saved in train-Disease/checkpoint-253/preprocessor_config.json\n",
      "***** Running Evaluation *****\n",
      "  Num examples = 281\n",
      "  Batch size = 4\n",
      "Saving model checkpoint to train-Disease/checkpoint-506\n",
      "Configuration saved in train-Disease/checkpoint-506/config.json\n",
      "Model weights saved in train-Disease/checkpoint-506/pytorch_model.bin\n",
      "Image processor saved in train-Disease/checkpoint-506/preprocessor_config.json\n",
      "***** Running Evaluation *****\n",
      "  Num examples = 281\n",
      "  Batch size = 4\n",
      "Saving model checkpoint to train-Disease/checkpoint-759\n",
      "Configuration saved in train-Disease/checkpoint-759/config.json\n",
      "Model weights saved in train-Disease/checkpoint-759/pytorch_model.bin\n",
      "Image processor saved in train-Disease/checkpoint-759/preprocessor_config.json\n",
      "***** Running Evaluation *****\n",
      "  Num examples = 281\n",
      "  Batch size = 4\n",
      "Saving model checkpoint to train-Disease/checkpoint-1012\n",
      "Configuration saved in train-Disease/checkpoint-1012/config.json\n",
      "Model weights saved in train-Disease/checkpoint-1012/pytorch_model.bin\n",
      "Image processor saved in train-Disease/checkpoint-1012/preprocessor_config.json\n",
      "***** Running Evaluation *****\n",
      "  Num examples = 281\n",
      "  Batch size = 4\n",
      "Saving model checkpoint to train-Disease/checkpoint-1265\n",
      "Configuration saved in train-Disease/checkpoint-1265/config.json\n",
      "Model weights saved in train-Disease/checkpoint-1265/pytorch_model.bin\n",
      "Image processor saved in train-Disease/checkpoint-1265/preprocessor_config.json\n",
      "***** Running Evaluation *****\n",
      "  Num examples = 281\n",
      "  Batch size = 4\n",
      "Saving model checkpoint to train-Disease/checkpoint-1518\n",
      "Configuration saved in train-Disease/checkpoint-1518/config.json\n",
      "Model weights saved in train-Disease/checkpoint-1518/pytorch_model.bin\n",
      "Image processor saved in train-Disease/checkpoint-1518/preprocessor_config.json\n",
      "***** Running Evaluation *****\n",
      "  Num examples = 281\n",
      "  Batch size = 4\n",
      "Saving model checkpoint to train-Disease/checkpoint-1771\n",
      "Configuration saved in train-Disease/checkpoint-1771/config.json\n",
      "Model weights saved in train-Disease/checkpoint-1771/pytorch_model.bin\n",
      "Image processor saved in train-Disease/checkpoint-1771/preprocessor_config.json\n",
      "***** Running Evaluation *****\n",
      "  Num examples = 281\n",
      "  Batch size = 4\n",
      "Saving model checkpoint to train-Disease/checkpoint-2024\n",
      "Configuration saved in train-Disease/checkpoint-2024/config.json\n",
      "Model weights saved in train-Disease/checkpoint-2024/pytorch_model.bin\n",
      "Image processor saved in train-Disease/checkpoint-2024/preprocessor_config.json\n",
      "***** Running Evaluation *****\n",
      "  Num examples = 281\n",
      "  Batch size = 4\n",
      "Saving model checkpoint to train-Disease/checkpoint-2277\n",
      "Configuration saved in train-Disease/checkpoint-2277/config.json\n",
      "Model weights saved in train-Disease/checkpoint-2277/pytorch_model.bin\n",
      "Image processor saved in train-Disease/checkpoint-2277/preprocessor_config.json\n",
      "***** Running Evaluation *****\n",
      "  Num examples = 281\n",
      "  Batch size = 4\n",
      "Saving model checkpoint to train-Disease/checkpoint-2530\n",
      "Configuration saved in train-Disease/checkpoint-2530/config.json\n",
      "Model weights saved in train-Disease/checkpoint-2530/pytorch_model.bin\n",
      "Image processor saved in train-Disease/checkpoint-2530/preprocessor_config.json\n",
      "***** Running Evaluation *****\n",
      "  Num examples = 281\n",
      "  Batch size = 4\n",
      "Saving model checkpoint to train-Disease/checkpoint-2783\n",
      "Configuration saved in train-Disease/checkpoint-2783/config.json\n",
      "Model weights saved in train-Disease/checkpoint-2783/pytorch_model.bin\n",
      "Image processor saved in train-Disease/checkpoint-2783/preprocessor_config.json\n",
      "***** Running Evaluation *****\n",
      "  Num examples = 281\n",
      "  Batch size = 4\n",
      "Saving model checkpoint to train-Disease/checkpoint-3036\n",
      "Configuration saved in train-Disease/checkpoint-3036/config.json\n",
      "Model weights saved in train-Disease/checkpoint-3036/pytorch_model.bin\n",
      "Image processor saved in train-Disease/checkpoint-3036/preprocessor_config.json\n",
      "***** Running Evaluation *****\n",
      "  Num examples = 281\n",
      "  Batch size = 4\n",
      "Saving model checkpoint to train-Disease/checkpoint-3289\n",
      "Configuration saved in train-Disease/checkpoint-3289/config.json\n",
      "Model weights saved in train-Disease/checkpoint-3289/pytorch_model.bin\n",
      "Image processor saved in train-Disease/checkpoint-3289/preprocessor_config.json\n",
      "***** Running Evaluation *****\n",
      "  Num examples = 281\n",
      "  Batch size = 4\n",
      "Saving model checkpoint to train-Disease/checkpoint-3542\n",
      "Configuration saved in train-Disease/checkpoint-3542/config.json\n",
      "Model weights saved in train-Disease/checkpoint-3542/pytorch_model.bin\n",
      "Image processor saved in train-Disease/checkpoint-3542/preprocessor_config.json\n",
      "***** Running Evaluation *****\n",
      "  Num examples = 281\n",
      "  Batch size = 4\n",
      "Saving model checkpoint to train-Disease/checkpoint-3795\n",
      "Configuration saved in train-Disease/checkpoint-3795/config.json\n",
      "Model weights saved in train-Disease/checkpoint-3795/pytorch_model.bin\n",
      "Image processor saved in train-Disease/checkpoint-3795/preprocessor_config.json\n",
      "***** Running Evaluation *****\n",
      "  Num examples = 281\n",
      "  Batch size = 4\n",
      "Saving model checkpoint to train-Disease/checkpoint-4048\n",
      "Configuration saved in train-Disease/checkpoint-4048/config.json\n",
      "Model weights saved in train-Disease/checkpoint-4048/pytorch_model.bin\n",
      "Image processor saved in train-Disease/checkpoint-4048/preprocessor_config.json\n",
      "***** Running Evaluation *****\n",
      "  Num examples = 281\n",
      "  Batch size = 4\n",
      "Saving model checkpoint to train-Disease/checkpoint-4301\n",
      "Configuration saved in train-Disease/checkpoint-4301/config.json\n",
      "Model weights saved in train-Disease/checkpoint-4301/pytorch_model.bin\n",
      "Image processor saved in train-Disease/checkpoint-4301/preprocessor_config.json\n",
      "***** Running Evaluation *****\n",
      "  Num examples = 281\n",
      "  Batch size = 4\n",
      "Saving model checkpoint to train-Disease/checkpoint-4554\n",
      "Configuration saved in train-Disease/checkpoint-4554/config.json\n",
      "Model weights saved in train-Disease/checkpoint-4554/pytorch_model.bin\n",
      "Image processor saved in train-Disease/checkpoint-4554/preprocessor_config.json\n",
      "***** Running Evaluation *****\n",
      "  Num examples = 281\n",
      "  Batch size = 4\n",
      "Saving model checkpoint to train-Disease/checkpoint-4807\n",
      "Configuration saved in train-Disease/checkpoint-4807/config.json\n",
      "Model weights saved in train-Disease/checkpoint-4807/pytorch_model.bin\n",
      "Image processor saved in train-Disease/checkpoint-4807/preprocessor_config.json\n",
      "***** Running Evaluation *****\n",
      "  Num examples = 281\n",
      "  Batch size = 4\n",
      "Saving model checkpoint to train-Disease/checkpoint-5060\n",
      "Configuration saved in train-Disease/checkpoint-5060/config.json\n",
      "Model weights saved in train-Disease/checkpoint-5060/pytorch_model.bin\n",
      "Image processor saved in train-Disease/checkpoint-5060/preprocessor_config.json\n",
      "***** Running Evaluation *****\n",
      "  Num examples = 281\n",
      "  Batch size = 4\n",
      "Saving model checkpoint to train-Disease/checkpoint-5313\n",
      "Configuration saved in train-Disease/checkpoint-5313/config.json\n",
      "Model weights saved in train-Disease/checkpoint-5313/pytorch_model.bin\n",
      "Image processor saved in train-Disease/checkpoint-5313/preprocessor_config.json\n",
      "***** Running Evaluation *****\n",
      "  Num examples = 281\n",
      "  Batch size = 4\n",
      "Saving model checkpoint to train-Disease/checkpoint-5566\n",
      "Configuration saved in train-Disease/checkpoint-5566/config.json\n",
      "Model weights saved in train-Disease/checkpoint-5566/pytorch_model.bin\n",
      "Image processor saved in train-Disease/checkpoint-5566/preprocessor_config.json\n",
      "\n",
      "\n",
      "Training completed. Do not forget to share your model on huggingface.co/models =)\n",
      "\n",
      "\n",
      "Loading best model from train-Disease/checkpoint-4301 (score: 0.99644128113879).\n"
     ]
    },
    {
     "name": "stdout",
     "output_type": "stream",
     "text": [
      "Total Time Taken (in sec): 2426.7895243167877\n"
     ]
    }
   ],
   "source": [
    "#Using GPU\n",
    "start_time = time.time()\n",
    "trainer.train()\n",
    "print('Total Time Taken (in sec):',time.time()-start_time)"
   ]
  },
  {
   "cell_type": "code",
   "execution_count": 27,
   "metadata": {},
   "outputs": [
    {
     "name": "stderr",
     "output_type": "stream",
     "text": [
      "***** Running Prediction *****\n",
      "  Num examples = 1203\n",
      "  Batch size = 4\n"
     ]
    },
    {
     "data": {
      "text/html": [],
      "text/plain": [
       "<IPython.core.display.HTML object>"
      ]
     },
     "metadata": {},
     "output_type": "display_data"
    }
   ],
   "source": [
    "outputs = trainer.predict(test_ds)"
   ]
  },
  {
   "cell_type": "code",
   "execution_count": 28,
   "metadata": {},
   "outputs": [
    {
     "name": "stdout",
     "output_type": "stream",
     "text": [
      "{'test_loss': 0.05964897200465202, 'test_accuracy': 0.9833748960931006, 'test_runtime': 10.795, 'test_samples_per_second': 111.441, 'test_steps_per_second': 27.883}\n"
     ]
    }
   ],
   "source": [
    "print(outputs.metrics)"
   ]
  },
  {
   "cell_type": "code",
   "execution_count": 30,
   "metadata": {},
   "outputs": [
    {
     "data": {
      "text/plain": [
       "<sklearn.metrics._plot.confusion_matrix.ConfusionMatrixDisplay at 0x7f9866ad5550>"
      ]
     },
     "execution_count": 30,
     "metadata": {},
     "output_type": "execute_result"
    },
    {
     "data": {
      "image/png": "[encoded data removed]",
      "text/plain": [
       "<Figure size 432x288 with 2 Axes>"
      ]
     },
     "metadata": {
      "needs_background": "light"
     },
     "output_type": "display_data"
    }
   ],
   "source": [
    "from sklearn.metrics import confusion_matrix, ConfusionMatrixDisplay\n",
    "\n",
    "y_true = outputs.label_ids\n",
    "y_pred = outputs.predictions.argmax(1)\n",
    "\n",
    "labels = id2label.values()\n",
    "cm = confusion_matrix(y_true, y_pred)\n",
    "disp = ConfusionMatrixDisplay(confusion_matrix=cm, display_labels=labels)\n",
    "disp.plot(xticks_rotation=90)\n"
   ]
  },
  {
   "cell_type": "code",
   "execution_count": 31,
   "metadata": {},
   "outputs": [
    {
     "name": "stderr",
     "output_type": "stream",
     "text": [
      "Configuration saved in models/Disease-EarlyStopping/config.json\n",
      "Model weights saved in models/Disease-EarlyStopping/pytorch_model.bin\n"
     ]
    }
   ],
   "source": [
    "model.save_pretrained(\"models/Disease-EarlyStopping\")"
   ]
  },
  {
   "cell_type": "code",
   "execution_count": 44,
   "metadata": {},
   "outputs": [],
   "source": [
    "logs='Epoch\tTraining Loss\tValidation Loss\tAccuracy\\t\\\n",
    "1\t0.394900\t0.280530\t0.907473\\t\\\n",
    "2\t0.384900\t0.276215\t0.911032\\t\\\n",
    "3\t0.384900\t0.275997\t0.939502\\t\\\n",
    "4\t0.262900\t0.275630\t0.907473\\t\\\n",
    "5\t0.262900\t0.141861\t0.943060\\t\\\n",
    "6\t0.228500\t0.097185\t0.964413\\t\\\n",
    "7\t0.208500\t0.098552\t0.936299\\t\\\n",
    "8\t0.180700\t0.205669\t0.928826\\t\\\n",
    "9\t0.180700\t0.061299\t0.978648\\t\\\n",
    "10\t0.155900\t0.075841\t0.971530\\t\\\n",
    "11\t0.155900\t0.059389\t0.978648\\t\\\n",
    "12\t0.151400\t0.123153\t0.960854\\t\\\n",
    "13\t0.151400\t0.024416\t0.992883\\t\\\n",
    "14\t0.132000\t0.043961\t0.989324\\t\\\n",
    "15\t0.132000\t0.027203\t0.992883\\t\\\n",
    "16\t0.126200\t0.035473\t0.989324\\t\\\n",
    "17\t0.126200\t0.021070\t0.996441\\t\\\n",
    "18\t0.114300\t0.053977\t0.982206\\t\\\n",
    "19\t0.114300\t0.051479\t0.989324\\t\\\n",
    "20\t0.113800\t0.023441\t0.985765\\t\\\n",
    "21\t0.113800\t0.042848\t0.989324\\t\\\n",
    "22\t0.097400\t0.029972\t0.989324'"
   ]
  },
  {
   "cell_type": "code",
   "execution_count": 45,
   "metadata": {},
   "outputs": [],
   "source": [
    "epoch=logs.split('\\t')[::4][1:]\n",
    "epoch=list(map(int, epoch))\n",
    "training_loss=logs.split('\\t')[1::4][1:]\n",
    "training_loss=list(map(float, training_loss))\n",
    "validation_loss=logs.split('\\t')[2::4][1:]\n",
    "validation_loss=list(map(float, validation_loss))\n",
    "accuracy=logs.split('\\t')[3::4][1:]\n",
    "accuracy=list(map(float, accuracy))"
   ]
  },
  {
   "cell_type": "code",
   "execution_count": 46,
   "metadata": {},
   "outputs": [
    {
     "data": {
      "image/png": "[encoded data removed]",
      "text/plain": [
       "<Figure size 432x288 with 1 Axes>"
      ]
     },
     "metadata": {
      "needs_background": "light"
     },
     "output_type": "display_data"
    }
   ],
   "source": [
    "#Acc graph\n",
    "plt.plot(epoch,accuracy,label='Validation acc')\n",
    "plt.xlabel('Number of epochs',fontsize=12)\n",
    "plt.ylabel('Validation Acc',fontsize=12)\n",
    "plt.legend(loc=\"upper left\")\n",
    "plt.title('Acc Graph',fontsize=20,fontweight='bold')\n",
    "plt.show()\n",
    "#plt.savefig('Q1_acc.jpg')"
   ]
  },
  {
   "cell_type": "code",
   "execution_count": 47,
   "metadata": {},
   "outputs": [
    {
     "data": {
      "image/png": "[encoded data removed]",
      "text/plain": [
       "<Figure size 432x288 with 1 Axes>"
      ]
     },
     "metadata": {
      "needs_background": "light"
     },
     "output_type": "display_data"
    }
   ],
   "source": [
    "#Loss graph\n",
    "plt.plot(epoch,training_loss,label='train loss')\n",
    "plt.plot(epoch,validation_loss,label='validation loss')\n",
    "plt.xlabel('Number of epochs',fontsize=12)\n",
    "plt.ylabel('Loss',fontsize=12)\n",
    "plt.legend(loc=\"upper left\")\n",
    "plt.title('Loss Graph',fontsize=20,fontweight='bold')\n",
    "plt.show()\n",
    "#plt.savefig('Q1_loss.jpg')"
   ]
  },
  {
   "cell_type": "code",
   "execution_count": null,
   "metadata": {},
   "outputs": [],
   "source": []
  }
 ],
 "metadata": {
  "kernelspec": {
   "display_name": "Python 3",
   "language": "python",
   "name": "python3"
  },
  "language_info": {
   "codemirror_mode": {
    "name": "ipython",
    "version": 3
   },
   "file_extension": ".py",
   "mimetype": "text/x-python",
   "name": "python",
   "nbconvert_exporter": "python",
   "pygments_lexer": "ipython3",
   "version": "3.7.3"
  }
 },
 "nbformat": 4,
 "nbformat_minor": 2
}

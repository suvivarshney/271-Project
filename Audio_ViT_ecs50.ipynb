{
 "cells": [
  {
   "cell_type": "code",
   "execution_count": 20,
   "id": "657a4f94",
   "metadata": {},
   "outputs": [
    {
     "data": {
      "application/vnd.jupyter.widget-view+json": {
       "model_id": "349fe004f96d4a0c8024588d69a563eb",
       "version_major": 2,
       "version_minor": 0
      },
      "text/plain": [
       "Resolving data files:   0%|          | 0/2001 [00:00<?, ?it/s]"
      ]
     },
     "metadata": {},
     "output_type": "display_data"
    },
    {
     "name": "stderr",
     "output_type": "stream",
     "text": [
      "Using custom data configuration default-53246fb818dc6894\n",
      "Found cached dataset imagefolder (/home/ubuntu/.cache/huggingface/datasets/imagefolder/default-53246fb818dc6894/0.0.0/37fbb85cc714a338bea574ac6c7d0b5be5aff46c1862c1989b20e0771199e93f)\n"
     ]
    },
    {
     "name": "stdout",
     "output_type": "stream",
     "text": [
      "1260 600 140\n"
     ]
    }
   ],
   "source": [
    "from datasets import load_dataset\n",
    "from transformers import EarlyStoppingCallback, IntervalStrategy\n",
    "\n",
    "train_ds = load_dataset(\"imagefolder\", data_dir=\"data_ecs/train\", split=\"train\")\n",
    "\n",
    "\n",
    "# split up training into training + validation\n",
    "splits = train_ds.train_test_split(test_size=0.3)\n",
    "train_val_ds = splits['train']\n",
    "test_ds = splits['test']\n",
    "\n",
    "splits = train_val_ds.train_test_split(test_size=0.1)\n",
    "train_ds = splits['train']\n",
    "val_ds = splits['test']\n",
    "\n",
    "\n",
    "print(len(train_ds),len(test_ds),len(val_ds))"
   ]
  },
  {
   "cell_type": "code",
   "execution_count": 21,
   "id": "931fe773",
   "metadata": {},
   "outputs": [],
   "source": [
    "# !pip install datasets\n",
    "# !pip install Pillow\n",
    "# !pip install transformers\n",
    "# !pip install torch torchvision torchaudio\n",
    "# !pip install -U scikit-learn\n",
    "# !pip install tensorboard\n",
    "# !pip install matplotlib"
   ]
  },
  {
   "cell_type": "code",
   "execution_count": 22,
   "id": "889dd259",
   "metadata": {},
   "outputs": [
    {
     "data": {
      "text/plain": [
       "Dataset({\n",
       "    features: ['image', 'classID', 'class'],\n",
       "    num_rows: 1260\n",
       "})"
      ]
     },
     "execution_count": 22,
     "metadata": {},
     "output_type": "execute_result"
    }
   ],
   "source": [
    "train_ds"
   ]
  },
  {
   "cell_type": "code",
   "execution_count": 23,
   "id": "87ac926c",
   "metadata": {},
   "outputs": [
    {
     "data": {
      "text/plain": [
       "{0: 'dog',\n",
       " 1: 'rooster',\n",
       " 2: 'pig',\n",
       " 3: 'cow',\n",
       " 4: 'frog',\n",
       " 5: 'cat',\n",
       " 6: 'hen',\n",
       " 7: 'insects',\n",
       " 8: 'sheep',\n",
       " 9: 'crow',\n",
       " 10: 'rain',\n",
       " 11: 'sea_waves',\n",
       " 12: 'crackling_fire',\n",
       " 13: 'crickets',\n",
       " 14: 'chirping_birds',\n",
       " 15: 'water_drops',\n",
       " 16: 'wind',\n",
       " 17: 'pouring_water',\n",
       " 18: 'toilet_flush',\n",
       " 19: 'thunderstorm',\n",
       " 20: 'crying_baby',\n",
       " 21: 'sneezing',\n",
       " 22: 'clapping',\n",
       " 23: 'breathing',\n",
       " 24: 'coughing',\n",
       " 25: 'footsteps',\n",
       " 26: 'laughing',\n",
       " 27: 'brushing_teeth',\n",
       " 28: 'snoring',\n",
       " 29: 'drinking_sipping',\n",
       " 30: 'door_wood_knock',\n",
       " 31: 'mouse_click',\n",
       " 32: 'keyboard_typing',\n",
       " 33: 'door_wood_creaks',\n",
       " 34: 'can_opening',\n",
       " 35: 'washing_machine',\n",
       " 36: 'vacuum_cleaner',\n",
       " 37: 'clock_alarm',\n",
       " 38: 'clock_tick',\n",
       " 39: 'glass_breaking',\n",
       " 40: 'helicopter',\n",
       " 41: 'chainsaw',\n",
       " 42: 'siren',\n",
       " 43: 'car_horn',\n",
       " 44: 'engine',\n",
       " 45: 'train',\n",
       " 46: 'church_bells',\n",
       " 47: 'airplane',\n",
       " 48: 'fireworks',\n",
       " 49: 'hand_saw'}"
      ]
     },
     "execution_count": 23,
     "metadata": {},
     "output_type": "execute_result"
    }
   ],
   "source": [
    "import json\n",
    "\n",
    "with open('data_ecs/label2id.json') as f:\n",
    "    label2id = json.load(f)\n",
    "\n",
    "with open('data_ecs/id2label.json') as f:\n",
    "    id2label = json.load(f)\n",
    "\n",
    "id2label = {int(key):value for key,value in id2label.items()}\n",
    "id2label"
   ]
  },
  {
   "cell_type": "code",
   "execution_count": 24,
   "id": "8e0b8dae",
   "metadata": {},
   "outputs": [
    {
     "name": "stderr",
     "output_type": "stream",
     "text": [
      "loading configuration file preprocessor_config.json from cache at /home/ubuntu/.cache/huggingface/hub/models--google--vit-base-patch16-224-in21k/snapshots/1ba429d32753f33a0660b80ac6f43a3c80c18938/preprocessor_config.json\n",
      "{param_name} should be a dictionary on of the following set of keys: {VALID_SIZE_DICT_KEYS}, got {size}. Converted to {size_dict}.\n",
      "Image processor ViTImageProcessor {\n",
      "  \"do_normalize\": true,\n",
      "  \"do_rescale\": true,\n",
      "  \"do_resize\": true,\n",
      "  \"image_mean\": [\n",
      "    0.5,\n",
      "    0.5,\n",
      "    0.5\n",
      "  ],\n",
      "  \"image_processor_type\": \"ViTImageProcessor\",\n",
      "  \"image_std\": [\n",
      "    0.5,\n",
      "    0.5,\n",
      "    0.5\n",
      "  ],\n",
      "  \"resample\": 2,\n",
      "  \"rescale_factor\": 0.00392156862745098,\n",
      "  \"size\": {\n",
      "    \"height\": 224,\n",
      "    \"width\": 224\n",
      "  }\n",
      "}\n",
      "\n"
     ]
    }
   ],
   "source": [
    "\n",
    "from transformers import ViTFeatureExtractor\n",
    "\n",
    "feature_extractor = ViTFeatureExtractor.from_pretrained(\"google/vit-base-patch16-224-in21k\")\n"
   ]
  },
  {
   "cell_type": "code",
   "execution_count": 25,
   "id": "b283b528",
   "metadata": {},
   "outputs": [
    {
     "data": {
      "text/plain": [
       "{'height': 224, 'width': 224}"
      ]
     },
     "execution_count": 25,
     "metadata": {},
     "output_type": "execute_result"
    }
   ],
   "source": [
    "feature_extractor.size"
   ]
  },
  {
   "cell_type": "code",
   "execution_count": 26,
   "id": "a864abad",
   "metadata": {},
   "outputs": [],
   "source": [
    "from torchvision.transforms import (CenterCrop, \n",
    "                                    Compose, \n",
    "                                    Normalize, \n",
    "                                    RandomHorizontalFlip,\n",
    "                                    RandomResizedCrop, \n",
    "                                    Resize, \n",
    "                                    ToTensor)\n",
    "\n",
    "normalize = Normalize(mean=feature_extractor.image_mean, std=feature_extractor.image_std)\n",
    "_train_transforms = Compose(\n",
    "        [\n",
    "            RandomResizedCrop(224),\n",
    "            RandomHorizontalFlip(),\n",
    "            ToTensor(),\n",
    "            normalize,\n",
    "        ]\n",
    "    )\n",
    "\n",
    "_val_transforms = Compose(\n",
    "        [\n",
    "            Resize(224),\n",
    "            CenterCrop(224),\n",
    "            ToTensor(),\n",
    "            normalize,\n",
    "        ]\n",
    "    )\n",
    "\n",
    "def train_transforms(examples):\n",
    "    examples['pixel_values'] = [_train_transforms(image.convert(\"RGB\")) for image in examples['image']]\n",
    "    return examples\n",
    "\n",
    "def val_transforms(examples):\n",
    "    examples['pixel_values'] = [_val_transforms(image.convert(\"RGB\")) for image in examples['image']]\n",
    "    return examples"
   ]
  },
  {
   "cell_type": "code",
   "execution_count": null,
   "id": "9c5548a6",
   "metadata": {},
   "outputs": [],
   "source": [
    "\n"
   ]
  },
  {
   "cell_type": "code",
   "execution_count": 27,
   "id": "9cbed1e9",
   "metadata": {},
   "outputs": [],
   "source": [
    "# Set the transforms\n",
    "train_ds.set_transform(train_transforms)\n",
    "val_ds.set_transform(val_transforms)\n",
    "test_ds.set_transform(val_transforms)"
   ]
  },
  {
   "cell_type": "code",
   "execution_count": 28,
   "id": "272c2932",
   "metadata": {},
   "outputs": [
    {
     "data": {
      "text/plain": [
       "{'image': [<PIL.PngImagePlugin.PngImageFile image mode=RGBA size=496x369>,\n",
       "  <PIL.PngImagePlugin.PngImageFile image mode=RGBA size=496x369>],\n",
       " 'classID': [27, 13],\n",
       " 'class': ['brushing_teeth', 'crickets'],\n",
       " 'pixel_values': [tensor([[[-1.0000, -1.0000, -1.0000,  ..., -1.0000, -1.0000, -1.0000],\n",
       "           [-1.0000, -1.0000, -1.0000,  ..., -1.0000, -1.0000, -1.0000],\n",
       "           [-1.0000, -1.0000, -1.0000,  ..., -1.0000, -1.0000, -1.0000],\n",
       "           ...,\n",
       "           [ 0.9451,  0.9686,  0.9765,  ...,  0.9608,  0.9373,  0.9216],\n",
       "           [ 0.9686,  0.9843,  0.9843,  ...,  0.9765,  0.9529,  0.9373],\n",
       "           [ 0.9765,  0.9843,  0.9843,  ...,  0.9843,  0.9529,  0.9373]],\n",
       "  \n",
       "          [[-1.0000, -1.0000, -1.0000,  ..., -1.0000, -1.0000, -1.0000],\n",
       "           [-1.0000, -1.0000, -1.0000,  ..., -1.0000, -1.0000, -1.0000],\n",
       "           [-1.0000, -1.0000, -1.0000,  ..., -1.0000, -1.0000, -1.0000],\n",
       "           ...,\n",
       "           [-0.0824,  0.0275,  0.0902,  ...,  0.0118, -0.1059, -0.1686],\n",
       "           [ 0.0980,  0.1686,  0.1922,  ...,  0.1451, -0.0353, -0.1216],\n",
       "           [ 0.1451,  0.2078,  0.2235,  ...,  0.1843, -0.0196, -0.1059]],\n",
       "  \n",
       "          [[-0.9686, -0.9686, -0.9686,  ..., -0.9686, -0.9686, -0.9686],\n",
       "           [-0.9686, -0.9686, -0.9686,  ..., -0.9686, -0.9686, -0.9686],\n",
       "           [-0.9686, -0.9686, -0.9686,  ..., -0.9686, -0.9686, -0.9686],\n",
       "           ...,\n",
       "           [-0.2706, -0.2549, -0.2235,  ..., -0.2549, -0.2706, -0.2784],\n",
       "           [-0.2157, -0.1843, -0.1765,  ..., -0.1922, -0.2549, -0.2784],\n",
       "           [-0.2000, -0.1686, -0.1608,  ..., -0.1765, -0.2471, -0.2784]]]),\n",
       "  tensor([[[-1.0000, -1.0000, -1.0000,  ..., -1.0000, -1.0000, -1.0000],\n",
       "           [-1.0000, -1.0000, -1.0000,  ..., -1.0000, -1.0000, -1.0000],\n",
       "           [-1.0000, -1.0000, -1.0000,  ..., -1.0000, -1.0000, -1.0000],\n",
       "           ...,\n",
       "           [ 0.9843,  0.9843,  0.9843,  ...,  0.9922,  0.9922,  0.9922],\n",
       "           [ 0.9765,  0.9765,  0.9843,  ...,  0.9922,  0.9843,  0.9843],\n",
       "           [ 0.9765,  0.9765,  0.9843,  ...,  0.9922,  0.9843,  0.9843]],\n",
       "  \n",
       "          [[-1.0000, -1.0000, -1.0000,  ..., -1.0000, -1.0000, -1.0000],\n",
       "           [-1.0000, -1.0000, -1.0000,  ..., -1.0000, -1.0000, -1.0000],\n",
       "           [-1.0000, -1.0000, -1.0000,  ..., -1.0000, -1.0000, -1.0000],\n",
       "           ...,\n",
       "           [ 0.7412,  0.7412,  0.7098,  ...,  0.6392,  0.6471,  0.6549],\n",
       "           [ 0.8510,  0.8902,  0.8039,  ...,  0.6784,  0.7176,  0.7490],\n",
       "           [ 0.8824,  0.9294,  0.8275,  ...,  0.6863,  0.7333,  0.7725]],\n",
       "  \n",
       "          [[-0.9686, -0.9686, -0.9686,  ..., -0.9686, -0.9686, -0.9686],\n",
       "           [-0.9686, -0.9686, -0.9686,  ..., -0.9686, -0.9686, -0.9686],\n",
       "           [-0.9686, -0.9686, -0.9686,  ..., -0.9686, -0.9686, -0.9686],\n",
       "           ...,\n",
       "           [ 0.2549,  0.2549,  0.2235,  ...,  0.1608,  0.1608,  0.1686],\n",
       "           [ 0.3647,  0.4039,  0.3255,  ...,  0.1922,  0.2235,  0.2549],\n",
       "           [ 0.3961,  0.4431,  0.3490,  ...,  0.2000,  0.2392,  0.2784]]])]}"
      ]
     },
     "execution_count": 28,
     "metadata": {},
     "output_type": "execute_result"
    }
   ],
   "source": [
    "val_ds[:2]"
   ]
  },
  {
   "cell_type": "code",
   "execution_count": 29,
   "id": "3b067175",
   "metadata": {},
   "outputs": [],
   "source": [
    "\n",
    "from torch.utils.data import DataLoader\n",
    "import torch\n",
    "\n",
    "def collate_fn(examples):\n",
    "    pixel_values = torch.stack([example[\"pixel_values\"] for example in examples])\n",
    "    labels = torch.tensor([example[\"classID\"] for example in examples])\n",
    "    return {\"pixel_values\": pixel_values, \"labels\": labels}\n",
    "\n",
    "train_dataloader = DataLoader(train_ds, collate_fn=collate_fn, batch_size=4)"
   ]
  },
  {
   "cell_type": "code",
   "execution_count": 30,
   "id": "295fef17",
   "metadata": {},
   "outputs": [
    {
     "name": "stdout",
     "output_type": "stream",
     "text": [
      "pixel_values torch.Size([4, 3, 224, 224])\n",
      "labels torch.Size([4])\n"
     ]
    }
   ],
   "source": [
    "\n",
    "batch = next(iter(train_dataloader))\n",
    "for k,v in batch.items():\n",
    "  if isinstance(v, torch.Tensor):\n",
    "    print(k, v.shape)"
   ]
  },
  {
   "cell_type": "code",
   "execution_count": 31,
   "id": "27437aea",
   "metadata": {},
   "outputs": [
    {
     "name": "stderr",
     "output_type": "stream",
     "text": [
      "loading configuration file config.json from cache at /home/ubuntu/.cache/huggingface/hub/models--google--vit-base-patch16-224-in21k/snapshots/1ba429d32753f33a0660b80ac6f43a3c80c18938/config.json\n",
      "Model config ViTConfig {\n",
      "  \"_name_or_path\": \"google/vit-base-patch16-224-in21k\",\n",
      "  \"architectures\": [\n",
      "    \"ViTModel\"\n",
      "  ],\n",
      "  \"attention_probs_dropout_prob\": 0.0,\n",
      "  \"encoder_stride\": 16,\n",
      "  \"hidden_act\": \"gelu\",\n",
      "  \"hidden_dropout_prob\": 0.0,\n",
      "  \"hidden_size\": 768,\n",
      "  \"id2label\": {\n",
      "    \"0\": \"dog\",\n",
      "    \"1\": \"rooster\",\n",
      "    \"2\": \"pig\",\n",
      "    \"3\": \"cow\",\n",
      "    \"4\": \"frog\",\n",
      "    \"5\": \"cat\",\n",
      "    \"6\": \"hen\",\n",
      "    \"7\": \"insects\",\n",
      "    \"8\": \"sheep\",\n",
      "    \"9\": \"crow\",\n",
      "    \"10\": \"rain\",\n",
      "    \"11\": \"sea_waves\",\n",
      "    \"12\": \"crackling_fire\",\n",
      "    \"13\": \"crickets\",\n",
      "    \"14\": \"chirping_birds\",\n",
      "    \"15\": \"water_drops\",\n",
      "    \"16\": \"wind\",\n",
      "    \"17\": \"pouring_water\",\n",
      "    \"18\": \"toilet_flush\",\n",
      "    \"19\": \"thunderstorm\",\n",
      "    \"20\": \"crying_baby\",\n",
      "    \"21\": \"sneezing\",\n",
      "    \"22\": \"clapping\",\n",
      "    \"23\": \"breathing\",\n",
      "    \"24\": \"coughing\",\n",
      "    \"25\": \"footsteps\",\n",
      "    \"26\": \"laughing\",\n",
      "    \"27\": \"brushing_teeth\",\n",
      "    \"28\": \"snoring\",\n",
      "    \"29\": \"drinking_sipping\",\n",
      "    \"30\": \"door_wood_knock\",\n",
      "    \"31\": \"mouse_click\",\n",
      "    \"32\": \"keyboard_typing\",\n",
      "    \"33\": \"door_wood_creaks\",\n",
      "    \"34\": \"can_opening\",\n",
      "    \"35\": \"washing_machine\",\n",
      "    \"36\": \"vacuum_cleaner\",\n",
      "    \"37\": \"clock_alarm\",\n",
      "    \"38\": \"clock_tick\",\n",
      "    \"39\": \"glass_breaking\",\n",
      "    \"40\": \"helicopter\",\n",
      "    \"41\": \"chainsaw\",\n",
      "    \"42\": \"siren\",\n",
      "    \"43\": \"car_horn\",\n",
      "    \"44\": \"engine\",\n",
      "    \"45\": \"train\",\n",
      "    \"46\": \"church_bells\",\n",
      "    \"47\": \"airplane\",\n",
      "    \"48\": \"fireworks\",\n",
      "    \"49\": \"hand_saw\"\n",
      "  },\n",
      "  \"image_size\": 224,\n",
      "  \"initializer_range\": 0.02,\n",
      "  \"intermediate_size\": 3072,\n",
      "  \"label2id\": {\n",
      "    \"airplane\": 47,\n",
      "    \"breathing\": 23,\n",
      "    \"brushing_teeth\": 27,\n",
      "    \"can_opening\": 34,\n",
      "    \"car_horn\": 43,\n",
      "    \"cat\": 5,\n",
      "    \"chainsaw\": 41,\n",
      "    \"chirping_birds\": 14,\n",
      "    \"church_bells\": 46,\n",
      "    \"clapping\": 22,\n",
      "    \"clock_alarm\": 37,\n",
      "    \"clock_tick\": 38,\n",
      "    \"coughing\": 24,\n",
      "    \"cow\": 3,\n",
      "    \"crackling_fire\": 12,\n",
      "    \"crickets\": 13,\n",
      "    \"crow\": 9,\n",
      "    \"crying_baby\": 20,\n",
      "    \"dog\": 0,\n",
      "    \"door_wood_creaks\": 33,\n",
      "    \"door_wood_knock\": 30,\n",
      "    \"drinking_sipping\": 29,\n",
      "    \"engine\": 44,\n",
      "    \"fireworks\": 48,\n",
      "    \"footsteps\": 25,\n",
      "    \"frog\": 4,\n",
      "    \"glass_breaking\": 39,\n",
      "    \"hand_saw\": 49,\n",
      "    \"helicopter\": 40,\n",
      "    \"hen\": 6,\n",
      "    \"insects\": 7,\n",
      "    \"keyboard_typing\": 32,\n",
      "    \"laughing\": 26,\n",
      "    \"mouse_click\": 31,\n",
      "    \"pig\": 2,\n",
      "    \"pouring_water\": 17,\n",
      "    \"rain\": 10,\n",
      "    \"rooster\": 1,\n",
      "    \"sea_waves\": 11,\n",
      "    \"sheep\": 8,\n",
      "    \"siren\": 42,\n",
      "    \"sneezing\": 21,\n",
      "    \"snoring\": 28,\n",
      "    \"thunderstorm\": 19,\n",
      "    \"toilet_flush\": 18,\n",
      "    \"train\": 45,\n",
      "    \"vacuum_cleaner\": 36,\n",
      "    \"washing_machine\": 35,\n",
      "    \"water_drops\": 15,\n",
      "    \"wind\": 16\n",
      "  },\n",
      "  \"layer_norm_eps\": 1e-12,\n",
      "  \"model_type\": \"vit\",\n",
      "  \"num_attention_heads\": 12,\n",
      "  \"num_channels\": 3,\n",
      "  \"num_hidden_layers\": 12,\n",
      "  \"patch_size\": 16,\n",
      "  \"qkv_bias\": true,\n",
      "  \"transformers_version\": \"4.25.1\"\n",
      "}\n",
      "\n",
      "loading weights file pytorch_model.bin from cache at /home/ubuntu/.cache/huggingface/hub/models--google--vit-base-patch16-224-in21k/snapshots/1ba429d32753f33a0660b80ac6f43a3c80c18938/pytorch_model.bin\n",
      "Some weights of the model checkpoint at google/vit-base-patch16-224-in21k were not used when initializing ViTForImageClassification: ['pooler.dense.bias', 'pooler.dense.weight']\n",
      "- This IS expected if you are initializing ViTForImageClassification from the checkpoint of a model trained on another task or with another architecture (e.g. initializing a BertForSequenceClassification model from a BertForPreTraining model).\n",
      "- This IS NOT expected if you are initializing ViTForImageClassification from the checkpoint of a model that you expect to be exactly identical (initializing a BertForSequenceClassification model from a BertForSequenceClassification model).\n",
      "Some weights of ViTForImageClassification were not initialized from the model checkpoint at google/vit-base-patch16-224-in21k and are newly initialized: ['classifier.bias', 'classifier.weight']\n",
      "You should probably TRAIN this model on a down-stream task to be able to use it for predictions and inference.\n"
     ]
    }
   ],
   "source": [
    "from transformers import ViTForImageClassification\n",
    "\n",
    "model = ViTForImageClassification.from_pretrained('google/vit-base-patch16-224-in21k',\n",
    "                                                  num_labels=50,\n",
    "                                                  id2label=id2label,\n",
    "                                                  label2id=label2id)"
   ]
  },
  {
   "cell_type": "code",
   "execution_count": 32,
   "id": "c0a4cc2f",
   "metadata": {},
   "outputs": [
    {
     "name": "stdout",
     "output_type": "stream",
     "text": [
      "/home/ubuntu/.cache/huggingface/hub\n"
     ]
    }
   ],
   "source": [
    "from transformers import file_utils\n",
    "print(file_utils.default_cache_path)"
   ]
  },
  {
   "cell_type": "code",
   "execution_count": 33,
   "id": "f4ccc130",
   "metadata": {},
   "outputs": [
    {
     "name": "stderr",
     "output_type": "stream",
     "text": [
      "PyTorch: setting up devices\n",
      "The default value for the training argument `--report_to` will change in v5 (from all installed integrations to none). In v5, you will need to use `--report_to all` to get the same behavior as now. You should start updating your code and make this info disappear :-).\n"
     ]
    }
   ],
   "source": [
    "from transformers import TrainingArguments, Trainer\n",
    "\n",
    "metric_name = \"accuracy\"\n",
    "\n",
    "args = TrainingArguments(\n",
    "    f\"test-ecs50-10\",\n",
    "    save_strategy=\"epoch\",\n",
    "    evaluation_strategy=\"epoch\",\n",
    "    learning_rate=2e-5,\n",
    "    per_device_train_batch_size=10,\n",
    "    per_device_eval_batch_size=4,\n",
    "    num_train_epochs=50,\n",
    "    weight_decay=0.01,\n",
    "    load_best_model_at_end=True,\n",
    "    metric_for_best_model=metric_name,\n",
    "    logging_dir='logs',\n",
    "    remove_unused_columns=False,\n",
    ")"
   ]
  },
  {
   "cell_type": "code",
   "execution_count": 34,
   "id": "77c92e80",
   "metadata": {},
   "outputs": [
    {
     "name": "stderr",
     "output_type": "stream",
     "text": [
      "Using the latest cached version of the module from /home/ubuntu/.cache/huggingface/modules/datasets_modules/metrics/accuracy/9756d5fa4a0f9da966341741fc3926eafdc604b8276add51d5abbaa8958a25f9 (last modified on Mon Dec  5 08:03:28 2022) since it couldn't be found locally at accuracy, or remotely on the Hugging Face Hub.\n"
     ]
    }
   ],
   "source": [
    "from datasets import load_metric\n",
    "import numpy as np\n",
    "\n",
    "metric = load_metric(\"accuracy\")\n",
    "\n",
    "def compute_metrics(eval_pred):\n",
    "    predictions, labels = eval_pred\n",
    "    predictions = np.argmax(predictions, axis=1)\n",
    "    return metric.compute(predictions=predictions, references=labels)"
   ]
  },
  {
   "cell_type": "code",
   "execution_count": 35,
   "id": "f8159dbe",
   "metadata": {},
   "outputs": [],
   "source": [
    "import torch\n",
    "\n",
    "trainer = Trainer(\n",
    "    model,\n",
    "    args,\n",
    "    train_dataset=train_ds,\n",
    "    eval_dataset=val_ds,\n",
    "    data_collator=collate_fn,\n",
    "    compute_metrics=compute_metrics,\n",
    "    tokenizer=feature_extractor,\n",
    "    callbacks = [EarlyStoppingCallback(early_stopping_patience=5)]\n",
    ")"
   ]
  },
  {
   "cell_type": "code",
   "execution_count": null,
   "id": "0aad2558",
   "metadata": {},
   "outputs": [],
   "source": []
  },
  {
   "cell_type": "code",
   "execution_count": 36,
   "id": "ba8a6938",
   "metadata": {},
   "outputs": [
    {
     "data": {
      "text/plain": [
       "Dataset({\n",
       "    features: ['image', 'classID', 'class'],\n",
       "    num_rows: 1260\n",
       "})"
      ]
     },
     "execution_count": 36,
     "metadata": {},
     "output_type": "execute_result"
    }
   ],
   "source": [
    "train_ds"
   ]
  },
  {
   "cell_type": "code",
   "execution_count": 37,
   "id": "b4ee5adf",
   "metadata": {},
   "outputs": [
    {
     "name": "stdout",
     "output_type": "stream",
     "text": [
      "The tensorboard extension is already loaded. To reload it, use:\n",
      "  %reload_ext tensorboard\n"
     ]
    },
    {
     "data": {
      "text/html": [
       "\n",
       "      <iframe id=\"tensorboard-frame-1c80317fa3b1799d\" width=\"100%\" height=\"800\" frameborder=\"0\">\n",
       "      </iframe>\n",
       "      <script>\n",
       "        (function() {\n",
       "          const frame = document.getElementById(\"tensorboard-frame-1c80317fa3b1799d\");\n",
       "          const url = new URL(\"/\", window.location);\n",
       "          const port = 6006;\n",
       "          if (port) {\n",
       "            url.port = port;\n",
       "          }\n",
       "          frame.src = url;\n",
       "        })();\n",
       "      </script>\n",
       "    "
      ],
      "text/plain": [
       "<IPython.core.display.HTML object>"
      ]
     },
     "metadata": {},
     "output_type": "display_data"
    }
   ],
   "source": [
    "\n",
    "# Start tensorboard.\n",
    "%load_ext tensorboard\n",
    "%tensorboard --logdir logs/"
   ]
  },
  {
   "cell_type": "code",
   "execution_count": null,
   "id": "80857146",
   "metadata": {},
   "outputs": [],
   "source": []
  },
  {
   "cell_type": "code",
   "execution_count": 38,
   "id": "69961efd",
   "metadata": {},
   "outputs": [
    {
     "name": "stderr",
     "output_type": "stream",
     "text": [
      "/home/ubuntu/mlenv/lib/python3.8/site-packages/transformers/optimization.py:306: FutureWarning: This implementation of AdamW is deprecated and will be removed in a future version. Use the PyTorch implementation torch.optim.AdamW instead, or set `no_deprecation_warning=True` to disable this warning\n",
      "  warnings.warn(\n",
      "***** Running training *****\n",
      "  Num examples = 1260\n",
      "  Num Epochs = 50\n",
      "  Instantaneous batch size per device = 10\n",
      "  Total train batch size (w. parallel, distributed & accumulation) = 10\n",
      "  Gradient Accumulation steps = 1\n",
      "  Total optimization steps = 6300\n",
      "  Number of trainable parameters = 85837106\n"
     ]
    },
    {
     "data": {
      "text/html": [
       "\n",
       "    <div>\n",
       "      \n",
       "      <progress value='3276' max='6300' style='width:300px; height:20px; vertical-align: middle;'></progress>\n",
       "      [3276/6300 25:16 < 23:20, 2.16 it/s, Epoch 26/50]\n",
       "    </div>\n",
       "    <table border=\"1\" class=\"dataframe\">\n",
       "  <thead>\n",
       " <tr style=\"text-align: left;\">\n",
       "      <th>Epoch</th>\n",
       "      <th>Training Loss</th>\n",
       "      <th>Validation Loss</th>\n",
       "      <th>Accuracy</th>\n",
       "    </tr>\n",
       "  </thead>\n",
       "  <tbody>\n",
       "    <tr>\n",
       "      <td>1</td>\n",
       "      <td>No log</td>\n",
       "      <td>3.658437</td>\n",
       "      <td>0.271429</td>\n",
       "    </tr>\n",
       "    <tr>\n",
       "      <td>2</td>\n",
       "      <td>No log</td>\n",
       "      <td>3.381681</td>\n",
       "      <td>0.407143</td>\n",
       "    </tr>\n",
       "    <tr>\n",
       "      <td>3</td>\n",
       "      <td>No log</td>\n",
       "      <td>3.165191</td>\n",
       "      <td>0.407143</td>\n",
       "    </tr>\n",
       "    <tr>\n",
       "      <td>4</td>\n",
       "      <td>3.421400</td>\n",
       "      <td>2.951771</td>\n",
       "      <td>0.485714</td>\n",
       "    </tr>\n",
       "    <tr>\n",
       "      <td>5</td>\n",
       "      <td>3.421400</td>\n",
       "      <td>2.791856</td>\n",
       "      <td>0.542857</td>\n",
       "    </tr>\n",
       "    <tr>\n",
       "      <td>6</td>\n",
       "      <td>3.421400</td>\n",
       "      <td>2.640490</td>\n",
       "      <td>0.571429</td>\n",
       "    </tr>\n",
       "    <tr>\n",
       "      <td>7</td>\n",
       "      <td>3.421400</td>\n",
       "      <td>2.510593</td>\n",
       "      <td>0.614286</td>\n",
       "    </tr>\n",
       "    <tr>\n",
       "      <td>8</td>\n",
       "      <td>2.630100</td>\n",
       "      <td>2.390392</td>\n",
       "      <td>0.614286</td>\n",
       "    </tr>\n",
       "    <tr>\n",
       "      <td>9</td>\n",
       "      <td>2.630100</td>\n",
       "      <td>2.305790</td>\n",
       "      <td>0.642857</td>\n",
       "    </tr>\n",
       "    <tr>\n",
       "      <td>10</td>\n",
       "      <td>2.630100</td>\n",
       "      <td>2.174632</td>\n",
       "      <td>0.678571</td>\n",
       "    </tr>\n",
       "    <tr>\n",
       "      <td>11</td>\n",
       "      <td>2.630100</td>\n",
       "      <td>2.077467</td>\n",
       "      <td>0.692857</td>\n",
       "    </tr>\n",
       "    <tr>\n",
       "      <td>12</td>\n",
       "      <td>2.129700</td>\n",
       "      <td>1.973397</td>\n",
       "      <td>0.728571</td>\n",
       "    </tr>\n",
       "    <tr>\n",
       "      <td>13</td>\n",
       "      <td>2.129700</td>\n",
       "      <td>1.918954</td>\n",
       "      <td>0.728571</td>\n",
       "    </tr>\n",
       "    <tr>\n",
       "      <td>14</td>\n",
       "      <td>2.129700</td>\n",
       "      <td>1.809739</td>\n",
       "      <td>0.757143</td>\n",
       "    </tr>\n",
       "    <tr>\n",
       "      <td>15</td>\n",
       "      <td>2.129700</td>\n",
       "      <td>1.726790</td>\n",
       "      <td>0.764286</td>\n",
       "    </tr>\n",
       "    <tr>\n",
       "      <td>16</td>\n",
       "      <td>1.732900</td>\n",
       "      <td>1.657539</td>\n",
       "      <td>0.785714</td>\n",
       "    </tr>\n",
       "    <tr>\n",
       "      <td>17</td>\n",
       "      <td>1.732900</td>\n",
       "      <td>1.587802</td>\n",
       "      <td>0.778571</td>\n",
       "    </tr>\n",
       "    <tr>\n",
       "      <td>18</td>\n",
       "      <td>1.732900</td>\n",
       "      <td>1.543860</td>\n",
       "      <td>0.778571</td>\n",
       "    </tr>\n",
       "    <tr>\n",
       "      <td>19</td>\n",
       "      <td>1.732900</td>\n",
       "      <td>1.473809</td>\n",
       "      <td>0.792857</td>\n",
       "    </tr>\n",
       "    <tr>\n",
       "      <td>20</td>\n",
       "      <td>1.440600</td>\n",
       "      <td>1.426600</td>\n",
       "      <td>0.792857</td>\n",
       "    </tr>\n",
       "    <tr>\n",
       "      <td>21</td>\n",
       "      <td>1.440600</td>\n",
       "      <td>1.365216</td>\n",
       "      <td>0.828571</td>\n",
       "    </tr>\n",
       "    <tr>\n",
       "      <td>22</td>\n",
       "      <td>1.440600</td>\n",
       "      <td>1.360835</td>\n",
       "      <td>0.792857</td>\n",
       "    </tr>\n",
       "    <tr>\n",
       "      <td>23</td>\n",
       "      <td>1.440600</td>\n",
       "      <td>1.300246</td>\n",
       "      <td>0.828571</td>\n",
       "    </tr>\n",
       "    <tr>\n",
       "      <td>24</td>\n",
       "      <td>1.228900</td>\n",
       "      <td>1.286753</td>\n",
       "      <td>0.800000</td>\n",
       "    </tr>\n",
       "    <tr>\n",
       "      <td>25</td>\n",
       "      <td>1.228900</td>\n",
       "      <td>1.220594</td>\n",
       "      <td>0.821429</td>\n",
       "    </tr>\n",
       "    <tr>\n",
       "      <td>26</td>\n",
       "      <td>1.228900</td>\n",
       "      <td>1.166821</td>\n",
       "      <td>0.807143</td>\n",
       "    </tr>\n",
       "  </tbody>\n",
       "</table><p>"
      ],
      "text/plain": [
       "<IPython.core.display.HTML object>"
      ]
     },
     "metadata": {},
     "output_type": "display_data"
    },
    {
     "name": "stderr",
     "output_type": "stream",
     "text": [
      "***** Running Evaluation *****\n",
      "  Num examples = 140\n",
      "  Batch size = 4\n",
      "Saving model checkpoint to test-ecs50-10/checkpoint-126\n",
      "Configuration saved in test-ecs50-10/checkpoint-126/config.json\n",
      "Model weights saved in test-ecs50-10/checkpoint-126/pytorch_model.bin\n",
      "Image processor saved in test-ecs50-10/checkpoint-126/preprocessor_config.json\n",
      "***** Running Evaluation *****\n",
      "  Num examples = 140\n",
      "  Batch size = 4\n",
      "Saving model checkpoint to test-ecs50-10/checkpoint-252\n",
      "Configuration saved in test-ecs50-10/checkpoint-252/config.json\n",
      "Model weights saved in test-ecs50-10/checkpoint-252/pytorch_model.bin\n",
      "Image processor saved in test-ecs50-10/checkpoint-252/preprocessor_config.json\n",
      "***** Running Evaluation *****\n",
      "  Num examples = 140\n",
      "  Batch size = 4\n",
      "Saving model checkpoint to test-ecs50-10/checkpoint-378\n",
      "Configuration saved in test-ecs50-10/checkpoint-378/config.json\n",
      "Model weights saved in test-ecs50-10/checkpoint-378/pytorch_model.bin\n",
      "Image processor saved in test-ecs50-10/checkpoint-378/preprocessor_config.json\n",
      "***** Running Evaluation *****\n",
      "  Num examples = 140\n",
      "  Batch size = 4\n",
      "Saving model checkpoint to test-ecs50-10/checkpoint-504\n",
      "Configuration saved in test-ecs50-10/checkpoint-504/config.json\n",
      "Model weights saved in test-ecs50-10/checkpoint-504/pytorch_model.bin\n",
      "Image processor saved in test-ecs50-10/checkpoint-504/preprocessor_config.json\n",
      "***** Running Evaluation *****\n",
      "  Num examples = 140\n",
      "  Batch size = 4\n",
      "Saving model checkpoint to test-ecs50-10/checkpoint-630\n",
      "Configuration saved in test-ecs50-10/checkpoint-630/config.json\n",
      "Model weights saved in test-ecs50-10/checkpoint-630/pytorch_model.bin\n",
      "Image processor saved in test-ecs50-10/checkpoint-630/preprocessor_config.json\n",
      "***** Running Evaluation *****\n",
      "  Num examples = 140\n",
      "  Batch size = 4\n",
      "Saving model checkpoint to test-ecs50-10/checkpoint-756\n",
      "Configuration saved in test-ecs50-10/checkpoint-756/config.json\n",
      "Model weights saved in test-ecs50-10/checkpoint-756/pytorch_model.bin\n",
      "Image processor saved in test-ecs50-10/checkpoint-756/preprocessor_config.json\n",
      "***** Running Evaluation *****\n",
      "  Num examples = 140\n",
      "  Batch size = 4\n",
      "Saving model checkpoint to test-ecs50-10/checkpoint-882\n",
      "Configuration saved in test-ecs50-10/checkpoint-882/config.json\n",
      "Model weights saved in test-ecs50-10/checkpoint-882/pytorch_model.bin\n",
      "Image processor saved in test-ecs50-10/checkpoint-882/preprocessor_config.json\n",
      "***** Running Evaluation *****\n",
      "  Num examples = 140\n",
      "  Batch size = 4\n",
      "Saving model checkpoint to test-ecs50-10/checkpoint-1008\n",
      "Configuration saved in test-ecs50-10/checkpoint-1008/config.json\n",
      "Model weights saved in test-ecs50-10/checkpoint-1008/pytorch_model.bin\n",
      "Image processor saved in test-ecs50-10/checkpoint-1008/preprocessor_config.json\n",
      "***** Running Evaluation *****\n",
      "  Num examples = 140\n",
      "  Batch size = 4\n",
      "Saving model checkpoint to test-ecs50-10/checkpoint-1134\n",
      "Configuration saved in test-ecs50-10/checkpoint-1134/config.json\n",
      "Model weights saved in test-ecs50-10/checkpoint-1134/pytorch_model.bin\n",
      "Image processor saved in test-ecs50-10/checkpoint-1134/preprocessor_config.json\n",
      "***** Running Evaluation *****\n",
      "  Num examples = 140\n",
      "  Batch size = 4\n",
      "Saving model checkpoint to test-ecs50-10/checkpoint-1260\n",
      "Configuration saved in test-ecs50-10/checkpoint-1260/config.json\n",
      "Model weights saved in test-ecs50-10/checkpoint-1260/pytorch_model.bin\n",
      "Image processor saved in test-ecs50-10/checkpoint-1260/preprocessor_config.json\n",
      "***** Running Evaluation *****\n",
      "  Num examples = 140\n",
      "  Batch size = 4\n",
      "Saving model checkpoint to test-ecs50-10/checkpoint-1386\n",
      "Configuration saved in test-ecs50-10/checkpoint-1386/config.json\n",
      "Model weights saved in test-ecs50-10/checkpoint-1386/pytorch_model.bin\n",
      "Image processor saved in test-ecs50-10/checkpoint-1386/preprocessor_config.json\n",
      "***** Running Evaluation *****\n",
      "  Num examples = 140\n",
      "  Batch size = 4\n",
      "Saving model checkpoint to test-ecs50-10/checkpoint-1512\n",
      "Configuration saved in test-ecs50-10/checkpoint-1512/config.json\n",
      "Model weights saved in test-ecs50-10/checkpoint-1512/pytorch_model.bin\n",
      "Image processor saved in test-ecs50-10/checkpoint-1512/preprocessor_config.json\n",
      "***** Running Evaluation *****\n",
      "  Num examples = 140\n",
      "  Batch size = 4\n",
      "Saving model checkpoint to test-ecs50-10/checkpoint-1638\n",
      "Configuration saved in test-ecs50-10/checkpoint-1638/config.json\n",
      "Model weights saved in test-ecs50-10/checkpoint-1638/pytorch_model.bin\n",
      "Image processor saved in test-ecs50-10/checkpoint-1638/preprocessor_config.json\n",
      "***** Running Evaluation *****\n",
      "  Num examples = 140\n",
      "  Batch size = 4\n",
      "Saving model checkpoint to test-ecs50-10/checkpoint-1764\n",
      "Configuration saved in test-ecs50-10/checkpoint-1764/config.json\n",
      "Model weights saved in test-ecs50-10/checkpoint-1764/pytorch_model.bin\n",
      "Image processor saved in test-ecs50-10/checkpoint-1764/preprocessor_config.json\n",
      "***** Running Evaluation *****\n",
      "  Num examples = 140\n",
      "  Batch size = 4\n",
      "Saving model checkpoint to test-ecs50-10/checkpoint-1890\n",
      "Configuration saved in test-ecs50-10/checkpoint-1890/config.json\n",
      "Model weights saved in test-ecs50-10/checkpoint-1890/pytorch_model.bin\n",
      "Image processor saved in test-ecs50-10/checkpoint-1890/preprocessor_config.json\n",
      "***** Running Evaluation *****\n",
      "  Num examples = 140\n",
      "  Batch size = 4\n",
      "Saving model checkpoint to test-ecs50-10/checkpoint-2016\n",
      "Configuration saved in test-ecs50-10/checkpoint-2016/config.json\n",
      "Model weights saved in test-ecs50-10/checkpoint-2016/pytorch_model.bin\n",
      "Image processor saved in test-ecs50-10/checkpoint-2016/preprocessor_config.json\n",
      "***** Running Evaluation *****\n",
      "  Num examples = 140\n",
      "  Batch size = 4\n",
      "Saving model checkpoint to test-ecs50-10/checkpoint-2142\n",
      "Configuration saved in test-ecs50-10/checkpoint-2142/config.json\n",
      "Model weights saved in test-ecs50-10/checkpoint-2142/pytorch_model.bin\n",
      "Image processor saved in test-ecs50-10/checkpoint-2142/preprocessor_config.json\n",
      "***** Running Evaluation *****\n",
      "  Num examples = 140\n",
      "  Batch size = 4\n",
      "Saving model checkpoint to test-ecs50-10/checkpoint-2268\n",
      "Configuration saved in test-ecs50-10/checkpoint-2268/config.json\n",
      "Model weights saved in test-ecs50-10/checkpoint-2268/pytorch_model.bin\n",
      "Image processor saved in test-ecs50-10/checkpoint-2268/preprocessor_config.json\n",
      "***** Running Evaluation *****\n",
      "  Num examples = 140\n",
      "  Batch size = 4\n",
      "Saving model checkpoint to test-ecs50-10/checkpoint-2394\n",
      "Configuration saved in test-ecs50-10/checkpoint-2394/config.json\n",
      "Model weights saved in test-ecs50-10/checkpoint-2394/pytorch_model.bin\n",
      "Image processor saved in test-ecs50-10/checkpoint-2394/preprocessor_config.json\n",
      "***** Running Evaluation *****\n",
      "  Num examples = 140\n",
      "  Batch size = 4\n",
      "Saving model checkpoint to test-ecs50-10/checkpoint-2520\n",
      "Configuration saved in test-ecs50-10/checkpoint-2520/config.json\n",
      "Model weights saved in test-ecs50-10/checkpoint-2520/pytorch_model.bin\n",
      "Image processor saved in test-ecs50-10/checkpoint-2520/preprocessor_config.json\n",
      "***** Running Evaluation *****\n",
      "  Num examples = 140\n",
      "  Batch size = 4\n",
      "Saving model checkpoint to test-ecs50-10/checkpoint-2646\n",
      "Configuration saved in test-ecs50-10/checkpoint-2646/config.json\n",
      "Model weights saved in test-ecs50-10/checkpoint-2646/pytorch_model.bin\n",
      "Image processor saved in test-ecs50-10/checkpoint-2646/preprocessor_config.json\n",
      "***** Running Evaluation *****\n",
      "  Num examples = 140\n",
      "  Batch size = 4\n",
      "Saving model checkpoint to test-ecs50-10/checkpoint-2772\n",
      "Configuration saved in test-ecs50-10/checkpoint-2772/config.json\n",
      "Model weights saved in test-ecs50-10/checkpoint-2772/pytorch_model.bin\n",
      "Image processor saved in test-ecs50-10/checkpoint-2772/preprocessor_config.json\n",
      "***** Running Evaluation *****\n",
      "  Num examples = 140\n",
      "  Batch size = 4\n",
      "Saving model checkpoint to test-ecs50-10/checkpoint-2898\n",
      "Configuration saved in test-ecs50-10/checkpoint-2898/config.json\n",
      "Model weights saved in test-ecs50-10/checkpoint-2898/pytorch_model.bin\n",
      "Image processor saved in test-ecs50-10/checkpoint-2898/preprocessor_config.json\n",
      "***** Running Evaluation *****\n",
      "  Num examples = 140\n",
      "  Batch size = 4\n",
      "Saving model checkpoint to test-ecs50-10/checkpoint-3024\n",
      "Configuration saved in test-ecs50-10/checkpoint-3024/config.json\n",
      "Model weights saved in test-ecs50-10/checkpoint-3024/pytorch_model.bin\n",
      "Image processor saved in test-ecs50-10/checkpoint-3024/preprocessor_config.json\n",
      "***** Running Evaluation *****\n"
     ]
    },
    {
     "name": "stderr",
     "output_type": "stream",
     "text": [
      "  Num examples = 140\n",
      "  Batch size = 4\n",
      "Saving model checkpoint to test-ecs50-10/checkpoint-3150\n",
      "Configuration saved in test-ecs50-10/checkpoint-3150/config.json\n",
      "Model weights saved in test-ecs50-10/checkpoint-3150/pytorch_model.bin\n",
      "Image processor saved in test-ecs50-10/checkpoint-3150/preprocessor_config.json\n",
      "***** Running Evaluation *****\n",
      "  Num examples = 140\n",
      "  Batch size = 4\n",
      "Saving model checkpoint to test-ecs50-10/checkpoint-3276\n",
      "Configuration saved in test-ecs50-10/checkpoint-3276/config.json\n",
      "Model weights saved in test-ecs50-10/checkpoint-3276/pytorch_model.bin\n",
      "Image processor saved in test-ecs50-10/checkpoint-3276/preprocessor_config.json\n",
      "\n",
      "\n",
      "Training completed. Do not forget to share your model on huggingface.co/models =)\n",
      "\n",
      "\n",
      "Loading best model from test-ecs50-10/checkpoint-2646 (score: 0.8285714285714286).\n"
     ]
    },
    {
     "data": {
      "text/plain": [
       "TrainOutput(global_step=3276, training_loss=2.010805169595758, metrics={'train_runtime': 1516.5309, 'train_samples_per_second': 41.542, 'train_steps_per_second': 4.154, 'total_flos': 2.53972972404523e+18, 'train_loss': 2.010805169595758, 'epoch': 26.0})"
      ]
     },
     "execution_count": 38,
     "metadata": {},
     "output_type": "execute_result"
    }
   ],
   "source": [
    "trainer.train()"
   ]
  },
  {
   "cell_type": "code",
   "execution_count": 39,
   "id": "749ab243",
   "metadata": {},
   "outputs": [
    {
     "name": "stderr",
     "output_type": "stream",
     "text": [
      "***** Running Prediction *****\n",
      "  Num examples = 600\n",
      "  Batch size = 4\n"
     ]
    },
    {
     "data": {
      "text/html": [],
      "text/plain": [
       "<IPython.core.display.HTML object>"
      ]
     },
     "metadata": {},
     "output_type": "display_data"
    }
   ],
   "source": [
    "outputs = trainer.predict(test_ds)"
   ]
  },
  {
   "cell_type": "code",
   "execution_count": 40,
   "id": "a9e3f79b",
   "metadata": {},
   "outputs": [
    {
     "name": "stdout",
     "output_type": "stream",
     "text": [
      "{'test_loss': 1.3706001043319702, 'test_accuracy': 0.805, 'test_runtime': 10.1897, 'test_samples_per_second': 58.883, 'test_steps_per_second': 14.721}\n"
     ]
    }
   ],
   "source": [
    "print(outputs.metrics)"
   ]
  },
  {
   "cell_type": "code",
   "execution_count": 41,
   "id": "b16f1c39",
   "metadata": {},
   "outputs": [
    {
     "data": {
      "text/plain": [
       "<sklearn.metrics._plot.confusion_matrix.ConfusionMatrixDisplay at 0x7f1e210f0910>"
      ]
     },
     "execution_count": 41,
     "metadata": {},
     "output_type": "execute_result"
    },
    {
     "data": {
      "image/png": "[encoded data removed]",
      "text/plain": [
       "<Figure size 640x480 with 2 Axes>"
      ]
     },
     "metadata": {},
     "output_type": "display_data"
    }
   ],
   "source": [
    "from sklearn.metrics import confusion_matrix, ConfusionMatrixDisplay\n",
    "\n",
    "y_true = outputs.label_ids\n",
    "y_pred = outputs.predictions.argmax(1)\n",
    "\n",
    "labels = id2label.values()\n",
    "cm = confusion_matrix(y_true, y_pred)\n",
    "disp = ConfusionMatrixDisplay(confusion_matrix=cm, display_labels=labels)\n",
    "disp.plot(xticks_rotation=45)"
   ]
  },
  {
   "cell_type": "code",
   "execution_count": null,
   "id": "7cdb4cd5",
   "metadata": {},
   "outputs": [],
   "source": []
  },
  {
   "cell_type": "code",
   "execution_count": 42,
   "id": "d8154a1b",
   "metadata": {},
   "outputs": [
    {
     "name": "stderr",
     "output_type": "stream",
     "text": [
      "Configuration saved in /home/ubuntu/models/AudioViT_ECS50/config.json\n",
      "Model weights saved in /home/ubuntu/models/AudioViT_ECS50/pytorch_model.bin\n"
     ]
    }
   ],
   "source": [
    "model.save_pretrained(\"/home/ubuntu/models/AudioViT_ECS50\")"
   ]
  },
  {
   "cell_type": "code",
   "execution_count": null,
   "id": "3c1ae1de",
   "metadata": {},
   "outputs": [],
   "source": []
  }
 ],
 "metadata": {
  "kernelspec": {
   "display_name": "Python 3 (ipykernel)",
   "language": "python",
   "name": "python3"
  },
  "language_info": {
   "codemirror_mode": {
    "name": "ipython",
    "version": 3
   },
   "file_extension": ".py",
   "mimetype": "text/x-python",
   "name": "python",
   "nbconvert_exporter": "python",
   "pygments_lexer": "ipython3",
   "version": "3.9.9"
  }
 },
 "nbformat": 4,
 "nbformat_minor": 5
}

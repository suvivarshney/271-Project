{
 "cells": [
  {
   "cell_type": "code",
   "execution_count": 1,
   "metadata": {
    "scrolled": true
   },
   "outputs": [],
   "source": [
    "#!pip install datasets\n",
    "#!pip install transformers\n",
    "#!pip install --upgrade torchvision\n",
    "#!pip install tensorboard"
   ]
  },
  {
   "cell_type": "code",
   "execution_count": 1,
   "metadata": {},
   "outputs": [
    {
     "name": "stderr",
     "output_type": "stream",
     "text": [
      "/home/suvivars/.conda/envs/271/lib/python3.7/site-packages/pandas/compat/_optional.py:138: UserWarning: Pandas requires version '2.7.0' or newer of 'numexpr' (version '2.6.9' currently installed).\n",
      "  warnings.warn(msg, UserWarning)\n"
     ]
    }
   ],
   "source": [
    "import numpy as np\n",
    "from datasets import load_dataset\n",
    "import json\n",
    "import matplotlib.pyplot as plt\n",
    "from transformers import ViTFeatureExtractor\n",
    "from torchvision.transforms import (CenterCrop, \n",
    "                                    Compose, \n",
    "                                    Normalize, \n",
    "                                    RandomHorizontalFlip,\n",
    "                                    RandomResizedCrop, \n",
    "                                    Resize, \n",
    "                                    ToTensor)\n",
    "from torch.utils.data import DataLoader\n",
    "import torch\n",
    "from transformers import ViTForImageClassification\n",
    "from transformers import file_utils\n",
    "from transformers import TrainingArguments, Trainer\n",
    "from datasets import load_metric\n",
    "import time\n",
    "from transformers import EarlyStoppingCallback, IntervalStrategy"
   ]
  },
  {
   "cell_type": "code",
   "execution_count": 2,
   "metadata": {
    "scrolled": true
   },
   "outputs": [
    {
     "data": {
      "application/vnd.jupyter.widget-view+json": {
       "model_id": "44cdad53770d4969b3e15c1ac2b4ecd6",
       "version_major": 2,
       "version_minor": 0
      },
      "text/plain": [
       "Resolving data files:   0%|          | 0/8735 [00:00<?, ?it/s]"
      ]
     },
     "metadata": {},
     "output_type": "display_data"
    },
    {
     "name": "stderr",
     "output_type": "stream",
     "text": [
      "Using custom data configuration default-6a010628b4cc592a\n",
      "Found cached dataset imagefolder (/home/suvivars/.cache/huggingface/datasets/imagefolder/default-6a010628b4cc592a/0.0.0/37fbb85cc714a338bea574ac6c7d0b5be5aff46c1862c1989b20e0771199e93f)\n"
     ]
    }
   ],
   "source": [
    "train_ds = load_dataset(\"imagefolder\", data_dir=\"UrbanSound8K/audio_mel\", split=\"train\")"
   ]
  },
  {
   "cell_type": "code",
   "execution_count": 3,
   "metadata": {},
   "outputs": [],
   "source": [
    "# split up training into training + validation\n",
    "splits = train_ds.train_test_split(test_size=0.3)\n",
    "train_val_ds = splits['train']\n",
    "test_ds = splits['test']\n",
    "\n",
    "splits = train_val_ds.train_test_split(test_size=0.1)\n",
    "train_ds = splits['train']\n",
    "val_ds = splits['test']\n"
   ]
  },
  {
   "cell_type": "code",
   "execution_count": 4,
   "metadata": {},
   "outputs": [
    {
     "name": "stdout",
     "output_type": "stream",
     "text": [
      "5500 2620 612\n"
     ]
    }
   ],
   "source": [
    "print(len(train_ds),len(test_ds),len(val_ds))"
   ]
  },
  {
   "cell_type": "code",
   "execution_count": 5,
   "metadata": {},
   "outputs": [
    {
     "data": {
      "text/plain": [
       "Dataset({\n",
       "    features: ['image', 'classID', 'class'],\n",
       "    num_rows: 5500\n",
       "})"
      ]
     },
     "execution_count": 5,
     "metadata": {},
     "output_type": "execute_result"
    }
   ],
   "source": [
    "train_ds"
   ]
  },
  {
   "cell_type": "code",
   "execution_count": 6,
   "metadata": {},
   "outputs": [
    {
     "data": {
      "text/plain": [
       "{0: 'air_conditioner',\n",
       " 1: 'car_horn',\n",
       " 2: 'children_playing',\n",
       " 3: 'dog_bark',\n",
       " 4: 'drilling',\n",
       " 5: 'engine_idling',\n",
       " 6: 'gun_shot',\n",
       " 7: 'jackhammer',\n",
       " 8: 'siren',\n",
       " 9: 'street_music'}"
      ]
     },
     "execution_count": 6,
     "metadata": {},
     "output_type": "execute_result"
    }
   ],
   "source": [
    "with open('UrbanSound8K/audio_mel/label2id.json') as f:\n",
    "    label2id = json.load(f)\n",
    "\n",
    "with open('UrbanSound8K/audio_mel/id2label.json') as f:\n",
    "    id2label = json.load(f)\n",
    "\n",
    "id2label = {int(key):value for key,value in id2label.items()}\n",
    "id2label"
   ]
  },
  {
   "cell_type": "code",
   "execution_count": 7,
   "metadata": {},
   "outputs": [],
   "source": [
    "feature_extractor = ViTFeatureExtractor.from_pretrained(\"google/vit-base-patch16-224-in21k\")"
   ]
  },
  {
   "cell_type": "code",
   "execution_count": 8,
   "metadata": {
    "scrolled": true
   },
   "outputs": [],
   "source": [
    "normalize = Normalize(mean=feature_extractor.image_mean, std=feature_extractor.image_std)"
   ]
  },
  {
   "cell_type": "code",
   "execution_count": 9,
   "metadata": {},
   "outputs": [],
   "source": [
    "_train_transforms = Compose(\n",
    "        [\n",
    "            RandomResizedCrop(tuple(feature_extractor.size.values())),\n",
    "            RandomHorizontalFlip(),\n",
    "            ToTensor(),\n",
    "            normalize,\n",
    "        ]\n",
    "    )\n",
    "\n",
    "_val_transforms = Compose(\n",
    "        [\n",
    "            Resize(tuple(feature_extractor.size.values())),\n",
    "            CenterCrop(tuple(feature_extractor.size.values())),\n",
    "            ToTensor(),\n",
    "            normalize,\n",
    "        ]\n",
    "    )"
   ]
  },
  {
   "cell_type": "code",
   "execution_count": 10,
   "metadata": {},
   "outputs": [],
   "source": [
    "def train_transforms(examples):\n",
    "    examples['pixel_values'] = [_train_transforms(image.convert(\"RGB\")) for image in examples['image']]\n",
    "    return examples\n",
    "\n",
    "def val_transforms(examples):\n",
    "    examples['pixel_values'] = [_val_transforms(image.convert(\"RGB\")) for image in examples['image']]\n",
    "    return examples"
   ]
  },
  {
   "cell_type": "code",
   "execution_count": 11,
   "metadata": {},
   "outputs": [],
   "source": [
    "# Set the transforms\n",
    "train_ds.set_transform(train_transforms)\n",
    "val_ds.set_transform(val_transforms)\n",
    "test_ds.set_transform(val_transforms)"
   ]
  },
  {
   "cell_type": "code",
   "execution_count": 12,
   "metadata": {
    "scrolled": true
   },
   "outputs": [
    {
     "data": {
      "text/plain": [
       "{'image': [<PIL.PngImagePlugin.PngImageFile image mode=RGBA size=334x217 at 0x7F11B86F1160>,\n",
       "  <PIL.PngImagePlugin.PngImageFile image mode=RGBA size=334x217 at 0x7F11B86F1860>],\n",
       " 'classID': [1, 2],\n",
       " 'class': ['car_horn', 'children_playing'],\n",
       " 'pixel_values': [tensor([[[-0.3569, -0.3569, -0.3647,  ..., -0.1451, -0.1529, -0.1686],\n",
       "           [-0.3569, -0.3569, -0.3647,  ..., -0.1451, -0.1529, -0.1686],\n",
       "           [-0.3412, -0.3412, -0.3490,  ..., -0.1373, -0.1373, -0.1529],\n",
       "           ...,\n",
       "           [ 0.9137,  0.9137,  0.9059,  ...,  0.7412,  0.7725,  0.8510],\n",
       "           [ 0.9137,  0.9137,  0.9059,  ...,  0.7255,  0.7647,  0.8510],\n",
       "           [ 0.9137,  0.9137,  0.9059,  ...,  0.7255,  0.7647,  0.8510]],\n",
       "  \n",
       "          [[-0.8510, -0.8510, -0.8510,  ..., -0.7725, -0.7725, -0.7804],\n",
       "           [-0.8510, -0.8510, -0.8510,  ..., -0.7725, -0.7725, -0.7804],\n",
       "           [-0.8431, -0.8431, -0.8431,  ..., -0.7647, -0.7647, -0.7725],\n",
       "           ...,\n",
       "           [-0.1843, -0.1843, -0.1922,  ..., -0.4196, -0.3882, -0.3020],\n",
       "           [-0.1765, -0.1765, -0.1922,  ..., -0.4353, -0.3961, -0.3098],\n",
       "           [-0.1765, -0.1765, -0.1922,  ..., -0.4353, -0.3961, -0.3098]],\n",
       "  \n",
       "          [[-0.0275, -0.0275, -0.0275,  ...,  0.0118,  0.0118,  0.0118],\n",
       "           [-0.0275, -0.0275, -0.0275,  ...,  0.0118,  0.0118,  0.0118],\n",
       "           [-0.0275, -0.0275, -0.0275,  ...,  0.0118,  0.0118,  0.0118],\n",
       "           ...,\n",
       "           [-0.2784, -0.2784, -0.2784,  ..., -0.1843, -0.2078, -0.2471],\n",
       "           [-0.2784, -0.2784, -0.2784,  ..., -0.1765, -0.2000, -0.2471],\n",
       "           [-0.2784, -0.2784, -0.2784,  ..., -0.1765, -0.2000, -0.2471]]]),\n",
       "  tensor([[[-0.9373, -0.8980, -0.8980,  ..., -1.0000, -1.0000, -1.0000],\n",
       "           [-0.9373, -0.8980, -0.8980,  ..., -1.0000, -1.0000, -1.0000],\n",
       "           [-0.4902, -0.4980, -0.4980,  ..., -0.8902, -0.8902, -0.8902],\n",
       "           ...,\n",
       "           [ 0.9922,  0.9922,  0.9922,  ...,  0.9922,  0.9922,  0.9922],\n",
       "           [ 0.9922,  0.9922,  0.9922,  ...,  0.9922,  0.9765,  0.9765],\n",
       "           [ 0.9922,  0.9922,  0.9922,  ...,  0.9922,  0.9765,  0.9765]],\n",
       "  \n",
       "          [[-0.9451, -0.9216, -0.9216,  ..., -1.0000, -1.0000, -1.0000],\n",
       "           [-0.9451, -0.9216, -0.9216,  ..., -1.0000, -1.0000, -1.0000],\n",
       "           [-0.8824, -0.8824, -0.8824,  ..., -0.9216, -0.9216, -0.9216],\n",
       "           ...,\n",
       "           [ 0.4196,  0.3725,  0.3725,  ...,  0.4980,  0.3725,  0.3725],\n",
       "           [ 0.3647,  0.4745,  0.4824,  ...,  0.2549,  0.0745,  0.0745],\n",
       "           [ 0.3647,  0.4745,  0.4824,  ...,  0.2549,  0.0745,  0.0745]],\n",
       "  \n",
       "          [[-0.7647, -0.6784, -0.6784,  ..., -0.9686, -0.9686, -0.9686],\n",
       "           [-0.7647, -0.6784, -0.6784,  ..., -0.9686, -0.9686, -0.9686],\n",
       "           [-0.1608, -0.1529, -0.1529,  ..., -0.6863, -0.6863, -0.6863],\n",
       "           ...,\n",
       "           [-0.0353, -0.0588, -0.0588,  ...,  0.0353, -0.0510, -0.0510],\n",
       "           [-0.0667,  0.0196,  0.0196,  ..., -0.1451, -0.2392, -0.2392],\n",
       "           [-0.0667,  0.0196,  0.0196,  ..., -0.1451, -0.2392, -0.2392]]])]}"
      ]
     },
     "execution_count": 12,
     "metadata": {},
     "output_type": "execute_result"
    }
   ],
   "source": [
    "train_ds[:2]"
   ]
  },
  {
   "cell_type": "code",
   "execution_count": 13,
   "metadata": {},
   "outputs": [],
   "source": [
    "def collate_fn(examples):\n",
    "    pixel_values = torch.stack([example[\"pixel_values\"] for example in examples])\n",
    "    labels = torch.tensor([example[\"classID\"] for example in examples])\n",
    "    return {\"pixel_values\": pixel_values, \"labels\": labels}\n",
    "\n",
    "train_dataloader = DataLoader(train_ds, collate_fn=collate_fn, batch_size=4)\n"
   ]
  },
  {
   "cell_type": "code",
   "execution_count": 14,
   "metadata": {},
   "outputs": [
    {
     "name": "stdout",
     "output_type": "stream",
     "text": [
      "pixel_values torch.Size([4, 3, 224, 224])\n",
      "labels torch.Size([4])\n"
     ]
    }
   ],
   "source": [
    "batch = next(iter(train_dataloader))\n",
    "for k,v in batch.items():\n",
    "    if isinstance(v, torch.Tensor):\n",
    "        print(k, v.shape)"
   ]
  },
  {
   "cell_type": "code",
   "execution_count": 15,
   "metadata": {},
   "outputs": [
    {
     "name": "stderr",
     "output_type": "stream",
     "text": [
      "Some weights of the model checkpoint at google/vit-base-patch16-224-in21k were not used when initializing ViTForImageClassification: ['pooler.dense.weight', 'pooler.dense.bias']\n",
      "- This IS expected if you are initializing ViTForImageClassification from the checkpoint of a model trained on another task or with another architecture (e.g. initializing a BertForSequenceClassification model from a BertForPreTraining model).\n",
      "- This IS NOT expected if you are initializing ViTForImageClassification from the checkpoint of a model that you expect to be exactly identical (initializing a BertForSequenceClassification model from a BertForSequenceClassification model).\n",
      "Some weights of ViTForImageClassification were not initialized from the model checkpoint at google/vit-base-patch16-224-in21k and are newly initialized: ['classifier.weight', 'classifier.bias']\n",
      "You should probably TRAIN this model on a down-stream task to be able to use it for predictions and inference.\n"
     ]
    }
   ],
   "source": [
    "model = ViTForImageClassification.from_pretrained('google/vit-base-patch16-224-in21k',\n",
    "                                                  num_labels=10,\n",
    "                                                  id2label=id2label,\n",
    "                                                  label2id=label2id)"
   ]
  },
  {
   "cell_type": "code",
   "execution_count": 16,
   "metadata": {},
   "outputs": [],
   "source": [
    "metric_name = \"accuracy\"\n",
    "\n",
    "args = TrainingArguments(\n",
    "    f\"train-UrbanSounds8k\",\n",
    "    save_strategy=\"epoch\",\n",
    "    evaluation_strategy=\"epoch\",\n",
    "    learning_rate=2e-5,\n",
    "    per_device_train_batch_size=10,\n",
    "    per_device_eval_batch_size=4,\n",
    "    num_train_epochs=50,\n",
    "    weight_decay=0.01,\n",
    "    load_best_model_at_end=True,\n",
    "    metric_for_best_model=metric_name,\n",
    "    logging_dir='logs',\n",
    "    remove_unused_columns=False,\n",
    ")\n",
    "\n"
   ]
  },
  {
   "cell_type": "code",
   "execution_count": 17,
   "metadata": {},
   "outputs": [
    {
     "name": "stderr",
     "output_type": "stream",
     "text": [
      "/home/suvivars/.conda/envs/271/lib/python3.7/site-packages/ipykernel_launcher.py:1: FutureWarning: load_metric is deprecated and will be removed in the next major version of datasets. Use 'evaluate.load' instead, from the new library 🤗 Evaluate: https://huggingface.co/docs/evaluate\n",
      "  \"\"\"Entry point for launching an IPython kernel.\n"
     ]
    }
   ],
   "source": [
    "metric = load_metric(\"accuracy\")\n",
    "\n",
    "def compute_metrics(eval_pred):\n",
    "    predictions, labels = eval_pred\n",
    "    predictions = np.argmax(predictions, axis=1)\n",
    "    return metric.compute(predictions=predictions, references=labels)"
   ]
  },
  {
   "cell_type": "code",
   "execution_count": 18,
   "metadata": {},
   "outputs": [],
   "source": [
    "trainer = Trainer(\n",
    "    model,\n",
    "    args,\n",
    "    train_dataset=train_ds,\n",
    "    eval_dataset=val_ds,\n",
    "    data_collator=collate_fn,\n",
    "    compute_metrics=compute_metrics,\n",
    "    tokenizer=feature_extractor,\n",
    "    callbacks = [EarlyStoppingCallback(early_stopping_patience=5)]\n",
    ")\n"
   ]
  },
  {
   "cell_type": "code",
   "execution_count": 19,
   "metadata": {
    "scrolled": false
   },
   "outputs": [
    {
     "name": "stderr",
     "output_type": "stream",
     "text": [
      "/home/suvivars/.conda/envs/271/lib/python3.7/site-packages/transformers/optimization.py:310: FutureWarning: This implementation of AdamW is deprecated and will be removed in a future version. Use the PyTorch implementation torch.optim.AdamW instead, or set `no_deprecation_warning=True` to disable this warning\n",
      "  FutureWarning,\n",
      "***** Running training *****\n",
      "  Num examples = 5500\n",
      "  Num Epochs = 50\n",
      "  Instantaneous batch size per device = 10\n",
      "  Total train batch size (w. parallel, distributed & accumulation) = 10\n",
      "  Gradient Accumulation steps = 1\n",
      "  Total optimization steps = 27500\n",
      "  Number of trainable parameters = 85806346\n"
     ]
    },
    {
     "data": {
      "text/html": [
       "\n",
       "    <div>\n",
       "      \n",
       "      <progress value='11000' max='27500' style='width:300px; height:20px; vertical-align: middle;'></progress>\n",
       "      [11000/27500 1:05:51 < 1:38:49, 2.78 it/s, Epoch 20/50]\n",
       "    </div>\n",
       "    <table border=\"1\" class=\"dataframe\">\n",
       "  <thead>\n",
       " <tr style=\"text-align: left;\">\n",
       "      <th>Epoch</th>\n",
       "      <th>Training Loss</th>\n",
       "      <th>Validation Loss</th>\n",
       "      <th>Accuracy</th>\n",
       "    </tr>\n",
       "  </thead>\n",
       "  <tbody>\n",
       "    <tr>\n",
       "      <td>1</td>\n",
       "      <td>1.465200</td>\n",
       "      <td>0.965995</td>\n",
       "      <td>0.753268</td>\n",
       "    </tr>\n",
       "    <tr>\n",
       "      <td>2</td>\n",
       "      <td>0.855900</td>\n",
       "      <td>0.624871</td>\n",
       "      <td>0.854575</td>\n",
       "    </tr>\n",
       "    <tr>\n",
       "      <td>3</td>\n",
       "      <td>0.702500</td>\n",
       "      <td>0.483031</td>\n",
       "      <td>0.882353</td>\n",
       "    </tr>\n",
       "    <tr>\n",
       "      <td>4</td>\n",
       "      <td>0.585500</td>\n",
       "      <td>0.498589</td>\n",
       "      <td>0.852941</td>\n",
       "    </tr>\n",
       "    <tr>\n",
       "      <td>5</td>\n",
       "      <td>0.527000</td>\n",
       "      <td>0.382133</td>\n",
       "      <td>0.898693</td>\n",
       "    </tr>\n",
       "    <tr>\n",
       "      <td>6</td>\n",
       "      <td>0.450300</td>\n",
       "      <td>0.331520</td>\n",
       "      <td>0.910131</td>\n",
       "    </tr>\n",
       "    <tr>\n",
       "      <td>7</td>\n",
       "      <td>0.434700</td>\n",
       "      <td>0.325811</td>\n",
       "      <td>0.901961</td>\n",
       "    </tr>\n",
       "    <tr>\n",
       "      <td>8</td>\n",
       "      <td>0.407000</td>\n",
       "      <td>0.282503</td>\n",
       "      <td>0.921569</td>\n",
       "    </tr>\n",
       "    <tr>\n",
       "      <td>9</td>\n",
       "      <td>0.365900</td>\n",
       "      <td>0.335723</td>\n",
       "      <td>0.908497</td>\n",
       "    </tr>\n",
       "    <tr>\n",
       "      <td>10</td>\n",
       "      <td>0.346500</td>\n",
       "      <td>0.277076</td>\n",
       "      <td>0.916667</td>\n",
       "    </tr>\n",
       "    <tr>\n",
       "      <td>11</td>\n",
       "      <td>0.303000</td>\n",
       "      <td>0.277151</td>\n",
       "      <td>0.928105</td>\n",
       "    </tr>\n",
       "    <tr>\n",
       "      <td>12</td>\n",
       "      <td>0.297900</td>\n",
       "      <td>0.232240</td>\n",
       "      <td>0.936275</td>\n",
       "    </tr>\n",
       "    <tr>\n",
       "      <td>13</td>\n",
       "      <td>0.273900</td>\n",
       "      <td>0.253505</td>\n",
       "      <td>0.926471</td>\n",
       "    </tr>\n",
       "    <tr>\n",
       "      <td>14</td>\n",
       "      <td>0.280600</td>\n",
       "      <td>0.249096</td>\n",
       "      <td>0.934641</td>\n",
       "    </tr>\n",
       "    <tr>\n",
       "      <td>15</td>\n",
       "      <td>0.254400</td>\n",
       "      <td>0.217825</td>\n",
       "      <td>0.942810</td>\n",
       "    </tr>\n",
       "    <tr>\n",
       "      <td>16</td>\n",
       "      <td>0.264100</td>\n",
       "      <td>0.215740</td>\n",
       "      <td>0.937908</td>\n",
       "    </tr>\n",
       "    <tr>\n",
       "      <td>17</td>\n",
       "      <td>0.228500</td>\n",
       "      <td>0.236901</td>\n",
       "      <td>0.931373</td>\n",
       "    </tr>\n",
       "    <tr>\n",
       "      <td>18</td>\n",
       "      <td>0.232500</td>\n",
       "      <td>0.258248</td>\n",
       "      <td>0.936275</td>\n",
       "    </tr>\n",
       "    <tr>\n",
       "      <td>19</td>\n",
       "      <td>0.214500</td>\n",
       "      <td>0.233876</td>\n",
       "      <td>0.937908</td>\n",
       "    </tr>\n",
       "    <tr>\n",
       "      <td>20</td>\n",
       "      <td>0.206700</td>\n",
       "      <td>0.229705</td>\n",
       "      <td>0.939542</td>\n",
       "    </tr>\n",
       "  </tbody>\n",
       "</table><p>"
      ],
      "text/plain": [
       "<IPython.core.display.HTML object>"
      ]
     },
     "metadata": {},
     "output_type": "display_data"
    },
    {
     "name": "stderr",
     "output_type": "stream",
     "text": [
      "***** Running Evaluation *****\n",
      "  Num examples = 612\n",
      "  Batch size = 4\n",
      "Saving model checkpoint to train-UrbanSounds8k/checkpoint-550\n",
      "Configuration saved in train-UrbanSounds8k/checkpoint-550/config.json\n",
      "Model weights saved in train-UrbanSounds8k/checkpoint-550/pytorch_model.bin\n",
      "Image processor saved in train-UrbanSounds8k/checkpoint-550/preprocessor_config.json\n",
      "***** Running Evaluation *****\n",
      "  Num examples = 612\n",
      "  Batch size = 4\n",
      "Saving model checkpoint to train-UrbanSounds8k/checkpoint-1100\n",
      "Configuration saved in train-UrbanSounds8k/checkpoint-1100/config.json\n",
      "Model weights saved in train-UrbanSounds8k/checkpoint-1100/pytorch_model.bin\n",
      "Image processor saved in train-UrbanSounds8k/checkpoint-1100/preprocessor_config.json\n",
      "***** Running Evaluation *****\n",
      "  Num examples = 612\n",
      "  Batch size = 4\n",
      "Saving model checkpoint to train-UrbanSounds8k/checkpoint-1650\n",
      "Configuration saved in train-UrbanSounds8k/checkpoint-1650/config.json\n",
      "Model weights saved in train-UrbanSounds8k/checkpoint-1650/pytorch_model.bin\n",
      "Image processor saved in train-UrbanSounds8k/checkpoint-1650/preprocessor_config.json\n",
      "***** Running Evaluation *****\n",
      "  Num examples = 612\n",
      "  Batch size = 4\n",
      "Saving model checkpoint to train-UrbanSounds8k/checkpoint-2200\n",
      "Configuration saved in train-UrbanSounds8k/checkpoint-2200/config.json\n",
      "Model weights saved in train-UrbanSounds8k/checkpoint-2200/pytorch_model.bin\n",
      "Image processor saved in train-UrbanSounds8k/checkpoint-2200/preprocessor_config.json\n",
      "***** Running Evaluation *****\n",
      "  Num examples = 612\n",
      "  Batch size = 4\n",
      "Saving model checkpoint to train-UrbanSounds8k/checkpoint-2750\n",
      "Configuration saved in train-UrbanSounds8k/checkpoint-2750/config.json\n",
      "Model weights saved in train-UrbanSounds8k/checkpoint-2750/pytorch_model.bin\n",
      "Image processor saved in train-UrbanSounds8k/checkpoint-2750/preprocessor_config.json\n",
      "***** Running Evaluation *****\n",
      "  Num examples = 612\n",
      "  Batch size = 4\n",
      "Saving model checkpoint to train-UrbanSounds8k/checkpoint-3300\n",
      "Configuration saved in train-UrbanSounds8k/checkpoint-3300/config.json\n",
      "Model weights saved in train-UrbanSounds8k/checkpoint-3300/pytorch_model.bin\n",
      "Image processor saved in train-UrbanSounds8k/checkpoint-3300/preprocessor_config.json\n",
      "***** Running Evaluation *****\n",
      "  Num examples = 612\n",
      "  Batch size = 4\n",
      "Saving model checkpoint to train-UrbanSounds8k/checkpoint-3850\n",
      "Configuration saved in train-UrbanSounds8k/checkpoint-3850/config.json\n",
      "Model weights saved in train-UrbanSounds8k/checkpoint-3850/pytorch_model.bin\n",
      "Image processor saved in train-UrbanSounds8k/checkpoint-3850/preprocessor_config.json\n",
      "***** Running Evaluation *****\n",
      "  Num examples = 612\n",
      "  Batch size = 4\n",
      "Saving model checkpoint to train-UrbanSounds8k/checkpoint-4400\n",
      "Configuration saved in train-UrbanSounds8k/checkpoint-4400/config.json\n",
      "Model weights saved in train-UrbanSounds8k/checkpoint-4400/pytorch_model.bin\n",
      "Image processor saved in train-UrbanSounds8k/checkpoint-4400/preprocessor_config.json\n",
      "***** Running Evaluation *****\n",
      "  Num examples = 612\n",
      "  Batch size = 4\n",
      "Saving model checkpoint to train-UrbanSounds8k/checkpoint-4950\n",
      "Configuration saved in train-UrbanSounds8k/checkpoint-4950/config.json\n",
      "Model weights saved in train-UrbanSounds8k/checkpoint-4950/pytorch_model.bin\n",
      "Image processor saved in train-UrbanSounds8k/checkpoint-4950/preprocessor_config.json\n",
      "***** Running Evaluation *****\n",
      "  Num examples = 612\n",
      "  Batch size = 4\n",
      "Saving model checkpoint to train-UrbanSounds8k/checkpoint-5500\n",
      "Configuration saved in train-UrbanSounds8k/checkpoint-5500/config.json\n",
      "Model weights saved in train-UrbanSounds8k/checkpoint-5500/pytorch_model.bin\n",
      "Image processor saved in train-UrbanSounds8k/checkpoint-5500/preprocessor_config.json\n",
      "***** Running Evaluation *****\n",
      "  Num examples = 612\n",
      "  Batch size = 4\n",
      "Saving model checkpoint to train-UrbanSounds8k/checkpoint-6050\n",
      "Configuration saved in train-UrbanSounds8k/checkpoint-6050/config.json\n",
      "Model weights saved in train-UrbanSounds8k/checkpoint-6050/pytorch_model.bin\n",
      "Image processor saved in train-UrbanSounds8k/checkpoint-6050/preprocessor_config.json\n",
      "***** Running Evaluation *****\n",
      "  Num examples = 612\n",
      "  Batch size = 4\n",
      "Saving model checkpoint to train-UrbanSounds8k/checkpoint-6600\n",
      "Configuration saved in train-UrbanSounds8k/checkpoint-6600/config.json\n",
      "Model weights saved in train-UrbanSounds8k/checkpoint-6600/pytorch_model.bin\n",
      "Image processor saved in train-UrbanSounds8k/checkpoint-6600/preprocessor_config.json\n",
      "***** Running Evaluation *****\n",
      "  Num examples = 612\n",
      "  Batch size = 4\n",
      "Saving model checkpoint to train-UrbanSounds8k/checkpoint-7150\n",
      "Configuration saved in train-UrbanSounds8k/checkpoint-7150/config.json\n",
      "Model weights saved in train-UrbanSounds8k/checkpoint-7150/pytorch_model.bin\n",
      "Image processor saved in train-UrbanSounds8k/checkpoint-7150/preprocessor_config.json\n",
      "***** Running Evaluation *****\n",
      "  Num examples = 612\n",
      "  Batch size = 4\n",
      "Saving model checkpoint to train-UrbanSounds8k/checkpoint-7700\n",
      "Configuration saved in train-UrbanSounds8k/checkpoint-7700/config.json\n",
      "Model weights saved in train-UrbanSounds8k/checkpoint-7700/pytorch_model.bin\n",
      "Image processor saved in train-UrbanSounds8k/checkpoint-7700/preprocessor_config.json\n",
      "***** Running Evaluation *****\n",
      "  Num examples = 612\n",
      "  Batch size = 4\n",
      "Saving model checkpoint to train-UrbanSounds8k/checkpoint-8250\n",
      "Configuration saved in train-UrbanSounds8k/checkpoint-8250/config.json\n",
      "Model weights saved in train-UrbanSounds8k/checkpoint-8250/pytorch_model.bin\n",
      "Image processor saved in train-UrbanSounds8k/checkpoint-8250/preprocessor_config.json\n",
      "***** Running Evaluation *****\n",
      "  Num examples = 612\n",
      "  Batch size = 4\n",
      "Saving model checkpoint to train-UrbanSounds8k/checkpoint-8800\n",
      "Configuration saved in train-UrbanSounds8k/checkpoint-8800/config.json\n",
      "Model weights saved in train-UrbanSounds8k/checkpoint-8800/pytorch_model.bin\n",
      "Image processor saved in train-UrbanSounds8k/checkpoint-8800/preprocessor_config.json\n",
      "***** Running Evaluation *****\n",
      "  Num examples = 612\n",
      "  Batch size = 4\n",
      "Saving model checkpoint to train-UrbanSounds8k/checkpoint-9350\n",
      "Configuration saved in train-UrbanSounds8k/checkpoint-9350/config.json\n",
      "Model weights saved in train-UrbanSounds8k/checkpoint-9350/pytorch_model.bin\n",
      "Image processor saved in train-UrbanSounds8k/checkpoint-9350/preprocessor_config.json\n",
      "***** Running Evaluation *****\n",
      "  Num examples = 612\n",
      "  Batch size = 4\n",
      "Saving model checkpoint to train-UrbanSounds8k/checkpoint-9900\n",
      "Configuration saved in train-UrbanSounds8k/checkpoint-9900/config.json\n",
      "Model weights saved in train-UrbanSounds8k/checkpoint-9900/pytorch_model.bin\n",
      "Image processor saved in train-UrbanSounds8k/checkpoint-9900/preprocessor_config.json\n",
      "***** Running Evaluation *****\n",
      "  Num examples = 612\n",
      "  Batch size = 4\n",
      "Saving model checkpoint to train-UrbanSounds8k/checkpoint-10450\n",
      "Configuration saved in train-UrbanSounds8k/checkpoint-10450/config.json\n",
      "Model weights saved in train-UrbanSounds8k/checkpoint-10450/pytorch_model.bin\n",
      "Image processor saved in train-UrbanSounds8k/checkpoint-10450/preprocessor_config.json\n",
      "***** Running Evaluation *****\n",
      "  Num examples = 612\n",
      "  Batch size = 4\n",
      "Saving model checkpoint to train-UrbanSounds8k/checkpoint-11000\n",
      "Configuration saved in train-UrbanSounds8k/checkpoint-11000/config.json\n",
      "Model weights saved in train-UrbanSounds8k/checkpoint-11000/pytorch_model.bin\n",
      "Image processor saved in train-UrbanSounds8k/checkpoint-11000/preprocessor_config.json\n",
      "\n",
      "\n",
      "Training completed. Do not forget to share your model on huggingface.co/models =)\n",
      "\n",
      "\n",
      "Loading best model from train-UrbanSounds8k/checkpoint-8250 (score: 0.9428104575163399).\n"
     ]
    },
    {
     "name": "stdout",
     "output_type": "stream",
     "text": [
      "Total Time Taken (in sec): 3954.562250137329\n"
     ]
    }
   ],
   "source": [
    "#Using GPU\n",
    "start_time = time.time()\n",
    "trainer.train()\n",
    "print('Total Time Taken (in sec):',time.time()-start_time)"
   ]
  },
  {
   "cell_type": "code",
   "execution_count": 20,
   "metadata": {},
   "outputs": [
    {
     "name": "stderr",
     "output_type": "stream",
     "text": [
      "***** Running Prediction *****\n",
      "  Num examples = 2620\n",
      "  Batch size = 4\n"
     ]
    },
    {
     "data": {
      "text/html": [],
      "text/plain": [
       "<IPython.core.display.HTML object>"
      ]
     },
     "metadata": {},
     "output_type": "display_data"
    }
   ],
   "source": [
    "outputs = trainer.predict(test_ds)"
   ]
  },
  {
   "cell_type": "code",
   "execution_count": 21,
   "metadata": {},
   "outputs": [
    {
     "name": "stdout",
     "output_type": "stream",
     "text": [
      "{'test_loss': 0.18304410576820374, 'test_accuracy': 0.9511450381679389, 'test_runtime': 22.925, 'test_samples_per_second': 114.286, 'test_steps_per_second': 28.571}\n"
     ]
    }
   ],
   "source": [
    "print(outputs.metrics)"
   ]
  },
  {
   "cell_type": "code",
   "execution_count": 23,
   "metadata": {},
   "outputs": [
    {
     "data": {
      "text/plain": [
       "<sklearn.metrics._plot.confusion_matrix.ConfusionMatrixDisplay at 0x7f11b87f2978>"
      ]
     },
     "execution_count": 23,
     "metadata": {},
     "output_type": "execute_result"
    },
    {
     "data": {
      "image/png": "[encoded data removed]",
      "text/plain": [
       "<Figure size 432x288 with 2 Axes>"
      ]
     },
     "metadata": {
      "needs_background": "light"
     },
     "output_type": "display_data"
    }
   ],
   "source": [
    "from sklearn.metrics import confusion_matrix, ConfusionMatrixDisplay\n",
    "\n",
    "y_true = outputs.label_ids\n",
    "y_pred = outputs.predictions.argmax(1)\n",
    "\n",
    "labels = id2label.values()\n",
    "cm = confusion_matrix(y_true, y_pred)\n",
    "disp = ConfusionMatrixDisplay(confusion_matrix=cm, display_labels=labels)\n",
    "disp.plot(xticks_rotation=90)\n"
   ]
  },
  {
   "cell_type": "code",
   "execution_count": 24,
   "metadata": {},
   "outputs": [
    {
     "name": "stderr",
     "output_type": "stream",
     "text": [
      "Configuration saved in models/UrbanSounds8k-EarlyStopping/config.json\n",
      "Model weights saved in models/UrbanSounds8k-EarlyStopping/pytorch_model.bin\n"
     ]
    }
   ],
   "source": [
    "model.save_pretrained(\"models/UrbanSounds8k-EarlyStopping\")"
   ]
  },
  {
   "cell_type": "code",
   "execution_count": 26,
   "metadata": {},
   "outputs": [],
   "source": [
    "logs='Epoch\tTraining Loss\tValidation Loss\tAccuracy\\t\\\n",
    "1\t1.465200\t0.965995\t0.753268\\t\\\n",
    "2\t0.855900\t0.624871\t0.854575\\t\\\n",
    "3\t0.702500\t0.483031\t0.882353\\t\\\n",
    "4\t0.585500\t0.498589\t0.852941\\t\\\n",
    "5\t0.527000\t0.382133\t0.898693\\t\\\n",
    "6\t0.450300\t0.331520\t0.910131\\t\\\n",
    "7\t0.434700\t0.325811\t0.901961\\t\\\n",
    "8\t0.407000\t0.282503\t0.921569\\t\\\n",
    "9\t0.365900\t0.335723\t0.908497\\t\\\n",
    "10\t0.346500\t0.277076\t0.916667\\t\\\n",
    "11\t0.303000\t0.277151\t0.928105\\t\\\n",
    "12\t0.297900\t0.232240\t0.936275\\t\\\n",
    "13\t0.273900\t0.253505\t0.926471\\t\\\n",
    "14\t0.280600\t0.249096\t0.934641\\t\\\n",
    "15\t0.254400\t0.217825\t0.942810\\t\\\n",
    "16\t0.264100\t0.215740\t0.937908\\t\\\n",
    "17\t0.228500\t0.236901\t0.931373\\t\\\n",
    "18\t0.232500\t0.258248\t0.936275\\t\\\n",
    "19\t0.214500\t0.233876\t0.937908\\t\\\n",
    "20\t0.206700\t0.229705\t0.939542'"
   ]
  },
  {
   "cell_type": "code",
   "execution_count": 27,
   "metadata": {},
   "outputs": [],
   "source": [
    "epoch=logs.split('\\t')[::4][1:]\n",
    "epoch=list(map(int, epoch))\n",
    "training_loss=logs.split('\\t')[1::4][1:]\n",
    "training_loss=list(map(float, training_loss))\n",
    "validation_loss=logs.split('\\t')[2::4][1:]\n",
    "validation_loss=list(map(float, validation_loss))\n",
    "accuracy=logs.split('\\t')[3::4][1:]\n",
    "accuracy=list(map(float, accuracy))"
   ]
  },
  {
   "cell_type": "code",
   "execution_count": 28,
   "metadata": {},
   "outputs": [
    {
     "data": {
      "image/png": "[encoded data removed]",
      "text/plain": [
       "<Figure size 432x288 with 1 Axes>"
      ]
     },
     "metadata": {
      "needs_background": "light"
     },
     "output_type": "display_data"
    }
   ],
   "source": [
    "#Acc graph\n",
    "plt.plot(epoch,accuracy,label='Validation acc')\n",
    "plt.xlabel('Number of epochs',fontsize=12)\n",
    "plt.ylabel('Validation Acc',fontsize=12)\n",
    "plt.legend(loc=\"upper left\")\n",
    "plt.title('Acc Graph',fontsize=20,fontweight='bold')\n",
    "plt.show()\n",
    "#plt.savefig('Q1_acc.jpg')"
   ]
  },
  {
   "cell_type": "code",
   "execution_count": 29,
   "metadata": {},
   "outputs": [
    {
     "data": {
      "image/png": "[encoded data removed]",
      "text/plain": [
       "<Figure size 432x288 with 1 Axes>"
      ]
     },
     "metadata": {
      "needs_background": "light"
     },
     "output_type": "display_data"
    }
   ],
   "source": [
    "#Loss graph\n",
    "plt.plot(epoch,training_loss,label='train loss')\n",
    "plt.plot(epoch,validation_loss,label='validation loss')\n",
    "plt.xlabel('Number of epochs',fontsize=12)\n",
    "plt.ylabel('Loss',fontsize=12)\n",
    "plt.legend(loc=\"upper left\")\n",
    "plt.title('Loss Graph',fontsize=20,fontweight='bold')\n",
    "plt.show()\n",
    "#plt.savefig('Q1_loss.jpg')"
   ]
  },
  {
   "cell_type": "code",
   "execution_count": null,
   "metadata": {},
   "outputs": [],
   "source": []
  }
 ],
 "metadata": {
  "kernelspec": {
   "display_name": "Python 3",
   "language": "python",
   "name": "python3"
  },
  "language_info": {
   "codemirror_mode": {
    "name": "ipython",
    "version": 3
   },
   "file_extension": ".py",
   "mimetype": "text/x-python",
   "name": "python",
   "nbconvert_exporter": "python",
   "pygments_lexer": "ipython3",
   "version": "3.7.3"
  }
 },
 "nbformat": 4,
 "nbformat_minor": 2
}

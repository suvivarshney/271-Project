{
 "cells": [
  {
   "cell_type": "code",
   "execution_count": 1,
   "metadata": {
    "scrolled": true
   },
   "outputs": [],
   "source": [
    "#!pip install datasets\n",
    "#!pip install transformers\n",
    "#!pip install --upgrade torchvision\n",
    "#!pip install tensorboard"
   ]
  },
  {
   "cell_type": "code",
   "execution_count": 2,
   "metadata": {},
   "outputs": [
    {
     "name": "stderr",
     "output_type": "stream",
     "text": [
      "/home/suvivars/.conda/envs/271/lib/python3.7/site-packages/pandas/compat/_optional.py:138: UserWarning: Pandas requires version '2.7.0' or newer of 'numexpr' (version '2.6.9' currently installed).\n",
      "  warnings.warn(msg, UserWarning)\n",
      "/home/suvivars/.conda/envs/271/lib/python3.7/site-packages/requests/__init__.py:91: RequestsDependencyWarning: urllib3 (1.26.13) or chardet (3.0.4) doesn't match a supported version!\n",
      "  RequestsDependencyWarning)\n"
     ]
    }
   ],
   "source": [
    "import numpy as np\n",
    "from datasets import load_dataset\n",
    "import json\n",
    "import matplotlib.pyplot as plt\n",
    "from transformers import ViTFeatureExtractor\n",
    "from torchvision.transforms import (CenterCrop, \n",
    "                                    Compose, \n",
    "                                    Normalize, \n",
    "                                    RandomHorizontalFlip,\n",
    "                                    RandomResizedCrop, \n",
    "                                    Resize, \n",
    "                                    ToTensor)\n",
    "from torch.utils.data import DataLoader\n",
    "import torch\n",
    "from transformers import ViTForImageClassification\n",
    "from transformers import file_utils\n",
    "from transformers import TrainingArguments, Trainer\n",
    "from datasets import load_metric\n",
    "import time\n",
    "from transformers import EarlyStoppingCallback, IntervalStrategy"
   ]
  },
  {
   "cell_type": "code",
   "execution_count": 2,
   "metadata": {
    "scrolled": true
   },
   "outputs": [
    {
     "data": {
      "application/vnd.jupyter.widget-view+json": {
       "model_id": "7497fd99cab2499fb89d3092954dc84f",
       "version_major": 2,
       "version_minor": 0
      },
      "text/plain": [
       "Resolving data files:   0%|          | 0/8735 [00:00<?, ?it/s]"
      ]
     },
     "metadata": {},
     "output_type": "display_data"
    },
    {
     "name": "stderr",
     "output_type": "stream",
     "text": [
      "Using custom data configuration default-e3d04b364fb1fe52\n",
      "Found cached dataset imagefolder (/home/suvivars/.cache/huggingface/datasets/imagefolder/default-e3d04b364fb1fe52/0.0.0/37fbb85cc714a338bea574ac6c7d0b5be5aff46c1862c1989b20e0771199e93f)\n"
     ]
    }
   ],
   "source": [
    "train_ds = load_dataset(\"imagefolder\", data_dir=\"UrbanSound8K/noisy_mel\", split=\"train\")"
   ]
  },
  {
   "cell_type": "code",
   "execution_count": 3,
   "metadata": {},
   "outputs": [],
   "source": [
    "# split up training into training + validation\n",
    "splits = train_ds.train_test_split(test_size=0.3)\n",
    "train_val_ds = splits['train']\n",
    "test_ds = splits['test']\n",
    "\n",
    "splits = train_val_ds.train_test_split(test_size=0.1)\n",
    "train_ds = splits['train']\n",
    "val_ds = splits['test']\n"
   ]
  },
  {
   "cell_type": "code",
   "execution_count": 4,
   "metadata": {},
   "outputs": [
    {
     "name": "stdout",
     "output_type": "stream",
     "text": [
      "5500 2620 612\n"
     ]
    }
   ],
   "source": [
    "print(len(train_ds),len(test_ds),len(val_ds))"
   ]
  },
  {
   "cell_type": "code",
   "execution_count": 5,
   "metadata": {},
   "outputs": [
    {
     "data": {
      "text/plain": [
       "Dataset({\n",
       "    features: ['image', 'classID', 'class'],\n",
       "    num_rows: 5500\n",
       "})"
      ]
     },
     "execution_count": 5,
     "metadata": {},
     "output_type": "execute_result"
    }
   ],
   "source": [
    "train_ds"
   ]
  },
  {
   "cell_type": "code",
   "execution_count": 6,
   "metadata": {},
   "outputs": [
    {
     "data": {
      "text/plain": [
       "{0: 'air_conditioner',\n",
       " 1: 'car_horn',\n",
       " 2: 'children_playing',\n",
       " 3: 'dog_bark',\n",
       " 4: 'drilling',\n",
       " 5: 'engine_idling',\n",
       " 6: 'gun_shot',\n",
       " 7: 'jackhammer',\n",
       " 8: 'siren',\n",
       " 9: 'street_music'}"
      ]
     },
     "execution_count": 6,
     "metadata": {},
     "output_type": "execute_result"
    }
   ],
   "source": [
    "with open('UrbanSound8K/noisy_mel/label2id.json') as f:\n",
    "    label2id = json.load(f)\n",
    "\n",
    "with open('UrbanSound8K/noisy_mel/id2label.json') as f:\n",
    "    id2label = json.load(f)\n",
    "\n",
    "id2label = {int(key):value for key,value in id2label.items()}\n",
    "id2label"
   ]
  },
  {
   "cell_type": "code",
   "execution_count": 7,
   "metadata": {},
   "outputs": [],
   "source": [
    "feature_extractor = ViTFeatureExtractor.from_pretrained(\"google/vit-base-patch16-224-in21k\")"
   ]
  },
  {
   "cell_type": "code",
   "execution_count": 8,
   "metadata": {
    "scrolled": true
   },
   "outputs": [],
   "source": [
    "normalize = Normalize(mean=feature_extractor.image_mean, std=feature_extractor.image_std)"
   ]
  },
  {
   "cell_type": "code",
   "execution_count": 9,
   "metadata": {},
   "outputs": [],
   "source": [
    "_train_transforms = Compose(\n",
    "        [\n",
    "            RandomResizedCrop(tuple(feature_extractor.size.values())),\n",
    "            RandomHorizontalFlip(),\n",
    "            ToTensor(),\n",
    "            normalize,\n",
    "        ]\n",
    "    )\n",
    "\n",
    "_val_transforms = Compose(\n",
    "        [\n",
    "            Resize(tuple(feature_extractor.size.values())),\n",
    "            CenterCrop(tuple(feature_extractor.size.values())),\n",
    "            ToTensor(),\n",
    "            normalize,\n",
    "        ]\n",
    "    )"
   ]
  },
  {
   "cell_type": "code",
   "execution_count": 10,
   "metadata": {},
   "outputs": [],
   "source": [
    "def train_transforms(examples):\n",
    "    examples['pixel_values'] = [_train_transforms(image.convert(\"RGB\")) for image in examples['image']]\n",
    "    return examples\n",
    "\n",
    "def val_transforms(examples):\n",
    "    examples['pixel_values'] = [_val_transforms(image.convert(\"RGB\")) for image in examples['image']]\n",
    "    return examples"
   ]
  },
  {
   "cell_type": "code",
   "execution_count": 11,
   "metadata": {},
   "outputs": [],
   "source": [
    "# Set the transforms\n",
    "train_ds.set_transform(train_transforms)\n",
    "val_ds.set_transform(val_transforms)\n",
    "test_ds.set_transform(val_transforms)"
   ]
  },
  {
   "cell_type": "code",
   "execution_count": 93,
   "metadata": {
    "scrolled": true
   },
   "outputs": [
    {
     "data": {
      "text/plain": [
       "{'image': [<PIL.PngImagePlugin.PngImageFile image mode=RGBA size=334x217 at 0x7F587D9EED30>,\n",
       "  <PIL.PngImagePlugin.PngImageFile image mode=RGBA size=334x217 at 0x7F587DA135C0>],\n",
       " 'classID': [6, 4],\n",
       " 'class': ['gun_shot', 'drilling'],\n",
       " 'pixel_values': [tensor([[[-0.2784, -0.2784, -0.2157,  ..., -0.1765, -0.1922, -0.1922],\n",
       "           [-0.2784, -0.2784, -0.2157,  ..., -0.1765, -0.1922, -0.1922],\n",
       "           [-0.2863, -0.2863, -0.2549,  ..., -0.2078, -0.2157, -0.2157],\n",
       "           ...,\n",
       "           [-0.1608, -0.1608, -0.2078,  ..., -0.2000, -0.1294, -0.1294],\n",
       "           [-0.3255, -0.3255, -0.3020,  ..., -0.2941, -0.2471, -0.2471],\n",
       "           [-0.3255, -0.3255, -0.3020,  ..., -0.2941, -0.2471, -0.2471]],\n",
       "  \n",
       "          [[-0.8275, -0.8275, -0.8039,  ..., -0.7804, -0.7882, -0.7882],\n",
       "           [-0.8275, -0.8275, -0.8039,  ..., -0.7804, -0.7882, -0.7882],\n",
       "           [-0.8275, -0.8275, -0.8118,  ..., -0.7961, -0.7961, -0.7961],\n",
       "           ...,\n",
       "           [-0.7804, -0.7804, -0.7961,  ..., -0.7882, -0.7647, -0.7647],\n",
       "           [-0.8431, -0.8431, -0.8353,  ..., -0.8275, -0.8118, -0.8118],\n",
       "           [-0.8431, -0.8431, -0.8353,  ..., -0.8275, -0.8118, -0.8118]],\n",
       "  \n",
       "          [[-0.0039, -0.0039,  0.0039,  ...,  0.0039,  0.0039,  0.0039],\n",
       "           [-0.0039, -0.0039,  0.0039,  ...,  0.0039,  0.0039,  0.0039],\n",
       "           [-0.0118, -0.0118, -0.0039,  ...,  0.0039,  0.0039,  0.0039],\n",
       "           ...,\n",
       "           [ 0.0039,  0.0039,  0.0039,  ...,  0.0039,  0.0118,  0.0118],\n",
       "           [-0.0196, -0.0196, -0.0118,  ..., -0.0039,  0.0039,  0.0039],\n",
       "           [-0.0196, -0.0196, -0.0118,  ..., -0.0039,  0.0039,  0.0039]]]),\n",
       "  tensor([[[ 0.8275,  0.6314,  0.5843,  ...,  0.7255,  0.7176,  0.6941],\n",
       "           [ 0.4980,  0.6549,  0.6941,  ...,  0.7490,  0.7412,  0.7098],\n",
       "           [ 0.4902,  0.6549,  0.6941,  ...,  0.7333,  0.7255,  0.6941],\n",
       "           ...,\n",
       "           [-0.1373, -0.3490, -0.3961,  ..., -0.1686, -0.1451, -0.0510],\n",
       "           [-0.2471, -0.4196, -0.4588,  ..., -0.4275, -0.3804, -0.1922],\n",
       "           [-0.2471, -0.4196, -0.4588,  ..., -0.4275, -0.3804, -0.1922]],\n",
       "  \n",
       "          [[-0.3412, -0.4824, -0.5137,  ..., -0.4353, -0.4431, -0.4588],\n",
       "           [-0.5216, -0.4667, -0.4510,  ..., -0.4118, -0.4196, -0.4431],\n",
       "           [-0.5451, -0.4667, -0.4510,  ..., -0.4275, -0.4353, -0.4510],\n",
       "           ...,\n",
       "           [-0.7647, -0.8431, -0.8667,  ..., -0.7725, -0.7725, -0.7333],\n",
       "           [-0.8118, -0.8588, -0.8745,  ..., -0.8745, -0.8588, -0.7882],\n",
       "           [-0.8118, -0.8588, -0.8745,  ..., -0.8745, -0.8588, -0.7882]],\n",
       "  \n",
       "          [[-0.2314, -0.1294, -0.1059,  ..., -0.1765, -0.1686, -0.1529],\n",
       "           [-0.0824, -0.1451, -0.1608,  ..., -0.1922, -0.1843, -0.1686],\n",
       "           [-0.0745, -0.1451, -0.1608,  ..., -0.1843, -0.1765, -0.1608],\n",
       "           ...,\n",
       "           [ 0.0118, -0.0275, -0.0431,  ..., -0.0118, -0.0039,  0.0118],\n",
       "           [ 0.0039, -0.0510, -0.0667,  ..., -0.0588, -0.0431,  0.0039],\n",
       "           [ 0.0039, -0.0510, -0.0667,  ..., -0.0588, -0.0431,  0.0039]]])]}"
      ]
     },
     "execution_count": 93,
     "metadata": {},
     "output_type": "execute_result"
    }
   ],
   "source": [
    "train_ds[:2]"
   ]
  },
  {
   "cell_type": "code",
   "execution_count": 13,
   "metadata": {},
   "outputs": [],
   "source": [
    "def collate_fn(examples):\n",
    "    pixel_values = torch.stack([example[\"pixel_values\"] for example in examples])\n",
    "    labels = torch.tensor([example[\"classID\"] for example in examples])\n",
    "    return {\"pixel_values\": pixel_values, \"labels\": labels}\n",
    "\n",
    "train_dataloader = DataLoader(train_ds, collate_fn=collate_fn, batch_size=4)\n"
   ]
  },
  {
   "cell_type": "code",
   "execution_count": 14,
   "metadata": {},
   "outputs": [
    {
     "name": "stdout",
     "output_type": "stream",
     "text": [
      "pixel_values torch.Size([4, 3, 224, 224])\n",
      "labels torch.Size([4])\n"
     ]
    }
   ],
   "source": [
    "batch = next(iter(train_dataloader))\n",
    "for k,v in batch.items():\n",
    "    if isinstance(v, torch.Tensor):\n",
    "        print(k, v.shape)"
   ]
  },
  {
   "cell_type": "code",
   "execution_count": 15,
   "metadata": {},
   "outputs": [
    {
     "name": "stderr",
     "output_type": "stream",
     "text": [
      "Some weights of the model checkpoint at google/vit-base-patch16-224-in21k were not used when initializing ViTForImageClassification: ['pooler.dense.weight', 'pooler.dense.bias']\n",
      "- This IS expected if you are initializing ViTForImageClassification from the checkpoint of a model trained on another task or with another architecture (e.g. initializing a BertForSequenceClassification model from a BertForPreTraining model).\n",
      "- This IS NOT expected if you are initializing ViTForImageClassification from the checkpoint of a model that you expect to be exactly identical (initializing a BertForSequenceClassification model from a BertForSequenceClassification model).\n",
      "Some weights of ViTForImageClassification were not initialized from the model checkpoint at google/vit-base-patch16-224-in21k and are newly initialized: ['classifier.weight', 'classifier.bias']\n",
      "You should probably TRAIN this model on a down-stream task to be able to use it for predictions and inference.\n"
     ]
    }
   ],
   "source": [
    "model = ViTForImageClassification.from_pretrained('google/vit-base-patch16-224-in21k',\n",
    "                                                  num_labels=10,\n",
    "                                                  id2label=id2label,\n",
    "                                                  label2id=label2id)"
   ]
  },
  {
   "cell_type": "code",
   "execution_count": 17,
   "metadata": {},
   "outputs": [],
   "source": [
    "metric_name = \"accuracy\"\n",
    "\n",
    "args = TrainingArguments(\n",
    "    f\"train-noisy-UrbanSounds8k\",\n",
    "    save_strategy=\"epoch\",\n",
    "    evaluation_strategy=\"epoch\",\n",
    "    learning_rate=2e-5,\n",
    "    per_device_train_batch_size=10,\n",
    "    per_device_eval_batch_size=4,\n",
    "    num_train_epochs=50,\n",
    "    weight_decay=0.01,\n",
    "    load_best_model_at_end=True,\n",
    "    metric_for_best_model=metric_name,\n",
    "    logging_dir='logs',\n",
    "    remove_unused_columns=False\n",
    ")\n",
    "\n"
   ]
  },
  {
   "cell_type": "code",
   "execution_count": 18,
   "metadata": {},
   "outputs": [
    {
     "name": "stderr",
     "output_type": "stream",
     "text": [
      "/home/suvivars/.conda/envs/271/lib/python3.7/site-packages/ipykernel_launcher.py:1: FutureWarning: load_metric is deprecated and will be removed in the next major version of datasets. Use 'evaluate.load' instead, from the new library 🤗 Evaluate: https://huggingface.co/docs/evaluate\n",
      "  \"\"\"Entry point for launching an IPython kernel.\n"
     ]
    }
   ],
   "source": [
    "metric = load_metric(\"accuracy\")\n",
    "\n",
    "def compute_metrics(eval_pred):\n",
    "    predictions, labels = eval_pred\n",
    "    predictions = np.argmax(predictions, axis=1)\n",
    "    return metric.compute(predictions=predictions, references=labels)"
   ]
  },
  {
   "cell_type": "code",
   "execution_count": 19,
   "metadata": {},
   "outputs": [],
   "source": [
    "trainer = Trainer(\n",
    "    model,\n",
    "    args,\n",
    "    train_dataset=train_ds,\n",
    "    eval_dataset=val_ds,\n",
    "    data_collator=collate_fn,\n",
    "    compute_metrics=compute_metrics,\n",
    "    tokenizer=feature_extractor,\n",
    "    callbacks = [EarlyStoppingCallback(early_stopping_patience=5)]\n",
    ")\n"
   ]
  },
  {
   "cell_type": "code",
   "execution_count": 20,
   "metadata": {
    "scrolled": false
   },
   "outputs": [
    {
     "name": "stderr",
     "output_type": "stream",
     "text": [
      "/home/suvivars/.conda/envs/271/lib/python3.7/site-packages/transformers/optimization.py:310: FutureWarning: This implementation of AdamW is deprecated and will be removed in a future version. Use the PyTorch implementation torch.optim.AdamW instead, or set `no_deprecation_warning=True` to disable this warning\n",
      "  FutureWarning,\n",
      "***** Running training *****\n",
      "  Num examples = 5500\n",
      "  Num Epochs = 50\n",
      "  Instantaneous batch size per device = 10\n",
      "  Total train batch size (w. parallel, distributed & accumulation) = 10\n",
      "  Gradient Accumulation steps = 1\n",
      "  Total optimization steps = 27500\n",
      "  Number of trainable parameters = 85806346\n"
     ]
    },
    {
     "data": {
      "text/html": [
       "\n",
       "    <div>\n",
       "      \n",
       "      <progress value='17050' max='27500' style='width:300px; height:20px; vertical-align: middle;'></progress>\n",
       "      [17050/27500 1:26:02 < 52:44, 3.30 it/s, Epoch 31/50]\n",
       "    </div>\n",
       "    <table border=\"1\" class=\"dataframe\">\n",
       "  <thead>\n",
       " <tr style=\"text-align: left;\">\n",
       "      <th>Epoch</th>\n",
       "      <th>Training Loss</th>\n",
       "      <th>Validation Loss</th>\n",
       "      <th>Accuracy</th>\n",
       "    </tr>\n",
       "  </thead>\n",
       "  <tbody>\n",
       "    <tr>\n",
       "      <td>1</td>\n",
       "      <td>1.619500</td>\n",
       "      <td>1.129812</td>\n",
       "      <td>0.668301</td>\n",
       "    </tr>\n",
       "    <tr>\n",
       "      <td>2</td>\n",
       "      <td>1.096600</td>\n",
       "      <td>0.902448</td>\n",
       "      <td>0.725490</td>\n",
       "    </tr>\n",
       "    <tr>\n",
       "      <td>3</td>\n",
       "      <td>0.904300</td>\n",
       "      <td>0.693091</td>\n",
       "      <td>0.807190</td>\n",
       "    </tr>\n",
       "    <tr>\n",
       "      <td>4</td>\n",
       "      <td>0.806000</td>\n",
       "      <td>0.566548</td>\n",
       "      <td>0.844771</td>\n",
       "    </tr>\n",
       "    <tr>\n",
       "      <td>5</td>\n",
       "      <td>0.730000</td>\n",
       "      <td>0.558857</td>\n",
       "      <td>0.838235</td>\n",
       "    </tr>\n",
       "    <tr>\n",
       "      <td>6</td>\n",
       "      <td>0.656500</td>\n",
       "      <td>0.504468</td>\n",
       "      <td>0.856209</td>\n",
       "    </tr>\n",
       "    <tr>\n",
       "      <td>7</td>\n",
       "      <td>0.630100</td>\n",
       "      <td>0.465418</td>\n",
       "      <td>0.866013</td>\n",
       "    </tr>\n",
       "    <tr>\n",
       "      <td>8</td>\n",
       "      <td>0.596800</td>\n",
       "      <td>0.474295</td>\n",
       "      <td>0.861111</td>\n",
       "    </tr>\n",
       "    <tr>\n",
       "      <td>9</td>\n",
       "      <td>0.566600</td>\n",
       "      <td>0.444372</td>\n",
       "      <td>0.869281</td>\n",
       "    </tr>\n",
       "    <tr>\n",
       "      <td>10</td>\n",
       "      <td>0.518400</td>\n",
       "      <td>0.437743</td>\n",
       "      <td>0.869281</td>\n",
       "    </tr>\n",
       "    <tr>\n",
       "      <td>11</td>\n",
       "      <td>0.482200</td>\n",
       "      <td>0.414973</td>\n",
       "      <td>0.882353</td>\n",
       "    </tr>\n",
       "    <tr>\n",
       "      <td>12</td>\n",
       "      <td>0.470200</td>\n",
       "      <td>0.418241</td>\n",
       "      <td>0.874183</td>\n",
       "    </tr>\n",
       "    <tr>\n",
       "      <td>13</td>\n",
       "      <td>0.455200</td>\n",
       "      <td>0.403654</td>\n",
       "      <td>0.877451</td>\n",
       "    </tr>\n",
       "    <tr>\n",
       "      <td>14</td>\n",
       "      <td>0.457200</td>\n",
       "      <td>0.381544</td>\n",
       "      <td>0.880719</td>\n",
       "    </tr>\n",
       "    <tr>\n",
       "      <td>15</td>\n",
       "      <td>0.413400</td>\n",
       "      <td>0.366942</td>\n",
       "      <td>0.897059</td>\n",
       "    </tr>\n",
       "    <tr>\n",
       "      <td>16</td>\n",
       "      <td>0.430500</td>\n",
       "      <td>0.371515</td>\n",
       "      <td>0.895425</td>\n",
       "    </tr>\n",
       "    <tr>\n",
       "      <td>17</td>\n",
       "      <td>0.375100</td>\n",
       "      <td>0.344439</td>\n",
       "      <td>0.908497</td>\n",
       "    </tr>\n",
       "    <tr>\n",
       "      <td>18</td>\n",
       "      <td>0.399400</td>\n",
       "      <td>0.359115</td>\n",
       "      <td>0.893791</td>\n",
       "    </tr>\n",
       "    <tr>\n",
       "      <td>19</td>\n",
       "      <td>0.386900</td>\n",
       "      <td>0.331478</td>\n",
       "      <td>0.893791</td>\n",
       "    </tr>\n",
       "    <tr>\n",
       "      <td>20</td>\n",
       "      <td>0.397500</td>\n",
       "      <td>0.366107</td>\n",
       "      <td>0.906863</td>\n",
       "    </tr>\n",
       "    <tr>\n",
       "      <td>21</td>\n",
       "      <td>0.349000</td>\n",
       "      <td>0.326423</td>\n",
       "      <td>0.916667</td>\n",
       "    </tr>\n",
       "    <tr>\n",
       "      <td>22</td>\n",
       "      <td>0.345100</td>\n",
       "      <td>0.304430</td>\n",
       "      <td>0.918301</td>\n",
       "    </tr>\n",
       "    <tr>\n",
       "      <td>23</td>\n",
       "      <td>0.334800</td>\n",
       "      <td>0.378935</td>\n",
       "      <td>0.901961</td>\n",
       "    </tr>\n",
       "    <tr>\n",
       "      <td>24</td>\n",
       "      <td>0.342900</td>\n",
       "      <td>0.365086</td>\n",
       "      <td>0.903595</td>\n",
       "    </tr>\n",
       "    <tr>\n",
       "      <td>25</td>\n",
       "      <td>0.327400</td>\n",
       "      <td>0.340283</td>\n",
       "      <td>0.905229</td>\n",
       "    </tr>\n",
       "    <tr>\n",
       "      <td>26</td>\n",
       "      <td>0.328700</td>\n",
       "      <td>0.312215</td>\n",
       "      <td>0.921569</td>\n",
       "    </tr>\n",
       "    <tr>\n",
       "      <td>27</td>\n",
       "      <td>0.312200</td>\n",
       "      <td>0.320261</td>\n",
       "      <td>0.918301</td>\n",
       "    </tr>\n",
       "    <tr>\n",
       "      <td>28</td>\n",
       "      <td>0.325100</td>\n",
       "      <td>0.318343</td>\n",
       "      <td>0.910131</td>\n",
       "    </tr>\n",
       "    <tr>\n",
       "      <td>29</td>\n",
       "      <td>0.304900</td>\n",
       "      <td>0.324152</td>\n",
       "      <td>0.913399</td>\n",
       "    </tr>\n",
       "    <tr>\n",
       "      <td>30</td>\n",
       "      <td>0.294100</td>\n",
       "      <td>0.327591</td>\n",
       "      <td>0.916667</td>\n",
       "    </tr>\n",
       "    <tr>\n",
       "      <td>31</td>\n",
       "      <td>0.282900</td>\n",
       "      <td>0.310520</td>\n",
       "      <td>0.918301</td>\n",
       "    </tr>\n",
       "  </tbody>\n",
       "</table><p>"
      ],
      "text/plain": [
       "<IPython.core.display.HTML object>"
      ]
     },
     "metadata": {},
     "output_type": "display_data"
    },
    {
     "name": "stderr",
     "output_type": "stream",
     "text": [
      "***** Running Evaluation *****\n",
      "  Num examples = 612\n",
      "  Batch size = 4\n",
      "Saving model checkpoint to train-noisy-UrbanSounds8k/checkpoint-550\n",
      "Configuration saved in train-noisy-UrbanSounds8k/checkpoint-550/config.json\n",
      "Model weights saved in train-noisy-UrbanSounds8k/checkpoint-550/pytorch_model.bin\n",
      "Image processor saved in train-noisy-UrbanSounds8k/checkpoint-550/preprocessor_config.json\n",
      "***** Running Evaluation *****\n",
      "  Num examples = 612\n",
      "  Batch size = 4\n",
      "Saving model checkpoint to train-noisy-UrbanSounds8k/checkpoint-1100\n",
      "Configuration saved in train-noisy-UrbanSounds8k/checkpoint-1100/config.json\n",
      "Model weights saved in train-noisy-UrbanSounds8k/checkpoint-1100/pytorch_model.bin\n",
      "Image processor saved in train-noisy-UrbanSounds8k/checkpoint-1100/preprocessor_config.json\n",
      "***** Running Evaluation *****\n",
      "  Num examples = 612\n",
      "  Batch size = 4\n",
      "Saving model checkpoint to train-noisy-UrbanSounds8k/checkpoint-1650\n",
      "Configuration saved in train-noisy-UrbanSounds8k/checkpoint-1650/config.json\n",
      "Model weights saved in train-noisy-UrbanSounds8k/checkpoint-1650/pytorch_model.bin\n",
      "Image processor saved in train-noisy-UrbanSounds8k/checkpoint-1650/preprocessor_config.json\n",
      "***** Running Evaluation *****\n",
      "  Num examples = 612\n",
      "  Batch size = 4\n",
      "Saving model checkpoint to train-noisy-UrbanSounds8k/checkpoint-2200\n",
      "Configuration saved in train-noisy-UrbanSounds8k/checkpoint-2200/config.json\n",
      "Model weights saved in train-noisy-UrbanSounds8k/checkpoint-2200/pytorch_model.bin\n",
      "Image processor saved in train-noisy-UrbanSounds8k/checkpoint-2200/preprocessor_config.json\n",
      "***** Running Evaluation *****\n",
      "  Num examples = 612\n",
      "  Batch size = 4\n",
      "Saving model checkpoint to train-noisy-UrbanSounds8k/checkpoint-2750\n",
      "Configuration saved in train-noisy-UrbanSounds8k/checkpoint-2750/config.json\n",
      "Model weights saved in train-noisy-UrbanSounds8k/checkpoint-2750/pytorch_model.bin\n",
      "Image processor saved in train-noisy-UrbanSounds8k/checkpoint-2750/preprocessor_config.json\n",
      "***** Running Evaluation *****\n",
      "  Num examples = 612\n",
      "  Batch size = 4\n",
      "Saving model checkpoint to train-noisy-UrbanSounds8k/checkpoint-3300\n",
      "Configuration saved in train-noisy-UrbanSounds8k/checkpoint-3300/config.json\n",
      "Model weights saved in train-noisy-UrbanSounds8k/checkpoint-3300/pytorch_model.bin\n",
      "Image processor saved in train-noisy-UrbanSounds8k/checkpoint-3300/preprocessor_config.json\n",
      "***** Running Evaluation *****\n",
      "  Num examples = 612\n",
      "  Batch size = 4\n",
      "Saving model checkpoint to train-noisy-UrbanSounds8k/checkpoint-3850\n",
      "Configuration saved in train-noisy-UrbanSounds8k/checkpoint-3850/config.json\n",
      "Model weights saved in train-noisy-UrbanSounds8k/checkpoint-3850/pytorch_model.bin\n",
      "Image processor saved in train-noisy-UrbanSounds8k/checkpoint-3850/preprocessor_config.json\n",
      "***** Running Evaluation *****\n",
      "  Num examples = 612\n",
      "  Batch size = 4\n",
      "Saving model checkpoint to train-noisy-UrbanSounds8k/checkpoint-4400\n",
      "Configuration saved in train-noisy-UrbanSounds8k/checkpoint-4400/config.json\n",
      "Model weights saved in train-noisy-UrbanSounds8k/checkpoint-4400/pytorch_model.bin\n",
      "Image processor saved in train-noisy-UrbanSounds8k/checkpoint-4400/preprocessor_config.json\n",
      "***** Running Evaluation *****\n",
      "  Num examples = 612\n",
      "  Batch size = 4\n",
      "Saving model checkpoint to train-noisy-UrbanSounds8k/checkpoint-4950\n",
      "Configuration saved in train-noisy-UrbanSounds8k/checkpoint-4950/config.json\n",
      "Model weights saved in train-noisy-UrbanSounds8k/checkpoint-4950/pytorch_model.bin\n",
      "Image processor saved in train-noisy-UrbanSounds8k/checkpoint-4950/preprocessor_config.json\n",
      "***** Running Evaluation *****\n",
      "  Num examples = 612\n",
      "  Batch size = 4\n",
      "Saving model checkpoint to train-noisy-UrbanSounds8k/checkpoint-5500\n",
      "Configuration saved in train-noisy-UrbanSounds8k/checkpoint-5500/config.json\n",
      "Model weights saved in train-noisy-UrbanSounds8k/checkpoint-5500/pytorch_model.bin\n",
      "Image processor saved in train-noisy-UrbanSounds8k/checkpoint-5500/preprocessor_config.json\n",
      "***** Running Evaluation *****\n",
      "  Num examples = 612\n",
      "  Batch size = 4\n",
      "Saving model checkpoint to train-noisy-UrbanSounds8k/checkpoint-6050\n",
      "Configuration saved in train-noisy-UrbanSounds8k/checkpoint-6050/config.json\n",
      "Model weights saved in train-noisy-UrbanSounds8k/checkpoint-6050/pytorch_model.bin\n",
      "Image processor saved in train-noisy-UrbanSounds8k/checkpoint-6050/preprocessor_config.json\n",
      "***** Running Evaluation *****\n",
      "  Num examples = 612\n",
      "  Batch size = 4\n",
      "Saving model checkpoint to train-noisy-UrbanSounds8k/checkpoint-6600\n",
      "Configuration saved in train-noisy-UrbanSounds8k/checkpoint-6600/config.json\n",
      "Model weights saved in train-noisy-UrbanSounds8k/checkpoint-6600/pytorch_model.bin\n",
      "Image processor saved in train-noisy-UrbanSounds8k/checkpoint-6600/preprocessor_config.json\n",
      "***** Running Evaluation *****\n",
      "  Num examples = 612\n",
      "  Batch size = 4\n",
      "Saving model checkpoint to train-noisy-UrbanSounds8k/checkpoint-7150\n",
      "Configuration saved in train-noisy-UrbanSounds8k/checkpoint-7150/config.json\n",
      "Model weights saved in train-noisy-UrbanSounds8k/checkpoint-7150/pytorch_model.bin\n",
      "Image processor saved in train-noisy-UrbanSounds8k/checkpoint-7150/preprocessor_config.json\n",
      "***** Running Evaluation *****\n",
      "  Num examples = 612\n",
      "  Batch size = 4\n",
      "Saving model checkpoint to train-noisy-UrbanSounds8k/checkpoint-7700\n",
      "Configuration saved in train-noisy-UrbanSounds8k/checkpoint-7700/config.json\n",
      "Model weights saved in train-noisy-UrbanSounds8k/checkpoint-7700/pytorch_model.bin\n",
      "Image processor saved in train-noisy-UrbanSounds8k/checkpoint-7700/preprocessor_config.json\n",
      "***** Running Evaluation *****\n",
      "  Num examples = 612\n",
      "  Batch size = 4\n",
      "Saving model checkpoint to train-noisy-UrbanSounds8k/checkpoint-8250\n",
      "Configuration saved in train-noisy-UrbanSounds8k/checkpoint-8250/config.json\n",
      "Model weights saved in train-noisy-UrbanSounds8k/checkpoint-8250/pytorch_model.bin\n",
      "Image processor saved in train-noisy-UrbanSounds8k/checkpoint-8250/preprocessor_config.json\n",
      "***** Running Evaluation *****\n",
      "  Num examples = 612\n",
      "  Batch size = 4\n",
      "Saving model checkpoint to train-noisy-UrbanSounds8k/checkpoint-8800\n",
      "Configuration saved in train-noisy-UrbanSounds8k/checkpoint-8800/config.json\n",
      "Model weights saved in train-noisy-UrbanSounds8k/checkpoint-8800/pytorch_model.bin\n",
      "Image processor saved in train-noisy-UrbanSounds8k/checkpoint-8800/preprocessor_config.json\n",
      "***** Running Evaluation *****\n",
      "  Num examples = 612\n",
      "  Batch size = 4\n",
      "Saving model checkpoint to train-noisy-UrbanSounds8k/checkpoint-9350\n",
      "Configuration saved in train-noisy-UrbanSounds8k/checkpoint-9350/config.json\n",
      "Model weights saved in train-noisy-UrbanSounds8k/checkpoint-9350/pytorch_model.bin\n",
      "Image processor saved in train-noisy-UrbanSounds8k/checkpoint-9350/preprocessor_config.json\n",
      "***** Running Evaluation *****\n",
      "  Num examples = 612\n",
      "  Batch size = 4\n",
      "Saving model checkpoint to train-noisy-UrbanSounds8k/checkpoint-9900\n",
      "Configuration saved in train-noisy-UrbanSounds8k/checkpoint-9900/config.json\n",
      "Model weights saved in train-noisy-UrbanSounds8k/checkpoint-9900/pytorch_model.bin\n",
      "Image processor saved in train-noisy-UrbanSounds8k/checkpoint-9900/preprocessor_config.json\n",
      "***** Running Evaluation *****\n",
      "  Num examples = 612\n",
      "  Batch size = 4\n",
      "Saving model checkpoint to train-noisy-UrbanSounds8k/checkpoint-10450\n",
      "Configuration saved in train-noisy-UrbanSounds8k/checkpoint-10450/config.json\n",
      "Model weights saved in train-noisy-UrbanSounds8k/checkpoint-10450/pytorch_model.bin\n",
      "Image processor saved in train-noisy-UrbanSounds8k/checkpoint-10450/preprocessor_config.json\n",
      "***** Running Evaluation *****\n",
      "  Num examples = 612\n",
      "  Batch size = 4\n",
      "Saving model checkpoint to train-noisy-UrbanSounds8k/checkpoint-11000\n",
      "Configuration saved in train-noisy-UrbanSounds8k/checkpoint-11000/config.json\n",
      "Model weights saved in train-noisy-UrbanSounds8k/checkpoint-11000/pytorch_model.bin\n",
      "Image processor saved in train-noisy-UrbanSounds8k/checkpoint-11000/preprocessor_config.json\n",
      "***** Running Evaluation *****\n",
      "  Num examples = 612\n",
      "  Batch size = 4\n",
      "Saving model checkpoint to train-noisy-UrbanSounds8k/checkpoint-11550\n",
      "Configuration saved in train-noisy-UrbanSounds8k/checkpoint-11550/config.json\n",
      "Model weights saved in train-noisy-UrbanSounds8k/checkpoint-11550/pytorch_model.bin\n",
      "Image processor saved in train-noisy-UrbanSounds8k/checkpoint-11550/preprocessor_config.json\n"
     ]
    },
    {
     "name": "stderr",
     "output_type": "stream",
     "text": [
      "***** Running Evaluation *****\n",
      "  Num examples = 612\n",
      "  Batch size = 4\n",
      "Saving model checkpoint to train-noisy-UrbanSounds8k/checkpoint-12100\n",
      "Configuration saved in train-noisy-UrbanSounds8k/checkpoint-12100/config.json\n",
      "Model weights saved in train-noisy-UrbanSounds8k/checkpoint-12100/pytorch_model.bin\n",
      "Image processor saved in train-noisy-UrbanSounds8k/checkpoint-12100/preprocessor_config.json\n",
      "***** Running Evaluation *****\n",
      "  Num examples = 612\n",
      "  Batch size = 4\n",
      "Saving model checkpoint to train-noisy-UrbanSounds8k/checkpoint-12650\n",
      "Configuration saved in train-noisy-UrbanSounds8k/checkpoint-12650/config.json\n",
      "Model weights saved in train-noisy-UrbanSounds8k/checkpoint-12650/pytorch_model.bin\n",
      "Image processor saved in train-noisy-UrbanSounds8k/checkpoint-12650/preprocessor_config.json\n",
      "***** Running Evaluation *****\n",
      "  Num examples = 612\n",
      "  Batch size = 4\n",
      "Saving model checkpoint to train-noisy-UrbanSounds8k/checkpoint-13200\n",
      "Configuration saved in train-noisy-UrbanSounds8k/checkpoint-13200/config.json\n",
      "Model weights saved in train-noisy-UrbanSounds8k/checkpoint-13200/pytorch_model.bin\n",
      "Image processor saved in train-noisy-UrbanSounds8k/checkpoint-13200/preprocessor_config.json\n",
      "***** Running Evaluation *****\n",
      "  Num examples = 612\n",
      "  Batch size = 4\n",
      "Saving model checkpoint to train-noisy-UrbanSounds8k/checkpoint-13750\n",
      "Configuration saved in train-noisy-UrbanSounds8k/checkpoint-13750/config.json\n",
      "Model weights saved in train-noisy-UrbanSounds8k/checkpoint-13750/pytorch_model.bin\n",
      "Image processor saved in train-noisy-UrbanSounds8k/checkpoint-13750/preprocessor_config.json\n",
      "***** Running Evaluation *****\n",
      "  Num examples = 612\n",
      "  Batch size = 4\n",
      "Saving model checkpoint to train-noisy-UrbanSounds8k/checkpoint-14300\n",
      "Configuration saved in train-noisy-UrbanSounds8k/checkpoint-14300/config.json\n",
      "Model weights saved in train-noisy-UrbanSounds8k/checkpoint-14300/pytorch_model.bin\n",
      "Image processor saved in train-noisy-UrbanSounds8k/checkpoint-14300/preprocessor_config.json\n",
      "***** Running Evaluation *****\n",
      "  Num examples = 612\n",
      "  Batch size = 4\n",
      "Saving model checkpoint to train-noisy-UrbanSounds8k/checkpoint-14850\n",
      "Configuration saved in train-noisy-UrbanSounds8k/checkpoint-14850/config.json\n",
      "Model weights saved in train-noisy-UrbanSounds8k/checkpoint-14850/pytorch_model.bin\n",
      "Image processor saved in train-noisy-UrbanSounds8k/checkpoint-14850/preprocessor_config.json\n",
      "***** Running Evaluation *****\n",
      "  Num examples = 612\n",
      "  Batch size = 4\n",
      "Saving model checkpoint to train-noisy-UrbanSounds8k/checkpoint-15400\n",
      "Configuration saved in train-noisy-UrbanSounds8k/checkpoint-15400/config.json\n",
      "Model weights saved in train-noisy-UrbanSounds8k/checkpoint-15400/pytorch_model.bin\n",
      "Image processor saved in train-noisy-UrbanSounds8k/checkpoint-15400/preprocessor_config.json\n",
      "***** Running Evaluation *****\n",
      "  Num examples = 612\n",
      "  Batch size = 4\n",
      "Saving model checkpoint to train-noisy-UrbanSounds8k/checkpoint-15950\n",
      "Configuration saved in train-noisy-UrbanSounds8k/checkpoint-15950/config.json\n",
      "Model weights saved in train-noisy-UrbanSounds8k/checkpoint-15950/pytorch_model.bin\n",
      "Image processor saved in train-noisy-UrbanSounds8k/checkpoint-15950/preprocessor_config.json\n",
      "***** Running Evaluation *****\n",
      "  Num examples = 612\n",
      "  Batch size = 4\n",
      "Saving model checkpoint to train-noisy-UrbanSounds8k/checkpoint-16500\n",
      "Configuration saved in train-noisy-UrbanSounds8k/checkpoint-16500/config.json\n",
      "Model weights saved in train-noisy-UrbanSounds8k/checkpoint-16500/pytorch_model.bin\n",
      "Image processor saved in train-noisy-UrbanSounds8k/checkpoint-16500/preprocessor_config.json\n",
      "***** Running Evaluation *****\n",
      "  Num examples = 612\n",
      "  Batch size = 4\n",
      "Saving model checkpoint to train-noisy-UrbanSounds8k/checkpoint-17050\n",
      "Configuration saved in train-noisy-UrbanSounds8k/checkpoint-17050/config.json\n",
      "Model weights saved in train-noisy-UrbanSounds8k/checkpoint-17050/pytorch_model.bin\n",
      "Image processor saved in train-noisy-UrbanSounds8k/checkpoint-17050/preprocessor_config.json\n",
      "\n",
      "\n",
      "Training completed. Do not forget to share your model on huggingface.co/models =)\n",
      "\n",
      "\n",
      "Loading best model from train-noisy-UrbanSounds8k/checkpoint-14300 (score: 0.9215686274509803).\n"
     ]
    },
    {
     "name": "stdout",
     "output_type": "stream",
     "text": [
      "Total Time Taken (in sec): 5164.398083925247\n"
     ]
    }
   ],
   "source": [
    "#Using GPU\n",
    "start_time = time.time()\n",
    "trainer.train()\n",
    "print('Total Time Taken (in sec):',time.time()-start_time)"
   ]
  },
  {
   "cell_type": "code",
   "execution_count": null,
   "metadata": {},
   "outputs": [],
   "source": []
  },
  {
   "cell_type": "code",
   "execution_count": 21,
   "metadata": {},
   "outputs": [
    {
     "name": "stderr",
     "output_type": "stream",
     "text": [
      "***** Running Prediction *****\n",
      "  Num examples = 2620\n",
      "  Batch size = 4\n"
     ]
    },
    {
     "data": {
      "text/html": [],
      "text/plain": [
       "<IPython.core.display.HTML object>"
      ]
     },
     "metadata": {},
     "output_type": "display_data"
    }
   ],
   "source": [
    "outputs = trainer.predict(test_ds)"
   ]
  },
  {
   "cell_type": "code",
   "execution_count": 22,
   "metadata": {},
   "outputs": [
    {
     "name": "stdout",
     "output_type": "stream",
     "text": [
      "{'test_loss': 0.2641521394252777, 'test_accuracy': 0.9267175572519084, 'test_runtime': 23.3625, 'test_samples_per_second': 112.145, 'test_steps_per_second': 28.036}\n"
     ]
    }
   ],
   "source": [
    "print(outputs.metrics)"
   ]
  },
  {
   "cell_type": "code",
   "execution_count": 26,
   "metadata": {},
   "outputs": [
    {
     "data": {
      "text/plain": [
       "<sklearn.metrics._plot.confusion_matrix.ConfusionMatrixDisplay at 0x7f5941c54898>"
      ]
     },
     "execution_count": 26,
     "metadata": {},
     "output_type": "execute_result"
    },
    {
     "data": {
      "image/png": "[encoded data removed]",
      "text/plain": [
       "<Figure size 432x288 with 2 Axes>"
      ]
     },
     "metadata": {
      "needs_background": "light"
     },
     "output_type": "display_data"
    }
   ],
   "source": [
    "from sklearn.metrics import confusion_matrix, ConfusionMatrixDisplay\n",
    "\n",
    "y_true = outputs.label_ids\n",
    "y_pred = outputs.predictions.argmax(1)\n",
    "\n",
    "labels = id2label.values()\n",
    "cm = confusion_matrix(y_true, y_pred)\n",
    "disp = ConfusionMatrixDisplay(confusion_matrix=cm, display_labels=labels)\n",
    "disp.plot(xticks_rotation=90)\n"
   ]
  },
  {
   "cell_type": "code",
   "execution_count": 27,
   "metadata": {},
   "outputs": [
    {
     "name": "stderr",
     "output_type": "stream",
     "text": [
      "Configuration saved in models/Noisy-UrbanSounds8k-EarlyStopping/config.json\n",
      "Model weights saved in models/Noisy-UrbanSounds8k-EarlyStopping/pytorch_model.bin\n"
     ]
    }
   ],
   "source": [
    "model.save_pretrained(\"models/Noisy-UrbanSounds8k-EarlyStopping\")"
   ]
  },
  {
   "cell_type": "code",
   "execution_count": 3,
   "metadata": {},
   "outputs": [],
   "source": [
    "logs='Epoch\tTraining Loss\tValidation Loss\tAccuracy\\t\\\n",
    "1\t1.619500\t1.129812\t0.668301\\t\\\n",
    "2\t1.096600\t0.902448\t0.725490\\t\\\n",
    "3\t0.904300\t0.693091\t0.807190\\t\\\n",
    "4\t0.806000\t0.566548\t0.844771\\t\\\n",
    "5\t0.730000\t0.558857\t0.838235\\t\\\n",
    "6\t0.656500\t0.504468\t0.856209\\t\\\n",
    "7\t0.630100\t0.465418\t0.866013\\t\\\n",
    "8\t0.596800\t0.474295\t0.861111\\t\\\n",
    "9\t0.566600\t0.444372\t0.869281\\t\\\n",
    "10\t0.518400\t0.437743\t0.869281\\t\\\n",
    "11\t0.482200\t0.414973\t0.882353\\t\\\n",
    "12\t0.470200\t0.418241\t0.874183\\t\\\n",
    "13\t0.455200\t0.403654\t0.877451\\t\\\n",
    "14\t0.457200\t0.381544\t0.880719\\t\\\n",
    "15\t0.413400\t0.366942\t0.897059\\t\\\n",
    "16\t0.430500\t0.371515\t0.895425\\t\\\n",
    "17\t0.375100\t0.344439\t0.908497\\t\\\n",
    "18\t0.399400\t0.359115\t0.893791\\t\\\n",
    "19\t0.386900\t0.331478\t0.893791\\t\\\n",
    "20\t0.397500\t0.366107\t0.906863\\t\\\n",
    "21\t0.349000\t0.326423\t0.916667\\t\\\n",
    "22\t0.345100\t0.304430\t0.918301\\t\\\n",
    "23\t0.334800\t0.378935\t0.901961\\t\\\n",
    "24\t0.342900\t0.365086\t0.903595\\t\\\n",
    "25\t0.327400\t0.340283\t0.905229\\t\\\n",
    "26\t0.328700\t0.312215\t0.921569\\t\\\n",
    "27\t0.312200\t0.320261\t0.918301\\t\\\n",
    "28\t0.325100\t0.318343\t0.910131\\t\\\n",
    "29\t0.304900\t0.324152\t0.913399\\t\\\n",
    "30\t0.294100\t0.327591\t0.916667\\t\\\n",
    "31\t0.282900\t0.310520\t0.918301'"
   ]
  },
  {
   "cell_type": "code",
   "execution_count": 4,
   "metadata": {},
   "outputs": [],
   "source": [
    "epoch=logs.split('\\t')[::4][1:]\n",
    "epoch=list(map(int, epoch))\n",
    "training_loss=logs.split('\\t')[1::4][1:]\n",
    "training_loss=list(map(float, training_loss))\n",
    "validation_loss=logs.split('\\t')[2::4][1:]\n",
    "validation_loss=list(map(float, validation_loss))\n",
    "accuracy=logs.split('\\t')[3::4][1:]\n",
    "accuracy=list(map(float, accuracy))"
   ]
  },
  {
   "cell_type": "code",
   "execution_count": 7,
   "metadata": {},
   "outputs": [
    {
     "data": {
      "image/png": "[encoded data removed]",
      "text/plain": [
       "<Figure size 432x288 with 1 Axes>"
      ]
     },
     "metadata": {
      "needs_background": "light"
     },
     "output_type": "display_data"
    }
   ],
   "source": [
    "#Acc graph\n",
    "plt.plot(epoch,accuracy,label='Validation acc')\n",
    "plt.xlabel('Number of epochs',fontsize=12)\n",
    "plt.ylabel('Validation Acc',fontsize=12)\n",
    "plt.legend(loc=\"upper left\")\n",
    "plt.title('Acc Graph',fontsize=20,fontweight='bold')\n",
    "#plt.show()\n",
    "plt.savefig('Noisy-Acc.jpg')"
   ]
  },
  {
   "cell_type": "code",
   "execution_count": 9,
   "metadata": {},
   "outputs": [
    {
     "data": {
      "image/png": "[encoded data removed]",
      "text/plain": [
       "<Figure size 432x288 with 1 Axes>"
      ]
     },
     "metadata": {
      "needs_background": "light"
     },
     "output_type": "display_data"
    }
   ],
   "source": [
    "#Loss graph\n",
    "plt.plot(epoch,training_loss,label='train loss')\n",
    "plt.plot(epoch,validation_loss,label='validation loss')\n",
    "plt.xlabel('Number of epochs',fontsize=12)\n",
    "plt.ylabel('Loss',fontsize=12)\n",
    "plt.legend(loc=\"upper left\")\n",
    "plt.title('Loss Graph',fontsize=20,fontweight='bold')\n",
    "#plt.show()\n",
    "plt.savefig('Noisy-Loss.jpg')"
   ]
  },
  {
   "cell_type": "code",
   "execution_count": null,
   "metadata": {},
   "outputs": [],
   "source": []
  }
 ],
 "metadata": {
  "kernelspec": {
   "display_name": "Python 3",
   "language": "python",
   "name": "python3"
  },
  "language_info": {
   "codemirror_mode": {
    "name": "ipython",
    "version": 3
   },
   "file_extension": ".py",
   "mimetype": "text/x-python",
   "name": "python",
   "nbconvert_exporter": "python",
   "pygments_lexer": "ipython3",
   "version": "3.7.3"
  }
 },
 "nbformat": 4,
 "nbformat_minor": 2
}
